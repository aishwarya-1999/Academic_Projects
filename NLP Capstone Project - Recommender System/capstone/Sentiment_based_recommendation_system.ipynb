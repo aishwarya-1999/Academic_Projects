{
 "cells": [
  {
   "cell_type": "code",
   "execution_count": 1,
   "metadata": {
    "id": "qOCh41PNuIpa"
   },
   "outputs": [],
   "source": [
    "# Suppressing Warnings\n",
    "import warnings\n",
    "warnings.filterwarnings('ignore')"
   ]
  },
  {
   "cell_type": "markdown",
   "metadata": {
    "id": "hBROHlqMwkSp"
   },
   "source": [
    "# Importing the necessary libraries"
   ]
  },
  {
   "cell_type": "code",
   "execution_count": 2,
   "metadata": {
    "colab": {
     "base_uri": "https://localhost:8080/"
    },
    "id": "w5R0__6nwsPw",
    "outputId": "35e5d7e9-04fb-49e4-e599-ff9ee62a6712"
   },
   "outputs": [
    {
     "name": "stderr",
     "output_type": "stream",
     "text": [
      "[nltk_data] Downloading package punkt to\n",
      "[nltk_data]     C:\\Users\\aishw\\AppData\\Roaming\\nltk_data...\n",
      "[nltk_data]   Package punkt is already up-to-date!\n",
      "[nltk_data] Downloading package averaged_perceptron_tagger to\n",
      "[nltk_data]     C:\\Users\\aishw\\AppData\\Roaming\\nltk_data...\n",
      "[nltk_data]   Package averaged_perceptron_tagger is already up-to-\n",
      "[nltk_data]       date!\n"
     ]
    }
   ],
   "source": [
    "# !pip install pyspellchecker\n",
    "import json \n",
    "import numpy as np\n",
    "import pandas as pd\n",
    "import re, nltk, spacy, string\n",
    "import en_core_web_sm\n",
    "# nlp = en_core_web_sm.load()\n",
    "nlp = spacy.load('en_core_web_sm',  disable=[\"parser\", \"ner\"])\n",
    "import seaborn as sns\n",
    "import matplotlib.pyplot as plt\n",
    "%matplotlib inline\n",
    "\n",
    "from plotly.offline import plot\n",
    "import plotly.graph_objects as go\n",
    "import plotly.express as px\n",
    "\n",
    "import nltk\n",
    "nltk.download('punkt')\n",
    "nltk.download('averaged_perceptron_tagger')\n",
    "\n",
    "from nltk.tokenize import word_tokenize\n",
    "from collections import Counter\n",
    "import string\n",
    "from nltk.stem.porter import PorterStemmer\n",
    "from nltk.stem import WordNetLemmatizer\n",
    "\n",
    "# import spellchecker\n",
    "# from spellchecker import SpellChecker\n",
    "\n",
    "from textblob import TextBlob\n",
    "from wordcloud import WordCloud, STOPWORDS, ImageColorGenerator\n",
    "from imblearn.over_sampling import SMOTE\n",
    "\n",
    "# Import pickle to save and load the model\n",
    "import pickle\n",
    "\n",
    "from sklearn.feature_extraction.text import CountVectorizer, TfidfVectorizer, TfidfTransformer\n",
    "from sklearn.metrics import accuracy_score\n",
    "from sklearn.model_selection import train_test_split, cross_val_score\n",
    "from sklearn.model_selection import RandomizedSearchCV, GridSearchCV\n",
    "from sklearn.metrics import confusion_matrix, classification_report, roc_auc_score\n",
    "from sklearn.metrics import precision_score, recall_score, f1_score\n",
    "from sklearn.metrics import plot_roc_curve\n",
    "\n",
    "# Importing LogisticRegression from sklearn\n",
    "from sklearn.linear_model import LogisticRegression\n",
    "\n",
    "# Importing Random Forest Classifier from sklearn\n",
    "from sklearn.ensemble import RandomForestClassifier\n",
    "\n",
    "# importing libraries for XGBoost classifier\n",
    "import xgboost as xgb\n",
    "from xgboost import XGBClassifier\n",
    "\n",
    "from sklearn.metrics.pairwise import pairwise_distances\n",
    "\n",
    "from pprint import pprint\n"
   ]
  },
  {
   "cell_type": "code",
   "execution_count": 3,
   "metadata": {
    "id": "22RgANQ9xXNC"
   },
   "outputs": [],
   "source": [
    "# # Setting max rows and columns\n",
    "# pd.set_option('max_columns', 50)\n",
    "# pd.set_option('max_rows', 50)\n",
    "# pd.set_option('display.max_colwidth', 300)\n",
    "# pd.set_option(\"display.precision\", 2)"
   ]
  },
  {
   "cell_type": "markdown",
   "metadata": {
    "id": "mWdkAnzUxbZq"
   },
   "source": [
    "# Loading the data"
   ]
  },
  {
   "cell_type": "code",
   "execution_count": 4,
   "metadata": {
    "id": "SLSMTbFyxhi2"
   },
   "outputs": [],
   "source": [
    "df = pd.read_csv('dataset/sample30.csv')"
   ]
  },
  {
   "cell_type": "markdown",
   "metadata": {
    "id": "wqhRkKnqxvKk"
   },
   "source": [
    "# Exploratory Data Analysis"
   ]
  },
  {
   "cell_type": "code",
   "execution_count": 5,
   "metadata": {
    "colab": {
     "base_uri": "https://localhost:8080/"
    },
    "id": "obZdLgpExzkU",
    "outputId": "156ff68d-526c-4cd3-e63d-7915436849d4"
   },
   "outputs": [
    {
     "data": {
      "text/plain": [
       "(30000, 15)"
      ]
     },
     "execution_count": 5,
     "metadata": {},
     "output_type": "execute_result"
    }
   ],
   "source": [
    "df.shape"
   ]
  },
  {
   "cell_type": "code",
   "execution_count": 6,
   "metadata": {
    "colab": {
     "base_uri": "https://localhost:8080/"
    },
    "id": "P2aSB6YLx4M6",
    "outputId": "f21cb2c8-9c57-4da5-98d8-cc0a7efd5f92"
   },
   "outputs": [
    {
     "name": "stdout",
     "output_type": "stream",
     "text": [
      "<class 'pandas.core.frame.DataFrame'>\n",
      "RangeIndex: 30000 entries, 0 to 29999\n",
      "Data columns (total 15 columns):\n",
      " #   Column                Non-Null Count  Dtype \n",
      "---  ------                --------------  ----- \n",
      " 0   id                    30000 non-null  object\n",
      " 1   brand                 30000 non-null  object\n",
      " 2   categories            30000 non-null  object\n",
      " 3   manufacturer          29859 non-null  object\n",
      " 4   name                  30000 non-null  object\n",
      " 5   reviews_date          29954 non-null  object\n",
      " 6   reviews_didPurchase   15932 non-null  object\n",
      " 7   reviews_doRecommend   27430 non-null  object\n",
      " 8   reviews_rating        30000 non-null  int64 \n",
      " 9   reviews_text          30000 non-null  object\n",
      " 10  reviews_title         29810 non-null  object\n",
      " 11  reviews_userCity      1929 non-null   object\n",
      " 12  reviews_userProvince  170 non-null    object\n",
      " 13  reviews_username      29937 non-null  object\n",
      " 14  user_sentiment        29999 non-null  object\n",
      "dtypes: int64(1), object(14)\n",
      "memory usage: 3.4+ MB\n"
     ]
    }
   ],
   "source": [
    "# Inspect the dataframe to understand the given data.\n",
    "df.info()"
   ]
  },
  {
   "cell_type": "markdown",
   "metadata": {
    "id": "QzAgX2g7x9Nv"
   },
   "source": [
    "\n",
    "*   There are many columns with NULL values. This will need to handled later on.\n",
    "*   We may not require some of the columns as part of our analysis to create Sentiment and Recommender models. We will inspect and remove these later.\n",
    "\n",
    "\n"
   ]
  },
  {
   "cell_type": "code",
   "execution_count": 7,
   "metadata": {
    "colab": {
     "base_uri": "https://localhost:8080/",
     "height": 1000
    },
    "id": "gj21viFbyJIN",
    "outputId": "cd34a49f-45ef-4afc-ae41-491041747cea"
   },
   "outputs": [
    {
     "data": {
      "text/html": [
       "<div>\n",
       "<style scoped>\n",
       "    .dataframe tbody tr th:only-of-type {\n",
       "        vertical-align: middle;\n",
       "    }\n",
       "\n",
       "    .dataframe tbody tr th {\n",
       "        vertical-align: top;\n",
       "    }\n",
       "\n",
       "    .dataframe thead th {\n",
       "        text-align: right;\n",
       "    }\n",
       "</style>\n",
       "<table border=\"1\" class=\"dataframe\">\n",
       "  <thead>\n",
       "    <tr style=\"text-align: right;\">\n",
       "      <th></th>\n",
       "      <th>id</th>\n",
       "      <th>brand</th>\n",
       "      <th>categories</th>\n",
       "      <th>manufacturer</th>\n",
       "      <th>name</th>\n",
       "      <th>reviews_date</th>\n",
       "      <th>reviews_didPurchase</th>\n",
       "      <th>reviews_doRecommend</th>\n",
       "      <th>reviews_rating</th>\n",
       "      <th>reviews_text</th>\n",
       "      <th>reviews_title</th>\n",
       "      <th>reviews_userCity</th>\n",
       "      <th>reviews_userProvince</th>\n",
       "      <th>reviews_username</th>\n",
       "      <th>user_sentiment</th>\n",
       "    </tr>\n",
       "  </thead>\n",
       "  <tbody>\n",
       "    <tr>\n",
       "      <th>0</th>\n",
       "      <td>AV13O1A8GV-KLJ3akUyj</td>\n",
       "      <td>Universal Music</td>\n",
       "      <td>Movies, Music &amp; Books,Music,R&amp;b,Movies &amp; TV,Mo...</td>\n",
       "      <td>Universal Music Group / Cash Money</td>\n",
       "      <td>Pink Friday: Roman Reloaded Re-Up (w/dvd)</td>\n",
       "      <td>2012-11-30T06:21:45.000Z</td>\n",
       "      <td>NaN</td>\n",
       "      <td>NaN</td>\n",
       "      <td>5</td>\n",
       "      <td>i love this album. it's very good. more to the...</td>\n",
       "      <td>Just Awesome</td>\n",
       "      <td>Los Angeles</td>\n",
       "      <td>NaN</td>\n",
       "      <td>joshua</td>\n",
       "      <td>Positive</td>\n",
       "    </tr>\n",
       "    <tr>\n",
       "      <th>1</th>\n",
       "      <td>AV14LG0R-jtxr-f38QfS</td>\n",
       "      <td>Lundberg</td>\n",
       "      <td>Food,Packaged Foods,Snacks,Crackers,Snacks, Co...</td>\n",
       "      <td>Lundberg</td>\n",
       "      <td>Lundberg Organic Cinnamon Toast Rice Cakes</td>\n",
       "      <td>2017-07-09T00:00:00.000Z</td>\n",
       "      <td>True</td>\n",
       "      <td>NaN</td>\n",
       "      <td>5</td>\n",
       "      <td>Good flavor. This review was collected as part...</td>\n",
       "      <td>Good</td>\n",
       "      <td>NaN</td>\n",
       "      <td>NaN</td>\n",
       "      <td>dorothy w</td>\n",
       "      <td>Positive</td>\n",
       "    </tr>\n",
       "    <tr>\n",
       "      <th>2</th>\n",
       "      <td>AV14LG0R-jtxr-f38QfS</td>\n",
       "      <td>Lundberg</td>\n",
       "      <td>Food,Packaged Foods,Snacks,Crackers,Snacks, Co...</td>\n",
       "      <td>Lundberg</td>\n",
       "      <td>Lundberg Organic Cinnamon Toast Rice Cakes</td>\n",
       "      <td>2017-07-09T00:00:00.000Z</td>\n",
       "      <td>True</td>\n",
       "      <td>NaN</td>\n",
       "      <td>5</td>\n",
       "      <td>Good flavor.</td>\n",
       "      <td>Good</td>\n",
       "      <td>NaN</td>\n",
       "      <td>NaN</td>\n",
       "      <td>dorothy w</td>\n",
       "      <td>Positive</td>\n",
       "    </tr>\n",
       "    <tr>\n",
       "      <th>3</th>\n",
       "      <td>AV16khLE-jtxr-f38VFn</td>\n",
       "      <td>K-Y</td>\n",
       "      <td>Personal Care,Medicine Cabinet,Lubricant/Sperm...</td>\n",
       "      <td>K-Y</td>\n",
       "      <td>K-Y Love Sensuality Pleasure Gel</td>\n",
       "      <td>2016-01-06T00:00:00.000Z</td>\n",
       "      <td>False</td>\n",
       "      <td>False</td>\n",
       "      <td>1</td>\n",
       "      <td>I read through the reviews on here before look...</td>\n",
       "      <td>Disappointed</td>\n",
       "      <td>NaN</td>\n",
       "      <td>NaN</td>\n",
       "      <td>rebecca</td>\n",
       "      <td>Negative</td>\n",
       "    </tr>\n",
       "    <tr>\n",
       "      <th>4</th>\n",
       "      <td>AV16khLE-jtxr-f38VFn</td>\n",
       "      <td>K-Y</td>\n",
       "      <td>Personal Care,Medicine Cabinet,Lubricant/Sperm...</td>\n",
       "      <td>K-Y</td>\n",
       "      <td>K-Y Love Sensuality Pleasure Gel</td>\n",
       "      <td>2016-12-21T00:00:00.000Z</td>\n",
       "      <td>False</td>\n",
       "      <td>False</td>\n",
       "      <td>1</td>\n",
       "      <td>My husband bought this gel for us. The gel cau...</td>\n",
       "      <td>Irritation</td>\n",
       "      <td>NaN</td>\n",
       "      <td>NaN</td>\n",
       "      <td>walker557</td>\n",
       "      <td>Negative</td>\n",
       "    </tr>\n",
       "  </tbody>\n",
       "</table>\n",
       "</div>"
      ],
      "text/plain": [
       "                     id            brand  \\\n",
       "0  AV13O1A8GV-KLJ3akUyj  Universal Music   \n",
       "1  AV14LG0R-jtxr-f38QfS         Lundberg   \n",
       "2  AV14LG0R-jtxr-f38QfS         Lundberg   \n",
       "3  AV16khLE-jtxr-f38VFn              K-Y   \n",
       "4  AV16khLE-jtxr-f38VFn              K-Y   \n",
       "\n",
       "                                          categories  \\\n",
       "0  Movies, Music & Books,Music,R&b,Movies & TV,Mo...   \n",
       "1  Food,Packaged Foods,Snacks,Crackers,Snacks, Co...   \n",
       "2  Food,Packaged Foods,Snacks,Crackers,Snacks, Co...   \n",
       "3  Personal Care,Medicine Cabinet,Lubricant/Sperm...   \n",
       "4  Personal Care,Medicine Cabinet,Lubricant/Sperm...   \n",
       "\n",
       "                         manufacturer  \\\n",
       "0  Universal Music Group / Cash Money   \n",
       "1                            Lundberg   \n",
       "2                            Lundberg   \n",
       "3                                 K-Y   \n",
       "4                                 K-Y   \n",
       "\n",
       "                                         name              reviews_date  \\\n",
       "0   Pink Friday: Roman Reloaded Re-Up (w/dvd)  2012-11-30T06:21:45.000Z   \n",
       "1  Lundberg Organic Cinnamon Toast Rice Cakes  2017-07-09T00:00:00.000Z   \n",
       "2  Lundberg Organic Cinnamon Toast Rice Cakes  2017-07-09T00:00:00.000Z   \n",
       "3            K-Y Love Sensuality Pleasure Gel  2016-01-06T00:00:00.000Z   \n",
       "4            K-Y Love Sensuality Pleasure Gel  2016-12-21T00:00:00.000Z   \n",
       "\n",
       "  reviews_didPurchase reviews_doRecommend  reviews_rating  \\\n",
       "0                 NaN                 NaN               5   \n",
       "1                True                 NaN               5   \n",
       "2                True                 NaN               5   \n",
       "3               False               False               1   \n",
       "4               False               False               1   \n",
       "\n",
       "                                        reviews_text reviews_title  \\\n",
       "0  i love this album. it's very good. more to the...  Just Awesome   \n",
       "1  Good flavor. This review was collected as part...          Good   \n",
       "2                                       Good flavor.          Good   \n",
       "3  I read through the reviews on here before look...  Disappointed   \n",
       "4  My husband bought this gel for us. The gel cau...    Irritation   \n",
       "\n",
       "  reviews_userCity reviews_userProvince reviews_username user_sentiment  \n",
       "0      Los Angeles                  NaN           joshua       Positive  \n",
       "1              NaN                  NaN        dorothy w       Positive  \n",
       "2              NaN                  NaN        dorothy w       Positive  \n",
       "3              NaN                  NaN          rebecca       Negative  \n",
       "4              NaN                  NaN        walker557       Negative  "
      ]
     },
     "execution_count": 7,
     "metadata": {},
     "output_type": "execute_result"
    }
   ],
   "source": [
    "# Print top 5 rows of the data\n",
    "df.head()"
   ]
  },
  {
   "cell_type": "markdown",
   "metadata": {
    "id": "Lrr_K7-fyQTS"
   },
   "source": [
    "Below is the data dictionary that provides information on the type of information contained in each attribute for reference\n",
    "\n",
    "![image.png](data:image/png;base64,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)"
   ]
  },
  {
   "cell_type": "markdown",
   "metadata": {
    "id": "23eqNWKEy_1m"
   },
   "source": [
    "# Data Cleaning\n",
    "\n",
    "\n",
    "Handling NULL Values"
   ]
  },
  {
   "cell_type": "code",
   "execution_count": 8,
   "metadata": {
    "colab": {
     "base_uri": "https://localhost:8080/",
     "height": 332
    },
    "id": "BwscPFX4zGhA",
    "outputId": "fab49485-4a2b-43ee-c136-907a864dfe32"
   },
   "outputs": [
    {
     "data": {
      "text/html": [
       "<div>\n",
       "<style scoped>\n",
       "    .dataframe tbody tr th:only-of-type {\n",
       "        vertical-align: middle;\n",
       "    }\n",
       "\n",
       "    .dataframe tbody tr th {\n",
       "        vertical-align: top;\n",
       "    }\n",
       "\n",
       "    .dataframe thead th {\n",
       "        text-align: right;\n",
       "    }\n",
       "</style>\n",
       "<table border=\"1\" class=\"dataframe\">\n",
       "  <thead>\n",
       "    <tr style=\"text-align: right;\">\n",
       "      <th></th>\n",
       "      <th>Count</th>\n",
       "      <th>Percentage</th>\n",
       "    </tr>\n",
       "  </thead>\n",
       "  <tbody>\n",
       "    <tr>\n",
       "      <th>reviews_userProvince</th>\n",
       "      <td>29830</td>\n",
       "      <td>99.433333</td>\n",
       "    </tr>\n",
       "    <tr>\n",
       "      <th>reviews_userCity</th>\n",
       "      <td>28071</td>\n",
       "      <td>93.570000</td>\n",
       "    </tr>\n",
       "    <tr>\n",
       "      <th>reviews_didPurchase</th>\n",
       "      <td>14068</td>\n",
       "      <td>46.893333</td>\n",
       "    </tr>\n",
       "    <tr>\n",
       "      <th>reviews_doRecommend</th>\n",
       "      <td>2570</td>\n",
       "      <td>8.566667</td>\n",
       "    </tr>\n",
       "    <tr>\n",
       "      <th>reviews_title</th>\n",
       "      <td>190</td>\n",
       "      <td>0.633333</td>\n",
       "    </tr>\n",
       "    <tr>\n",
       "      <th>manufacturer</th>\n",
       "      <td>141</td>\n",
       "      <td>0.470000</td>\n",
       "    </tr>\n",
       "    <tr>\n",
       "      <th>reviews_username</th>\n",
       "      <td>63</td>\n",
       "      <td>0.210000</td>\n",
       "    </tr>\n",
       "    <tr>\n",
       "      <th>reviews_date</th>\n",
       "      <td>46</td>\n",
       "      <td>0.153333</td>\n",
       "    </tr>\n",
       "    <tr>\n",
       "      <th>user_sentiment</th>\n",
       "      <td>1</td>\n",
       "      <td>0.003333</td>\n",
       "    </tr>\n",
       "  </tbody>\n",
       "</table>\n",
       "</div>"
      ],
      "text/plain": [
       "                      Count  Percentage\n",
       "reviews_userProvince  29830   99.433333\n",
       "reviews_userCity      28071   93.570000\n",
       "reviews_didPurchase   14068   46.893333\n",
       "reviews_doRecommend    2570    8.566667\n",
       "reviews_title           190    0.633333\n",
       "manufacturer            141    0.470000\n",
       "reviews_username         63    0.210000\n",
       "reviews_date             46    0.153333\n",
       "user_sentiment            1    0.003333"
      ]
     },
     "execution_count": 8,
     "metadata": {},
     "output_type": "execute_result"
    }
   ],
   "source": [
    "# Getting total number of NULL values and percentage of the columns\n",
    "null_count = df[df.columns[df.isna().any()]].isna().sum().sort_values(ascending=False)\n",
    "null_perc = (df[df.columns[df.isna().any()]].isna().sum() * 100 / df.shape[0]).sort_values(ascending=False)\n",
    "null_data = pd.concat([null_count, null_perc], axis=1, keys=['Count', 'Percentage'])\n",
    "null_data"
   ]
  },
  {
   "cell_type": "markdown",
   "metadata": {
    "id": "3Ni-XL_zzOZW"
   },
   "source": [
    "Observations:\n",
    "\n",
    "1. reviews_userProvince and reviews_userCity have over 93% NULL values and are not useful for analysis. We will remove them from the dataset.\n",
    "2. reviews_didPurchase column has over 46% NULL values. This field is not useful in building either Sentiment/Recommender system as well and will be removed.\n",
    "\n",
    "\n",
    "**Removing** reviews_userProvince, reviews_userCity and reviews_didPurchase **from the dataset**"
   ]
  },
  {
   "cell_type": "code",
   "execution_count": 9,
   "metadata": {
    "id": "kQPirwG2zkYD"
   },
   "outputs": [],
   "source": [
    "df_clean = df.copy()"
   ]
  },
  {
   "cell_type": "code",
   "execution_count": 10,
   "metadata": {
    "id": "uEYt2eR1zpjf"
   },
   "outputs": [],
   "source": [
    "df_clean.drop(columns=['reviews_userProvince','reviews_userCity','reviews_didPurchase'], inplace=True)"
   ]
  },
  {
   "cell_type": "code",
   "execution_count": 11,
   "metadata": {
    "colab": {
     "base_uri": "https://localhost:8080/"
    },
    "id": "Eg96Rl4YzsPr",
    "outputId": "64c049bc-48c3-44cf-b123-62f773a09e63"
   },
   "outputs": [
    {
     "data": {
      "text/plain": [
       "(30000, 12)"
      ]
     },
     "execution_count": 11,
     "metadata": {},
     "output_type": "execute_result"
    }
   ],
   "source": [
    "df_clean.shape"
   ]
  },
  {
   "cell_type": "code",
   "execution_count": 12,
   "metadata": {
    "colab": {
     "base_uri": "https://localhost:8080/",
     "height": 238
    },
    "id": "bIxhAewkzviT",
    "outputId": "a7f51b1c-86e0-4042-9d9e-c483b22a8269"
   },
   "outputs": [
    {
     "data": {
      "text/html": [
       "<div>\n",
       "<style scoped>\n",
       "    .dataframe tbody tr th:only-of-type {\n",
       "        vertical-align: middle;\n",
       "    }\n",
       "\n",
       "    .dataframe tbody tr th {\n",
       "        vertical-align: top;\n",
       "    }\n",
       "\n",
       "    .dataframe thead th {\n",
       "        text-align: right;\n",
       "    }\n",
       "</style>\n",
       "<table border=\"1\" class=\"dataframe\">\n",
       "  <thead>\n",
       "    <tr style=\"text-align: right;\">\n",
       "      <th></th>\n",
       "      <th>Count</th>\n",
       "      <th>Percentage</th>\n",
       "    </tr>\n",
       "  </thead>\n",
       "  <tbody>\n",
       "    <tr>\n",
       "      <th>reviews_doRecommend</th>\n",
       "      <td>2570</td>\n",
       "      <td>8.566667</td>\n",
       "    </tr>\n",
       "    <tr>\n",
       "      <th>reviews_title</th>\n",
       "      <td>190</td>\n",
       "      <td>0.633333</td>\n",
       "    </tr>\n",
       "    <tr>\n",
       "      <th>manufacturer</th>\n",
       "      <td>141</td>\n",
       "      <td>0.470000</td>\n",
       "    </tr>\n",
       "    <tr>\n",
       "      <th>reviews_username</th>\n",
       "      <td>63</td>\n",
       "      <td>0.210000</td>\n",
       "    </tr>\n",
       "    <tr>\n",
       "      <th>reviews_date</th>\n",
       "      <td>46</td>\n",
       "      <td>0.153333</td>\n",
       "    </tr>\n",
       "    <tr>\n",
       "      <th>user_sentiment</th>\n",
       "      <td>1</td>\n",
       "      <td>0.003333</td>\n",
       "    </tr>\n",
       "  </tbody>\n",
       "</table>\n",
       "</div>"
      ],
      "text/plain": [
       "                     Count  Percentage\n",
       "reviews_doRecommend   2570    8.566667\n",
       "reviews_title          190    0.633333\n",
       "manufacturer           141    0.470000\n",
       "reviews_username        63    0.210000\n",
       "reviews_date            46    0.153333\n",
       "user_sentiment           1    0.003333"
      ]
     },
     "execution_count": 12,
     "metadata": {},
     "output_type": "execute_result"
    }
   ],
   "source": [
    "# Checking NULLs again\n",
    "null_count = df_clean[df_clean.columns[df_clean.isna().any()]].isna().sum().sort_values(ascending=False)\n",
    "null_perc = (df_clean[df_clean.columns[df_clean.isna().any()]].isna().sum() * 100 / df_clean.shape[0]).sort_values(ascending=False)\n",
    "null_data = pd.concat([null_count, null_perc], axis=1, keys=['Count', 'Percentage'])\n",
    "null_data"
   ]
  },
  {
   "cell_type": "markdown",
   "metadata": {
    "id": "g6gIlNhkz0Qa"
   },
   "source": [
    "**Checking** reviews_doRecommend **column**"
   ]
  },
  {
   "cell_type": "code",
   "execution_count": 13,
   "metadata": {
    "colab": {
     "base_uri": "https://localhost:8080/"
    },
    "id": "c_872_gdz8H_",
    "outputId": "e2f191d5-5794-4dae-c550-3650286ce516"
   },
   "outputs": [
    {
     "data": {
      "text/plain": [
       "True     0.943493\n",
       "False    0.056507\n",
       "Name: reviews_doRecommend, dtype: float64"
      ]
     },
     "execution_count": 13,
     "metadata": {},
     "output_type": "execute_result"
    }
   ],
   "source": [
    "df_clean.reviews_doRecommend.value_counts(normalize=True)"
   ]
  },
  {
   "cell_type": "code",
   "execution_count": 14,
   "metadata": {
    "colab": {
     "base_uri": "https://localhost:8080/",
     "height": 280
    },
    "id": "LD6WJRREz_DP",
    "outputId": "fb4c3557-bf60-4be6-9689-3c30392260d9"
   },
   "outputs": [
    {
     "data": {
      "image/png": "[encoded data removed]",
      "text/plain": [
       "<Figure size 432x288 with 1 Axes>"
      ]
     },
     "metadata": {
      "needs_background": "light"
     },
     "output_type": "display_data"
    }
   ],
   "source": [
    "sns.countplot(x = 'reviews_doRecommend', data = df_clean)\n",
    "plt.show()"
   ]
  },
  {
   "cell_type": "markdown",
   "metadata": {
    "id": "f4KBQq7I0Dbe"
   },
   "source": [
    "Looking at the distribution of reviews_doRecommend column, we can see that more than 94% of the data is having True value. Hence, the column does not provide any useful information for the model to learn. We will drop this field"
   ]
  },
  {
   "cell_type": "code",
   "execution_count": 15,
   "metadata": {
    "id": "fHsembWn0Gje"
   },
   "outputs": [],
   "source": [
    "df_clean.drop(columns=['reviews_doRecommend'], inplace=True)"
   ]
  },
  {
   "cell_type": "code",
   "execution_count": 16,
   "metadata": {
    "colab": {
     "base_uri": "https://localhost:8080/",
     "height": 206
    },
    "id": "dpUM4oxB0Jvr",
    "outputId": "d13aa850-7f51-4433-9d55-cb4dacf4554e"
   },
   "outputs": [
    {
     "data": {
      "text/html": [
       "<div>\n",
       "<style scoped>\n",
       "    .dataframe tbody tr th:only-of-type {\n",
       "        vertical-align: middle;\n",
       "    }\n",
       "\n",
       "    .dataframe tbody tr th {\n",
       "        vertical-align: top;\n",
       "    }\n",
       "\n",
       "    .dataframe thead th {\n",
       "        text-align: right;\n",
       "    }\n",
       "</style>\n",
       "<table border=\"1\" class=\"dataframe\">\n",
       "  <thead>\n",
       "    <tr style=\"text-align: right;\">\n",
       "      <th></th>\n",
       "      <th>Count</th>\n",
       "      <th>Percentage</th>\n",
       "    </tr>\n",
       "  </thead>\n",
       "  <tbody>\n",
       "    <tr>\n",
       "      <th>reviews_title</th>\n",
       "      <td>190</td>\n",
       "      <td>0.633333</td>\n",
       "    </tr>\n",
       "    <tr>\n",
       "      <th>manufacturer</th>\n",
       "      <td>141</td>\n",
       "      <td>0.470000</td>\n",
       "    </tr>\n",
       "    <tr>\n",
       "      <th>reviews_username</th>\n",
       "      <td>63</td>\n",
       "      <td>0.210000</td>\n",
       "    </tr>\n",
       "    <tr>\n",
       "      <th>reviews_date</th>\n",
       "      <td>46</td>\n",
       "      <td>0.153333</td>\n",
       "    </tr>\n",
       "    <tr>\n",
       "      <th>user_sentiment</th>\n",
       "      <td>1</td>\n",
       "      <td>0.003333</td>\n",
       "    </tr>\n",
       "  </tbody>\n",
       "</table>\n",
       "</div>"
      ],
      "text/plain": [
       "                  Count  Percentage\n",
       "reviews_title       190    0.633333\n",
       "manufacturer        141    0.470000\n",
       "reviews_username     63    0.210000\n",
       "reviews_date         46    0.153333\n",
       "user_sentiment        1    0.003333"
      ]
     },
     "execution_count": 16,
     "metadata": {},
     "output_type": "execute_result"
    }
   ],
   "source": [
    "# Checking NULLs again\n",
    "null_count = df_clean[df_clean.columns[df_clean.isna().any()]].isna().sum().sort_values(ascending=False)\n",
    "null_perc = (df_clean[df_clean.columns[df_clean.isna().any()]].isna().sum() * 100 / df_clean.shape[0]).sort_values(ascending=False)\n",
    "null_data = pd.concat([null_count, null_perc], axis=1, keys=['Count', 'Percentage'])\n",
    "null_data"
   ]
  },
  {
   "cell_type": "markdown",
   "metadata": {
    "id": "S7pjpytK0NNS"
   },
   "source": [
    "**Handling NULL values in** reviews_title\n",
    "\n",
    "This column is an important component for our analysis as it contains the title of the review given by the user to a particular product. Since the NULL percentage is only 0.633%, we will remove these rows from the dataset."
   ]
  },
  {
   "cell_type": "code",
   "execution_count": 17,
   "metadata": {
    "colab": {
     "base_uri": "https://localhost:8080/"
    },
    "id": "Dvp2hnhX0Zut",
    "outputId": "85c86b25-bd52-4e2c-c923-c4e9f5bd9387"
   },
   "outputs": [
    {
     "data": {
      "text/plain": [
       "(30000, 11)"
      ]
     },
     "execution_count": 17,
     "metadata": {},
     "output_type": "execute_result"
    }
   ],
   "source": [
    "# Checking rowcount before deletion\n",
    "df_clean.shape"
   ]
  },
  {
   "cell_type": "code",
   "execution_count": 18,
   "metadata": {
    "id": "9F6NuwGf0cEK"
   },
   "outputs": [],
   "source": [
    "df_clean = df_clean[~ df_clean.reviews_title.isna() ]"
   ]
  },
  {
   "cell_type": "code",
   "execution_count": 19,
   "metadata": {
    "colab": {
     "base_uri": "https://localhost:8080/"
    },
    "id": "nq4eFB0U0iFj",
    "outputId": "2fdda7b3-620a-4ecf-b0b3-b63ab8955208"
   },
   "outputs": [
    {
     "data": {
      "text/plain": [
       "(29810, 11)"
      ]
     },
     "execution_count": 19,
     "metadata": {},
     "output_type": "execute_result"
    }
   ],
   "source": [
    "# Checking rowcount post deletion\n",
    "df_clean.shape"
   ]
  },
  {
   "cell_type": "code",
   "execution_count": 20,
   "metadata": {
    "colab": {
     "base_uri": "https://localhost:8080/",
     "height": 175
    },
    "id": "ujOoT2AA0k5g",
    "outputId": "f018085b-2459-4b54-a925-971e19848617"
   },
   "outputs": [
    {
     "data": {
      "text/html": [
       "<div>\n",
       "<style scoped>\n",
       "    .dataframe tbody tr th:only-of-type {\n",
       "        vertical-align: middle;\n",
       "    }\n",
       "\n",
       "    .dataframe tbody tr th {\n",
       "        vertical-align: top;\n",
       "    }\n",
       "\n",
       "    .dataframe thead th {\n",
       "        text-align: right;\n",
       "    }\n",
       "</style>\n",
       "<table border=\"1\" class=\"dataframe\">\n",
       "  <thead>\n",
       "    <tr style=\"text-align: right;\">\n",
       "      <th></th>\n",
       "      <th>Count</th>\n",
       "      <th>Percentage</th>\n",
       "    </tr>\n",
       "  </thead>\n",
       "  <tbody>\n",
       "    <tr>\n",
       "      <th>manufacturer</th>\n",
       "      <td>141</td>\n",
       "      <td>0.472996</td>\n",
       "    </tr>\n",
       "    <tr>\n",
       "      <th>reviews_username</th>\n",
       "      <td>62</td>\n",
       "      <td>0.207984</td>\n",
       "    </tr>\n",
       "    <tr>\n",
       "      <th>reviews_date</th>\n",
       "      <td>46</td>\n",
       "      <td>0.154311</td>\n",
       "    </tr>\n",
       "    <tr>\n",
       "      <th>user_sentiment</th>\n",
       "      <td>1</td>\n",
       "      <td>0.003355</td>\n",
       "    </tr>\n",
       "  </tbody>\n",
       "</table>\n",
       "</div>"
      ],
      "text/plain": [
       "                  Count  Percentage\n",
       "manufacturer        141    0.472996\n",
       "reviews_username     62    0.207984\n",
       "reviews_date         46    0.154311\n",
       "user_sentiment        1    0.003355"
      ]
     },
     "execution_count": 20,
     "metadata": {},
     "output_type": "execute_result"
    }
   ],
   "source": [
    "# Checking NULLs again\n",
    "null_count = df_clean[df_clean.columns[df_clean.isna().any()]].isna().sum().sort_values(ascending=False)\n",
    "null_perc = (df_clean[df_clean.columns[df_clean.isna().any()]].isna().sum() * 100 / df_clean.shape[0]).sort_values(ascending=False)\n",
    "null_data = pd.concat([null_count, null_perc], axis=1, keys=['Count', 'Percentage'])\n",
    "null_data"
   ]
  },
  {
   "cell_type": "markdown",
   "metadata": {
    "id": "LSx2pc-e0v-I"
   },
   "source": [
    "**Handling NULL values in** user_sentiment"
   ]
  },
  {
   "cell_type": "code",
   "execution_count": 21,
   "metadata": {
    "colab": {
     "base_uri": "https://localhost:8080/"
    },
    "id": "PXBlUMyN001k",
    "outputId": "8f014843-31fa-4a32-c54c-5e1e3ec23c4f"
   },
   "outputs": [
    {
     "data": {
      "text/plain": [
       "Positive    26464\n",
       "Negative     3345\n",
       "Name: user_sentiment, dtype: int64"
      ]
     },
     "execution_count": 21,
     "metadata": {},
     "output_type": "execute_result"
    }
   ],
   "source": [
    "df_clean.user_sentiment.value_counts()"
   ]
  },
  {
   "cell_type": "code",
   "execution_count": 22,
   "metadata": {
    "colab": {
     "base_uri": "https://localhost:8080/",
     "height": 544
    },
    "id": "p-fxJfi103f5",
    "outputId": "51549b6a-bb03-4e44-caef-2ab95f79011d"
   },
   "outputs": [
    {
     "data": {
      "text/html": [
       "<div>\n",
       "<style scoped>\n",
       "    .dataframe tbody tr th:only-of-type {\n",
       "        vertical-align: middle;\n",
       "    }\n",
       "\n",
       "    .dataframe tbody tr th {\n",
       "        vertical-align: top;\n",
       "    }\n",
       "\n",
       "    .dataframe thead th {\n",
       "        text-align: right;\n",
       "    }\n",
       "</style>\n",
       "<table border=\"1\" class=\"dataframe\">\n",
       "  <thead>\n",
       "    <tr style=\"text-align: right;\">\n",
       "      <th></th>\n",
       "      <th>id</th>\n",
       "      <th>brand</th>\n",
       "      <th>categories</th>\n",
       "      <th>manufacturer</th>\n",
       "      <th>name</th>\n",
       "      <th>reviews_date</th>\n",
       "      <th>reviews_rating</th>\n",
       "      <th>reviews_text</th>\n",
       "      <th>reviews_title</th>\n",
       "      <th>reviews_username</th>\n",
       "      <th>user_sentiment</th>\n",
       "    </tr>\n",
       "  </thead>\n",
       "  <tbody>\n",
       "    <tr>\n",
       "      <th>28354</th>\n",
       "      <td>AVpfRTh1ilAPnD_xYic2</td>\n",
       "      <td>Disney</td>\n",
       "      <td>Movies, Music &amp; Books,Movies,Kids' &amp; Family,Wa...</td>\n",
       "      <td>Walt Disney</td>\n",
       "      <td>Planes: Fire Rescue (2 Discs) (includes Digita...</td>\n",
       "      <td>2014-11-07T00:00:00.000Z</td>\n",
       "      <td>5</td>\n",
       "      <td>my kids absolutely loved this film so much tha...</td>\n",
       "      <td>a super hit with my children. they loved it!!??</td>\n",
       "      <td>7.87E+11</td>\n",
       "      <td>NaN</td>\n",
       "    </tr>\n",
       "  </tbody>\n",
       "</table>\n",
       "</div>"
      ],
      "text/plain": [
       "                         id   brand  \\\n",
       "28354  AVpfRTh1ilAPnD_xYic2  Disney   \n",
       "\n",
       "                                              categories manufacturer  \\\n",
       "28354  Movies, Music & Books,Movies,Kids' & Family,Wa...  Walt Disney   \n",
       "\n",
       "                                                    name  \\\n",
       "28354  Planes: Fire Rescue (2 Discs) (includes Digita...   \n",
       "\n",
       "                   reviews_date  reviews_rating  \\\n",
       "28354  2014-11-07T00:00:00.000Z               5   \n",
       "\n",
       "                                            reviews_text  \\\n",
       "28354  my kids absolutely loved this film so much tha...   \n",
       "\n",
       "                                         reviews_title reviews_username  \\\n",
       "28354  a super hit with my children. they loved it!!??         7.87E+11   \n",
       "\n",
       "      user_sentiment  \n",
       "28354            NaN  "
      ]
     },
     "execution_count": 22,
     "metadata": {},
     "output_type": "execute_result"
    }
   ],
   "source": [
    "df_clean[ df_clean.user_sentiment.isna() ]"
   ]
  },
  {
   "cell_type": "markdown",
   "metadata": {
    "id": "Qt-8lGzN079U"
   },
   "source": [
    "*   As there is only one record with missing data for user_sentiment, we will read the record manually and update the value.\n",
    "*   From reading the review title and rating, we can see that the overall sentiment is positive. So, we will update the value as Positive for this particular record with NaN."
   ]
  },
  {
   "cell_type": "code",
   "execution_count": 23,
   "metadata": {
    "colab": {
     "base_uri": "https://localhost:8080/"
    },
    "id": "pwaWDQk21JRz",
    "outputId": "e4843511-f8b6-40ab-ab39-28df85df5478"
   },
   "outputs": [
    {
     "data": {
      "text/plain": [
       "28354    NaN\n",
       "Name: user_sentiment, dtype: object"
      ]
     },
     "execution_count": 23,
     "metadata": {},
     "output_type": "execute_result"
    }
   ],
   "source": [
    "df_clean[ df_clean.user_sentiment.isna() ].user_sentiment"
   ]
  },
  {
   "cell_type": "code",
   "execution_count": 24,
   "metadata": {
    "id": "j_6xwcGA1MQb"
   },
   "outputs": [],
   "source": [
    "df_clean.user_sentiment.fillna('Positive', inplace=True)"
   ]
  },
  {
   "cell_type": "code",
   "execution_count": 25,
   "metadata": {
    "colab": {
     "base_uri": "https://localhost:8080/",
     "height": 143
    },
    "id": "cAHDCBt_1QJX",
    "outputId": "9ae21f78-eff0-40a0-e34f-83ef7a1b5f8b"
   },
   "outputs": [
    {
     "data": {
      "text/html": [
       "<div>\n",
       "<style scoped>\n",
       "    .dataframe tbody tr th:only-of-type {\n",
       "        vertical-align: middle;\n",
       "    }\n",
       "\n",
       "    .dataframe tbody tr th {\n",
       "        vertical-align: top;\n",
       "    }\n",
       "\n",
       "    .dataframe thead th {\n",
       "        text-align: right;\n",
       "    }\n",
       "</style>\n",
       "<table border=\"1\" class=\"dataframe\">\n",
       "  <thead>\n",
       "    <tr style=\"text-align: right;\">\n",
       "      <th></th>\n",
       "      <th>Count</th>\n",
       "      <th>Percentage</th>\n",
       "    </tr>\n",
       "  </thead>\n",
       "  <tbody>\n",
       "    <tr>\n",
       "      <th>manufacturer</th>\n",
       "      <td>141</td>\n",
       "      <td>0.472996</td>\n",
       "    </tr>\n",
       "    <tr>\n",
       "      <th>reviews_username</th>\n",
       "      <td>62</td>\n",
       "      <td>0.207984</td>\n",
       "    </tr>\n",
       "    <tr>\n",
       "      <th>reviews_date</th>\n",
       "      <td>46</td>\n",
       "      <td>0.154311</td>\n",
       "    </tr>\n",
       "  </tbody>\n",
       "</table>\n",
       "</div>"
      ],
      "text/plain": [
       "                  Count  Percentage\n",
       "manufacturer        141    0.472996\n",
       "reviews_username     62    0.207984\n",
       "reviews_date         46    0.154311"
      ]
     },
     "execution_count": 25,
     "metadata": {},
     "output_type": "execute_result"
    }
   ],
   "source": [
    "# Checking NULLs again\n",
    "null_count = df_clean[df_clean.columns[df_clean.isna().any()]].isna().sum().sort_values(ascending=False)\n",
    "null_perc = (df_clean[df_clean.columns[df_clean.isna().any()]].isna().sum() * 100 / df_clean.shape[0]).sort_values(ascending=False)\n",
    "null_data = pd.concat([null_count, null_perc], axis=1, keys=['Count', 'Percentage'])\n",
    "null_data"
   ]
  },
  {
   "cell_type": "markdown",
   "metadata": {
    "id": "6YfVEUhg1T8x"
   },
   "source": [
    "As the columns manufacturer and reviews_date are not needed for both Sentiment and Recommender models we don't need to handle the NULL values for them."
   ]
  },
  {
   "cell_type": "code",
   "execution_count": 26,
   "metadata": {
    "colab": {
     "base_uri": "https://localhost:8080/",
     "height": 1000
    },
    "id": "r-PRVEE_1W0u",
    "outputId": "ff640d7b-4549-46c3-b040-5116e3300ef9"
   },
   "outputs": [
    {
     "data": {
      "text/html": [
       "<div>\n",
       "<style scoped>\n",
       "    .dataframe tbody tr th:only-of-type {\n",
       "        vertical-align: middle;\n",
       "    }\n",
       "\n",
       "    .dataframe tbody tr th {\n",
       "        vertical-align: top;\n",
       "    }\n",
       "\n",
       "    .dataframe thead th {\n",
       "        text-align: right;\n",
       "    }\n",
       "</style>\n",
       "<table border=\"1\" class=\"dataframe\">\n",
       "  <thead>\n",
       "    <tr style=\"text-align: right;\">\n",
       "      <th></th>\n",
       "      <th>id</th>\n",
       "      <th>brand</th>\n",
       "      <th>categories</th>\n",
       "      <th>manufacturer</th>\n",
       "      <th>name</th>\n",
       "      <th>reviews_date</th>\n",
       "      <th>reviews_rating</th>\n",
       "      <th>reviews_text</th>\n",
       "      <th>reviews_title</th>\n",
       "      <th>reviews_username</th>\n",
       "      <th>user_sentiment</th>\n",
       "    </tr>\n",
       "  </thead>\n",
       "  <tbody>\n",
       "    <tr>\n",
       "      <th>0</th>\n",
       "      <td>AV13O1A8GV-KLJ3akUyj</td>\n",
       "      <td>Universal Music</td>\n",
       "      <td>Movies, Music &amp; Books,Music,R&amp;b,Movies &amp; TV,Mo...</td>\n",
       "      <td>Universal Music Group / Cash Money</td>\n",
       "      <td>Pink Friday: Roman Reloaded Re-Up (w/dvd)</td>\n",
       "      <td>2012-11-30T06:21:45.000Z</td>\n",
       "      <td>5</td>\n",
       "      <td>i love this album. it's very good. more to the...</td>\n",
       "      <td>Just Awesome</td>\n",
       "      <td>joshua</td>\n",
       "      <td>Positive</td>\n",
       "    </tr>\n",
       "    <tr>\n",
       "      <th>1</th>\n",
       "      <td>AV14LG0R-jtxr-f38QfS</td>\n",
       "      <td>Lundberg</td>\n",
       "      <td>Food,Packaged Foods,Snacks,Crackers,Snacks, Co...</td>\n",
       "      <td>Lundberg</td>\n",
       "      <td>Lundberg Organic Cinnamon Toast Rice Cakes</td>\n",
       "      <td>2017-07-09T00:00:00.000Z</td>\n",
       "      <td>5</td>\n",
       "      <td>Good flavor. This review was collected as part...</td>\n",
       "      <td>Good</td>\n",
       "      <td>dorothy w</td>\n",
       "      <td>Positive</td>\n",
       "    </tr>\n",
       "    <tr>\n",
       "      <th>2</th>\n",
       "      <td>AV14LG0R-jtxr-f38QfS</td>\n",
       "      <td>Lundberg</td>\n",
       "      <td>Food,Packaged Foods,Snacks,Crackers,Snacks, Co...</td>\n",
       "      <td>Lundberg</td>\n",
       "      <td>Lundberg Organic Cinnamon Toast Rice Cakes</td>\n",
       "      <td>2017-07-09T00:00:00.000Z</td>\n",
       "      <td>5</td>\n",
       "      <td>Good flavor.</td>\n",
       "      <td>Good</td>\n",
       "      <td>dorothy w</td>\n",
       "      <td>Positive</td>\n",
       "    </tr>\n",
       "    <tr>\n",
       "      <th>3</th>\n",
       "      <td>AV16khLE-jtxr-f38VFn</td>\n",
       "      <td>K-Y</td>\n",
       "      <td>Personal Care,Medicine Cabinet,Lubricant/Sperm...</td>\n",
       "      <td>K-Y</td>\n",
       "      <td>K-Y Love Sensuality Pleasure Gel</td>\n",
       "      <td>2016-01-06T00:00:00.000Z</td>\n",
       "      <td>1</td>\n",
       "      <td>I read through the reviews on here before look...</td>\n",
       "      <td>Disappointed</td>\n",
       "      <td>rebecca</td>\n",
       "      <td>Negative</td>\n",
       "    </tr>\n",
       "    <tr>\n",
       "      <th>4</th>\n",
       "      <td>AV16khLE-jtxr-f38VFn</td>\n",
       "      <td>K-Y</td>\n",
       "      <td>Personal Care,Medicine Cabinet,Lubricant/Sperm...</td>\n",
       "      <td>K-Y</td>\n",
       "      <td>K-Y Love Sensuality Pleasure Gel</td>\n",
       "      <td>2016-12-21T00:00:00.000Z</td>\n",
       "      <td>1</td>\n",
       "      <td>My husband bought this gel for us. The gel cau...</td>\n",
       "      <td>Irritation</td>\n",
       "      <td>walker557</td>\n",
       "      <td>Negative</td>\n",
       "    </tr>\n",
       "  </tbody>\n",
       "</table>\n",
       "</div>"
      ],
      "text/plain": [
       "                     id            brand  \\\n",
       "0  AV13O1A8GV-KLJ3akUyj  Universal Music   \n",
       "1  AV14LG0R-jtxr-f38QfS         Lundberg   \n",
       "2  AV14LG0R-jtxr-f38QfS         Lundberg   \n",
       "3  AV16khLE-jtxr-f38VFn              K-Y   \n",
       "4  AV16khLE-jtxr-f38VFn              K-Y   \n",
       "\n",
       "                                          categories  \\\n",
       "0  Movies, Music & Books,Music,R&b,Movies & TV,Mo...   \n",
       "1  Food,Packaged Foods,Snacks,Crackers,Snacks, Co...   \n",
       "2  Food,Packaged Foods,Snacks,Crackers,Snacks, Co...   \n",
       "3  Personal Care,Medicine Cabinet,Lubricant/Sperm...   \n",
       "4  Personal Care,Medicine Cabinet,Lubricant/Sperm...   \n",
       "\n",
       "                         manufacturer  \\\n",
       "0  Universal Music Group / Cash Money   \n",
       "1                            Lundberg   \n",
       "2                            Lundberg   \n",
       "3                                 K-Y   \n",
       "4                                 K-Y   \n",
       "\n",
       "                                         name              reviews_date  \\\n",
       "0   Pink Friday: Roman Reloaded Re-Up (w/dvd)  2012-11-30T06:21:45.000Z   \n",
       "1  Lundberg Organic Cinnamon Toast Rice Cakes  2017-07-09T00:00:00.000Z   \n",
       "2  Lundberg Organic Cinnamon Toast Rice Cakes  2017-07-09T00:00:00.000Z   \n",
       "3            K-Y Love Sensuality Pleasure Gel  2016-01-06T00:00:00.000Z   \n",
       "4            K-Y Love Sensuality Pleasure Gel  2016-12-21T00:00:00.000Z   \n",
       "\n",
       "   reviews_rating                                       reviews_text  \\\n",
       "0               5  i love this album. it's very good. more to the...   \n",
       "1               5  Good flavor. This review was collected as part...   \n",
       "2               5                                       Good flavor.   \n",
       "3               1  I read through the reviews on here before look...   \n",
       "4               1  My husband bought this gel for us. The gel cau...   \n",
       "\n",
       "  reviews_title reviews_username user_sentiment  \n",
       "0  Just Awesome           joshua       Positive  \n",
       "1          Good        dorothy w       Positive  \n",
       "2          Good        dorothy w       Positive  \n",
       "3  Disappointed          rebecca       Negative  \n",
       "4    Irritation        walker557       Negative  "
      ]
     },
     "execution_count": 26,
     "metadata": {},
     "output_type": "execute_result"
    }
   ],
   "source": [
    "# Check the data for top 5 rows\n",
    "df_clean.head()"
   ]
  },
  {
   "cell_type": "markdown",
   "metadata": {
    "id": "BSE2oj2z1q2a"
   },
   "source": [
    "# Analysis\n",
    "\n",
    "**Checking Distribution of** reviews_rating **column**"
   ]
  },
  {
   "cell_type": "code",
   "execution_count": 27,
   "metadata": {
    "colab": {
     "base_uri": "https://localhost:8080/",
     "height": 295
    },
    "id": "DqRfaIrl15HJ",
    "outputId": "dda0ba2b-0e10-4356-faf2-bf78e0534ef1"
   },
   "outputs": [
    {
     "data": {
      "image/png": "[encoded data removed]",
      "text/plain": [
       "<Figure size 432x288 with 1 Axes>"
      ]
     },
     "metadata": {
      "needs_background": "light"
     },
     "output_type": "display_data"
    }
   ],
   "source": [
    "sns.countplot(x = 'reviews_rating', data = df_clean).set(title=\"Distribution of reviews rating by count\", xlabel=\"reviews rating\", ylabel=\"reviews count\")\n",
    "plt.show()"
   ]
  },
  {
   "cell_type": "markdown",
   "metadata": {
    "id": "S4Tn7kV119Am"
   },
   "source": [
    "Most of the ratings from the users have been on the higher side. Most of the review ratings have been 5. This would surely cause a data imbalance as user_sentiment should be in alignment with the ratings. We will check and handle it later on."
   ]
  },
  {
   "cell_type": "markdown",
   "metadata": {
    "id": "fQraggCB1_U0"
   },
   "source": [
    "**Checking Top 5 Brands with negative reviews**"
   ]
  },
  {
   "cell_type": "code",
   "execution_count": 28,
   "metadata": {
    "colab": {
     "base_uri": "https://localhost:8080/",
     "height": 385
    },
    "id": "KgLk2bYH2D_c",
    "outputId": "b6568184-0a21-4396-f968-9e33d30e99b5"
   },
   "outputs": [
    {
     "data": {
      "image/png": "[encoded data removed]",
      "text/plain": [
       "<Figure size 432x288 with 1 Axes>"
      ]
     },
     "metadata": {
      "needs_background": "light"
     },
     "output_type": "display_data"
    }
   ],
   "source": [
    "df_clean[ df_clean.user_sentiment == 'Negative' ].brand.value_counts(normalize=True, ascending=False).head(5).plot(kind='bar')\n",
    "plt.title(\"Top 5 Brands with negative reviews\")\n",
    "plt.xlabel(\"Brands\")\n",
    "plt.ylabel(\"Percentage of negative reviews\")\n",
    "plt.show()"
   ]
  },
  {
   "cell_type": "markdown",
   "metadata": {
    "id": "fBSUqlxF2H47"
   },
   "source": [
    "Clorox is the product that is rated the most negative and nearly 30% of the negative reviews have been towards Clorox.\n",
    "\n",
    "**Checking Top 5 Brands with positive reviews**"
   ]
  },
  {
   "cell_type": "code",
   "execution_count": 29,
   "metadata": {
    "colab": {
     "base_uri": "https://localhost:8080/",
     "height": 385
    },
    "id": "1P6mEuyV2Mq3",
    "outputId": "a2160780-011a-4a72-ddaf-a4acf49dae34"
   },
   "outputs": [
    {
     "data": {
      "image/png": "[encoded data removed]",
      "text/plain": [
       "<Figure size 432x288 with 1 Axes>"
      ]
     },
     "metadata": {
      "needs_background": "light"
     },
     "output_type": "display_data"
    }
   ],
   "source": [
    "df_clean[ df_clean.user_sentiment == 'Positive' ].brand.value_counts(normalize=True, ascending=False).head(5).plot(kind='bar')\n",
    "plt.title(\"Top 5 Brands with positive reviews\")\n",
    "plt.xlabel(\"Brands\")\n",
    "plt.ylabel(\"Percentage of positive reviews\")\n",
    "plt.show()"
   ]
  },
  {
   "cell_type": "code",
   "execution_count": 30,
   "metadata": {
    "colab": {
     "base_uri": "https://localhost:8080/"
    },
    "id": "7HJfb5mu2Smj",
    "outputId": "c02650bd-f8ce-419e-9f0e-3085dbaa6036"
   },
   "outputs": [
    {
     "data": {
      "text/plain": [
       "Clorox               0.355049\n",
       "Warner Home Video    0.111506\n",
       "Disney               0.040154\n",
       "L'oreal Paris        0.039785\n",
       "FOX                  0.029755\n",
       "Name: brand, dtype: float64"
      ]
     },
     "execution_count": 30,
     "metadata": {},
     "output_type": "execute_result"
    }
   ],
   "source": [
    "df_clean.brand.value_counts(normalize=True).head(5)"
   ]
  },
  {
   "cell_type": "markdown",
   "metadata": {
    "id": "oRPS_qOb2Wun"
   },
   "source": [
    "* Surprisingly Clorox is the product that is rated the most positive as well and more than 35% of the positive reviews have been towards Clorox.\n",
    "* Checking the data, we realize that 35% of the brands for which we have the data is actually Clorox which is why it has the most reviews.\n",
    "\n",
    "**Checking review counts based on the review year**"
   ]
  },
  {
   "cell_type": "code",
   "execution_count": 31,
   "metadata": {
    "colab": {
     "base_uri": "https://localhost:8080/"
    },
    "id": "c1nM_Bmj2hJh",
    "outputId": "2e914c30-86ca-4b46-aa31-ebf959b274db"
   },
   "outputs": [
    {
     "data": {
      "text/plain": [
       "dtype('O')"
      ]
     },
     "execution_count": 31,
     "metadata": {},
     "output_type": "execute_result"
    }
   ],
   "source": [
    "# Before type conversion\n",
    "df_clean.reviews_date.dtype"
   ]
  },
  {
   "cell_type": "markdown",
   "metadata": {
    "id": "IPLDxBRm2lBd"
   },
   "source": [
    "* We will first convert reviews_date to date type.\n",
    "* Then we will get the year component from the date."
   ]
  },
  {
   "cell_type": "code",
   "execution_count": 32,
   "metadata": {
    "id": "xE0HtR_g2qae"
   },
   "outputs": [],
   "source": [
    "df_clean['reviews_date'] = pd.to_datetime(df_clean['reviews_date'], errors='coerce')"
   ]
  },
  {
   "cell_type": "code",
   "execution_count": 33,
   "metadata": {
    "colab": {
     "base_uri": "https://localhost:8080/"
    },
    "id": "cu0wdZrZ2sxA",
    "outputId": "616a055e-f61c-4e7d-9156-ca900e37f498"
   },
   "outputs": [
    {
     "data": {
      "text/plain": [
       "datetime64[ns, UTC]"
      ]
     },
     "execution_count": 33,
     "metadata": {},
     "output_type": "execute_result"
    }
   ],
   "source": [
    "# After type conversion\n",
    "df_clean.reviews_date.dtype"
   ]
  },
  {
   "cell_type": "code",
   "execution_count": 34,
   "metadata": {
    "colab": {
     "base_uri": "https://localhost:8080/"
    },
    "id": "RRt0iNIg2vdM",
    "outputId": "efb3e05d-a937-486d-e5fd-1c028bed35b5"
   },
   "outputs": [
    {
     "data": {
      "text/plain": [
       "0        2012.0\n",
       "1        2017.0\n",
       "2        2017.0\n",
       "3        2016.0\n",
       "4        2016.0\n",
       "          ...  \n",
       "29995    2017.0\n",
       "29996    2017.0\n",
       "29997    2017.0\n",
       "29998    2017.0\n",
       "29999    2017.0\n",
       "Name: reviews_date, Length: 29810, dtype: float64"
      ]
     },
     "execution_count": 34,
     "metadata": {},
     "output_type": "execute_result"
    }
   ],
   "source": [
    "# Getting year component from date\n",
    "df_clean.reviews_date.dt.year"
   ]
  },
  {
   "cell_type": "code",
   "execution_count": 35,
   "metadata": {
    "colab": {
     "base_uri": "https://localhost:8080/",
     "height": 384
    },
    "id": "7WULPg-22y_I",
    "outputId": "bd374996-294d-41ff-c9f9-168ded33d1d5"
   },
   "outputs": [
    {
     "data": {
      "image/png": "[encoded data removed]",
      "text/plain": [
       "<Figure size 360x360 with 1 Axes>"
      ]
     },
     "metadata": {
      "needs_background": "light"
     },
     "output_type": "display_data"
    }
   ],
   "source": [
    "# Creating a distribution plot based on reviews year \n",
    "sns.displot(data=df_clean, x=df_clean.reviews_date.dt.year).set(title=\"Distribution of reviews by year\", xlabel=\"reviews year\", ylabel=\"reviews count\")\n",
    "plt.show()"
   ]
  },
  {
   "cell_type": "markdown",
   "metadata": {
    "id": "u2SUUrFR25jL"
   },
   "source": [
    "**Checking Movie categories by Rating**"
   ]
  },
  {
   "cell_type": "code",
   "execution_count": 36,
   "metadata": {
    "colab": {
     "base_uri": "https://localhost:8080/",
     "height": 383
    },
    "id": "RaSHYIUm29wo",
    "outputId": "81b412b0-ec3d-4540-f9a7-bcc37d240bfc"
   },
   "outputs": [
    {
     "data": {
      "image/png": "[encoded data removed]",
      "text/plain": [
       "<Figure size 720x432 with 1 Axes>"
      ]
     },
     "metadata": {
      "needs_background": "light"
     },
     "output_type": "display_data"
    }
   ],
   "source": [
    "plt.figure(figsize = [10,6])\n",
    "\n",
    "sns.boxplot(data=df_clean, x='user_sentiment', y='reviews_rating', color='green')\n",
    "plt.xticks(rotation = 45)\n",
    "\n",
    "plt.tight_layout(pad = 4)\n",
    "plt.show()"
   ]
  },
  {
   "cell_type": "code",
   "execution_count": 37,
   "metadata": {
    "colab": {
     "base_uri": "https://localhost:8080/"
    },
    "id": "RsLINgIE3CUF",
    "outputId": "0658b785-b7a6-48a4-c3fc-166bee9ae14d"
   },
   "outputs": [
    {
     "data": {
      "text/plain": [
       "reviews_rating\n",
       "4     548\n",
       "5    1853\n",
       "Name: user_sentiment, dtype: int64"
      ]
     },
     "execution_count": 37,
     "metadata": {},
     "output_type": "execute_result"
    }
   ],
   "source": [
    "df_clean[ (df_clean.user_sentiment == 'Negative') & (df_clean.reviews_rating >= 4) ].groupby(['reviews_rating']).count().user_sentiment"
   ]
  },
  {
   "cell_type": "markdown",
   "metadata": {
    "id": "onoUeXwl3GjY"
   },
   "source": [
    "* It's surprising to note that there are brands which have Negative sentiments but much higher review ratings (4 or 5). There are 2396 such records.\n",
    "* It might be a data anomaly or there might be a data lag between when the rating was provided and user sentiment given later after use.\n",
    "* For the purpose of this specific business problem, we will treat this specific analysis as out of scope and move further with the pre-processing steps.\n",
    "\n",
    "##**Type Conversion**\n",
    "Before we start the pre-processing steps, we need to make sure that all the text columns are converted to string type for future text operations."
   ]
  },
  {
   "cell_type": "code",
   "execution_count": 38,
   "metadata": {
    "id": "XHYWDNuz3Plq"
   },
   "outputs": [],
   "source": [
    "# Convert all the text columns to string for performing text operations\n",
    "df_clean['brand'] = df_clean['brand'].astype(str)\n",
    "df_clean['categories'] = df_clean['categories'].astype(str)\n",
    "df_clean['manufacturer'] = df_clean['manufacturer'].astype(str)\n",
    "df_clean['name'] = df_clean['name'].astype(str)\n",
    "df_clean['reviews_text'] = df_clean['reviews_text'].astype(str)\n",
    "df_clean['reviews_title'] = df_clean['reviews_title'].astype(str)\n",
    "df_clean['reviews_username'] = df_clean['reviews_username'].astype(str)"
   ]
  },
  {
   "cell_type": "markdown",
   "metadata": {
    "id": "gkItfl-031tk"
   },
   "source": [
    "## **Pre-Processing**"
   ]
  },
  {
   "cell_type": "code",
   "execution_count": 39,
   "metadata": {
    "id": "61SLxuPY3-R8"
   },
   "outputs": [],
   "source": [
    "# Getting a copy of dataframe for pre-processing\n",
    "df_prep = df_clean.copy()"
   ]
  },
  {
   "cell_type": "markdown",
   "metadata": {
    "id": "lKM7pp_R4BQn"
   },
   "source": [
    "**Combining reviews_text and reviews_title columns into reviews_combined and dropping the initial fields**"
   ]
  },
  {
   "cell_type": "code",
   "execution_count": 40,
   "metadata": {
    "id": "I3KZiJuH4G00"
   },
   "outputs": [],
   "source": [
    "df_prep['reviews_combined'] = df_prep['reviews_text'] + \" \" + df_prep['reviews_title']\n",
    "df_prep.drop(columns=['reviews_text', 'reviews_title'], inplace=True)"
   ]
  },
  {
   "cell_type": "code",
   "execution_count": 41,
   "metadata": {
    "colab": {
     "base_uri": "https://localhost:8080/"
    },
    "id": "BfIgteHt4Jbi",
    "outputId": "ac9d5e05-83b2-4a32-ddb9-5a7ddb769935"
   },
   "outputs": [
    {
     "data": {
      "text/plain": [
       "(29810, 10)"
      ]
     },
     "execution_count": 41,
     "metadata": {},
     "output_type": "execute_result"
    }
   ],
   "source": [
    "df_prep.shape"
   ]
  },
  {
   "cell_type": "code",
   "execution_count": 42,
   "metadata": {
    "colab": {
     "base_uri": "https://localhost:8080/",
     "height": 336
    },
    "id": "ZFpHtVuY4MJb",
    "outputId": "0b0ffb4c-8a2e-4b88-abce-aeb8055d9863"
   },
   "outputs": [
    {
     "data": {
      "text/html": [
       "<div>\n",
       "<style scoped>\n",
       "    .dataframe tbody tr th:only-of-type {\n",
       "        vertical-align: middle;\n",
       "    }\n",
       "\n",
       "    .dataframe tbody tr th {\n",
       "        vertical-align: top;\n",
       "    }\n",
       "\n",
       "    .dataframe thead th {\n",
       "        text-align: right;\n",
       "    }\n",
       "</style>\n",
       "<table border=\"1\" class=\"dataframe\">\n",
       "  <thead>\n",
       "    <tr style=\"text-align: right;\">\n",
       "      <th></th>\n",
       "      <th>id</th>\n",
       "      <th>brand</th>\n",
       "      <th>categories</th>\n",
       "      <th>manufacturer</th>\n",
       "      <th>name</th>\n",
       "      <th>reviews_date</th>\n",
       "      <th>reviews_rating</th>\n",
       "      <th>reviews_username</th>\n",
       "      <th>user_sentiment</th>\n",
       "      <th>reviews_combined</th>\n",
       "    </tr>\n",
       "  </thead>\n",
       "  <tbody>\n",
       "    <tr>\n",
       "      <th>0</th>\n",
       "      <td>AV13O1A8GV-KLJ3akUyj</td>\n",
       "      <td>Universal Music</td>\n",
       "      <td>Movies, Music &amp; Books,Music,R&amp;b,Movies &amp; TV,Mo...</td>\n",
       "      <td>Universal Music Group / Cash Money</td>\n",
       "      <td>Pink Friday: Roman Reloaded Re-Up (w/dvd)</td>\n",
       "      <td>2012-11-30 06:21:45+00:00</td>\n",
       "      <td>5</td>\n",
       "      <td>joshua</td>\n",
       "      <td>Positive</td>\n",
       "      <td>i love this album. it's very good. more to the...</td>\n",
       "    </tr>\n",
       "  </tbody>\n",
       "</table>\n",
       "</div>"
      ],
      "text/plain": [
       "                     id            brand  \\\n",
       "0  AV13O1A8GV-KLJ3akUyj  Universal Music   \n",
       "\n",
       "                                          categories  \\\n",
       "0  Movies, Music & Books,Music,R&b,Movies & TV,Mo...   \n",
       "\n",
       "                         manufacturer  \\\n",
       "0  Universal Music Group / Cash Money   \n",
       "\n",
       "                                        name              reviews_date  \\\n",
       "0  Pink Friday: Roman Reloaded Re-Up (w/dvd) 2012-11-30 06:21:45+00:00   \n",
       "\n",
       "   reviews_rating reviews_username user_sentiment  \\\n",
       "0               5           joshua       Positive   \n",
       "\n",
       "                                    reviews_combined  \n",
       "0  i love this album. it's very good. more to the...  "
      ]
     },
     "execution_count": 42,
     "metadata": {},
     "output_type": "execute_result"
    }
   ],
   "source": [
    "df_prep.head(1)"
   ]
  },
  {
   "cell_type": "markdown",
   "metadata": {
    "id": "mhOut9yt4Pmg"
   },
   "source": [
    "## **Removing columns unneeded for analysis**"
   ]
  },
  {
   "cell_type": "code",
   "execution_count": 43,
   "metadata": {
    "id": "4OrSNvb24Sod"
   },
   "outputs": [],
   "source": [
    "df_prep.drop(columns=['categories', 'manufacturer', 'reviews_date'], inplace=True)"
   ]
  },
  {
   "cell_type": "code",
   "execution_count": 44,
   "metadata": {
    "colab": {
     "base_uri": "https://localhost:8080/",
     "height": 212
    },
    "id": "qhVyEtTa4VcZ",
    "outputId": "6abb65d5-cde2-4fca-a96f-070f0158ccf4"
   },
   "outputs": [
    {
     "data": {
      "text/html": [
       "<div>\n",
       "<style scoped>\n",
       "    .dataframe tbody tr th:only-of-type {\n",
       "        vertical-align: middle;\n",
       "    }\n",
       "\n",
       "    .dataframe tbody tr th {\n",
       "        vertical-align: top;\n",
       "    }\n",
       "\n",
       "    .dataframe thead th {\n",
       "        text-align: right;\n",
       "    }\n",
       "</style>\n",
       "<table border=\"1\" class=\"dataframe\">\n",
       "  <thead>\n",
       "    <tr style=\"text-align: right;\">\n",
       "      <th></th>\n",
       "      <th>id</th>\n",
       "      <th>brand</th>\n",
       "      <th>name</th>\n",
       "      <th>reviews_rating</th>\n",
       "      <th>reviews_username</th>\n",
       "      <th>user_sentiment</th>\n",
       "      <th>reviews_combined</th>\n",
       "    </tr>\n",
       "  </thead>\n",
       "  <tbody>\n",
       "    <tr>\n",
       "      <th>0</th>\n",
       "      <td>AV13O1A8GV-KLJ3akUyj</td>\n",
       "      <td>Universal Music</td>\n",
       "      <td>Pink Friday: Roman Reloaded Re-Up (w/dvd)</td>\n",
       "      <td>5</td>\n",
       "      <td>joshua</td>\n",
       "      <td>Positive</td>\n",
       "      <td>i love this album. it's very good. more to the...</td>\n",
       "    </tr>\n",
       "  </tbody>\n",
       "</table>\n",
       "</div>"
      ],
      "text/plain": [
       "                     id            brand  \\\n",
       "0  AV13O1A8GV-KLJ3akUyj  Universal Music   \n",
       "\n",
       "                                        name  reviews_rating reviews_username  \\\n",
       "0  Pink Friday: Roman Reloaded Re-Up (w/dvd)               5           joshua   \n",
       "\n",
       "  user_sentiment                                   reviews_combined  \n",
       "0       Positive  i love this album. it's very good. more to the...  "
      ]
     },
     "execution_count": 44,
     "metadata": {},
     "output_type": "execute_result"
    }
   ],
   "source": [
    "df_prep.head(1)"
   ]
  },
  {
   "cell_type": "markdown",
   "metadata": {
    "id": "ZXdUWQlC4ZKd"
   },
   "source": [
    "## **Creating dataframe for Sentiment analysis with only the required columns**"
   ]
  },
  {
   "cell_type": "code",
   "execution_count": 45,
   "metadata": {
    "id": "dzJHOq3J4dEs"
   },
   "outputs": [],
   "source": [
    "df_sent = df_prep[['id','name','reviews_combined', 'user_sentiment']]"
   ]
  },
  {
   "cell_type": "code",
   "execution_count": 46,
   "metadata": {
    "colab": {
     "base_uri": "https://localhost:8080/"
    },
    "id": "bfyuuXm94gfv",
    "outputId": "e2fc75cf-9a10-4c44-b28c-e77f5e78a0c8"
   },
   "outputs": [
    {
     "data": {
      "text/plain": [
       "(29810, 4)"
      ]
     },
     "execution_count": 46,
     "metadata": {},
     "output_type": "execute_result"
    }
   ],
   "source": [
    "df_sent.shape"
   ]
  },
  {
   "cell_type": "code",
   "execution_count": 47,
   "metadata": {
    "colab": {
     "base_uri": "https://localhost:8080/",
     "height": 226
    },
    "id": "5mnM7eg34j3D",
    "outputId": "6eb3439e-776f-4145-f592-a1dee089e54e"
   },
   "outputs": [
    {
     "data": {
      "text/html": [
       "<div>\n",
       "<style scoped>\n",
       "    .dataframe tbody tr th:only-of-type {\n",
       "        vertical-align: middle;\n",
       "    }\n",
       "\n",
       "    .dataframe tbody tr th {\n",
       "        vertical-align: top;\n",
       "    }\n",
       "\n",
       "    .dataframe thead th {\n",
       "        text-align: right;\n",
       "    }\n",
       "</style>\n",
       "<table border=\"1\" class=\"dataframe\">\n",
       "  <thead>\n",
       "    <tr style=\"text-align: right;\">\n",
       "      <th></th>\n",
       "      <th>id</th>\n",
       "      <th>name</th>\n",
       "      <th>reviews_combined</th>\n",
       "      <th>user_sentiment</th>\n",
       "    </tr>\n",
       "  </thead>\n",
       "  <tbody>\n",
       "    <tr>\n",
       "      <th>0</th>\n",
       "      <td>AV13O1A8GV-KLJ3akUyj</td>\n",
       "      <td>Pink Friday: Roman Reloaded Re-Up (w/dvd)</td>\n",
       "      <td>i love this album. it's very good. more to the...</td>\n",
       "      <td>Positive</td>\n",
       "    </tr>\n",
       "    <tr>\n",
       "      <th>1</th>\n",
       "      <td>AV14LG0R-jtxr-f38QfS</td>\n",
       "      <td>Lundberg Organic Cinnamon Toast Rice Cakes</td>\n",
       "      <td>Good flavor. This review was collected as part...</td>\n",
       "      <td>Positive</td>\n",
       "    </tr>\n",
       "  </tbody>\n",
       "</table>\n",
       "</div>"
      ],
      "text/plain": [
       "                     id                                        name  \\\n",
       "0  AV13O1A8GV-KLJ3akUyj   Pink Friday: Roman Reloaded Re-Up (w/dvd)   \n",
       "1  AV14LG0R-jtxr-f38QfS  Lundberg Organic Cinnamon Toast Rice Cakes   \n",
       "\n",
       "                                    reviews_combined user_sentiment  \n",
       "0  i love this album. it's very good. more to the...       Positive  \n",
       "1  Good flavor. This review was collected as part...       Positive  "
      ]
     },
     "execution_count": 47,
     "metadata": {},
     "output_type": "execute_result"
    }
   ],
   "source": [
    "df_sent.head(2)"
   ]
  },
  {
   "cell_type": "markdown",
   "metadata": {
    "id": "ifx1iBXS4mxh"
   },
   "source": [
    "## **Handling punctuations**"
   ]
  },
  {
   "cell_type": "code",
   "execution_count": 48,
   "metadata": {
    "id": "phFwVJpg4sh9"
   },
   "outputs": [],
   "source": [
    "# Function to clean the text and remove all the unnecessary elements.\n",
    "def clean_punctuation(sent):\n",
    "    sent = sent.lower() # Text to lowercase\n",
    "    pattern = '[^\\w\\s]' # Removing punctuation\n",
    "    sent = re.sub(pattern, '', sent)\n",
    "    return sent"
   ]
  },
  {
   "cell_type": "code",
   "execution_count": 49,
   "metadata": {
    "id": "_XWARch_4ueO"
   },
   "outputs": [],
   "source": [
    "df_sent['reviews_cleaned'] = df_sent['reviews_combined'].apply(clean_punctuation)"
   ]
  },
  {
   "cell_type": "code",
   "execution_count": 50,
   "metadata": {
    "colab": {
     "base_uri": "https://localhost:8080/",
     "height": 295
    },
    "id": "QMajvYx74xn1",
    "outputId": "d182c2d6-d36d-4ac8-9496-a27bf66a96c2"
   },
   "outputs": [
    {
     "data": {
      "text/html": [
       "<div>\n",
       "<style scoped>\n",
       "    .dataframe tbody tr th:only-of-type {\n",
       "        vertical-align: middle;\n",
       "    }\n",
       "\n",
       "    .dataframe tbody tr th {\n",
       "        vertical-align: top;\n",
       "    }\n",
       "\n",
       "    .dataframe thead th {\n",
       "        text-align: right;\n",
       "    }\n",
       "</style>\n",
       "<table border=\"1\" class=\"dataframe\">\n",
       "  <thead>\n",
       "    <tr style=\"text-align: right;\">\n",
       "      <th></th>\n",
       "      <th>id</th>\n",
       "      <th>name</th>\n",
       "      <th>reviews_combined</th>\n",
       "      <th>user_sentiment</th>\n",
       "      <th>reviews_cleaned</th>\n",
       "    </tr>\n",
       "  </thead>\n",
       "  <tbody>\n",
       "    <tr>\n",
       "      <th>0</th>\n",
       "      <td>AV13O1A8GV-KLJ3akUyj</td>\n",
       "      <td>Pink Friday: Roman Reloaded Re-Up (w/dvd)</td>\n",
       "      <td>i love this album. it's very good. more to the...</td>\n",
       "      <td>Positive</td>\n",
       "      <td>i love this album its very good more to the hi...</td>\n",
       "    </tr>\n",
       "    <tr>\n",
       "      <th>1</th>\n",
       "      <td>AV14LG0R-jtxr-f38QfS</td>\n",
       "      <td>Lundberg Organic Cinnamon Toast Rice Cakes</td>\n",
       "      <td>Good flavor. This review was collected as part...</td>\n",
       "      <td>Positive</td>\n",
       "      <td>good flavor this review was collected as part ...</td>\n",
       "    </tr>\n",
       "  </tbody>\n",
       "</table>\n",
       "</div>"
      ],
      "text/plain": [
       "                     id                                        name  \\\n",
       "0  AV13O1A8GV-KLJ3akUyj   Pink Friday: Roman Reloaded Re-Up (w/dvd)   \n",
       "1  AV14LG0R-jtxr-f38QfS  Lundberg Organic Cinnamon Toast Rice Cakes   \n",
       "\n",
       "                                    reviews_combined user_sentiment  \\\n",
       "0  i love this album. it's very good. more to the...       Positive   \n",
       "1  Good flavor. This review was collected as part...       Positive   \n",
       "\n",
       "                                     reviews_cleaned  \n",
       "0  i love this album its very good more to the hi...  \n",
       "1  good flavor this review was collected as part ...  "
      ]
     },
     "execution_count": 50,
     "metadata": {},
     "output_type": "execute_result"
    }
   ],
   "source": [
    "df_sent.head(2)"
   ]
  },
  {
   "cell_type": "markdown",
   "metadata": {
    "id": "n9v2yaY040jQ"
   },
   "source": [
    "## **Handling stopwords**"
   ]
  },
  {
   "cell_type": "code",
   "execution_count": 51,
   "metadata": {
    "colab": {
     "base_uri": "https://localhost:8080/"
    },
    "id": "Vyj7N__o44pL",
    "outputId": "40314cb2-5307-4596-825f-19b34b564707"
   },
   "outputs": [
    {
     "name": "stderr",
     "output_type": "stream",
     "text": [
      "[nltk_data] Downloading package stopwords to\n",
      "[nltk_data]     C:\\Users\\aishw\\AppData\\Roaming\\nltk_data...\n",
      "[nltk_data]   Package stopwords is already up-to-date!\n"
     ]
    },
    {
     "data": {
      "text/plain": [
       "True"
      ]
     },
     "execution_count": 51,
     "metadata": {},
     "output_type": "execute_result"
    }
   ],
   "source": [
    "nltk.download('stopwords')"
   ]
  },
  {
   "cell_type": "code",
   "execution_count": 52,
   "metadata": {
    "colab": {
     "base_uri": "https://localhost:8080/"
    },
    "id": "4ovzqc0v49GT",
    "outputId": "d768efb8-f960-428e-9f94-ccc406be4669"
   },
   "outputs": [
    {
     "name": "stdout",
     "output_type": "stream",
     "text": [
      "{'be', \"won't\", \"weren't\", \"you're\", \"couldn't\", 'or', 'as', 'when', 'over', 'been', 'it', 'only', 'other', 'me', 'shan', 'so', 'they', 'don', \"shan't\", 'from', 've', 'more', \"it's\", 'whom', 'off', 'o', 'needn', 'against', \"hasn't\", \"don't\", 'hers', 'a', 'how', \"haven't\", 'mightn', 'wasn', 'does', 'herself', 'ourselves', 'yourself', 'do', 'himself', 'below', 'than', 'that', 'but', 'once', \"wouldn't\", 'you', 'couldn', \"should've\", 'few', 'before', 'll', 'by', 'most', \"didn't\", 'under', 'hadn', \"mustn't\", 'after', 'shouldn', 'about', \"isn't\", 'your', \"needn't\", \"hadn't\", 'both', 'up', 'further', 'their', 'isn', 'won', 'some', 'here', 'the', 'if', 'no', 'any', 'above', 'for', 'where', 'him', 'all', 'an', 'own', 'am', 'theirs', 'm', 'weren', 'she', 'same', \"you've\", 'mustn', 'not', 'during', 'on', 'very', 'through', 'her', 'these', 'why', 'i', 'is', 'myself', 'into', 'those', 'did', 'which', 'who', 'didn', 'down', 'should', 'doing', 'wouldn', 'are', 'can', \"aren't\", 'y', 'ma', \"shouldn't\", 'being', 't', 'his', 'just', 'itself', 'themselves', 'will', 'in', 'aren', 'with', 'such', \"that'll\", 's', 'to', 'there', 'd', 'ain', 're', 'having', 'were', 'was', 'haven', 'of', 'too', \"she's\", \"doesn't\", 'we', 'yourselves', 'and', 'has', 'hasn', 'had', 'this', \"wasn't\", 'them', 'each', \"you'll\", 'he', 'until', 'my', 'yours', 'then', 'doesn', 'our', 'have', 'its', 'ours', 'because', \"you'd\", 'now', 'what', 'while', 'again', 'out', \"mightn't\", 'between', 'at', 'nor'}\n"
     ]
    }
   ],
   "source": [
    "from nltk.corpus import stopwords\n",
    "stopwords_set = set(stopwords.words(\"english\"))\n",
    "print(stopwords_set)"
   ]
  },
  {
   "cell_type": "code",
   "execution_count": 53,
   "metadata": {
    "id": "Ew8baKG65Amh"
   },
   "outputs": [],
   "source": [
    "# Function to remove the stopwords\n",
    "def clean_stopwords(sent):\n",
    "    sent = sent.lower() # Text to lowercase\n",
    "    words = word_tokenize(sent) # Split sentences into words\n",
    "    text_nostopwords = \" \".join( [each_word for each_word in words if each_word not in stopwords_set] )\n",
    "    return sent"
   ]
  },
  {
   "cell_type": "code",
   "execution_count": 54,
   "metadata": {
    "id": "wTFFkuuj5DZH"
   },
   "outputs": [],
   "source": [
    "df_sent['reviews_cleaned'] = df_sent['reviews_cleaned'].apply(clean_stopwords)"
   ]
  },
  {
   "cell_type": "code",
   "execution_count": 55,
   "metadata": {
    "colab": {
     "base_uri": "https://localhost:8080/",
     "height": 295
    },
    "id": "fm6c1hnD5GFB",
    "outputId": "072bc50e-8518-4fb7-af02-bf4f1995d9e4"
   },
   "outputs": [
    {
     "data": {
      "text/html": [
       "<div>\n",
       "<style scoped>\n",
       "    .dataframe tbody tr th:only-of-type {\n",
       "        vertical-align: middle;\n",
       "    }\n",
       "\n",
       "    .dataframe tbody tr th {\n",
       "        vertical-align: top;\n",
       "    }\n",
       "\n",
       "    .dataframe thead th {\n",
       "        text-align: right;\n",
       "    }\n",
       "</style>\n",
       "<table border=\"1\" class=\"dataframe\">\n",
       "  <thead>\n",
       "    <tr style=\"text-align: right;\">\n",
       "      <th></th>\n",
       "      <th>id</th>\n",
       "      <th>name</th>\n",
       "      <th>reviews_combined</th>\n",
       "      <th>user_sentiment</th>\n",
       "      <th>reviews_cleaned</th>\n",
       "    </tr>\n",
       "  </thead>\n",
       "  <tbody>\n",
       "    <tr>\n",
       "      <th>0</th>\n",
       "      <td>AV13O1A8GV-KLJ3akUyj</td>\n",
       "      <td>Pink Friday: Roman Reloaded Re-Up (w/dvd)</td>\n",
       "      <td>i love this album. it's very good. more to the...</td>\n",
       "      <td>Positive</td>\n",
       "      <td>i love this album its very good more to the hi...</td>\n",
       "    </tr>\n",
       "    <tr>\n",
       "      <th>1</th>\n",
       "      <td>AV14LG0R-jtxr-f38QfS</td>\n",
       "      <td>Lundberg Organic Cinnamon Toast Rice Cakes</td>\n",
       "      <td>Good flavor. This review was collected as part...</td>\n",
       "      <td>Positive</td>\n",
       "      <td>good flavor this review was collected as part ...</td>\n",
       "    </tr>\n",
       "  </tbody>\n",
       "</table>\n",
       "</div>"
      ],
      "text/plain": [
       "                     id                                        name  \\\n",
       "0  AV13O1A8GV-KLJ3akUyj   Pink Friday: Roman Reloaded Re-Up (w/dvd)   \n",
       "1  AV14LG0R-jtxr-f38QfS  Lundberg Organic Cinnamon Toast Rice Cakes   \n",
       "\n",
       "                                    reviews_combined user_sentiment  \\\n",
       "0  i love this album. it's very good. more to the...       Positive   \n",
       "1  Good flavor. This review was collected as part...       Positive   \n",
       "\n",
       "                                     reviews_cleaned  \n",
       "0  i love this album its very good more to the hi...  \n",
       "1  good flavor this review was collected as part ...  "
      ]
     },
     "execution_count": 55,
     "metadata": {},
     "output_type": "execute_result"
    }
   ],
   "source": [
    "df_sent.head(2)"
   ]
  },
  {
   "cell_type": "markdown",
   "metadata": {
    "id": "H8LZFa4B5JMP"
   },
   "source": [
    "## **Handling lemmatization**"
   ]
  },
  {
   "cell_type": "code",
   "execution_count": 56,
   "metadata": {
    "id": "eSM7Cmcl5RGW"
   },
   "outputs": [],
   "source": [
    "#Function to lemmatize the text\n",
    "def clean_lemma(text):\n",
    "    sent = []\n",
    "    doc = nlp(text)\n",
    "    for token in doc:\n",
    "        sent.append(token.lemma_)\n",
    "    return \" \".join(sent)"
   ]
  },
  {
   "cell_type": "code",
   "execution_count": 57,
   "metadata": {
    "id": "mfK5L0vd5TxI"
   },
   "outputs": [],
   "source": [
    "df_sent['reviews_lemmatized'] = df_sent['reviews_cleaned'].apply(clean_lemma)"
   ]
  },
  {
   "cell_type": "code",
   "execution_count": 58,
   "metadata": {
    "colab": {
     "base_uri": "https://localhost:8080/",
     "height": 347
    },
    "id": "P32FTxi15Xmn",
    "outputId": "7e151cd5-6ccb-4dcc-baaf-44f090caa8ca"
   },
   "outputs": [
    {
     "data": {
      "text/html": [
       "<div>\n",
       "<style scoped>\n",
       "    .dataframe tbody tr th:only-of-type {\n",
       "        vertical-align: middle;\n",
       "    }\n",
       "\n",
       "    .dataframe tbody tr th {\n",
       "        vertical-align: top;\n",
       "    }\n",
       "\n",
       "    .dataframe thead th {\n",
       "        text-align: right;\n",
       "    }\n",
       "</style>\n",
       "<table border=\"1\" class=\"dataframe\">\n",
       "  <thead>\n",
       "    <tr style=\"text-align: right;\">\n",
       "      <th></th>\n",
       "      <th>id</th>\n",
       "      <th>name</th>\n",
       "      <th>reviews_combined</th>\n",
       "      <th>user_sentiment</th>\n",
       "      <th>reviews_cleaned</th>\n",
       "      <th>reviews_lemmatized</th>\n",
       "    </tr>\n",
       "  </thead>\n",
       "  <tbody>\n",
       "    <tr>\n",
       "      <th>0</th>\n",
       "      <td>AV13O1A8GV-KLJ3akUyj</td>\n",
       "      <td>Pink Friday: Roman Reloaded Re-Up (w/dvd)</td>\n",
       "      <td>i love this album. it's very good. more to the...</td>\n",
       "      <td>Positive</td>\n",
       "      <td>i love this album its very good more to the hi...</td>\n",
       "      <td>I love this album its very good more to the hi...</td>\n",
       "    </tr>\n",
       "    <tr>\n",
       "      <th>1</th>\n",
       "      <td>AV14LG0R-jtxr-f38QfS</td>\n",
       "      <td>Lundberg Organic Cinnamon Toast Rice Cakes</td>\n",
       "      <td>Good flavor. This review was collected as part...</td>\n",
       "      <td>Positive</td>\n",
       "      <td>good flavor this review was collected as part ...</td>\n",
       "      <td>good flavor this review be collect as part of ...</td>\n",
       "    </tr>\n",
       "  </tbody>\n",
       "</table>\n",
       "</div>"
      ],
      "text/plain": [
       "                     id                                        name  \\\n",
       "0  AV13O1A8GV-KLJ3akUyj   Pink Friday: Roman Reloaded Re-Up (w/dvd)   \n",
       "1  AV14LG0R-jtxr-f38QfS  Lundberg Organic Cinnamon Toast Rice Cakes   \n",
       "\n",
       "                                    reviews_combined user_sentiment  \\\n",
       "0  i love this album. it's very good. more to the...       Positive   \n",
       "1  Good flavor. This review was collected as part...       Positive   \n",
       "\n",
       "                                     reviews_cleaned  \\\n",
       "0  i love this album its very good more to the hi...   \n",
       "1  good flavor this review was collected as part ...   \n",
       "\n",
       "                                  reviews_lemmatized  \n",
       "0  I love this album its very good more to the hi...  \n",
       "1  good flavor this review be collect as part of ...  "
      ]
     },
     "execution_count": 58,
     "metadata": {},
     "output_type": "execute_result"
    }
   ],
   "source": [
    "df_sent.head(2)"
   ]
  },
  {
   "cell_type": "code",
   "execution_count": 59,
   "metadata": {
    "id": "cckB_2975cNH"
   },
   "outputs": [],
   "source": [
    "df_sent = df_sent[['id','name','reviews_lemmatized', 'user_sentiment']]"
   ]
  },
  {
   "cell_type": "code",
   "execution_count": 60,
   "metadata": {
    "colab": {
     "base_uri": "https://localhost:8080/",
     "height": 226
    },
    "id": "DAzGFX1Y5fUE",
    "outputId": "ed2c77c8-2eaf-41f7-e240-89ec7fd2a6e9"
   },
   "outputs": [
    {
     "data": {
      "text/html": [
       "<div>\n",
       "<style scoped>\n",
       "    .dataframe tbody tr th:only-of-type {\n",
       "        vertical-align: middle;\n",
       "    }\n",
       "\n",
       "    .dataframe tbody tr th {\n",
       "        vertical-align: top;\n",
       "    }\n",
       "\n",
       "    .dataframe thead th {\n",
       "        text-align: right;\n",
       "    }\n",
       "</style>\n",
       "<table border=\"1\" class=\"dataframe\">\n",
       "  <thead>\n",
       "    <tr style=\"text-align: right;\">\n",
       "      <th></th>\n",
       "      <th>id</th>\n",
       "      <th>name</th>\n",
       "      <th>reviews_lemmatized</th>\n",
       "      <th>user_sentiment</th>\n",
       "    </tr>\n",
       "  </thead>\n",
       "  <tbody>\n",
       "    <tr>\n",
       "      <th>0</th>\n",
       "      <td>AV13O1A8GV-KLJ3akUyj</td>\n",
       "      <td>Pink Friday: Roman Reloaded Re-Up (w/dvd)</td>\n",
       "      <td>I love this album its very good more to the hi...</td>\n",
       "      <td>Positive</td>\n",
       "    </tr>\n",
       "    <tr>\n",
       "      <th>1</th>\n",
       "      <td>AV14LG0R-jtxr-f38QfS</td>\n",
       "      <td>Lundberg Organic Cinnamon Toast Rice Cakes</td>\n",
       "      <td>good flavor this review be collect as part of ...</td>\n",
       "      <td>Positive</td>\n",
       "    </tr>\n",
       "  </tbody>\n",
       "</table>\n",
       "</div>"
      ],
      "text/plain": [
       "                     id                                        name  \\\n",
       "0  AV13O1A8GV-KLJ3akUyj   Pink Friday: Roman Reloaded Re-Up (w/dvd)   \n",
       "1  AV14LG0R-jtxr-f38QfS  Lundberg Organic Cinnamon Toast Rice Cakes   \n",
       "\n",
       "                                  reviews_lemmatized user_sentiment  \n",
       "0  I love this album its very good more to the hi...       Positive  \n",
       "1  good flavor this review be collect as part of ...       Positive  "
      ]
     },
     "execution_count": 60,
     "metadata": {},
     "output_type": "execute_result"
    }
   ],
   "source": [
    "df_sent.head(2)"
   ]
  },
  {
   "cell_type": "code",
   "execution_count": 61,
   "metadata": {
    "colab": {
     "base_uri": "https://localhost:8080/"
    },
    "id": "0MV_A42C5jyf",
    "outputId": "8c0478e3-2050-4614-c222-49d98e413e12"
   },
   "outputs": [
    {
     "data": {
      "text/plain": [
       "(29810, 4)"
      ]
     },
     "execution_count": 61,
     "metadata": {},
     "output_type": "execute_result"
    }
   ],
   "source": [
    "df_sent.shape"
   ]
  },
  {
   "cell_type": "code",
   "execution_count": 62,
   "metadata": {
    "id": "20UpFKta6BFO"
   },
   "outputs": [],
   "source": [
    "# spell = SpellChecker()"
   ]
  },
  {
   "cell_type": "code",
   "execution_count": 63,
   "metadata": {
    "id": "3hxlOL0q6Gw1"
   },
   "outputs": [],
   "source": [
    "# def correct_spelling(text):\n",
    "#   spell_correctedlist = []\n",
    "#   words = word_tokenize(text) # Split sentences into words\n",
    "#   misspelled_words = spell.unknown(words)\n",
    "#   for each_word in words:\n",
    "#     # Ignore words which are greater than 13 characters\n",
    "#     if len(each_word) > 13:\n",
    "#       continue\n",
    "#     elif each_word in misspelled_words :\n",
    "#       # Spell correction \n",
    "#       corrected_word = spell.correction(each_word)\n",
    "#       spell_correctedlist.append(corrected_word)\n",
    "#     else:\n",
    "#       # If word is not part of misspelled words, then no alteration is required\n",
    "#       spell_correctedlist.append(each_word)\n",
    "#   return \" \".join(spell_correctedlist)"
   ]
  },
  {
   "cell_type": "code",
   "execution_count": 64,
   "metadata": {
    "id": "254ZJJJp6Jw4"
   },
   "outputs": [],
   "source": [
    "# df_sent['reviews_corrected'] = df_sent['reviews_lemmatized'].apply(correct_spelling)"
   ]
  },
  {
   "cell_type": "markdown",
   "metadata": {
    "id": "qM1z5LMu6M8l"
   },
   "source": [
    "* The spell correction functionality ran for a very long time and did not produce results.\n",
    "* Even when optimized to correct words less than 13 characters, it is still taking longer.\n",
    "* For the purpose of this specific assignment, we will ignore the spell correction exercise."
   ]
  },
  {
   "cell_type": "code",
   "execution_count": 65,
   "metadata": {
    "id": "PFfG4vjA6UlT"
   },
   "outputs": [],
   "source": [
    "# Visualizing 'reviews_lemmatized' character length\n",
    "character_length = [len(each_sent) for each_sent in df_sent['reviews_lemmatized']]"
   ]
  },
  {
   "cell_type": "code",
   "execution_count": 66,
   "metadata": {
    "colab": {
     "base_uri": "https://localhost:8080/",
     "height": 399
    },
    "id": "QZxXueNm6XkM",
    "outputId": "e1f783be-1a34-4337-90db-6aab5f8f3ffa"
   },
   "outputs": [
    {
     "data": {
      "image/png": "[encoded data removed]",
      "text/plain": [
       "<Figure size 360x360 with 1 Axes>"
      ]
     },
     "metadata": {
      "needs_background": "light"
     },
     "output_type": "display_data"
    }
   ],
   "source": [
    "sns.displot(character_length, kind='hist', bins=60)\n",
    "plt.xlabel(\"Reviews character length\")\n",
    "plt.ylabel(\"Total number of Reviews\")\n",
    "plt.title(\"Distribution of Reviews character length\")\n",
    "plt.show()"
   ]
  },
  {
   "cell_type": "code",
   "execution_count": 67,
   "metadata": {
    "colab": {
     "base_uri": "https://localhost:8080/",
     "height": 310
    },
    "id": "vvRWN3Cv6bh2",
    "outputId": "c1befad0-ef8c-4ec8-93e0-d286547a1fad"
   },
   "outputs": [
    {
     "data": {
      "image/png": "[encoded data removed]",
      "text/plain": [
       "<Figure size 720x720 with 1 Axes>"
      ]
     },
     "metadata": {
      "needs_background": "light"
     },
     "output_type": "display_data"
    }
   ],
   "source": [
    "#Using a word cloud visualize the top 30 words in review by frequency\n",
    "stopwords_wordcloud = set(STOPWORDS)\n",
    "wordcloud = WordCloud(max_font_size=60, max_words=30, \n",
    "                      background_color=\"white\", random_state=42, \n",
    "                      stopwords=stopwords_wordcloud).generate(str(df_sent['reviews_lemmatized']))\n",
    "plt.figure(figsize=[10,10])\n",
    "plt.imshow(wordcloud, interpolation=\"bilinear\")\n",
    "plt.axis(\"off\")\n",
    "plt.show()"
   ]
  },
  {
   "cell_type": "markdown",
   "metadata": {
    "id": "kP3cAEMO6e5M"
   },
   "source": [
    "# **Feature Extraction**\n",
    "\n",
    "In this part, we will be performing\n",
    "\n",
    "1. Feature Extraction using TF-IDF\n",
    "2. Check for and handle Class imbalance\n",
    "3. Perform train, test split\n",
    "\n",
    "## **TF-IDF Feature Extraction**\n",
    "**Feature Extraction using TF-IDF** Convert the raw texts to a matrix of TF-IDF features\n",
    "\n",
    "**max_df** is used for removing terms that appear too frequently, also known as \"corpus-specific stop words\" max_df = 0.95 means \"ignore terms that appear in more than 95% of the complaints\"\n",
    "\n",
    "**min_df** is used for removing terms that appear too infrequently min_df = 5 means \"ignore terms that appear in less than 5 complaints\""
   ]
  },
  {
   "cell_type": "code",
   "execution_count": 68,
   "metadata": {
    "id": "DgePhLVX69Ab"
   },
   "outputs": [],
   "source": [
    "# Initialize the TfidfVectorizer \n",
    "tfidf = TfidfVectorizer(min_df=5, max_df=0.95, stop_words='english', ngram_range=(1,2))"
   ]
  },
  {
   "cell_type": "code",
   "execution_count": 69,
   "metadata": {
    "id": "h5zswqFe6-7m"
   },
   "outputs": [],
   "source": [
    "X = tfidf.fit_transform(df_sent['reviews_lemmatized'])\n",
    "\n",
    "y= df_sent['user_sentiment']"
   ]
  },
  {
   "cell_type": "code",
   "execution_count": 230,
   "metadata": {},
   "outputs": [],
   "source": [
    "data = df_sent[['reviews_lemmatized', 'user_sentiment']]\n",
    "data['reviews_rating'] = df['reviews_rating']\n",
    "# Saving into a pickle\n",
    "pickle.dump(data, open('pickle/data.pkl', 'wb'))"
   ]
  },
  {
   "cell_type": "code",
   "execution_count": 71,
   "metadata": {},
   "outputs": [],
   "source": [
    "# Saving the vocabulary used in tfidf vectorizer as features\n",
    "pickle.dump(tfidf.vocabulary_, open(\"pickle/features.pkl\",\"wb\"))"
   ]
  },
  {
   "cell_type": "markdown",
   "metadata": {
    "id": "P0rdUBPF7CRH"
   },
   "source": [
    "## **Train, test split**"
   ]
  },
  {
   "cell_type": "code",
   "execution_count": 72,
   "metadata": {
    "id": "zql6xAiw7FfT"
   },
   "outputs": [],
   "source": [
    "X_train, X_test, y_train, y_test = train_test_split(X, y, random_state=42, test_size=0.25)"
   ]
  },
  {
   "cell_type": "code",
   "execution_count": 73,
   "metadata": {
    "colab": {
     "base_uri": "https://localhost:8080/"
    },
    "id": "OZi_0yOP7IOZ",
    "outputId": "415802d3-4f48-4058-b249-744b292117b3"
   },
   "outputs": [
    {
     "name": "stdout",
     "output_type": "stream",
     "text": [
      "Train shapes: (22357, 16141) (22357,)\n",
      "Test shapes: (7453, 16141) (7453,)\n"
     ]
    }
   ],
   "source": [
    "print(\"Train shapes:\", X_train.shape, y_train.shape)\n",
    "print(\"Test shapes:\", X_test.shape, y_test.shape)"
   ]
  },
  {
   "cell_type": "markdown",
   "metadata": {
    "id": "5DGMBDHv7LDG"
   },
   "source": [
    "## **Class Imbalance**"
   ]
  },
  {
   "cell_type": "code",
   "execution_count": 74,
   "metadata": {
    "colab": {
     "base_uri": "https://localhost:8080/"
    },
    "id": "rISvmhE87PIV",
    "outputId": "6fb68af2-87af-4691-a43d-5b010f6e80b8"
   },
   "outputs": [
    {
     "data": {
      "text/plain": [
       "Positive    0.887789\n",
       "Negative    0.112211\n",
       "Name: user_sentiment, dtype: float64"
      ]
     },
     "execution_count": 74,
     "metadata": {},
     "output_type": "execute_result"
    }
   ],
   "source": [
    "# Check the data to see if there is a class imbalance in the data\n",
    "df_sent['user_sentiment'].value_counts(normalize=True)"
   ]
  },
  {
   "cell_type": "code",
   "execution_count": 75,
   "metadata": {
    "colab": {
     "base_uri": "https://localhost:8080/",
     "height": 226
    },
    "id": "fNluQ7gS7SrY",
    "outputId": "5681c551-4ec5-4e50-c853-ce7b61f12324"
   },
   "outputs": [
    {
     "data": {
      "text/html": [
       "<div>\n",
       "<style scoped>\n",
       "    .dataframe tbody tr th:only-of-type {\n",
       "        vertical-align: middle;\n",
       "    }\n",
       "\n",
       "    .dataframe tbody tr th {\n",
       "        vertical-align: top;\n",
       "    }\n",
       "\n",
       "    .dataframe thead th {\n",
       "        text-align: right;\n",
       "    }\n",
       "</style>\n",
       "<table border=\"1\" class=\"dataframe\">\n",
       "  <thead>\n",
       "    <tr style=\"text-align: right;\">\n",
       "      <th></th>\n",
       "      <th>id</th>\n",
       "      <th>name</th>\n",
       "      <th>reviews_lemmatized</th>\n",
       "      <th>user_sentiment</th>\n",
       "    </tr>\n",
       "  </thead>\n",
       "  <tbody>\n",
       "    <tr>\n",
       "      <th>0</th>\n",
       "      <td>AV13O1A8GV-KLJ3akUyj</td>\n",
       "      <td>Pink Friday: Roman Reloaded Re-Up (w/dvd)</td>\n",
       "      <td>I love this album its very good more to the hi...</td>\n",
       "      <td>Positive</td>\n",
       "    </tr>\n",
       "    <tr>\n",
       "      <th>1</th>\n",
       "      <td>AV14LG0R-jtxr-f38QfS</td>\n",
       "      <td>Lundberg Organic Cinnamon Toast Rice Cakes</td>\n",
       "      <td>good flavor this review be collect as part of ...</td>\n",
       "      <td>Positive</td>\n",
       "    </tr>\n",
       "  </tbody>\n",
       "</table>\n",
       "</div>"
      ],
      "text/plain": [
       "                     id                                        name  \\\n",
       "0  AV13O1A8GV-KLJ3akUyj   Pink Friday: Roman Reloaded Re-Up (w/dvd)   \n",
       "1  AV14LG0R-jtxr-f38QfS  Lundberg Organic Cinnamon Toast Rice Cakes   \n",
       "\n",
       "                                  reviews_lemmatized user_sentiment  \n",
       "0  I love this album its very good more to the hi...       Positive  \n",
       "1  good flavor this review be collect as part of ...       Positive  "
      ]
     },
     "execution_count": 75,
     "metadata": {},
     "output_type": "execute_result"
    }
   ],
   "source": [
    "df_sent.head(2)"
   ]
  },
  {
   "cell_type": "markdown",
   "metadata": {
    "id": "1ZBUeMR07W4n"
   },
   "source": [
    "**From the results above, we can concluded that there is a heavy class imbalance prevalent in the data.**\n",
    "\n",
    "Positive sentiments make up 89% of the data and Negative sentiments make up only 11%\n",
    "\n",
    "* We are going to handle the imbalance using a technique called SMOTE (Synthetic Minority Oversampling Technique)\n",
    "* This is an oversampling method that generates synthetic samples for the minority class"
   ]
  },
  {
   "cell_type": "code",
   "execution_count": 76,
   "metadata": {
    "colab": {
     "base_uri": "https://localhost:8080/"
    },
    "id": "QwPnzIGS7ejE",
    "outputId": "1b4653ba-aece-4812-f220-14c3716cb94c"
   },
   "outputs": [
    {
     "name": "stdout",
     "output_type": "stream",
     "text": [
      "Before handling imbalance Counter({'Positive': 19871, 'Negative': 2486})\n",
      "After handling imbalance Counter({'Positive': 19871, 'Negative': 19871})\n"
     ]
    }
   ],
   "source": [
    "counter = Counter(y_train)\n",
    "print(\"Before handling imbalance\", counter)\n",
    "\n",
    "#oversampling using SMOTE\n",
    "smote = SMOTE(random_state=42)\n",
    "X_train_sm, y_train_sm = smote.fit_resample(X_train,y_train)\n",
    "\n",
    "counter = Counter(y_train_sm)\n",
    "print(\"After handling imbalance\", counter)"
   ]
  },
  {
   "cell_type": "markdown",
   "metadata": {
    "id": "INTmgwfQ7h4w"
   },
   "source": [
    "Looking at the record count we can see that both Positive and Negative sentiments now have equal number of rows.\n",
    "\n",
    "# **Model Building**\n",
    "\n",
    "We will be creating the following three ML models based on performance for predicting the sentiments based on the text and title of the reviews:\n",
    "\n",
    "* Logistic Regression\n",
    "* Random Forest\n",
    "* XGBoost"
   ]
  },
  {
   "cell_type": "code",
   "execution_count": 77,
   "metadata": {
    "id": "fgfS7Cu175kU"
   },
   "outputs": [],
   "source": [
    "# Function to display scores\n",
    "def evaluation_scores(classifier, X_test, y_test):\n",
    "\n",
    "  # Calculating Predicted value\n",
    "  y_pred = classifier.predict(X_test)\n",
    "\n",
    "  # Create confusion matrix\n",
    "  conf_m = confusion_matrix(y_test, y_pred)\n",
    "\n",
    "  print(\"Visualizing the Confusion Matrix with a Heatmap\")\n",
    "  print(\"\\n\")\n",
    "  print(\"*\"*50)\n",
    "  # Visualize Confusion Matrix with heatmap\n",
    "  fig, ax = plt.subplots(figsize=(6, 6))\n",
    "  ax = sns.heatmap(confusion_matrix(y_test, y_pred),\n",
    "                  annot=True,\n",
    "                  cbar=False,\n",
    "                  cmap=\"RdYlGn\", fmt = '0.1f')\n",
    "  plt.xlabel(\"Actual label\")\n",
    "  plt.ylabel(\"Predicted label\")\n",
    "  plt.show()\n",
    "  print(\"*\"*50)\n",
    "  print(\"\\n\")\n",
    "\n",
    "  # Calculating the values of True Positives, True Negatives, False Positivies and False Negatives\n",
    "  TP = conf_m[1][1]\n",
    "  TN = conf_m[0][0]\n",
    "  FP = conf_m[0][1]\n",
    "  FN = conf_m[1][0]\n",
    "\n",
    "  print(\"Values of True Positives, True Negatives, False Positivies and False Negatives\")\n",
    "  print(\"~\"*50)\n",
    "  print('True Positives:', TP)\n",
    "  print('True Negatives:', TN)\n",
    "  print('False Positives:', FP)\n",
    "  print('False Negatives:', FN)\n",
    "  print(\"~\"*50)\n",
    "  print(\"\\n\")\n",
    "\n",
    "  # Calculating Accuracy\n",
    "  accuracy = accuracy_score(y_test, y_pred)\n",
    "  accuracy = round(accuracy,2)\n",
    "  \n",
    "  # Calculating Sensitivity/Recall\n",
    "  sensitivity_recall = (TP / float(TP + FN))\n",
    "  sensitivity_recall = round(sensitivity_recall,2)\n",
    "  \n",
    "  # Calculating Specificity\n",
    "  specificity = (TN / float(TN + FP))\n",
    "  specificity = round(specificity,2)  \n",
    "  \n",
    "  # Calculating Precision\n",
    "  precision = (TN / float(TN + FP))\n",
    "  precision = round(precision,2)  \n",
    "  \n",
    "  # Calculating F_1 score\n",
    "  F1_score = 2 * ((precision * sensitivity_recall) / (precision + sensitivity_recall))\n",
    "  F1_score = round(F1_score,2)  \n",
    "  \n",
    "  print(\"Evaluation Score Summary\")\n",
    "  print('-'*50)\n",
    "  print(f'Accuracy Score: {round(accuracy,2)}')\n",
    "  print(f'Sensitivity/Recall Score: {round(sensitivity_recall,2)}') \n",
    "  print(f'Specificity Score: {round(specificity,2)}') \n",
    "  print(f'Precision: {round(precision,2)}')\n",
    "  print(f'F1 Score: {round(F1_score,2)}')\n",
    "  print('-'*50)\n",
    "\n",
    "  # Returning evaluation results for comparison later\n",
    "  evaluation_metrics = []\n",
    "  evaluation_metrics.append(accuracy)\n",
    "  evaluation_metrics.append(sensitivity_recall)\n",
    "  evaluation_metrics.append(specificity)\n",
    "  evaluation_metrics.append(precision)\n",
    "  evaluation_metrics.append(F1_score)\n",
    "  \n",
    "  return evaluation_metrics"
   ]
  },
  {
   "cell_type": "markdown",
   "metadata": {
    "id": "iln1HFkG8C78"
   },
   "source": [
    "## **Logistic Regression**\n",
    "\n",
    "**Base Model**"
   ]
  },
  {
   "cell_type": "code",
   "execution_count": 78,
   "metadata": {
    "id": "bZ7AVvt28MqX"
   },
   "outputs": [],
   "source": [
    "logreg = LogisticRegression(random_state=42, solver='liblinear').fit(X_train_sm, y_train_sm)"
   ]
  },
  {
   "cell_type": "code",
   "execution_count": 79,
   "metadata": {
    "colab": {
     "base_uri": "https://localhost:8080/",
     "height": 805
    },
    "id": "_xmfL1XH8RNO",
    "outputId": "4b043b54-ce06-4ad3-dad0-37e7c82fb4a4"
   },
   "outputs": [
    {
     "name": "stdout",
     "output_type": "stream",
     "text": [
      "Visualizing the Confusion Matrix with a Heatmap\n",
      "\n",
      "\n",
      "**************************************************\n"
     ]
    },
    {
     "data": {
      "image/png": "[encoded data removed]",
      "text/plain": [
       "<Figure size 432x432 with 1 Axes>"
      ]
     },
     "metadata": {
      "needs_background": "light"
     },
     "output_type": "display_data"
    },
    {
     "name": "stdout",
     "output_type": "stream",
     "text": [
      "**************************************************\n",
      "\n",
      "\n",
      "Values of True Positives, True Negatives, False Positivies and False Negatives\n",
      "~~~~~~~~~~~~~~~~~~~~~~~~~~~~~~~~~~~~~~~~~~~~~~~~~~\n",
      "True Positives: 5963\n",
      "True Negatives: 634\n",
      "False Positives: 225\n",
      "False Negatives: 631\n",
      "~~~~~~~~~~~~~~~~~~~~~~~~~~~~~~~~~~~~~~~~~~~~~~~~~~\n",
      "\n",
      "\n",
      "Evaluation Score Summary\n",
      "--------------------------------------------------\n",
      "Accuracy Score: 0.89\n",
      "Sensitivity/Recall Score: 0.9\n",
      "Specificity Score: 0.74\n",
      "Precision: 0.74\n",
      "F1 Score: 0.81\n",
      "--------------------------------------------------\n"
     ]
    }
   ],
   "source": [
    "# Getting the score of the base model\n",
    "lr_metrics = evaluation_scores(logreg, X_test, y_test)"
   ]
  },
  {
   "cell_type": "code",
   "execution_count": 80,
   "metadata": {
    "colab": {
     "base_uri": "https://localhost:8080/",
     "height": 206
    },
    "id": "lLzP3WwP8VHu",
    "outputId": "dcf623c2-47ad-4eab-fac4-ed27cddda702"
   },
   "outputs": [
    {
     "data": {
      "text/html": [
       "<div>\n",
       "<style scoped>\n",
       "    .dataframe tbody tr th:only-of-type {\n",
       "        vertical-align: middle;\n",
       "    }\n",
       "\n",
       "    .dataframe tbody tr th {\n",
       "        vertical-align: top;\n",
       "    }\n",
       "\n",
       "    .dataframe thead th {\n",
       "        text-align: right;\n",
       "    }\n",
       "</style>\n",
       "<table border=\"1\" class=\"dataframe\">\n",
       "  <thead>\n",
       "    <tr style=\"text-align: right;\">\n",
       "      <th></th>\n",
       "      <th>Metrics</th>\n",
       "      <th>Logistic Regression Base Model</th>\n",
       "    </tr>\n",
       "  </thead>\n",
       "  <tbody>\n",
       "    <tr>\n",
       "      <th>0</th>\n",
       "      <td>Accuracy</td>\n",
       "      <td>0.89</td>\n",
       "    </tr>\n",
       "    <tr>\n",
       "      <th>1</th>\n",
       "      <td>Sensitivity/Recall</td>\n",
       "      <td>0.90</td>\n",
       "    </tr>\n",
       "    <tr>\n",
       "      <th>2</th>\n",
       "      <td>Specificity</td>\n",
       "      <td>0.74</td>\n",
       "    </tr>\n",
       "    <tr>\n",
       "      <th>3</th>\n",
       "      <td>Precision</td>\n",
       "      <td>0.74</td>\n",
       "    </tr>\n",
       "    <tr>\n",
       "      <th>4</th>\n",
       "      <td>F1 Score</td>\n",
       "      <td>0.81</td>\n",
       "    </tr>\n",
       "  </tbody>\n",
       "</table>\n",
       "</div>"
      ],
      "text/plain": [
       "              Metrics  Logistic Regression Base Model\n",
       "0            Accuracy                            0.89\n",
       "1  Sensitivity/Recall                            0.90\n",
       "2         Specificity                            0.74\n",
       "3           Precision                            0.74\n",
       "4            F1 Score                            0.81"
      ]
     },
     "execution_count": 80,
     "metadata": {},
     "output_type": "execute_result"
    }
   ],
   "source": [
    "# Printing the scores of the base model as reference\n",
    "df_lrb_metrics = pd.DataFrame({'Metrics': ['Accuracy','Sensitivity/Recall','Specificity','Precision','F1 Score'], 'Logistic Regression Base Model': lr_metrics},\n",
    "                             columns = ['Metrics', 'Logistic Regression Base Model']\n",
    "                             )\n",
    "df_lrb_metrics"
   ]
  },
  {
   "cell_type": "markdown",
   "metadata": {
    "id": "_Hj89DZc8b-C"
   },
   "source": [
    "## **HyperParameter Tuning**"
   ]
  },
  {
   "cell_type": "code",
   "execution_count": 81,
   "metadata": {
    "id": "0wFlbHgJ8YZH"
   },
   "outputs": [],
   "source": [
    "logreg_grid = {\"C\": [100, 10, 5, 4, 3, 2, 1, 1.0, 0.1, 0.01],\n",
    "                \"solver\": [\"liblinear\"]}"
   ]
  },
  {
   "cell_type": "code",
   "execution_count": 82,
   "metadata": {
    "colab": {
     "base_uri": "https://localhost:8080/"
    },
    "id": "wlGKMKD-8lIb",
    "outputId": "a23563f0-c56b-4a2b-b87f-6138ee242aa3"
   },
   "outputs": [
    {
     "name": "stdout",
     "output_type": "stream",
     "text": [
      "Fitting 5 folds for each of 10 candidates, totalling 50 fits\n"
     ]
    }
   ],
   "source": [
    "# Setup grid hyperparameter search for LogisticRegression\n",
    "logreg_hpt = GridSearchCV(LogisticRegression(random_state=42),\n",
    "                                param_grid=logreg_grid,\n",
    "                                cv=5,\n",
    "                                verbose=True,\n",
    "                                n_jobs=-1,\n",
    "                                scoring='f1')\n",
    "\n",
    "# Fit random hyperparameter search model\n",
    "logreg_hpt.fit(X_train_sm, y_train_sm);"
   ]
  },
  {
   "cell_type": "code",
   "execution_count": 83,
   "metadata": {
    "colab": {
     "base_uri": "https://localhost:8080/"
    },
    "id": "9EnITcdT87-D",
    "outputId": "cf8a91bd-9df0-4478-bf4f-9e9d560a3f61"
   },
   "outputs": [
    {
     "data": {
      "text/plain": [
       "{'C': 100, 'solver': 'liblinear'}"
      ]
     },
     "execution_count": 83,
     "metadata": {},
     "output_type": "execute_result"
    }
   ],
   "source": [
    "# Checking the best parameters\n",
    "logreg_hpt.best_params_"
   ]
  },
  {
   "cell_type": "markdown",
   "metadata": {
    "id": "NRThZ1Na9C64"
   },
   "source": [
    "## **HyperParameter Tuned Model**"
   ]
  },
  {
   "cell_type": "code",
   "execution_count": 84,
   "metadata": {
    "colab": {
     "base_uri": "https://localhost:8080/",
     "height": 805
    },
    "id": "10ve15iA9Hrp",
    "outputId": "bdf60118-87c9-43fb-bda7-6990baa89f34"
   },
   "outputs": [
    {
     "name": "stdout",
     "output_type": "stream",
     "text": [
      "Visualizing the Confusion Matrix with a Heatmap\n",
      "\n",
      "\n",
      "**************************************************\n"
     ]
    },
    {
     "data": {
      "image/png": "[encoded data removed]",
      "text/plain": [
       "<Figure size 432x432 with 1 Axes>"
      ]
     },
     "metadata": {
      "needs_background": "light"
     },
     "output_type": "display_data"
    },
    {
     "name": "stdout",
     "output_type": "stream",
     "text": [
      "**************************************************\n",
      "\n",
      "\n",
      "Values of True Positives, True Negatives, False Positivies and False Negatives\n",
      "~~~~~~~~~~~~~~~~~~~~~~~~~~~~~~~~~~~~~~~~~~~~~~~~~~\n",
      "True Positives: 6192\n",
      "True Negatives: 497\n",
      "False Positives: 362\n",
      "False Negatives: 402\n",
      "~~~~~~~~~~~~~~~~~~~~~~~~~~~~~~~~~~~~~~~~~~~~~~~~~~\n",
      "\n",
      "\n",
      "Evaluation Score Summary\n",
      "--------------------------------------------------\n",
      "Accuracy Score: 0.9\n",
      "Sensitivity/Recall Score: 0.94\n",
      "Specificity Score: 0.58\n",
      "Precision: 0.58\n",
      "F1 Score: 0.72\n",
      "--------------------------------------------------\n"
     ]
    }
   ],
   "source": [
    "# Getting the scores of the tuned model\n",
    "lr_tuned_metrics = evaluation_scores(logreg_hpt, X_test, y_test)"
   ]
  },
  {
   "cell_type": "code",
   "execution_count": 85,
   "metadata": {
    "colab": {
     "base_uri": "https://localhost:8080/",
     "height": 206
    },
    "id": "E6eEdlMr9M8E",
    "outputId": "2089ae1d-b8b2-44a1-bfe0-2c6b0f8cdbcc"
   },
   "outputs": [
    {
     "data": {
      "text/html": [
       "<div>\n",
       "<style scoped>\n",
       "    .dataframe tbody tr th:only-of-type {\n",
       "        vertical-align: middle;\n",
       "    }\n",
       "\n",
       "    .dataframe tbody tr th {\n",
       "        vertical-align: top;\n",
       "    }\n",
       "\n",
       "    .dataframe thead th {\n",
       "        text-align: right;\n",
       "    }\n",
       "</style>\n",
       "<table border=\"1\" class=\"dataframe\">\n",
       "  <thead>\n",
       "    <tr style=\"text-align: right;\">\n",
       "      <th></th>\n",
       "      <th>Metrics</th>\n",
       "      <th>LR Base Model</th>\n",
       "      <th>LR Tuned Model</th>\n",
       "    </tr>\n",
       "  </thead>\n",
       "  <tbody>\n",
       "    <tr>\n",
       "      <th>0</th>\n",
       "      <td>Accuracy</td>\n",
       "      <td>0.89</td>\n",
       "      <td>0.90</td>\n",
       "    </tr>\n",
       "    <tr>\n",
       "      <th>1</th>\n",
       "      <td>Sensitivity/Recall</td>\n",
       "      <td>0.90</td>\n",
       "      <td>0.94</td>\n",
       "    </tr>\n",
       "    <tr>\n",
       "      <th>2</th>\n",
       "      <td>Specificity</td>\n",
       "      <td>0.74</td>\n",
       "      <td>0.58</td>\n",
       "    </tr>\n",
       "    <tr>\n",
       "      <th>3</th>\n",
       "      <td>Precision</td>\n",
       "      <td>0.74</td>\n",
       "      <td>0.58</td>\n",
       "    </tr>\n",
       "    <tr>\n",
       "      <th>4</th>\n",
       "      <td>F1 Score</td>\n",
       "      <td>0.81</td>\n",
       "      <td>0.72</td>\n",
       "    </tr>\n",
       "  </tbody>\n",
       "</table>\n",
       "</div>"
      ],
      "text/plain": [
       "              Metrics  LR Base Model  LR Tuned Model\n",
       "0            Accuracy           0.89            0.90\n",
       "1  Sensitivity/Recall           0.90            0.94\n",
       "2         Specificity           0.74            0.58\n",
       "3           Precision           0.74            0.58\n",
       "4            F1 Score           0.81            0.72"
      ]
     },
     "execution_count": 85,
     "metadata": {},
     "output_type": "execute_result"
    }
   ],
   "source": [
    "# Printing the scores of the base and tuned Logistic Regression model for reference\n",
    "dict_lr_bt_metrics = {'Metrics': ['Accuracy','Sensitivity/Recall','Specificity','Precision','F1 Score'], \n",
    "                               'LR Base Model': lr_metrics,\n",
    "                               'LR Tuned Model': lr_tuned_metrics}\n",
    "\n",
    "df_lr_bt_metrics = pd.DataFrame(dict_lr_bt_metrics, columns = ['Metrics', 'LR Base Model', 'LR Tuned Model'])\n",
    "df_lr_bt_metrics"
   ]
  },
  {
   "cell_type": "markdown",
   "metadata": {
    "id": "x6l3E9th9Qam"
   },
   "source": [
    "**Conclusion:**\n",
    "\n",
    "* For Logistic Regression, Base Model is performing better than the tuned model.\n",
    "* We will consider the Base Model for evaluation purpose when we are doing model comparison.\n",
    "\n",
    "\n",
    "## **Random Forest Classifier**"
   ]
  },
  {
   "cell_type": "code",
   "execution_count": 86,
   "metadata": {
    "id": "LCLeRcA59cfw"
   },
   "outputs": [],
   "source": [
    "rf = RandomForestClassifier(random_state=42).fit(X_train_sm, y_train_sm)"
   ]
  },
  {
   "cell_type": "markdown",
   "metadata": {
    "id": "mJ06l4VJ9eam"
   },
   "source": [
    "**Base Model**"
   ]
  },
  {
   "cell_type": "code",
   "execution_count": 87,
   "metadata": {
    "colab": {
     "base_uri": "https://localhost:8080/",
     "height": 805
    },
    "id": "kyTn5gQi9jG7",
    "outputId": "1264b607-7c49-48d5-8fa4-d09f9001c9a4"
   },
   "outputs": [
    {
     "name": "stdout",
     "output_type": "stream",
     "text": [
      "Visualizing the Confusion Matrix with a Heatmap\n",
      "\n",
      "\n",
      "**************************************************\n"
     ]
    },
    {
     "data": {
      "image/png": "[encoded data removed]",
      "text/plain": [
       "<Figure size 432x432 with 1 Axes>"
      ]
     },
     "metadata": {
      "needs_background": "light"
     },
     "output_type": "display_data"
    },
    {
     "name": "stdout",
     "output_type": "stream",
     "text": [
      "**************************************************\n",
      "\n",
      "\n",
      "Values of True Positives, True Negatives, False Positivies and False Negatives\n",
      "~~~~~~~~~~~~~~~~~~~~~~~~~~~~~~~~~~~~~~~~~~~~~~~~~~\n",
      "True Positives: 6361\n",
      "True Negatives: 358\n",
      "False Positives: 501\n",
      "False Negatives: 233\n",
      "~~~~~~~~~~~~~~~~~~~~~~~~~~~~~~~~~~~~~~~~~~~~~~~~~~\n",
      "\n",
      "\n",
      "Evaluation Score Summary\n",
      "--------------------------------------------------\n",
      "Accuracy Score: 0.9\n",
      "Sensitivity/Recall Score: 0.96\n",
      "Specificity Score: 0.42\n",
      "Precision: 0.42\n",
      "F1 Score: 0.58\n",
      "--------------------------------------------------\n"
     ]
    }
   ],
   "source": [
    "# Getting the score of the base model\n",
    "rf_metrics = evaluation_scores(rf, X_test, y_test)"
   ]
  },
  {
   "cell_type": "code",
   "execution_count": 88,
   "metadata": {
    "colab": {
     "base_uri": "https://localhost:8080/",
     "height": 206
    },
    "id": "26qdwhgd940v",
    "outputId": "c3472fe0-1077-4ede-c18f-95149529e01f"
   },
   "outputs": [
    {
     "data": {
      "text/html": [
       "<div>\n",
       "<style scoped>\n",
       "    .dataframe tbody tr th:only-of-type {\n",
       "        vertical-align: middle;\n",
       "    }\n",
       "\n",
       "    .dataframe tbody tr th {\n",
       "        vertical-align: top;\n",
       "    }\n",
       "\n",
       "    .dataframe thead th {\n",
       "        text-align: right;\n",
       "    }\n",
       "</style>\n",
       "<table border=\"1\" class=\"dataframe\">\n",
       "  <thead>\n",
       "    <tr style=\"text-align: right;\">\n",
       "      <th></th>\n",
       "      <th>Metrics</th>\n",
       "      <th>RF Base Model</th>\n",
       "    </tr>\n",
       "  </thead>\n",
       "  <tbody>\n",
       "    <tr>\n",
       "      <th>0</th>\n",
       "      <td>Accuracy</td>\n",
       "      <td>0.90</td>\n",
       "    </tr>\n",
       "    <tr>\n",
       "      <th>1</th>\n",
       "      <td>Sensitivity/Recall</td>\n",
       "      <td>0.96</td>\n",
       "    </tr>\n",
       "    <tr>\n",
       "      <th>2</th>\n",
       "      <td>Specificity</td>\n",
       "      <td>0.42</td>\n",
       "    </tr>\n",
       "    <tr>\n",
       "      <th>3</th>\n",
       "      <td>Precision</td>\n",
       "      <td>0.42</td>\n",
       "    </tr>\n",
       "    <tr>\n",
       "      <th>4</th>\n",
       "      <td>F1 Score</td>\n",
       "      <td>0.58</td>\n",
       "    </tr>\n",
       "  </tbody>\n",
       "</table>\n",
       "</div>"
      ],
      "text/plain": [
       "              Metrics  RF Base Model\n",
       "0            Accuracy           0.90\n",
       "1  Sensitivity/Recall           0.96\n",
       "2         Specificity           0.42\n",
       "3           Precision           0.42\n",
       "4            F1 Score           0.58"
      ]
     },
     "execution_count": 88,
     "metadata": {},
     "output_type": "execute_result"
    }
   ],
   "source": [
    "# Printing the scores of the base model as reference\n",
    "df_rfb_metrics = pd.DataFrame({'Metrics': ['Accuracy','Sensitivity/Recall','Specificity','Precision','F1 Score'], 'RF Base Model': rf_metrics},\n",
    "                             columns = ['Metrics', 'RF Base Model']\n",
    "                             )\n",
    "df_rfb_metrics"
   ]
  },
  {
   "cell_type": "markdown",
   "metadata": {
    "id": "Z2VzDJgd9_Ed"
   },
   "source": [
    "Sensitivity and Accuracy are high but Specificity and Precision are low. Let's perform hyperparameter tuning and see if we can improve the scores.\n",
    "\n",
    "## **HyperParameter Tuning**"
   ]
  },
  {
   "cell_type": "code",
   "execution_count": 89,
   "metadata": {
    "id": "V-F-napN-LCQ"
   },
   "outputs": [],
   "source": [
    "rf_grid = {\"n_estimators\": np.arange(10, 1000, 50),\n",
    "           \"max_depth\": np.arange(10, 50, 5),\n",
    "           \"min_samples_split\": np.arange(15, 500, 15),\n",
    "           \"min_samples_leaf\": np.arange(5, 50, 5)}"
   ]
  },
  {
   "cell_type": "code",
   "execution_count": 90,
   "metadata": {
    "colab": {
     "base_uri": "https://localhost:8080/"
    },
    "id": "LWnJarEM-Oky",
    "outputId": "71e2cefc-41a5-462c-847a-4875ff4c0b87"
   },
   "outputs": [
    {
     "name": "stdout",
     "output_type": "stream",
     "text": [
      "Fitting 5 folds for each of 10 candidates, totalling 50 fits\n"
     ]
    }
   ],
   "source": [
    "# Setup random hyperparameter search for Random Forest Classifier\n",
    "rf_hpt = RandomizedSearchCV(RandomForestClassifier(random_state=42),\n",
    "                                param_distributions=rf_grid,\n",
    "                                cv=5,\n",
    "                                verbose=True,\n",
    "                                n_jobs=-1,\n",
    "                                scoring='f1')\n",
    "\n",
    "# Fit random hyperparameter search model\n",
    "rf_hpt.fit(X_train_sm, y_train_sm);"
   ]
  },
  {
   "cell_type": "code",
   "execution_count": 91,
   "metadata": {
    "colab": {
     "base_uri": "https://localhost:8080/"
    },
    "id": "7bYagvbQ-BZp",
    "outputId": "6df4c599-204b-408c-b9d6-fe92aeabfb0e"
   },
   "outputs": [
    {
     "data": {
      "text/plain": [
       "{'n_estimators': 960,\n",
       " 'min_samples_split': 135,\n",
       " 'min_samples_leaf': 25,\n",
       " 'max_depth': 30}"
      ]
     },
     "execution_count": 91,
     "metadata": {},
     "output_type": "execute_result"
    }
   ],
   "source": [
    "# Check best parameters\n",
    "rf_hpt.best_params_"
   ]
  },
  {
   "cell_type": "code",
   "execution_count": 92,
   "metadata": {
    "colab": {
     "base_uri": "https://localhost:8080/",
     "height": 822
    },
    "id": "T2bvqka5-z5q",
    "outputId": "efb19df5-9912-4225-f5e0-d75dbf85236f"
   },
   "outputs": [
    {
     "name": "stdout",
     "output_type": "stream",
     "text": [
      "Visualizing the Confusion Matrix with a Heatmap\n",
      "\n",
      "\n",
      "**************************************************\n"
     ]
    },
    {
     "data": {
      "image/png": "[encoded data removed]",
      "text/plain": [
       "<Figure size 432x432 with 1 Axes>"
      ]
     },
     "metadata": {
      "needs_background": "light"
     },
     "output_type": "display_data"
    },
    {
     "name": "stdout",
     "output_type": "stream",
     "text": [
      "**************************************************\n",
      "\n",
      "\n",
      "Values of True Positives, True Negatives, False Positivies and False Negatives\n",
      "~~~~~~~~~~~~~~~~~~~~~~~~~~~~~~~~~~~~~~~~~~~~~~~~~~\n",
      "True Positives: 5732\n",
      "True Negatives: 527\n",
      "False Positives: 332\n",
      "False Negatives: 862\n",
      "~~~~~~~~~~~~~~~~~~~~~~~~~~~~~~~~~~~~~~~~~~~~~~~~~~\n",
      "\n",
      "\n",
      "Evaluation Score Summary\n",
      "--------------------------------------------------\n",
      "Accuracy Score: 0.84\n",
      "Sensitivity/Recall Score: 0.87\n",
      "Specificity Score: 0.61\n",
      "Precision: 0.61\n",
      "F1 Score: 0.72\n",
      "--------------------------------------------------\n"
     ]
    },
    {
     "data": {
      "text/plain": [
       "[0.84, 0.87, 0.61, 0.61, 0.72]"
      ]
     },
     "execution_count": 92,
     "metadata": {},
     "output_type": "execute_result"
    }
   ],
   "source": [
    "evaluation_scores(rf_hpt, X_test, y_test)"
   ]
  },
  {
   "cell_type": "markdown",
   "metadata": {
    "id": "iZDKgaIz-3-M"
   },
   "source": [
    "Sensitivity, Precision and F1 Score have improved a little bit with Random Search CV. We will strive to improve this further by doing fine hyperparameter tuning using Grid Search CV."
   ]
  },
  {
   "cell_type": "code",
   "execution_count": 93,
   "metadata": {
    "id": "_4BxRrklAuJB"
   },
   "outputs": [],
   "source": [
    "# Fine tuning using Grid Search CV\n",
    "rf_grid = {\"n_estimators\": [510],\n",
    "           \"max_depth\": [20],\n",
    "           \"min_samples_split\": [350, 400],\n",
    "           \"min_samples_leaf\": [45, 50]}"
   ]
  },
  {
   "cell_type": "code",
   "execution_count": 94,
   "metadata": {
    "colab": {
     "base_uri": "https://localhost:8080/"
    },
    "id": "ioYYQVpKAx5v",
    "outputId": "84d6ea78-4076-4ee9-d6e5-76986a168fca"
   },
   "outputs": [
    {
     "name": "stdout",
     "output_type": "stream",
     "text": [
      "Fitting 5 folds for each of 4 candidates, totalling 20 fits\n"
     ]
    }
   ],
   "source": [
    "# Setup random hyperparameter search for Random Forest Classifier\n",
    "rf_hpt = GridSearchCV(RandomForestClassifier(random_state=42),\n",
    "                                param_grid=rf_grid,\n",
    "                                cv=5,\n",
    "                                verbose=True,\n",
    "                                n_jobs=-1,\n",
    "                                scoring='f1')\n",
    "\n",
    "# Fit random hyperparameter search model\n",
    "rf_hpt.fit(X_train_sm, y_train_sm);"
   ]
  },
  {
   "cell_type": "markdown",
   "metadata": {
    "id": "v1AyJfGPA57f"
   },
   "source": [
    "## **HyperParameter tuned model**"
   ]
  },
  {
   "cell_type": "code",
   "execution_count": 95,
   "metadata": {
    "colab": {
     "base_uri": "https://localhost:8080/",
     "height": 805
    },
    "id": "EVqPgJ1lA_J4",
    "outputId": "63ec4661-7a37-41c9-95a5-79f98bddba4c"
   },
   "outputs": [
    {
     "name": "stdout",
     "output_type": "stream",
     "text": [
      "Visualizing the Confusion Matrix with a Heatmap\n",
      "\n",
      "\n",
      "**************************************************\n"
     ]
    },
    {
     "data": {
      "image/png": "[encoded data removed]",
      "text/plain": [
       "<Figure size 432x432 with 1 Axes>"
      ]
     },
     "metadata": {
      "needs_background": "light"
     },
     "output_type": "display_data"
    },
    {
     "name": "stdout",
     "output_type": "stream",
     "text": [
      "**************************************************\n",
      "\n",
      "\n",
      "Values of True Positives, True Negatives, False Positivies and False Negatives\n",
      "~~~~~~~~~~~~~~~~~~~~~~~~~~~~~~~~~~~~~~~~~~~~~~~~~~\n",
      "True Positives: 5670\n",
      "True Negatives: 492\n",
      "False Positives: 367\n",
      "False Negatives: 924\n",
      "~~~~~~~~~~~~~~~~~~~~~~~~~~~~~~~~~~~~~~~~~~~~~~~~~~\n",
      "\n",
      "\n",
      "Evaluation Score Summary\n",
      "--------------------------------------------------\n",
      "Accuracy Score: 0.83\n",
      "Sensitivity/Recall Score: 0.86\n",
      "Specificity Score: 0.57\n",
      "Precision: 0.57\n",
      "F1 Score: 0.69\n",
      "--------------------------------------------------\n"
     ]
    }
   ],
   "source": [
    "# Getting the scores of the tuned model\n",
    "rf_tuned_metrics = evaluation_scores(rf_hpt, X_test, y_test)"
   ]
  },
  {
   "cell_type": "code",
   "execution_count": 96,
   "metadata": {
    "colab": {
     "base_uri": "https://localhost:8080/",
     "height": 206
    },
    "id": "U-1H0q46BUCQ",
    "outputId": "84083bd0-a597-476a-96dd-de12c9b53715"
   },
   "outputs": [
    {
     "data": {
      "text/html": [
       "<div>\n",
       "<style scoped>\n",
       "    .dataframe tbody tr th:only-of-type {\n",
       "        vertical-align: middle;\n",
       "    }\n",
       "\n",
       "    .dataframe tbody tr th {\n",
       "        vertical-align: top;\n",
       "    }\n",
       "\n",
       "    .dataframe thead th {\n",
       "        text-align: right;\n",
       "    }\n",
       "</style>\n",
       "<table border=\"1\" class=\"dataframe\">\n",
       "  <thead>\n",
       "    <tr style=\"text-align: right;\">\n",
       "      <th></th>\n",
       "      <th>Metrics</th>\n",
       "      <th>RF Base Model</th>\n",
       "      <th>RF Tuned Model</th>\n",
       "    </tr>\n",
       "  </thead>\n",
       "  <tbody>\n",
       "    <tr>\n",
       "      <th>0</th>\n",
       "      <td>Accuracy</td>\n",
       "      <td>0.90</td>\n",
       "      <td>0.83</td>\n",
       "    </tr>\n",
       "    <tr>\n",
       "      <th>1</th>\n",
       "      <td>Sensitivity/Recall</td>\n",
       "      <td>0.96</td>\n",
       "      <td>0.86</td>\n",
       "    </tr>\n",
       "    <tr>\n",
       "      <th>2</th>\n",
       "      <td>Specificity</td>\n",
       "      <td>0.42</td>\n",
       "      <td>0.57</td>\n",
       "    </tr>\n",
       "    <tr>\n",
       "      <th>3</th>\n",
       "      <td>Precision</td>\n",
       "      <td>0.42</td>\n",
       "      <td>0.57</td>\n",
       "    </tr>\n",
       "    <tr>\n",
       "      <th>4</th>\n",
       "      <td>F1 Score</td>\n",
       "      <td>0.58</td>\n",
       "      <td>0.69</td>\n",
       "    </tr>\n",
       "  </tbody>\n",
       "</table>\n",
       "</div>"
      ],
      "text/plain": [
       "              Metrics  RF Base Model  RF Tuned Model\n",
       "0            Accuracy           0.90            0.83\n",
       "1  Sensitivity/Recall           0.96            0.86\n",
       "2         Specificity           0.42            0.57\n",
       "3           Precision           0.42            0.57\n",
       "4            F1 Score           0.58            0.69"
      ]
     },
     "execution_count": 96,
     "metadata": {},
     "output_type": "execute_result"
    }
   ],
   "source": [
    "# Printing the scores of the base and tuned Random Forest model as reference\n",
    "dict_rf_bt_metrics = {'Metrics': ['Accuracy','Sensitivity/Recall','Specificity','Precision','F1 Score'], \n",
    "                               'RF Base Model': rf_metrics,\n",
    "                               'RF Tuned Model': rf_tuned_metrics}\n",
    "\n",
    "df_rf_bt_metrics = pd.DataFrame(dict_rf_bt_metrics, columns = ['Metrics', 'RF Base Model', 'RF Tuned Model'])\n",
    "df_rf_bt_metrics"
   ]
  },
  {
   "cell_type": "markdown",
   "metadata": {
    "id": "sA60q-QSBkjD"
   },
   "source": [
    "**Conclusion:**\n",
    "\n",
    "For Random Forest, Tuned Model is performing better than the base model as F1 Score is better. We will consider the Tuned Model for evaluation purpose when we are doing model comparison.\n",
    "\n",
    "\n",
    "## **XGBoost Classifier**"
   ]
  },
  {
   "cell_type": "code",
   "execution_count": 97,
   "metadata": {
    "id": "TzIx9fjMB4LM"
   },
   "outputs": [
    {
     "name": "stdout",
     "output_type": "stream",
     "text": [
      "[21:49:38] WARNING: C:\\Windows\\Temp\\abs_557yfx631l\\croots\\recipe\\xgboost-split_1659548953302\\work\\src\\learner.cc:1115: Starting in XGBoost 1.3.0, the default evaluation metric used with the objective 'binary:logistic' was changed from 'error' to 'logloss'. Explicitly set eval_metric if you'd like to restore the old behavior.\n"
     ]
    }
   ],
   "source": [
    "xg = xgb.XGBClassifier(random_state=42).fit(X_train_sm, y_train_sm)"
   ]
  },
  {
   "cell_type": "markdown",
   "metadata": {
    "id": "0fniB4i2B7mK"
   },
   "source": [
    "**Base Model**"
   ]
  },
  {
   "cell_type": "code",
   "execution_count": 98,
   "metadata": {
    "colab": {
     "base_uri": "https://localhost:8080/",
     "height": 805
    },
    "id": "d59WHoLbB-54",
    "outputId": "03661b98-727a-4e86-a543-50fbc09c44c3"
   },
   "outputs": [
    {
     "name": "stdout",
     "output_type": "stream",
     "text": [
      "Visualizing the Confusion Matrix with a Heatmap\n",
      "\n",
      "\n",
      "**************************************************\n"
     ]
    },
    {
     "data": {
      "image/png": "[encoded data removed]",
      "text/plain": [
       "<Figure size 432x432 with 1 Axes>"
      ]
     },
     "metadata": {
      "needs_background": "light"
     },
     "output_type": "display_data"
    },
    {
     "name": "stdout",
     "output_type": "stream",
     "text": [
      "**************************************************\n",
      "\n",
      "\n",
      "Values of True Positives, True Negatives, False Positivies and False Negatives\n",
      "~~~~~~~~~~~~~~~~~~~~~~~~~~~~~~~~~~~~~~~~~~~~~~~~~~\n",
      "True Positives: 6103\n",
      "True Negatives: 520\n",
      "False Positives: 339\n",
      "False Negatives: 491\n",
      "~~~~~~~~~~~~~~~~~~~~~~~~~~~~~~~~~~~~~~~~~~~~~~~~~~\n",
      "\n",
      "\n",
      "Evaluation Score Summary\n",
      "--------------------------------------------------\n",
      "Accuracy Score: 0.89\n",
      "Sensitivity/Recall Score: 0.93\n",
      "Specificity Score: 0.61\n",
      "Precision: 0.61\n",
      "F1 Score: 0.74\n",
      "--------------------------------------------------\n"
     ]
    }
   ],
   "source": [
    "# Getting the score of the base model\n",
    "xg_metrics = evaluation_scores(xg, X_test, y_test)"
   ]
  },
  {
   "cell_type": "code",
   "execution_count": 99,
   "metadata": {
    "colab": {
     "base_uri": "https://localhost:8080/",
     "height": 206
    },
    "id": "PeUddOnjCDT5",
    "outputId": "83c144a7-8955-4a29-b5e6-1e793605688b"
   },
   "outputs": [
    {
     "data": {
      "text/html": [
       "<div>\n",
       "<style scoped>\n",
       "    .dataframe tbody tr th:only-of-type {\n",
       "        vertical-align: middle;\n",
       "    }\n",
       "\n",
       "    .dataframe tbody tr th {\n",
       "        vertical-align: top;\n",
       "    }\n",
       "\n",
       "    .dataframe thead th {\n",
       "        text-align: right;\n",
       "    }\n",
       "</style>\n",
       "<table border=\"1\" class=\"dataframe\">\n",
       "  <thead>\n",
       "    <tr style=\"text-align: right;\">\n",
       "      <th></th>\n",
       "      <th>Metrics</th>\n",
       "      <th>XG Base Model</th>\n",
       "    </tr>\n",
       "  </thead>\n",
       "  <tbody>\n",
       "    <tr>\n",
       "      <th>0</th>\n",
       "      <td>Accuracy</td>\n",
       "      <td>0.89</td>\n",
       "    </tr>\n",
       "    <tr>\n",
       "      <th>1</th>\n",
       "      <td>Sensitivity/Recall</td>\n",
       "      <td>0.93</td>\n",
       "    </tr>\n",
       "    <tr>\n",
       "      <th>2</th>\n",
       "      <td>Specificity</td>\n",
       "      <td>0.61</td>\n",
       "    </tr>\n",
       "    <tr>\n",
       "      <th>3</th>\n",
       "      <td>Precision</td>\n",
       "      <td>0.61</td>\n",
       "    </tr>\n",
       "    <tr>\n",
       "      <th>4</th>\n",
       "      <td>F1 Score</td>\n",
       "      <td>0.74</td>\n",
       "    </tr>\n",
       "  </tbody>\n",
       "</table>\n",
       "</div>"
      ],
      "text/plain": [
       "              Metrics  XG Base Model\n",
       "0            Accuracy           0.89\n",
       "1  Sensitivity/Recall           0.93\n",
       "2         Specificity           0.61\n",
       "3           Precision           0.61\n",
       "4            F1 Score           0.74"
      ]
     },
     "execution_count": 99,
     "metadata": {},
     "output_type": "execute_result"
    }
   ],
   "source": [
    "# Printing the scores of the base model as reference\n",
    "df_xgb_metrics = pd.DataFrame({'Metrics': ['Accuracy','Sensitivity/Recall','Specificity','Precision','F1 Score'], 'XG Base Model': xg_metrics},\n",
    "                             columns = ['Metrics', 'XG Base Model']\n",
    "                             )\n",
    "df_xgb_metrics\n",
    "\n",
    "Code\n"
   ]
  },
  {
   "cell_type": "markdown",
   "metadata": {
    "id": "ftzsRBEgCGYi"
   },
   "source": [
    "## **HyperParameter Tuning**"
   ]
  },
  {
   "cell_type": "code",
   "execution_count": 100,
   "metadata": {
    "id": "BB_R4F0ACLfl"
   },
   "outputs": [],
   "source": [
    "xg_grid = {\"learning_rate\": np.arange(0.05, 1, 0.1),\n",
    "           \"max_depth\": np.arange(5, 20, 5)\n",
    "           }"
   ]
  },
  {
   "cell_type": "code",
   "execution_count": 101,
   "metadata": {
    "colab": {
     "base_uri": "https://localhost:8080/"
    },
    "id": "NLEbKkJ_CO00",
    "outputId": "8f724b9f-8d9c-4c07-9f64-85d418bb0ad6"
   },
   "outputs": [
    {
     "name": "stdout",
     "output_type": "stream",
     "text": [
      "Fitting 4 folds for each of 10 candidates, totalling 40 fits\n",
      "[21:53:13] WARNING: C:\\Windows\\Temp\\abs_557yfx631l\\croots\\recipe\\xgboost-split_1659548953302\\work\\src\\learner.cc:1115: Starting in XGBoost 1.3.0, the default evaluation metric used with the objective 'binary:logistic' was changed from 'error' to 'logloss'. Explicitly set eval_metric if you'd like to restore the old behavior.\n"
     ]
    }
   ],
   "source": [
    "# Setup random hyperparameter search for Random Forest Classifier\n",
    "xg_hpt = RandomizedSearchCV(XGBClassifier(random_state=42),\n",
    "                                param_distributions=xg_grid,\n",
    "                                cv=4,\n",
    "                                verbose=True,\n",
    "                                n_jobs=-1,\n",
    "                                scoring='f1')\n",
    "\n",
    "# Fit random hyperparameter search model\n",
    "xg_hpt.fit(X_train_sm, y_train_sm);"
   ]
  },
  {
   "cell_type": "code",
   "execution_count": 102,
   "metadata": {
    "colab": {
     "base_uri": "https://localhost:8080/"
    },
    "id": "6drolNB-CaCD",
    "outputId": "5e2e2512-bf53-4c10-b67c-03452ec89871"
   },
   "outputs": [
    {
     "data": {
      "text/plain": [
       "{'max_depth': 10, 'learning_rate': 0.6500000000000001}"
      ]
     },
     "execution_count": 102,
     "metadata": {},
     "output_type": "execute_result"
    }
   ],
   "source": [
    "# Check best parameters\n",
    "xg_hpt.best_params_"
   ]
  },
  {
   "cell_type": "code",
   "execution_count": 103,
   "metadata": {
    "colab": {
     "base_uri": "https://localhost:8080/",
     "height": 822
    },
    "id": "kjvGhFr0CalG",
    "outputId": "b919cf3f-1e28-49d6-ec06-278e63120e29"
   },
   "outputs": [
    {
     "name": "stdout",
     "output_type": "stream",
     "text": [
      "Visualizing the Confusion Matrix with a Heatmap\n",
      "\n",
      "\n",
      "**************************************************\n"
     ]
    },
    {
     "data": {
      "image/png": "[encoded data removed]",
      "text/plain": [
       "<Figure size 432x432 with 1 Axes>"
      ]
     },
     "metadata": {
      "needs_background": "light"
     },
     "output_type": "display_data"
    },
    {
     "name": "stdout",
     "output_type": "stream",
     "text": [
      "**************************************************\n",
      "\n",
      "\n",
      "Values of True Positives, True Negatives, False Positivies and False Negatives\n",
      "~~~~~~~~~~~~~~~~~~~~~~~~~~~~~~~~~~~~~~~~~~~~~~~~~~\n",
      "True Positives: 6257\n",
      "True Negatives: 483\n",
      "False Positives: 376\n",
      "False Negatives: 337\n",
      "~~~~~~~~~~~~~~~~~~~~~~~~~~~~~~~~~~~~~~~~~~~~~~~~~~\n",
      "\n",
      "\n",
      "Evaluation Score Summary\n",
      "--------------------------------------------------\n",
      "Accuracy Score: 0.9\n",
      "Sensitivity/Recall Score: 0.95\n",
      "Specificity Score: 0.56\n",
      "Precision: 0.56\n",
      "F1 Score: 0.7\n",
      "--------------------------------------------------\n"
     ]
    },
    {
     "data": {
      "text/plain": [
       "[0.9, 0.95, 0.56, 0.56, 0.7]"
      ]
     },
     "execution_count": 103,
     "metadata": {},
     "output_type": "execute_result"
    }
   ],
   "source": [
    "evaluation_scores(xg_hpt, X_test, y_test)"
   ]
  },
  {
   "cell_type": "markdown",
   "metadata": {
    "id": "ADTYjTtSChn2"
   },
   "source": [
    "We will perform further fine tuning with Grid Search CV."
   ]
  },
  {
   "cell_type": "code",
   "execution_count": 104,
   "metadata": {
    "id": "kN-IqZ8JCoG8"
   },
   "outputs": [],
   "source": [
    "# Fine tuning with Grid Search CV\n",
    "xg_grid = {\"learning_rate\": [0.45, 0.15],\n",
    "           \"max_depth\": [5, 10]\n",
    "           }"
   ]
  },
  {
   "cell_type": "code",
   "execution_count": 105,
   "metadata": {
    "colab": {
     "base_uri": "https://localhost:8080/"
    },
    "id": "mex-jiOACrK0",
    "outputId": "5c8321e9-d948-4480-95fc-6994368fcc39"
   },
   "outputs": [
    {
     "name": "stdout",
     "output_type": "stream",
     "text": [
      "Fitting 5 folds for each of 4 candidates, totalling 20 fits\n",
      "[21:55:36] WARNING: C:\\Windows\\Temp\\abs_557yfx631l\\croots\\recipe\\xgboost-split_1659548953302\\work\\src\\learner.cc:1115: Starting in XGBoost 1.3.0, the default evaluation metric used with the objective 'binary:logistic' was changed from 'error' to 'logloss'. Explicitly set eval_metric if you'd like to restore the old behavior.\n"
     ]
    }
   ],
   "source": [
    "# Setup random hyperparameter search for Random Forest Classifier\n",
    "xg_hpt = GridSearchCV(XGBClassifier(random_state=42),\n",
    "                                param_grid=xg_grid,\n",
    "                                cv=5,\n",
    "                                verbose=True,\n",
    "                                n_jobs=-1,\n",
    "                                scoring='f1')\n",
    "\n",
    "# Fit random hyperparameter search model\n",
    "xg_hpt.fit(X_train_sm, y_train_sm);"
   ]
  },
  {
   "cell_type": "code",
   "execution_count": 106,
   "metadata": {
    "colab": {
     "base_uri": "https://localhost:8080/"
    },
    "id": "AwN-RBnYGsH5",
    "outputId": "35d9ecd6-3f65-436a-9c32-95119e51ca0b"
   },
   "outputs": [
    {
     "data": {
      "text/plain": [
       "{'learning_rate': 0.45, 'max_depth': 5}"
      ]
     },
     "execution_count": 106,
     "metadata": {},
     "output_type": "execute_result"
    }
   ],
   "source": [
    "# Check best parameters\n",
    "xg_hpt.best_params_"
   ]
  },
  {
   "cell_type": "markdown",
   "metadata": {
    "id": "TKgB4TrJGxER"
   },
   "source": [
    "## **HyperParameter tuned model**"
   ]
  },
  {
   "cell_type": "code",
   "execution_count": 107,
   "metadata": {
    "colab": {
     "base_uri": "https://localhost:8080/",
     "height": 805
    },
    "id": "Ue0HVKvUHZLs",
    "outputId": "6aaf2f0e-dcae-424e-e367-b3f7f283513d"
   },
   "outputs": [
    {
     "name": "stdout",
     "output_type": "stream",
     "text": [
      "Visualizing the Confusion Matrix with a Heatmap\n",
      "\n",
      "\n",
      "**************************************************\n"
     ]
    },
    {
     "data": {
      "image/png": "[encoded data removed]",
      "text/plain": [
       "<Figure size 432x432 with 1 Axes>"
      ]
     },
     "metadata": {
      "needs_background": "light"
     },
     "output_type": "display_data"
    },
    {
     "name": "stdout",
     "output_type": "stream",
     "text": [
      "**************************************************\n",
      "\n",
      "\n",
      "Values of True Positives, True Negatives, False Positivies and False Negatives\n",
      "~~~~~~~~~~~~~~~~~~~~~~~~~~~~~~~~~~~~~~~~~~~~~~~~~~\n",
      "True Positives: 6118\n",
      "True Negatives: 513\n",
      "False Positives: 346\n",
      "False Negatives: 476\n",
      "~~~~~~~~~~~~~~~~~~~~~~~~~~~~~~~~~~~~~~~~~~~~~~~~~~\n",
      "\n",
      "\n",
      "Evaluation Score Summary\n",
      "--------------------------------------------------\n",
      "Accuracy Score: 0.89\n",
      "Sensitivity/Recall Score: 0.93\n",
      "Specificity Score: 0.6\n",
      "Precision: 0.6\n",
      "F1 Score: 0.73\n",
      "--------------------------------------------------\n"
     ]
    }
   ],
   "source": [
    "# Getting the scores of the tuned model\n",
    "xg_tuned_metrics = evaluation_scores(xg_hpt, X_test, y_test)"
   ]
  },
  {
   "cell_type": "code",
   "execution_count": 108,
   "metadata": {
    "colab": {
     "base_uri": "https://localhost:8080/",
     "height": 206
    },
    "id": "Nq5FJdlxHppL",
    "outputId": "b840966b-24c3-4c45-b3b4-d1b728548036"
   },
   "outputs": [
    {
     "data": {
      "text/html": [
       "<div>\n",
       "<style scoped>\n",
       "    .dataframe tbody tr th:only-of-type {\n",
       "        vertical-align: middle;\n",
       "    }\n",
       "\n",
       "    .dataframe tbody tr th {\n",
       "        vertical-align: top;\n",
       "    }\n",
       "\n",
       "    .dataframe thead th {\n",
       "        text-align: right;\n",
       "    }\n",
       "</style>\n",
       "<table border=\"1\" class=\"dataframe\">\n",
       "  <thead>\n",
       "    <tr style=\"text-align: right;\">\n",
       "      <th></th>\n",
       "      <th>Metrics</th>\n",
       "      <th>XG Base Model</th>\n",
       "      <th>XG Tuned Model</th>\n",
       "    </tr>\n",
       "  </thead>\n",
       "  <tbody>\n",
       "    <tr>\n",
       "      <th>0</th>\n",
       "      <td>Accuracy</td>\n",
       "      <td>0.89</td>\n",
       "      <td>0.89</td>\n",
       "    </tr>\n",
       "    <tr>\n",
       "      <th>1</th>\n",
       "      <td>Sensitivity/Recall</td>\n",
       "      <td>0.93</td>\n",
       "      <td>0.93</td>\n",
       "    </tr>\n",
       "    <tr>\n",
       "      <th>2</th>\n",
       "      <td>Specificity</td>\n",
       "      <td>0.61</td>\n",
       "      <td>0.60</td>\n",
       "    </tr>\n",
       "    <tr>\n",
       "      <th>3</th>\n",
       "      <td>Precision</td>\n",
       "      <td>0.61</td>\n",
       "      <td>0.60</td>\n",
       "    </tr>\n",
       "    <tr>\n",
       "      <th>4</th>\n",
       "      <td>F1 Score</td>\n",
       "      <td>0.74</td>\n",
       "      <td>0.73</td>\n",
       "    </tr>\n",
       "  </tbody>\n",
       "</table>\n",
       "</div>"
      ],
      "text/plain": [
       "              Metrics  XG Base Model  XG Tuned Model\n",
       "0            Accuracy           0.89            0.89\n",
       "1  Sensitivity/Recall           0.93            0.93\n",
       "2         Specificity           0.61            0.60\n",
       "3           Precision           0.61            0.60\n",
       "4            F1 Score           0.74            0.73"
      ]
     },
     "execution_count": 108,
     "metadata": {},
     "output_type": "execute_result"
    }
   ],
   "source": [
    "# Printing the scores of the base and tuned XGBoost model as reference\n",
    "dict_xg_bt_metrics = {'Metrics': ['Accuracy','Sensitivity/Recall','Specificity','Precision','F1 Score'], \n",
    "                               'XG Base Model': xg_metrics,\n",
    "                               'XG Tuned Model': xg_tuned_metrics}\n",
    "\n",
    "df_xg_bt_metrics = pd.DataFrame(dict_xg_bt_metrics, columns = ['Metrics', 'XG Base Model', 'XG Tuned Model'])\n",
    "df_xg_bt_metrics"
   ]
  },
  {
   "cell_type": "markdown",
   "metadata": {
    "id": "fZzAlOHTH4Ss"
   },
   "source": [
    "**Conclusion:**\n",
    "\n",
    "* For XG Boost model, Base Model is performing better than the tuned model.\n",
    "* We will consider the Base Model for evaluation purpose when we are doing model comparison.\n",
    "\n",
    "# **Model Evaluation**"
   ]
  },
  {
   "cell_type": "code",
   "execution_count": 109,
   "metadata": {
    "colab": {
     "base_uri": "https://localhost:8080/",
     "height": 206
    },
    "id": "fp_8SmhZJKRg",
    "outputId": "92e40d48-5306-4c45-ab7e-deadaf22cb5f"
   },
   "outputs": [
    {
     "data": {
      "text/html": [
       "<div>\n",
       "<style scoped>\n",
       "    .dataframe tbody tr th:only-of-type {\n",
       "        vertical-align: middle;\n",
       "    }\n",
       "\n",
       "    .dataframe tbody tr th {\n",
       "        vertical-align: top;\n",
       "    }\n",
       "\n",
       "    .dataframe thead th {\n",
       "        text-align: right;\n",
       "    }\n",
       "</style>\n",
       "<table border=\"1\" class=\"dataframe\">\n",
       "  <thead>\n",
       "    <tr style=\"text-align: right;\">\n",
       "      <th></th>\n",
       "      <th>Metrics</th>\n",
       "      <th>LR Base Model</th>\n",
       "      <th>LR Tuned Model</th>\n",
       "      <th>RF Base Model</th>\n",
       "      <th>RF Tuned Model</th>\n",
       "      <th>XG Base Model</th>\n",
       "      <th>XG Tuned Model</th>\n",
       "    </tr>\n",
       "  </thead>\n",
       "  <tbody>\n",
       "    <tr>\n",
       "      <th>0</th>\n",
       "      <td>Accuracy</td>\n",
       "      <td>0.89</td>\n",
       "      <td>0.90</td>\n",
       "      <td>0.90</td>\n",
       "      <td>0.83</td>\n",
       "      <td>0.89</td>\n",
       "      <td>0.89</td>\n",
       "    </tr>\n",
       "    <tr>\n",
       "      <th>1</th>\n",
       "      <td>Sensitivity/Recall</td>\n",
       "      <td>0.90</td>\n",
       "      <td>0.94</td>\n",
       "      <td>0.96</td>\n",
       "      <td>0.86</td>\n",
       "      <td>0.93</td>\n",
       "      <td>0.93</td>\n",
       "    </tr>\n",
       "    <tr>\n",
       "      <th>2</th>\n",
       "      <td>Specificity</td>\n",
       "      <td>0.74</td>\n",
       "      <td>0.58</td>\n",
       "      <td>0.42</td>\n",
       "      <td>0.57</td>\n",
       "      <td>0.61</td>\n",
       "      <td>0.60</td>\n",
       "    </tr>\n",
       "    <tr>\n",
       "      <th>3</th>\n",
       "      <td>Precision</td>\n",
       "      <td>0.74</td>\n",
       "      <td>0.58</td>\n",
       "      <td>0.42</td>\n",
       "      <td>0.57</td>\n",
       "      <td>0.61</td>\n",
       "      <td>0.60</td>\n",
       "    </tr>\n",
       "    <tr>\n",
       "      <th>4</th>\n",
       "      <td>F1 Score</td>\n",
       "      <td>0.81</td>\n",
       "      <td>0.72</td>\n",
       "      <td>0.58</td>\n",
       "      <td>0.69</td>\n",
       "      <td>0.74</td>\n",
       "      <td>0.73</td>\n",
       "    </tr>\n",
       "  </tbody>\n",
       "</table>\n",
       "</div>"
      ],
      "text/plain": [
       "              Metrics  LR Base Model  LR Tuned Model  RF Base Model  \\\n",
       "0            Accuracy           0.89            0.90           0.90   \n",
       "1  Sensitivity/Recall           0.90            0.94           0.96   \n",
       "2         Specificity           0.74            0.58           0.42   \n",
       "3           Precision           0.74            0.58           0.42   \n",
       "4            F1 Score           0.81            0.72           0.58   \n",
       "\n",
       "   RF Tuned Model  XG Base Model  XG Tuned Model  \n",
       "0            0.83           0.89            0.89  \n",
       "1            0.86           0.93            0.93  \n",
       "2            0.57           0.61            0.60  \n",
       "3            0.57           0.61            0.60  \n",
       "4            0.69           0.74            0.73  "
      ]
     },
     "execution_count": 109,
     "metadata": {},
     "output_type": "execute_result"
    }
   ],
   "source": [
    "# Printing the scores of all the 3 Models (Base and Tuned)\n",
    "dict_bt_metrics = {'Metrics': ['Accuracy','Sensitivity/Recall','Specificity','Precision','F1 Score'],\n",
    "                              'LR Base Model': lr_metrics, 'LR Tuned Model': lr_tuned_metrics,\n",
    "                              'RF Base Model': rf_metrics, 'RF Tuned Model': rf_tuned_metrics,\n",
    "                              'XG Base Model': xg_metrics, 'XG Tuned Model': xg_tuned_metrics}\n",
    "\n",
    "df_bt_metrics = pd.DataFrame(dict_bt_metrics, columns = ['Metrics', 'LR Base Model', 'LR Tuned Model', 'RF Base Model', 'RF Tuned Model', 'XG Base Model', 'XG Tuned Model'])\n",
    "df_bt_metrics"
   ]
  },
  {
   "cell_type": "code",
   "execution_count": 110,
   "metadata": {},
   "outputs": [],
   "source": [
    "import pickle\n",
    "# Save the best trained model as a pickle string.\n",
    "saved_model = pickle.dump(logreg, open('pickle/logistic_regression.pkl', 'wb'))"
   ]
  },
  {
   "cell_type": "markdown",
   "metadata": {
    "id": "Vo-m1JUkJPBL"
   },
   "source": [
    "Looking at the model evaluation metrics and focusing on Sensitivity, Specificity and F1 Score, we can conclude that the base Logistic Regression Model is the best model out of all of them.\n",
    "\n",
    "# **Building a Recommendation System**\n",
    "\n",
    "We will build the below two recommendation systems\n",
    "\n",
    "* User-based recommendation system\n",
    "* Item-based recommendation system\n",
    "\n",
    "Once built, we will analyze the recommendation systems and select the one that is best suited in this case. Once we get the best-suited recommendation system, the next task will be to recommend 20 products that a user is most likely to purchase based on the ratings.\n",
    "\n",
    "###**Import data**"
   ]
  },
  {
   "cell_type": "code",
   "execution_count": 111,
   "metadata": {
    "id": "nu0gpTlnJsor"
   },
   "outputs": [],
   "source": [
    "df_reco = pd.read_csv('dataset/sample30.csv')"
   ]
  },
  {
   "cell_type": "code",
   "execution_count": 112,
   "metadata": {
    "colab": {
     "base_uri": "https://localhost:8080/"
    },
    "id": "o56f5dV4J2ON",
    "outputId": "21a5e8d9-3f09-463b-b9b2-582a61907f29"
   },
   "outputs": [
    {
     "data": {
      "text/plain": [
       "(30000, 15)"
      ]
     },
     "execution_count": 112,
     "metadata": {},
     "output_type": "execute_result"
    }
   ],
   "source": [
    "df_reco.shape"
   ]
  },
  {
   "cell_type": "code",
   "execution_count": 113,
   "metadata": {
    "id": "HO-F05-8J5Pq"
   },
   "outputs": [],
   "source": [
    "# We need only the below columns for building a recommendation system\n",
    "df_reco = df_reco[[\"id\", \"name\", \"reviews_rating\", \"reviews_username\"]]"
   ]
  },
  {
   "cell_type": "code",
   "execution_count": 114,
   "metadata": {
    "colab": {
     "base_uri": "https://localhost:8080/"
    },
    "id": "ndjre1f5J7da",
    "outputId": "16ee01da-cf03-48b5-e925-01a161d5f621"
   },
   "outputs": [
    {
     "data": {
      "text/plain": [
       "(30000, 4)"
      ]
     },
     "execution_count": 114,
     "metadata": {},
     "output_type": "execute_result"
    }
   ],
   "source": [
    "df_reco.shape"
   ]
  },
  {
   "cell_type": "code",
   "execution_count": 115,
   "metadata": {
    "colab": {
     "base_uri": "https://localhost:8080/",
     "height": 112
    },
    "id": "9mLYP4dAKAUe",
    "outputId": "47eebb57-74f9-45c8-8a83-fc79fe372a24"
   },
   "outputs": [
    {
     "data": {
      "text/html": [
       "<div>\n",
       "<style scoped>\n",
       "    .dataframe tbody tr th:only-of-type {\n",
       "        vertical-align: middle;\n",
       "    }\n",
       "\n",
       "    .dataframe tbody tr th {\n",
       "        vertical-align: top;\n",
       "    }\n",
       "\n",
       "    .dataframe thead th {\n",
       "        text-align: right;\n",
       "    }\n",
       "</style>\n",
       "<table border=\"1\" class=\"dataframe\">\n",
       "  <thead>\n",
       "    <tr style=\"text-align: right;\">\n",
       "      <th></th>\n",
       "      <th>id</th>\n",
       "      <th>name</th>\n",
       "      <th>reviews_rating</th>\n",
       "      <th>reviews_username</th>\n",
       "    </tr>\n",
       "  </thead>\n",
       "  <tbody>\n",
       "    <tr>\n",
       "      <th>0</th>\n",
       "      <td>AV13O1A8GV-KLJ3akUyj</td>\n",
       "      <td>Pink Friday: Roman Reloaded Re-Up (w/dvd)</td>\n",
       "      <td>5</td>\n",
       "      <td>joshua</td>\n",
       "    </tr>\n",
       "    <tr>\n",
       "      <th>1</th>\n",
       "      <td>AV14LG0R-jtxr-f38QfS</td>\n",
       "      <td>Lundberg Organic Cinnamon Toast Rice Cakes</td>\n",
       "      <td>5</td>\n",
       "      <td>dorothy w</td>\n",
       "    </tr>\n",
       "  </tbody>\n",
       "</table>\n",
       "</div>"
      ],
      "text/plain": [
       "                     id                                        name  \\\n",
       "0  AV13O1A8GV-KLJ3akUyj   Pink Friday: Roman Reloaded Re-Up (w/dvd)   \n",
       "1  AV14LG0R-jtxr-f38QfS  Lundberg Organic Cinnamon Toast Rice Cakes   \n",
       "\n",
       "   reviews_rating reviews_username  \n",
       "0               5           joshua  \n",
       "1               5        dorothy w  "
      ]
     },
     "execution_count": 115,
     "metadata": {},
     "output_type": "execute_result"
    }
   ],
   "source": [
    "df_reco.head(2)"
   ]
  },
  {
   "cell_type": "markdown",
   "metadata": {
    "id": "36aDhNv4KCmY"
   },
   "source": [
    "## **Handling NULL values**"
   ]
  },
  {
   "cell_type": "code",
   "execution_count": 116,
   "metadata": {
    "colab": {
     "base_uri": "https://localhost:8080/",
     "height": 81
    },
    "id": "5vmoSIhJKLZW",
    "outputId": "2f75e835-2590-4e43-b688-b5a28d0bad1d"
   },
   "outputs": [
    {
     "data": {
      "text/html": [
       "<div>\n",
       "<style scoped>\n",
       "    .dataframe tbody tr th:only-of-type {\n",
       "        vertical-align: middle;\n",
       "    }\n",
       "\n",
       "    .dataframe tbody tr th {\n",
       "        vertical-align: top;\n",
       "    }\n",
       "\n",
       "    .dataframe thead th {\n",
       "        text-align: right;\n",
       "    }\n",
       "</style>\n",
       "<table border=\"1\" class=\"dataframe\">\n",
       "  <thead>\n",
       "    <tr style=\"text-align: right;\">\n",
       "      <th></th>\n",
       "      <th>Count</th>\n",
       "      <th>Percentage</th>\n",
       "    </tr>\n",
       "  </thead>\n",
       "  <tbody>\n",
       "    <tr>\n",
       "      <th>reviews_username</th>\n",
       "      <td>63</td>\n",
       "      <td>0.21</td>\n",
       "    </tr>\n",
       "  </tbody>\n",
       "</table>\n",
       "</div>"
      ],
      "text/plain": [
       "                  Count  Percentage\n",
       "reviews_username     63        0.21"
      ]
     },
     "execution_count": 116,
     "metadata": {},
     "output_type": "execute_result"
    }
   ],
   "source": [
    "# Getting total number of NULL values and percentage of the columns\n",
    "null_count = df_reco[df_reco.columns[df_reco.isna().any()]].isna().sum().sort_values(ascending=False)\n",
    "null_perc = (df_reco[df_reco.columns[df_reco.isna().any()]].isna().sum() * 100 / df_reco.shape[0]).sort_values(ascending=False)\n",
    "null_data = pd.concat([null_count, null_perc], axis=1, keys=['Count', 'Percentage'])\n",
    "null_data"
   ]
  },
  {
   "cell_type": "code",
   "execution_count": 117,
   "metadata": {
    "id": "9eIHXprqKOxT"
   },
   "outputs": [],
   "source": [
    "# Removing the rows where reviews_username is NULL\n",
    "df_reco = df_reco[~ df_reco.reviews_username.isna() ]"
   ]
  },
  {
   "cell_type": "code",
   "execution_count": 118,
   "metadata": {
    "colab": {
     "base_uri": "https://localhost:8080/"
    },
    "id": "A0pWJ9FiKQ7U",
    "outputId": "ae012772-f3af-4913-a77b-5e2852e9e2a1"
   },
   "outputs": [
    {
     "data": {
      "text/plain": [
       "(29937, 4)"
      ]
     },
     "execution_count": 118,
     "metadata": {},
     "output_type": "execute_result"
    }
   ],
   "source": [
    "df_reco.shape"
   ]
  },
  {
   "cell_type": "code",
   "execution_count": 119,
   "metadata": {
    "colab": {
     "base_uri": "https://localhost:8080/",
     "height": 49
    },
    "id": "i5RZoPhbKUHV",
    "outputId": "ada3b4b9-6c0c-4647-8109-b01c6935cdf4"
   },
   "outputs": [
    {
     "data": {
      "text/html": [
       "<div>\n",
       "<style scoped>\n",
       "    .dataframe tbody tr th:only-of-type {\n",
       "        vertical-align: middle;\n",
       "    }\n",
       "\n",
       "    .dataframe tbody tr th {\n",
       "        vertical-align: top;\n",
       "    }\n",
       "\n",
       "    .dataframe thead th {\n",
       "        text-align: right;\n",
       "    }\n",
       "</style>\n",
       "<table border=\"1\" class=\"dataframe\">\n",
       "  <thead>\n",
       "    <tr style=\"text-align: right;\">\n",
       "      <th></th>\n",
       "      <th>Count</th>\n",
       "      <th>Percentage</th>\n",
       "    </tr>\n",
       "  </thead>\n",
       "  <tbody>\n",
       "  </tbody>\n",
       "</table>\n",
       "</div>"
      ],
      "text/plain": [
       "Empty DataFrame\n",
       "Columns: [Count, Percentage]\n",
       "Index: []"
      ]
     },
     "execution_count": 119,
     "metadata": {},
     "output_type": "execute_result"
    }
   ],
   "source": [
    "# Check if any NULL values still exist in the dataset\n",
    "null_count = df_reco[df_reco.columns[df_reco.isna().any()]].isna().sum().sort_values(ascending=False)\n",
    "null_perc = (df_reco[df_reco.columns[df_reco.isna().any()]].isna().sum() * 100 / df_reco.shape[0]).sort_values(ascending=False)\n",
    "null_data = pd.concat([null_count, null_perc], axis=1, keys=['Count', 'Percentage'])\n",
    "null_data"
   ]
  },
  {
   "cell_type": "markdown",
   "metadata": {
    "id": "NvrkFgY3KXJI"
   },
   "source": [
    "### **Train, Test Split**"
   ]
  },
  {
   "cell_type": "code",
   "execution_count": 120,
   "metadata": {
    "id": "3dTPfg1vKcRQ"
   },
   "outputs": [],
   "source": [
    "train, test = train_test_split(df_reco, test_size=0.30, random_state=42)"
   ]
  },
  {
   "cell_type": "code",
   "execution_count": 121,
   "metadata": {
    "colab": {
     "base_uri": "https://localhost:8080/"
    },
    "id": "mY9jpZ4TKfJU",
    "outputId": "d67d4a61-5119-4d5e-f1ae-b7f3b78895fe"
   },
   "outputs": [
    {
     "name": "stdout",
     "output_type": "stream",
     "text": [
      "(20955, 4)\n",
      "(8982, 4)\n"
     ]
    }
   ],
   "source": [
    "print(train.shape)\n",
    "print(test.shape)"
   ]
  },
  {
   "cell_type": "code",
   "execution_count": 122,
   "metadata": {
    "colab": {
     "base_uri": "https://localhost:8080/",
     "height": 112
    },
    "id": "8GaRalNsKhKv",
    "outputId": "0bf2718a-4835-4085-e30d-c2f5900f91c6"
   },
   "outputs": [
    {
     "data": {
      "text/html": [
       "<div>\n",
       "<style scoped>\n",
       "    .dataframe tbody tr th:only-of-type {\n",
       "        vertical-align: middle;\n",
       "    }\n",
       "\n",
       "    .dataframe tbody tr th {\n",
       "        vertical-align: top;\n",
       "    }\n",
       "\n",
       "    .dataframe thead th {\n",
       "        text-align: right;\n",
       "    }\n",
       "</style>\n",
       "<table border=\"1\" class=\"dataframe\">\n",
       "  <thead>\n",
       "    <tr style=\"text-align: right;\">\n",
       "      <th></th>\n",
       "      <th>id</th>\n",
       "      <th>name</th>\n",
       "      <th>reviews_rating</th>\n",
       "      <th>reviews_username</th>\n",
       "    </tr>\n",
       "  </thead>\n",
       "  <tbody>\n",
       "    <tr>\n",
       "      <th>962</th>\n",
       "      <td>AV1YGDqsGV-KLJ3adc-O</td>\n",
       "      <td>Windex Original Glass Cleaner Refill 67.6oz (2...</td>\n",
       "      <td>5</td>\n",
       "      <td>brittney w</td>\n",
       "    </tr>\n",
       "    <tr>\n",
       "      <th>10463</th>\n",
       "      <td>AVpf3VOfilAPnD_xjpun</td>\n",
       "      <td>Clorox Disinfecting Wipes Value Pack Scented 1...</td>\n",
       "      <td>5</td>\n",
       "      <td>cjshrad</td>\n",
       "    </tr>\n",
       "  </tbody>\n",
       "</table>\n",
       "</div>"
      ],
      "text/plain": [
       "                         id  \\\n",
       "962    AV1YGDqsGV-KLJ3adc-O   \n",
       "10463  AVpf3VOfilAPnD_xjpun   \n",
       "\n",
       "                                                    name  reviews_rating  \\\n",
       "962    Windex Original Glass Cleaner Refill 67.6oz (2...               5   \n",
       "10463  Clorox Disinfecting Wipes Value Pack Scented 1...               5   \n",
       "\n",
       "      reviews_username  \n",
       "962         brittney w  \n",
       "10463          cjshrad  "
      ]
     },
     "execution_count": 122,
     "metadata": {},
     "output_type": "execute_result"
    }
   ],
   "source": [
    "train.head(2)"
   ]
  },
  {
   "cell_type": "code",
   "execution_count": 123,
   "metadata": {
    "colab": {
     "base_uri": "https://localhost:8080/",
     "height": 303
    },
    "id": "LG5TwcmbKl49",
    "outputId": "014b2f9d-3c16-4e51-f2a8-9db26df8f5d5"
   },
   "outputs": [
    {
     "data": {
      "text/html": [
       "<div>\n",
       "<style scoped>\n",
       "    .dataframe tbody tr th:only-of-type {\n",
       "        vertical-align: middle;\n",
       "    }\n",
       "\n",
       "    .dataframe tbody tr th {\n",
       "        vertical-align: top;\n",
       "    }\n",
       "\n",
       "    .dataframe thead th {\n",
       "        text-align: right;\n",
       "    }\n",
       "</style>\n",
       "<table border=\"1\" class=\"dataframe\">\n",
       "  <thead>\n",
       "    <tr style=\"text-align: right;\">\n",
       "      <th>id</th>\n",
       "      <th>AV13O1A8GV-KLJ3akUyj</th>\n",
       "      <th>AV14LG0R-jtxr-f38QfS</th>\n",
       "      <th>AV16khLE-jtxr-f38VFn</th>\n",
       "      <th>AV1YGDqsGV-KLJ3adc-O</th>\n",
       "      <th>AV1YIch7GV-KLJ3addeG</th>\n",
       "      <th>AV1YlENIglJLPUi8IHsX</th>\n",
       "      <th>AV1YmBrdGV-KLJ3adewb</th>\n",
       "      <th>AV1YmDL9vKc47QAVgr7_</th>\n",
       "      <th>AV1Ymf_rglJLPUi8II2v</th>\n",
       "      <th>AV1Yn94nvKc47QAVgtst</th>\n",
       "      <th>...</th>\n",
       "      <th>AVpfrFDZLJeJML43Bmv0</th>\n",
       "      <th>AVpfrTyiLJeJML43BrSI</th>\n",
       "      <th>AVpfrfHF1cnluZ0-pRai</th>\n",
       "      <th>AVpfrgjFLJeJML43BvCc</th>\n",
       "      <th>AVpfsQoeilAPnD_xgfx5</th>\n",
       "      <th>AVpfshNsLJeJML43CB8q</th>\n",
       "      <th>AVpfthSailAPnD_xg3ON</th>\n",
       "      <th>AVpftikC1cnluZ0-p31V</th>\n",
       "      <th>AVpfv4TlilAPnD_xhjNS</th>\n",
       "      <th>AVpfvieo1cnluZ0-qdnu</th>\n",
       "    </tr>\n",
       "    <tr>\n",
       "      <th>reviews_username</th>\n",
       "      <th></th>\n",
       "      <th></th>\n",
       "      <th></th>\n",
       "      <th></th>\n",
       "      <th></th>\n",
       "      <th></th>\n",
       "      <th></th>\n",
       "      <th></th>\n",
       "      <th></th>\n",
       "      <th></th>\n",
       "      <th></th>\n",
       "      <th></th>\n",
       "      <th></th>\n",
       "      <th></th>\n",
       "      <th></th>\n",
       "      <th></th>\n",
       "      <th></th>\n",
       "      <th></th>\n",
       "      <th></th>\n",
       "      <th></th>\n",
       "      <th></th>\n",
       "    </tr>\n",
       "  </thead>\n",
       "  <tbody>\n",
       "    <tr>\n",
       "      <th>00sab00</th>\n",
       "      <td>0.0</td>\n",
       "      <td>0.0</td>\n",
       "      <td>0.0</td>\n",
       "      <td>0.0</td>\n",
       "      <td>0.0</td>\n",
       "      <td>0.0</td>\n",
       "      <td>0.0</td>\n",
       "      <td>0.0</td>\n",
       "      <td>0.0</td>\n",
       "      <td>0.0</td>\n",
       "      <td>...</td>\n",
       "      <td>0.0</td>\n",
       "      <td>0.0</td>\n",
       "      <td>0.0</td>\n",
       "      <td>0.0</td>\n",
       "      <td>0.0</td>\n",
       "      <td>0.0</td>\n",
       "      <td>0.0</td>\n",
       "      <td>0.0</td>\n",
       "      <td>0.0</td>\n",
       "      <td>0.0</td>\n",
       "    </tr>\n",
       "    <tr>\n",
       "      <th>01impala</th>\n",
       "      <td>0.0</td>\n",
       "      <td>0.0</td>\n",
       "      <td>0.0</td>\n",
       "      <td>0.0</td>\n",
       "      <td>0.0</td>\n",
       "      <td>0.0</td>\n",
       "      <td>0.0</td>\n",
       "      <td>0.0</td>\n",
       "      <td>0.0</td>\n",
       "      <td>0.0</td>\n",
       "      <td>...</td>\n",
       "      <td>0.0</td>\n",
       "      <td>0.0</td>\n",
       "      <td>0.0</td>\n",
       "      <td>0.0</td>\n",
       "      <td>0.0</td>\n",
       "      <td>0.0</td>\n",
       "      <td>0.0</td>\n",
       "      <td>0.0</td>\n",
       "      <td>0.0</td>\n",
       "      <td>0.0</td>\n",
       "    </tr>\n",
       "    <tr>\n",
       "      <th>02dakota</th>\n",
       "      <td>0.0</td>\n",
       "      <td>0.0</td>\n",
       "      <td>0.0</td>\n",
       "      <td>0.0</td>\n",
       "      <td>0.0</td>\n",
       "      <td>0.0</td>\n",
       "      <td>0.0</td>\n",
       "      <td>0.0</td>\n",
       "      <td>0.0</td>\n",
       "      <td>0.0</td>\n",
       "      <td>...</td>\n",
       "      <td>0.0</td>\n",
       "      <td>0.0</td>\n",
       "      <td>0.0</td>\n",
       "      <td>0.0</td>\n",
       "      <td>0.0</td>\n",
       "      <td>0.0</td>\n",
       "      <td>0.0</td>\n",
       "      <td>0.0</td>\n",
       "      <td>0.0</td>\n",
       "      <td>0.0</td>\n",
       "    </tr>\n",
       "  </tbody>\n",
       "</table>\n",
       "<p>3 rows × 256 columns</p>\n",
       "</div>"
      ],
      "text/plain": [
       "id                AV13O1A8GV-KLJ3akUyj  AV14LG0R-jtxr-f38QfS  \\\n",
       "reviews_username                                               \n",
       "00sab00                            0.0                   0.0   \n",
       "01impala                           0.0                   0.0   \n",
       "02dakota                           0.0                   0.0   \n",
       "\n",
       "id                AV16khLE-jtxr-f38VFn  AV1YGDqsGV-KLJ3adc-O  \\\n",
       "reviews_username                                               \n",
       "00sab00                            0.0                   0.0   \n",
       "01impala                           0.0                   0.0   \n",
       "02dakota                           0.0                   0.0   \n",
       "\n",
       "id                AV1YIch7GV-KLJ3addeG  AV1YlENIglJLPUi8IHsX  \\\n",
       "reviews_username                                               \n",
       "00sab00                            0.0                   0.0   \n",
       "01impala                           0.0                   0.0   \n",
       "02dakota                           0.0                   0.0   \n",
       "\n",
       "id                AV1YmBrdGV-KLJ3adewb  AV1YmDL9vKc47QAVgr7_  \\\n",
       "reviews_username                                               \n",
       "00sab00                            0.0                   0.0   \n",
       "01impala                           0.0                   0.0   \n",
       "02dakota                           0.0                   0.0   \n",
       "\n",
       "id                AV1Ymf_rglJLPUi8II2v  AV1Yn94nvKc47QAVgtst  ...  \\\n",
       "reviews_username                                              ...   \n",
       "00sab00                            0.0                   0.0  ...   \n",
       "01impala                           0.0                   0.0  ...   \n",
       "02dakota                           0.0                   0.0  ...   \n",
       "\n",
       "id                AVpfrFDZLJeJML43Bmv0  AVpfrTyiLJeJML43BrSI  \\\n",
       "reviews_username                                               \n",
       "00sab00                            0.0                   0.0   \n",
       "01impala                           0.0                   0.0   \n",
       "02dakota                           0.0                   0.0   \n",
       "\n",
       "id                AVpfrfHF1cnluZ0-pRai  AVpfrgjFLJeJML43BvCc  \\\n",
       "reviews_username                                               \n",
       "00sab00                            0.0                   0.0   \n",
       "01impala                           0.0                   0.0   \n",
       "02dakota                           0.0                   0.0   \n",
       "\n",
       "id                AVpfsQoeilAPnD_xgfx5  AVpfshNsLJeJML43CB8q  \\\n",
       "reviews_username                                               \n",
       "00sab00                            0.0                   0.0   \n",
       "01impala                           0.0                   0.0   \n",
       "02dakota                           0.0                   0.0   \n",
       "\n",
       "id                AVpfthSailAPnD_xg3ON  AVpftikC1cnluZ0-p31V  \\\n",
       "reviews_username                                               \n",
       "00sab00                            0.0                   0.0   \n",
       "01impala                           0.0                   0.0   \n",
       "02dakota                           0.0                   0.0   \n",
       "\n",
       "id                AVpfv4TlilAPnD_xhjNS  AVpfvieo1cnluZ0-qdnu  \n",
       "reviews_username                                              \n",
       "00sab00                            0.0                   0.0  \n",
       "01impala                           0.0                   0.0  \n",
       "02dakota                           0.0                   0.0  \n",
       "\n",
       "[3 rows x 256 columns]"
      ]
     },
     "execution_count": 123,
     "metadata": {},
     "output_type": "execute_result"
    }
   ],
   "source": [
    "# Pivot the train ratings' dataset into matrix format in which columns are Products and the rows are usernames.\n",
    "df_pivot = train.pivot_table(\n",
    "    index='reviews_username',\n",
    "    columns='id',\n",
    "    values='reviews_rating'\n",
    ").fillna(0)\n",
    "\n",
    "df_pivot.head(3)"
   ]
  },
  {
   "cell_type": "markdown",
   "metadata": {
    "id": "xs5I4OXYKp1D"
   },
   "source": [
    "**Creating dummy train & dummy test dataset**\n",
    "\n",
    "* Dummy train will be used later for prediction of the movies which has not been rated by the user. To ignore the movies rated by the user, we will mark it as 0 during prediction. The movies not rated by user is marked as 1 for prediction in dummy train dataset.\n",
    "* Dummy test will be used for evaluation. To evaluate, we will only make prediction on the movies rated by the user. So, this is marked as 1. This is just opposite of dummy_train.\n"
   ]
  },
  {
   "cell_type": "code",
   "execution_count": 124,
   "metadata": {
    "id": "BhAt6OxLK2Az"
   },
   "outputs": [],
   "source": [
    "# Copy the train dataset into dummy_train\n",
    "dummy_train = train.copy()"
   ]
  },
  {
   "cell_type": "code",
   "execution_count": 125,
   "metadata": {
    "id": "fLODYDubK6Lv"
   },
   "outputs": [],
   "source": [
    "# The products not rated by user is marked as 1 for prediction. \n",
    "dummy_train['reviews_rating'] = dummy_train['reviews_rating'].apply(lambda x: 0 if x>=1 else 1)"
   ]
  },
  {
   "cell_type": "code",
   "execution_count": 126,
   "metadata": {
    "colab": {
     "base_uri": "https://localhost:8080/",
     "height": 303
    },
    "id": "wZZvsr7QK_KV",
    "outputId": "dd7e64f7-b766-4f4b-f1ec-282fdee1066b"
   },
   "outputs": [
    {
     "data": {
      "text/html": [
       "<div>\n",
       "<style scoped>\n",
       "    .dataframe tbody tr th:only-of-type {\n",
       "        vertical-align: middle;\n",
       "    }\n",
       "\n",
       "    .dataframe tbody tr th {\n",
       "        vertical-align: top;\n",
       "    }\n",
       "\n",
       "    .dataframe thead th {\n",
       "        text-align: right;\n",
       "    }\n",
       "</style>\n",
       "<table border=\"1\" class=\"dataframe\">\n",
       "  <thead>\n",
       "    <tr style=\"text-align: right;\">\n",
       "      <th>id</th>\n",
       "      <th>AV13O1A8GV-KLJ3akUyj</th>\n",
       "      <th>AV14LG0R-jtxr-f38QfS</th>\n",
       "      <th>AV16khLE-jtxr-f38VFn</th>\n",
       "      <th>AV1YGDqsGV-KLJ3adc-O</th>\n",
       "      <th>AV1YIch7GV-KLJ3addeG</th>\n",
       "      <th>AV1YlENIglJLPUi8IHsX</th>\n",
       "      <th>AV1YmBrdGV-KLJ3adewb</th>\n",
       "      <th>AV1YmDL9vKc47QAVgr7_</th>\n",
       "      <th>AV1Ymf_rglJLPUi8II2v</th>\n",
       "      <th>AV1Yn94nvKc47QAVgtst</th>\n",
       "      <th>...</th>\n",
       "      <th>AVpfrFDZLJeJML43Bmv0</th>\n",
       "      <th>AVpfrTyiLJeJML43BrSI</th>\n",
       "      <th>AVpfrfHF1cnluZ0-pRai</th>\n",
       "      <th>AVpfrgjFLJeJML43BvCc</th>\n",
       "      <th>AVpfsQoeilAPnD_xgfx5</th>\n",
       "      <th>AVpfshNsLJeJML43CB8q</th>\n",
       "      <th>AVpfthSailAPnD_xg3ON</th>\n",
       "      <th>AVpftikC1cnluZ0-p31V</th>\n",
       "      <th>AVpfv4TlilAPnD_xhjNS</th>\n",
       "      <th>AVpfvieo1cnluZ0-qdnu</th>\n",
       "    </tr>\n",
       "    <tr>\n",
       "      <th>reviews_username</th>\n",
       "      <th></th>\n",
       "      <th></th>\n",
       "      <th></th>\n",
       "      <th></th>\n",
       "      <th></th>\n",
       "      <th></th>\n",
       "      <th></th>\n",
       "      <th></th>\n",
       "      <th></th>\n",
       "      <th></th>\n",
       "      <th></th>\n",
       "      <th></th>\n",
       "      <th></th>\n",
       "      <th></th>\n",
       "      <th></th>\n",
       "      <th></th>\n",
       "      <th></th>\n",
       "      <th></th>\n",
       "      <th></th>\n",
       "      <th></th>\n",
       "      <th></th>\n",
       "    </tr>\n",
       "  </thead>\n",
       "  <tbody>\n",
       "    <tr>\n",
       "      <th>00sab00</th>\n",
       "      <td>1.0</td>\n",
       "      <td>1.0</td>\n",
       "      <td>1.0</td>\n",
       "      <td>1.0</td>\n",
       "      <td>1.0</td>\n",
       "      <td>1.0</td>\n",
       "      <td>1.0</td>\n",
       "      <td>1.0</td>\n",
       "      <td>1.0</td>\n",
       "      <td>1.0</td>\n",
       "      <td>...</td>\n",
       "      <td>1.0</td>\n",
       "      <td>1.0</td>\n",
       "      <td>1.0</td>\n",
       "      <td>1.0</td>\n",
       "      <td>1.0</td>\n",
       "      <td>1.0</td>\n",
       "      <td>1.0</td>\n",
       "      <td>1.0</td>\n",
       "      <td>1.0</td>\n",
       "      <td>1.0</td>\n",
       "    </tr>\n",
       "    <tr>\n",
       "      <th>01impala</th>\n",
       "      <td>1.0</td>\n",
       "      <td>1.0</td>\n",
       "      <td>1.0</td>\n",
       "      <td>1.0</td>\n",
       "      <td>1.0</td>\n",
       "      <td>1.0</td>\n",
       "      <td>1.0</td>\n",
       "      <td>1.0</td>\n",
       "      <td>1.0</td>\n",
       "      <td>1.0</td>\n",
       "      <td>...</td>\n",
       "      <td>1.0</td>\n",
       "      <td>1.0</td>\n",
       "      <td>1.0</td>\n",
       "      <td>1.0</td>\n",
       "      <td>1.0</td>\n",
       "      <td>1.0</td>\n",
       "      <td>1.0</td>\n",
       "      <td>1.0</td>\n",
       "      <td>1.0</td>\n",
       "      <td>1.0</td>\n",
       "    </tr>\n",
       "    <tr>\n",
       "      <th>02dakota</th>\n",
       "      <td>1.0</td>\n",
       "      <td>1.0</td>\n",
       "      <td>1.0</td>\n",
       "      <td>1.0</td>\n",
       "      <td>1.0</td>\n",
       "      <td>1.0</td>\n",
       "      <td>1.0</td>\n",
       "      <td>1.0</td>\n",
       "      <td>1.0</td>\n",
       "      <td>1.0</td>\n",
       "      <td>...</td>\n",
       "      <td>1.0</td>\n",
       "      <td>1.0</td>\n",
       "      <td>1.0</td>\n",
       "      <td>1.0</td>\n",
       "      <td>1.0</td>\n",
       "      <td>1.0</td>\n",
       "      <td>1.0</td>\n",
       "      <td>1.0</td>\n",
       "      <td>1.0</td>\n",
       "      <td>1.0</td>\n",
       "    </tr>\n",
       "  </tbody>\n",
       "</table>\n",
       "<p>3 rows × 256 columns</p>\n",
       "</div>"
      ],
      "text/plain": [
       "id                AV13O1A8GV-KLJ3akUyj  AV14LG0R-jtxr-f38QfS  \\\n",
       "reviews_username                                               \n",
       "00sab00                            1.0                   1.0   \n",
       "01impala                           1.0                   1.0   \n",
       "02dakota                           1.0                   1.0   \n",
       "\n",
       "id                AV16khLE-jtxr-f38VFn  AV1YGDqsGV-KLJ3adc-O  \\\n",
       "reviews_username                                               \n",
       "00sab00                            1.0                   1.0   \n",
       "01impala                           1.0                   1.0   \n",
       "02dakota                           1.0                   1.0   \n",
       "\n",
       "id                AV1YIch7GV-KLJ3addeG  AV1YlENIglJLPUi8IHsX  \\\n",
       "reviews_username                                               \n",
       "00sab00                            1.0                   1.0   \n",
       "01impala                           1.0                   1.0   \n",
       "02dakota                           1.0                   1.0   \n",
       "\n",
       "id                AV1YmBrdGV-KLJ3adewb  AV1YmDL9vKc47QAVgr7_  \\\n",
       "reviews_username                                               \n",
       "00sab00                            1.0                   1.0   \n",
       "01impala                           1.0                   1.0   \n",
       "02dakota                           1.0                   1.0   \n",
       "\n",
       "id                AV1Ymf_rglJLPUi8II2v  AV1Yn94nvKc47QAVgtst  ...  \\\n",
       "reviews_username                                              ...   \n",
       "00sab00                            1.0                   1.0  ...   \n",
       "01impala                           1.0                   1.0  ...   \n",
       "02dakota                           1.0                   1.0  ...   \n",
       "\n",
       "id                AVpfrFDZLJeJML43Bmv0  AVpfrTyiLJeJML43BrSI  \\\n",
       "reviews_username                                               \n",
       "00sab00                            1.0                   1.0   \n",
       "01impala                           1.0                   1.0   \n",
       "02dakota                           1.0                   1.0   \n",
       "\n",
       "id                AVpfrfHF1cnluZ0-pRai  AVpfrgjFLJeJML43BvCc  \\\n",
       "reviews_username                                               \n",
       "00sab00                            1.0                   1.0   \n",
       "01impala                           1.0                   1.0   \n",
       "02dakota                           1.0                   1.0   \n",
       "\n",
       "id                AVpfsQoeilAPnD_xgfx5  AVpfshNsLJeJML43CB8q  \\\n",
       "reviews_username                                               \n",
       "00sab00                            1.0                   1.0   \n",
       "01impala                           1.0                   1.0   \n",
       "02dakota                           1.0                   1.0   \n",
       "\n",
       "id                AVpfthSailAPnD_xg3ON  AVpftikC1cnluZ0-p31V  \\\n",
       "reviews_username                                               \n",
       "00sab00                            1.0                   1.0   \n",
       "01impala                           1.0                   1.0   \n",
       "02dakota                           1.0                   1.0   \n",
       "\n",
       "id                AVpfv4TlilAPnD_xhjNS  AVpfvieo1cnluZ0-qdnu  \n",
       "reviews_username                                              \n",
       "00sab00                            1.0                   1.0  \n",
       "01impala                           1.0                   1.0  \n",
       "02dakota                           1.0                   1.0  \n",
       "\n",
       "[3 rows x 256 columns]"
      ]
     },
     "execution_count": 126,
     "metadata": {},
     "output_type": "execute_result"
    }
   ],
   "source": [
    "# Convert the dummy train dataset into matrix format\n",
    "dummy_train = dummy_train.pivot_table(\n",
    "    index='reviews_username',\n",
    "    columns='id',\n",
    "    values='reviews_rating'\n",
    ").fillna(1)\n",
    "\n",
    "dummy_train.head(3)"
   ]
  },
  {
   "cell_type": "code",
   "execution_count": 127,
   "metadata": {
    "colab": {
     "base_uri": "https://localhost:8080/",
     "height": 272
    },
    "id": "y8xBQzJcLDxh",
    "outputId": "13fc731c-9ff5-41d3-9f9b-436f5766d654"
   },
   "outputs": [
    {
     "data": {
      "text/html": [
       "<div>\n",
       "<style scoped>\n",
       "    .dataframe tbody tr th:only-of-type {\n",
       "        vertical-align: middle;\n",
       "    }\n",
       "\n",
       "    .dataframe tbody tr th {\n",
       "        vertical-align: top;\n",
       "    }\n",
       "\n",
       "    .dataframe thead th {\n",
       "        text-align: right;\n",
       "    }\n",
       "</style>\n",
       "<table border=\"1\" class=\"dataframe\">\n",
       "  <thead>\n",
       "    <tr style=\"text-align: right;\">\n",
       "      <th>id</th>\n",
       "      <th>AV13O1A8GV-KLJ3akUyj</th>\n",
       "      <th>AV14LG0R-jtxr-f38QfS</th>\n",
       "      <th>AV16khLE-jtxr-f38VFn</th>\n",
       "      <th>AV1YGDqsGV-KLJ3adc-O</th>\n",
       "      <th>AV1YIch7GV-KLJ3addeG</th>\n",
       "      <th>AV1YlENIglJLPUi8IHsX</th>\n",
       "      <th>AV1YmBrdGV-KLJ3adewb</th>\n",
       "      <th>AV1YmDL9vKc47QAVgr7_</th>\n",
       "      <th>AV1Ymf_rglJLPUi8II2v</th>\n",
       "      <th>AV1Yn94nvKc47QAVgtst</th>\n",
       "      <th>...</th>\n",
       "      <th>AVpfrFDZLJeJML43Bmv0</th>\n",
       "      <th>AVpfrTyiLJeJML43BrSI</th>\n",
       "      <th>AVpfrfHF1cnluZ0-pRai</th>\n",
       "      <th>AVpfrgjFLJeJML43BvCc</th>\n",
       "      <th>AVpfsQoeilAPnD_xgfx5</th>\n",
       "      <th>AVpfshNsLJeJML43CB8q</th>\n",
       "      <th>AVpfthSailAPnD_xg3ON</th>\n",
       "      <th>AVpftikC1cnluZ0-p31V</th>\n",
       "      <th>AVpfv4TlilAPnD_xhjNS</th>\n",
       "      <th>AVpfvieo1cnluZ0-qdnu</th>\n",
       "    </tr>\n",
       "    <tr>\n",
       "      <th>reviews_username</th>\n",
       "      <th></th>\n",
       "      <th></th>\n",
       "      <th></th>\n",
       "      <th></th>\n",
       "      <th></th>\n",
       "      <th></th>\n",
       "      <th></th>\n",
       "      <th></th>\n",
       "      <th></th>\n",
       "      <th></th>\n",
       "      <th></th>\n",
       "      <th></th>\n",
       "      <th></th>\n",
       "      <th></th>\n",
       "      <th></th>\n",
       "      <th></th>\n",
       "      <th></th>\n",
       "      <th></th>\n",
       "      <th></th>\n",
       "      <th></th>\n",
       "      <th></th>\n",
       "    </tr>\n",
       "  </thead>\n",
       "  <tbody>\n",
       "    <tr>\n",
       "      <th>00sab00</th>\n",
       "      <td>1.0</td>\n",
       "      <td>1.0</td>\n",
       "      <td>1.0</td>\n",
       "      <td>1.0</td>\n",
       "      <td>1.0</td>\n",
       "      <td>1.0</td>\n",
       "      <td>1.0</td>\n",
       "      <td>1.0</td>\n",
       "      <td>1.0</td>\n",
       "      <td>1.0</td>\n",
       "      <td>...</td>\n",
       "      <td>1.0</td>\n",
       "      <td>1.0</td>\n",
       "      <td>1.0</td>\n",
       "      <td>1.0</td>\n",
       "      <td>1.0</td>\n",
       "      <td>1.0</td>\n",
       "      <td>1.0</td>\n",
       "      <td>1.0</td>\n",
       "      <td>1.0</td>\n",
       "      <td>1.0</td>\n",
       "    </tr>\n",
       "    <tr>\n",
       "      <th>01impala</th>\n",
       "      <td>1.0</td>\n",
       "      <td>1.0</td>\n",
       "      <td>1.0</td>\n",
       "      <td>1.0</td>\n",
       "      <td>1.0</td>\n",
       "      <td>1.0</td>\n",
       "      <td>1.0</td>\n",
       "      <td>1.0</td>\n",
       "      <td>1.0</td>\n",
       "      <td>1.0</td>\n",
       "      <td>...</td>\n",
       "      <td>1.0</td>\n",
       "      <td>1.0</td>\n",
       "      <td>1.0</td>\n",
       "      <td>1.0</td>\n",
       "      <td>1.0</td>\n",
       "      <td>1.0</td>\n",
       "      <td>1.0</td>\n",
       "      <td>1.0</td>\n",
       "      <td>1.0</td>\n",
       "      <td>1.0</td>\n",
       "    </tr>\n",
       "  </tbody>\n",
       "</table>\n",
       "<p>2 rows × 256 columns</p>\n",
       "</div>"
      ],
      "text/plain": [
       "id                AV13O1A8GV-KLJ3akUyj  AV14LG0R-jtxr-f38QfS  \\\n",
       "reviews_username                                               \n",
       "00sab00                            1.0                   1.0   \n",
       "01impala                           1.0                   1.0   \n",
       "\n",
       "id                AV16khLE-jtxr-f38VFn  AV1YGDqsGV-KLJ3adc-O  \\\n",
       "reviews_username                                               \n",
       "00sab00                            1.0                   1.0   \n",
       "01impala                           1.0                   1.0   \n",
       "\n",
       "id                AV1YIch7GV-KLJ3addeG  AV1YlENIglJLPUi8IHsX  \\\n",
       "reviews_username                                               \n",
       "00sab00                            1.0                   1.0   \n",
       "01impala                           1.0                   1.0   \n",
       "\n",
       "id                AV1YmBrdGV-KLJ3adewb  AV1YmDL9vKc47QAVgr7_  \\\n",
       "reviews_username                                               \n",
       "00sab00                            1.0                   1.0   \n",
       "01impala                           1.0                   1.0   \n",
       "\n",
       "id                AV1Ymf_rglJLPUi8II2v  AV1Yn94nvKc47QAVgtst  ...  \\\n",
       "reviews_username                                              ...   \n",
       "00sab00                            1.0                   1.0  ...   \n",
       "01impala                           1.0                   1.0  ...   \n",
       "\n",
       "id                AVpfrFDZLJeJML43Bmv0  AVpfrTyiLJeJML43BrSI  \\\n",
       "reviews_username                                               \n",
       "00sab00                            1.0                   1.0   \n",
       "01impala                           1.0                   1.0   \n",
       "\n",
       "id                AVpfrfHF1cnluZ0-pRai  AVpfrgjFLJeJML43BvCc  \\\n",
       "reviews_username                                               \n",
       "00sab00                            1.0                   1.0   \n",
       "01impala                           1.0                   1.0   \n",
       "\n",
       "id                AVpfsQoeilAPnD_xgfx5  AVpfshNsLJeJML43CB8q  \\\n",
       "reviews_username                                               \n",
       "00sab00                            1.0                   1.0   \n",
       "01impala                           1.0                   1.0   \n",
       "\n",
       "id                AVpfthSailAPnD_xg3ON  AVpftikC1cnluZ0-p31V  \\\n",
       "reviews_username                                               \n",
       "00sab00                            1.0                   1.0   \n",
       "01impala                           1.0                   1.0   \n",
       "\n",
       "id                AVpfv4TlilAPnD_xhjNS  AVpfvieo1cnluZ0-qdnu  \n",
       "reviews_username                                              \n",
       "00sab00                            1.0                   1.0  \n",
       "01impala                           1.0                   1.0  \n",
       "\n",
       "[2 rows x 256 columns]"
      ]
     },
     "execution_count": 127,
     "metadata": {},
     "output_type": "execute_result"
    }
   ],
   "source": [
    "dummy_train.head(2)"
   ]
  },
  {
   "cell_type": "markdown",
   "metadata": {
    "id": "zjJoysSfLKhO"
   },
   "source": [
    "**Cosine Similarity**\n",
    "\n",
    "Cosine Similarity is a measurement that quantifies the similarity between two vectors [Which is reviews_rating in this case]\n",
    "\n",
    "**Adjusted Cosine**\n",
    "\n",
    "Adjusted cosine similarity is a modified version of vector-based similarity where we incorporate the fact that different users have different ratings schemes. In other words, some users might rate items highly in general, and others might give items lower ratings as a preference. To handle this nature from rating given by user , we subtract average ratings for each user from each user's rating for different products.\n",
    "\n",
    "**User Similarity Matrix (Using Adjusted Cosine)**\n",
    "\n",
    "Here, we are not removing the NaN values and calculating the mean only for the products rated by the user"
   ]
  },
  {
   "cell_type": "code",
   "execution_count": 128,
   "metadata": {
    "id": "sJ7IKM1wLVQJ"
   },
   "outputs": [],
   "source": [
    "# Pivot the train ratings' dataset into matrix format in which columns are Products and the rows are usernames.\n",
    "df_pivot = train.pivot_table(\n",
    "    index='reviews_username',\n",
    "    columns='id',\n",
    "    values='reviews_rating'\n",
    ")"
   ]
  },
  {
   "cell_type": "code",
   "execution_count": 129,
   "metadata": {
    "colab": {
     "base_uri": "https://localhost:8080/",
     "height": 240
    },
    "id": "ZjGcPyiVLZsG",
    "outputId": "10fe7a96-2d9b-48b5-d8ee-5951c09b10c0"
   },
   "outputs": [
    {
     "data": {
      "text/html": [
       "<div>\n",
       "<style scoped>\n",
       "    .dataframe tbody tr th:only-of-type {\n",
       "        vertical-align: middle;\n",
       "    }\n",
       "\n",
       "    .dataframe tbody tr th {\n",
       "        vertical-align: top;\n",
       "    }\n",
       "\n",
       "    .dataframe thead th {\n",
       "        text-align: right;\n",
       "    }\n",
       "</style>\n",
       "<table border=\"1\" class=\"dataframe\">\n",
       "  <thead>\n",
       "    <tr style=\"text-align: right;\">\n",
       "      <th>id</th>\n",
       "      <th>AV13O1A8GV-KLJ3akUyj</th>\n",
       "      <th>AV14LG0R-jtxr-f38QfS</th>\n",
       "      <th>AV16khLE-jtxr-f38VFn</th>\n",
       "      <th>AV1YGDqsGV-KLJ3adc-O</th>\n",
       "      <th>AV1YIch7GV-KLJ3addeG</th>\n",
       "      <th>AV1YlENIglJLPUi8IHsX</th>\n",
       "      <th>AV1YmBrdGV-KLJ3adewb</th>\n",
       "      <th>AV1YmDL9vKc47QAVgr7_</th>\n",
       "      <th>AV1Ymf_rglJLPUi8II2v</th>\n",
       "      <th>AV1Yn94nvKc47QAVgtst</th>\n",
       "      <th>...</th>\n",
       "      <th>AVpfrFDZLJeJML43Bmv0</th>\n",
       "      <th>AVpfrTyiLJeJML43BrSI</th>\n",
       "      <th>AVpfrfHF1cnluZ0-pRai</th>\n",
       "      <th>AVpfrgjFLJeJML43BvCc</th>\n",
       "      <th>AVpfsQoeilAPnD_xgfx5</th>\n",
       "      <th>AVpfshNsLJeJML43CB8q</th>\n",
       "      <th>AVpfthSailAPnD_xg3ON</th>\n",
       "      <th>AVpftikC1cnluZ0-p31V</th>\n",
       "      <th>AVpfv4TlilAPnD_xhjNS</th>\n",
       "      <th>AVpfvieo1cnluZ0-qdnu</th>\n",
       "    </tr>\n",
       "    <tr>\n",
       "      <th>reviews_username</th>\n",
       "      <th></th>\n",
       "      <th></th>\n",
       "      <th></th>\n",
       "      <th></th>\n",
       "      <th></th>\n",
       "      <th></th>\n",
       "      <th></th>\n",
       "      <th></th>\n",
       "      <th></th>\n",
       "      <th></th>\n",
       "      <th></th>\n",
       "      <th></th>\n",
       "      <th></th>\n",
       "      <th></th>\n",
       "      <th></th>\n",
       "      <th></th>\n",
       "      <th></th>\n",
       "      <th></th>\n",
       "      <th></th>\n",
       "      <th></th>\n",
       "      <th></th>\n",
       "    </tr>\n",
       "  </thead>\n",
       "  <tbody>\n",
       "    <tr>\n",
       "      <th>joshua</th>\n",
       "      <td>5.0</td>\n",
       "      <td>NaN</td>\n",
       "      <td>NaN</td>\n",
       "      <td>NaN</td>\n",
       "      <td>NaN</td>\n",
       "      <td>NaN</td>\n",
       "      <td>NaN</td>\n",
       "      <td>NaN</td>\n",
       "      <td>NaN</td>\n",
       "      <td>NaN</td>\n",
       "      <td>...</td>\n",
       "      <td>NaN</td>\n",
       "      <td>NaN</td>\n",
       "      <td>NaN</td>\n",
       "      <td>NaN</td>\n",
       "      <td>NaN</td>\n",
       "      <td>NaN</td>\n",
       "      <td>NaN</td>\n",
       "      <td>NaN</td>\n",
       "      <td>NaN</td>\n",
       "      <td>NaN</td>\n",
       "    </tr>\n",
       "  </tbody>\n",
       "</table>\n",
       "<p>1 rows × 256 columns</p>\n",
       "</div>"
      ],
      "text/plain": [
       "id                AV13O1A8GV-KLJ3akUyj  AV14LG0R-jtxr-f38QfS  \\\n",
       "reviews_username                                               \n",
       "joshua                             5.0                   NaN   \n",
       "\n",
       "id                AV16khLE-jtxr-f38VFn  AV1YGDqsGV-KLJ3adc-O  \\\n",
       "reviews_username                                               \n",
       "joshua                             NaN                   NaN   \n",
       "\n",
       "id                AV1YIch7GV-KLJ3addeG  AV1YlENIglJLPUi8IHsX  \\\n",
       "reviews_username                                               \n",
       "joshua                             NaN                   NaN   \n",
       "\n",
       "id                AV1YmBrdGV-KLJ3adewb  AV1YmDL9vKc47QAVgr7_  \\\n",
       "reviews_username                                               \n",
       "joshua                             NaN                   NaN   \n",
       "\n",
       "id                AV1Ymf_rglJLPUi8II2v  AV1Yn94nvKc47QAVgtst  ...  \\\n",
       "reviews_username                                              ...   \n",
       "joshua                             NaN                   NaN  ...   \n",
       "\n",
       "id                AVpfrFDZLJeJML43Bmv0  AVpfrTyiLJeJML43BrSI  \\\n",
       "reviews_username                                               \n",
       "joshua                             NaN                   NaN   \n",
       "\n",
       "id                AVpfrfHF1cnluZ0-pRai  AVpfrgjFLJeJML43BvCc  \\\n",
       "reviews_username                                               \n",
       "joshua                             NaN                   NaN   \n",
       "\n",
       "id                AVpfsQoeilAPnD_xgfx5  AVpfshNsLJeJML43CB8q  \\\n",
       "reviews_username                                               \n",
       "joshua                             NaN                   NaN   \n",
       "\n",
       "id                AVpfthSailAPnD_xg3ON  AVpftikC1cnluZ0-p31V  \\\n",
       "reviews_username                                               \n",
       "joshua                             NaN                   NaN   \n",
       "\n",
       "id                AVpfv4TlilAPnD_xhjNS  AVpfvieo1cnluZ0-qdnu  \n",
       "reviews_username                                              \n",
       "joshua                             NaN                   NaN  \n",
       "\n",
       "[1 rows x 256 columns]"
      ]
     },
     "execution_count": 129,
     "metadata": {},
     "output_type": "execute_result"
    }
   ],
   "source": [
    "# For verification purpose, we do have cases where the rating is not NaN\n",
    "df_pivot[~df_pivot['AV13O1A8GV-KLJ3akUyj'].isna()]"
   ]
  },
  {
   "cell_type": "markdown",
   "metadata": {
    "id": "75tGWNOuLcbz"
   },
   "source": [
    "**Normalising the rating of the product for each user around 0 mean**"
   ]
  },
  {
   "cell_type": "code",
   "execution_count": 130,
   "metadata": {
    "id": "RMakgdpYLgCT"
   },
   "outputs": [],
   "source": [
    "mean = np.nanmean(df_pivot, axis=1)\n",
    "df_subtracted = (df_pivot.T-mean).T"
   ]
  },
  {
   "cell_type": "code",
   "execution_count": 131,
   "metadata": {
    "colab": {
     "base_uri": "https://localhost:8080/",
     "height": 366
    },
    "id": "o31snXRaLj-e",
    "outputId": "2545a821-1f4a-4199-b344-2194d8869b18"
   },
   "outputs": [
    {
     "data": {
      "text/html": [
       "<div>\n",
       "<style scoped>\n",
       "    .dataframe tbody tr th:only-of-type {\n",
       "        vertical-align: middle;\n",
       "    }\n",
       "\n",
       "    .dataframe tbody tr th {\n",
       "        vertical-align: top;\n",
       "    }\n",
       "\n",
       "    .dataframe thead th {\n",
       "        text-align: right;\n",
       "    }\n",
       "</style>\n",
       "<table border=\"1\" class=\"dataframe\">\n",
       "  <thead>\n",
       "    <tr style=\"text-align: right;\">\n",
       "      <th>id</th>\n",
       "      <th>AV13O1A8GV-KLJ3akUyj</th>\n",
       "      <th>AV14LG0R-jtxr-f38QfS</th>\n",
       "      <th>AV16khLE-jtxr-f38VFn</th>\n",
       "      <th>AV1YGDqsGV-KLJ3adc-O</th>\n",
       "      <th>AV1YIch7GV-KLJ3addeG</th>\n",
       "      <th>AV1YlENIglJLPUi8IHsX</th>\n",
       "      <th>AV1YmBrdGV-KLJ3adewb</th>\n",
       "      <th>AV1YmDL9vKc47QAVgr7_</th>\n",
       "      <th>AV1Ymf_rglJLPUi8II2v</th>\n",
       "      <th>AV1Yn94nvKc47QAVgtst</th>\n",
       "      <th>...</th>\n",
       "      <th>AVpfrFDZLJeJML43Bmv0</th>\n",
       "      <th>AVpfrTyiLJeJML43BrSI</th>\n",
       "      <th>AVpfrfHF1cnluZ0-pRai</th>\n",
       "      <th>AVpfrgjFLJeJML43BvCc</th>\n",
       "      <th>AVpfsQoeilAPnD_xgfx5</th>\n",
       "      <th>AVpfshNsLJeJML43CB8q</th>\n",
       "      <th>AVpfthSailAPnD_xg3ON</th>\n",
       "      <th>AVpftikC1cnluZ0-p31V</th>\n",
       "      <th>AVpfv4TlilAPnD_xhjNS</th>\n",
       "      <th>AVpfvieo1cnluZ0-qdnu</th>\n",
       "    </tr>\n",
       "    <tr>\n",
       "      <th>reviews_username</th>\n",
       "      <th></th>\n",
       "      <th></th>\n",
       "      <th></th>\n",
       "      <th></th>\n",
       "      <th></th>\n",
       "      <th></th>\n",
       "      <th></th>\n",
       "      <th></th>\n",
       "      <th></th>\n",
       "      <th></th>\n",
       "      <th></th>\n",
       "      <th></th>\n",
       "      <th></th>\n",
       "      <th></th>\n",
       "      <th></th>\n",
       "      <th></th>\n",
       "      <th></th>\n",
       "      <th></th>\n",
       "      <th></th>\n",
       "      <th></th>\n",
       "      <th></th>\n",
       "    </tr>\n",
       "  </thead>\n",
       "  <tbody>\n",
       "    <tr>\n",
       "      <th>00sab00</th>\n",
       "      <td>NaN</td>\n",
       "      <td>NaN</td>\n",
       "      <td>NaN</td>\n",
       "      <td>NaN</td>\n",
       "      <td>NaN</td>\n",
       "      <td>NaN</td>\n",
       "      <td>NaN</td>\n",
       "      <td>NaN</td>\n",
       "      <td>NaN</td>\n",
       "      <td>NaN</td>\n",
       "      <td>...</td>\n",
       "      <td>NaN</td>\n",
       "      <td>NaN</td>\n",
       "      <td>NaN</td>\n",
       "      <td>NaN</td>\n",
       "      <td>NaN</td>\n",
       "      <td>NaN</td>\n",
       "      <td>NaN</td>\n",
       "      <td>NaN</td>\n",
       "      <td>NaN</td>\n",
       "      <td>NaN</td>\n",
       "    </tr>\n",
       "    <tr>\n",
       "      <th>01impala</th>\n",
       "      <td>NaN</td>\n",
       "      <td>NaN</td>\n",
       "      <td>NaN</td>\n",
       "      <td>NaN</td>\n",
       "      <td>NaN</td>\n",
       "      <td>NaN</td>\n",
       "      <td>NaN</td>\n",
       "      <td>NaN</td>\n",
       "      <td>NaN</td>\n",
       "      <td>NaN</td>\n",
       "      <td>...</td>\n",
       "      <td>NaN</td>\n",
       "      <td>NaN</td>\n",
       "      <td>NaN</td>\n",
       "      <td>NaN</td>\n",
       "      <td>NaN</td>\n",
       "      <td>NaN</td>\n",
       "      <td>NaN</td>\n",
       "      <td>NaN</td>\n",
       "      <td>NaN</td>\n",
       "      <td>NaN</td>\n",
       "    </tr>\n",
       "    <tr>\n",
       "      <th>02dakota</th>\n",
       "      <td>NaN</td>\n",
       "      <td>NaN</td>\n",
       "      <td>NaN</td>\n",
       "      <td>NaN</td>\n",
       "      <td>NaN</td>\n",
       "      <td>NaN</td>\n",
       "      <td>NaN</td>\n",
       "      <td>NaN</td>\n",
       "      <td>NaN</td>\n",
       "      <td>NaN</td>\n",
       "      <td>...</td>\n",
       "      <td>NaN</td>\n",
       "      <td>NaN</td>\n",
       "      <td>NaN</td>\n",
       "      <td>NaN</td>\n",
       "      <td>NaN</td>\n",
       "      <td>NaN</td>\n",
       "      <td>NaN</td>\n",
       "      <td>NaN</td>\n",
       "      <td>NaN</td>\n",
       "      <td>NaN</td>\n",
       "    </tr>\n",
       "    <tr>\n",
       "      <th>02deuce</th>\n",
       "      <td>NaN</td>\n",
       "      <td>NaN</td>\n",
       "      <td>NaN</td>\n",
       "      <td>NaN</td>\n",
       "      <td>NaN</td>\n",
       "      <td>NaN</td>\n",
       "      <td>NaN</td>\n",
       "      <td>NaN</td>\n",
       "      <td>NaN</td>\n",
       "      <td>NaN</td>\n",
       "      <td>...</td>\n",
       "      <td>NaN</td>\n",
       "      <td>NaN</td>\n",
       "      <td>NaN</td>\n",
       "      <td>NaN</td>\n",
       "      <td>NaN</td>\n",
       "      <td>NaN</td>\n",
       "      <td>NaN</td>\n",
       "      <td>NaN</td>\n",
       "      <td>NaN</td>\n",
       "      <td>NaN</td>\n",
       "    </tr>\n",
       "    <tr>\n",
       "      <th>0325home</th>\n",
       "      <td>NaN</td>\n",
       "      <td>NaN</td>\n",
       "      <td>NaN</td>\n",
       "      <td>NaN</td>\n",
       "      <td>NaN</td>\n",
       "      <td>NaN</td>\n",
       "      <td>NaN</td>\n",
       "      <td>NaN</td>\n",
       "      <td>NaN</td>\n",
       "      <td>NaN</td>\n",
       "      <td>...</td>\n",
       "      <td>NaN</td>\n",
       "      <td>NaN</td>\n",
       "      <td>NaN</td>\n",
       "      <td>NaN</td>\n",
       "      <td>NaN</td>\n",
       "      <td>NaN</td>\n",
       "      <td>NaN</td>\n",
       "      <td>NaN</td>\n",
       "      <td>NaN</td>\n",
       "      <td>NaN</td>\n",
       "    </tr>\n",
       "  </tbody>\n",
       "</table>\n",
       "<p>5 rows × 256 columns</p>\n",
       "</div>"
      ],
      "text/plain": [
       "id                AV13O1A8GV-KLJ3akUyj  AV14LG0R-jtxr-f38QfS  \\\n",
       "reviews_username                                               \n",
       "00sab00                            NaN                   NaN   \n",
       "01impala                           NaN                   NaN   \n",
       "02dakota                           NaN                   NaN   \n",
       "02deuce                            NaN                   NaN   \n",
       "0325home                           NaN                   NaN   \n",
       "\n",
       "id                AV16khLE-jtxr-f38VFn  AV1YGDqsGV-KLJ3adc-O  \\\n",
       "reviews_username                                               \n",
       "00sab00                            NaN                   NaN   \n",
       "01impala                           NaN                   NaN   \n",
       "02dakota                           NaN                   NaN   \n",
       "02deuce                            NaN                   NaN   \n",
       "0325home                           NaN                   NaN   \n",
       "\n",
       "id                AV1YIch7GV-KLJ3addeG  AV1YlENIglJLPUi8IHsX  \\\n",
       "reviews_username                                               \n",
       "00sab00                            NaN                   NaN   \n",
       "01impala                           NaN                   NaN   \n",
       "02dakota                           NaN                   NaN   \n",
       "02deuce                            NaN                   NaN   \n",
       "0325home                           NaN                   NaN   \n",
       "\n",
       "id                AV1YmBrdGV-KLJ3adewb  AV1YmDL9vKc47QAVgr7_  \\\n",
       "reviews_username                                               \n",
       "00sab00                            NaN                   NaN   \n",
       "01impala                           NaN                   NaN   \n",
       "02dakota                           NaN                   NaN   \n",
       "02deuce                            NaN                   NaN   \n",
       "0325home                           NaN                   NaN   \n",
       "\n",
       "id                AV1Ymf_rglJLPUi8II2v  AV1Yn94nvKc47QAVgtst  ...  \\\n",
       "reviews_username                                              ...   \n",
       "00sab00                            NaN                   NaN  ...   \n",
       "01impala                           NaN                   NaN  ...   \n",
       "02dakota                           NaN                   NaN  ...   \n",
       "02deuce                            NaN                   NaN  ...   \n",
       "0325home                           NaN                   NaN  ...   \n",
       "\n",
       "id                AVpfrFDZLJeJML43Bmv0  AVpfrTyiLJeJML43BrSI  \\\n",
       "reviews_username                                               \n",
       "00sab00                            NaN                   NaN   \n",
       "01impala                           NaN                   NaN   \n",
       "02dakota                           NaN                   NaN   \n",
       "02deuce                            NaN                   NaN   \n",
       "0325home                           NaN                   NaN   \n",
       "\n",
       "id                AVpfrfHF1cnluZ0-pRai  AVpfrgjFLJeJML43BvCc  \\\n",
       "reviews_username                                               \n",
       "00sab00                            NaN                   NaN   \n",
       "01impala                           NaN                   NaN   \n",
       "02dakota                           NaN                   NaN   \n",
       "02deuce                            NaN                   NaN   \n",
       "0325home                           NaN                   NaN   \n",
       "\n",
       "id                AVpfsQoeilAPnD_xgfx5  AVpfshNsLJeJML43CB8q  \\\n",
       "reviews_username                                               \n",
       "00sab00                            NaN                   NaN   \n",
       "01impala                           NaN                   NaN   \n",
       "02dakota                           NaN                   NaN   \n",
       "02deuce                            NaN                   NaN   \n",
       "0325home                           NaN                   NaN   \n",
       "\n",
       "id                AVpfthSailAPnD_xg3ON  AVpftikC1cnluZ0-p31V  \\\n",
       "reviews_username                                               \n",
       "00sab00                            NaN                   NaN   \n",
       "01impala                           NaN                   NaN   \n",
       "02dakota                           NaN                   NaN   \n",
       "02deuce                            NaN                   NaN   \n",
       "0325home                           NaN                   NaN   \n",
       "\n",
       "id                AVpfv4TlilAPnD_xhjNS  AVpfvieo1cnluZ0-qdnu  \n",
       "reviews_username                                              \n",
       "00sab00                            NaN                   NaN  \n",
       "01impala                           NaN                   NaN  \n",
       "02dakota                           NaN                   NaN  \n",
       "02deuce                            NaN                   NaN  \n",
       "0325home                           NaN                   NaN  \n",
       "\n",
       "[5 rows x 256 columns]"
      ]
     },
     "execution_count": 131,
     "metadata": {},
     "output_type": "execute_result"
    }
   ],
   "source": [
    "df_subtracted.head()"
   ]
  },
  {
   "cell_type": "markdown",
   "metadata": {
    "id": "KRKVgF3vLnHG"
   },
   "source": [
    "**Finding cosine similarity**"
   ]
  },
  {
   "cell_type": "code",
   "execution_count": 132,
   "metadata": {
    "colab": {
     "base_uri": "https://localhost:8080/"
    },
    "id": "6ShjSwJELqvY",
    "outputId": "1c1cc4e8-3601-47ea-ed30-cef7d191a2f1"
   },
   "outputs": [
    {
     "name": "stdout",
     "output_type": "stream",
     "text": [
      "[[1. 0. 0. ... 0. 0. 0.]\n",
      " [0. 0. 0. ... 0. 0. 0.]\n",
      " [0. 0. 0. ... 0. 0. 0.]\n",
      " ...\n",
      " [0. 0. 0. ... 0. 0. 0.]\n",
      " [0. 0. 0. ... 0. 0. 0.]\n",
      " [0. 0. 0. ... 0. 0. 0.]]\n"
     ]
    }
   ],
   "source": [
    "# Creating the User Similarity Matrix using pairwise_distance function.\n",
    "user_correlation = 1 - pairwise_distances(df_subtracted.fillna(0), metric='cosine')\n",
    "user_correlation[np.isnan(user_correlation)] = 0\n",
    "print(user_correlation)"
   ]
  },
  {
   "cell_type": "code",
   "execution_count": 133,
   "metadata": {
    "colab": {
     "base_uri": "https://localhost:8080/"
    },
    "id": "KWaY7DrFLvh_",
    "outputId": "a4282448-1a3c-4054-fd4f-54f7977fb621"
   },
   "outputs": [
    {
     "data": {
      "text/plain": [
       "(18275, 18275)"
      ]
     },
     "execution_count": 133,
     "metadata": {},
     "output_type": "execute_result"
    }
   ],
   "source": [
    "user_correlation.shape"
   ]
  },
  {
   "cell_type": "markdown",
   "metadata": {
    "id": "_tnMynGnLx2Q"
   },
   "source": [
    "**Prediction - User User**\n",
    "\n",
    "Doing the prediction for the users which are positively related with other users, and not the users which are negatively related as we are interested in the users which are more similar to the current users. So, we will be ignoring the correlation for values less than 0."
   ]
  },
  {
   "cell_type": "code",
   "execution_count": 134,
   "metadata": {
    "colab": {
     "base_uri": "https://localhost:8080/"
    },
    "id": "XYrxOkLiL5Qj",
    "outputId": "a4e90475-7ef5-467f-e57c-ba7d29d502e1"
   },
   "outputs": [
    {
     "data": {
      "text/plain": [
       "array([[1., 0., 0., ..., 0., 0., 0.],\n",
       "       [0., 0., 0., ..., 0., 0., 0.],\n",
       "       [0., 0., 0., ..., 0., 0., 0.],\n",
       "       ...,\n",
       "       [0., 0., 0., ..., 0., 0., 0.],\n",
       "       [0., 0., 0., ..., 0., 0., 0.],\n",
       "       [0., 0., 0., ..., 0., 0., 0.]])"
      ]
     },
     "execution_count": 134,
     "metadata": {},
     "output_type": "execute_result"
    }
   ],
   "source": [
    "user_correlation[user_correlation<0]=0\n",
    "user_correlation"
   ]
  },
  {
   "cell_type": "markdown",
   "metadata": {
    "id": "frwKnXz1L87d"
   },
   "source": [
    "Rating predicted by the user (for products rated as well as not rated) is the weighted sum of correlation with the product rating (as present in the rating dataset)."
   ]
  },
  {
   "cell_type": "code",
   "execution_count": 135,
   "metadata": {
    "colab": {
     "base_uri": "https://localhost:8080/"
    },
    "id": "mv_DeX-uL_DG",
    "outputId": "083708e2-b2de-4100-9200-a5408b9877a4"
   },
   "outputs": [
    {
     "data": {
      "text/plain": [
       "array([[0.        , 0.        , 2.5       , ..., 1.46525748, 1.88982237,\n",
       "        0.20412415],\n",
       "       [0.        , 0.        , 0.        , ..., 0.        , 0.        ,\n",
       "        0.        ],\n",
       "       [0.        , 0.        , 0.        , ..., 0.        , 0.        ,\n",
       "        0.        ],\n",
       "       ...,\n",
       "       [0.        , 0.        , 0.        , ..., 0.        , 0.        ,\n",
       "        0.        ],\n",
       "       [0.        , 0.        , 0.        , ..., 0.        , 0.        ,\n",
       "        0.        ],\n",
       "       [0.        , 0.        , 0.        , ..., 0.        , 0.        ,\n",
       "        0.        ]])"
      ]
     },
     "execution_count": 135,
     "metadata": {},
     "output_type": "execute_result"
    }
   ],
   "source": [
    "user_predicted_ratings = np.dot(user_correlation, df_pivot.fillna(0))\n",
    "user_predicted_ratings"
   ]
  },
  {
   "cell_type": "code",
   "execution_count": 136,
   "metadata": {
    "colab": {
     "base_uri": "https://localhost:8080/"
    },
    "id": "Sw8n6XleMCVu",
    "outputId": "2aec8579-78fb-41fc-a8d7-cca3e2cd859f"
   },
   "outputs": [
    {
     "data": {
      "text/plain": [
       "(18275, 256)"
      ]
     },
     "execution_count": 136,
     "metadata": {},
     "output_type": "execute_result"
    }
   ],
   "source": [
    "user_predicted_ratings.shape"
   ]
  },
  {
   "cell_type": "markdown",
   "metadata": {
    "id": "ecTHx1QvMFNW"
   },
   "source": [
    "Since we are interested only in the products not rated by the user, we will ignore the products rated by the user by making it zero."
   ]
  },
  {
   "cell_type": "code",
   "execution_count": 137,
   "metadata": {
    "colab": {
     "base_uri": "https://localhost:8080/",
     "height": 366
    },
    "id": "jqgdn9tdMHfr",
    "outputId": "b43fa005-1d3e-48e8-bd00-b904faaa028a"
   },
   "outputs": [
    {
     "data": {
      "text/html": [
       "<div>\n",
       "<style scoped>\n",
       "    .dataframe tbody tr th:only-of-type {\n",
       "        vertical-align: middle;\n",
       "    }\n",
       "\n",
       "    .dataframe tbody tr th {\n",
       "        vertical-align: top;\n",
       "    }\n",
       "\n",
       "    .dataframe thead th {\n",
       "        text-align: right;\n",
       "    }\n",
       "</style>\n",
       "<table border=\"1\" class=\"dataframe\">\n",
       "  <thead>\n",
       "    <tr style=\"text-align: right;\">\n",
       "      <th>id</th>\n",
       "      <th>AV13O1A8GV-KLJ3akUyj</th>\n",
       "      <th>AV14LG0R-jtxr-f38QfS</th>\n",
       "      <th>AV16khLE-jtxr-f38VFn</th>\n",
       "      <th>AV1YGDqsGV-KLJ3adc-O</th>\n",
       "      <th>AV1YIch7GV-KLJ3addeG</th>\n",
       "      <th>AV1YlENIglJLPUi8IHsX</th>\n",
       "      <th>AV1YmBrdGV-KLJ3adewb</th>\n",
       "      <th>AV1YmDL9vKc47QAVgr7_</th>\n",
       "      <th>AV1Ymf_rglJLPUi8II2v</th>\n",
       "      <th>AV1Yn94nvKc47QAVgtst</th>\n",
       "      <th>...</th>\n",
       "      <th>AVpfrFDZLJeJML43Bmv0</th>\n",
       "      <th>AVpfrTyiLJeJML43BrSI</th>\n",
       "      <th>AVpfrfHF1cnluZ0-pRai</th>\n",
       "      <th>AVpfrgjFLJeJML43BvCc</th>\n",
       "      <th>AVpfsQoeilAPnD_xgfx5</th>\n",
       "      <th>AVpfshNsLJeJML43CB8q</th>\n",
       "      <th>AVpfthSailAPnD_xg3ON</th>\n",
       "      <th>AVpftikC1cnluZ0-p31V</th>\n",
       "      <th>AVpfv4TlilAPnD_xhjNS</th>\n",
       "      <th>AVpfvieo1cnluZ0-qdnu</th>\n",
       "    </tr>\n",
       "    <tr>\n",
       "      <th>reviews_username</th>\n",
       "      <th></th>\n",
       "      <th></th>\n",
       "      <th></th>\n",
       "      <th></th>\n",
       "      <th></th>\n",
       "      <th></th>\n",
       "      <th></th>\n",
       "      <th></th>\n",
       "      <th></th>\n",
       "      <th></th>\n",
       "      <th></th>\n",
       "      <th></th>\n",
       "      <th></th>\n",
       "      <th></th>\n",
       "      <th></th>\n",
       "      <th></th>\n",
       "      <th></th>\n",
       "      <th></th>\n",
       "      <th></th>\n",
       "      <th></th>\n",
       "      <th></th>\n",
       "    </tr>\n",
       "  </thead>\n",
       "  <tbody>\n",
       "    <tr>\n",
       "      <th>00sab00</th>\n",
       "      <td>0.0</td>\n",
       "      <td>0.0</td>\n",
       "      <td>2.5</td>\n",
       "      <td>3.596262</td>\n",
       "      <td>0.0</td>\n",
       "      <td>0.0</td>\n",
       "      <td>0.0</td>\n",
       "      <td>0.0</td>\n",
       "      <td>2.581989</td>\n",
       "      <td>1.018079</td>\n",
       "      <td>...</td>\n",
       "      <td>1.666667</td>\n",
       "      <td>0.188982</td>\n",
       "      <td>0.0</td>\n",
       "      <td>0.0</td>\n",
       "      <td>0.0</td>\n",
       "      <td>0.0</td>\n",
       "      <td>0.0</td>\n",
       "      <td>1.465257</td>\n",
       "      <td>1.889822</td>\n",
       "      <td>0.204124</td>\n",
       "    </tr>\n",
       "    <tr>\n",
       "      <th>01impala</th>\n",
       "      <td>0.0</td>\n",
       "      <td>0.0</td>\n",
       "      <td>0.0</td>\n",
       "      <td>0.000000</td>\n",
       "      <td>0.0</td>\n",
       "      <td>0.0</td>\n",
       "      <td>0.0</td>\n",
       "      <td>0.0</td>\n",
       "      <td>0.000000</td>\n",
       "      <td>0.000000</td>\n",
       "      <td>...</td>\n",
       "      <td>0.000000</td>\n",
       "      <td>0.000000</td>\n",
       "      <td>0.0</td>\n",
       "      <td>0.0</td>\n",
       "      <td>0.0</td>\n",
       "      <td>0.0</td>\n",
       "      <td>0.0</td>\n",
       "      <td>0.000000</td>\n",
       "      <td>0.000000</td>\n",
       "      <td>0.000000</td>\n",
       "    </tr>\n",
       "    <tr>\n",
       "      <th>02dakota</th>\n",
       "      <td>0.0</td>\n",
       "      <td>0.0</td>\n",
       "      <td>0.0</td>\n",
       "      <td>0.000000</td>\n",
       "      <td>0.0</td>\n",
       "      <td>0.0</td>\n",
       "      <td>0.0</td>\n",
       "      <td>0.0</td>\n",
       "      <td>0.000000</td>\n",
       "      <td>0.000000</td>\n",
       "      <td>...</td>\n",
       "      <td>0.000000</td>\n",
       "      <td>0.000000</td>\n",
       "      <td>0.0</td>\n",
       "      <td>0.0</td>\n",
       "      <td>0.0</td>\n",
       "      <td>0.0</td>\n",
       "      <td>0.0</td>\n",
       "      <td>0.000000</td>\n",
       "      <td>0.000000</td>\n",
       "      <td>0.000000</td>\n",
       "    </tr>\n",
       "    <tr>\n",
       "      <th>02deuce</th>\n",
       "      <td>0.0</td>\n",
       "      <td>0.0</td>\n",
       "      <td>0.0</td>\n",
       "      <td>0.000000</td>\n",
       "      <td>0.0</td>\n",
       "      <td>0.0</td>\n",
       "      <td>0.0</td>\n",
       "      <td>0.0</td>\n",
       "      <td>0.000000</td>\n",
       "      <td>0.000000</td>\n",
       "      <td>...</td>\n",
       "      <td>0.000000</td>\n",
       "      <td>0.000000</td>\n",
       "      <td>0.0</td>\n",
       "      <td>0.0</td>\n",
       "      <td>0.0</td>\n",
       "      <td>0.0</td>\n",
       "      <td>0.0</td>\n",
       "      <td>0.000000</td>\n",
       "      <td>0.000000</td>\n",
       "      <td>0.000000</td>\n",
       "    </tr>\n",
       "    <tr>\n",
       "      <th>0325home</th>\n",
       "      <td>0.0</td>\n",
       "      <td>0.0</td>\n",
       "      <td>0.0</td>\n",
       "      <td>0.000000</td>\n",
       "      <td>0.0</td>\n",
       "      <td>0.0</td>\n",
       "      <td>0.0</td>\n",
       "      <td>0.0</td>\n",
       "      <td>0.000000</td>\n",
       "      <td>0.000000</td>\n",
       "      <td>...</td>\n",
       "      <td>0.000000</td>\n",
       "      <td>0.000000</td>\n",
       "      <td>0.0</td>\n",
       "      <td>0.0</td>\n",
       "      <td>0.0</td>\n",
       "      <td>0.0</td>\n",
       "      <td>0.0</td>\n",
       "      <td>0.000000</td>\n",
       "      <td>0.000000</td>\n",
       "      <td>0.000000</td>\n",
       "    </tr>\n",
       "  </tbody>\n",
       "</table>\n",
       "<p>5 rows × 256 columns</p>\n",
       "</div>"
      ],
      "text/plain": [
       "id                AV13O1A8GV-KLJ3akUyj  AV14LG0R-jtxr-f38QfS  \\\n",
       "reviews_username                                               \n",
       "00sab00                            0.0                   0.0   \n",
       "01impala                           0.0                   0.0   \n",
       "02dakota                           0.0                   0.0   \n",
       "02deuce                            0.0                   0.0   \n",
       "0325home                           0.0                   0.0   \n",
       "\n",
       "id                AV16khLE-jtxr-f38VFn  AV1YGDqsGV-KLJ3adc-O  \\\n",
       "reviews_username                                               \n",
       "00sab00                            2.5              3.596262   \n",
       "01impala                           0.0              0.000000   \n",
       "02dakota                           0.0              0.000000   \n",
       "02deuce                            0.0              0.000000   \n",
       "0325home                           0.0              0.000000   \n",
       "\n",
       "id                AV1YIch7GV-KLJ3addeG  AV1YlENIglJLPUi8IHsX  \\\n",
       "reviews_username                                               \n",
       "00sab00                            0.0                   0.0   \n",
       "01impala                           0.0                   0.0   \n",
       "02dakota                           0.0                   0.0   \n",
       "02deuce                            0.0                   0.0   \n",
       "0325home                           0.0                   0.0   \n",
       "\n",
       "id                AV1YmBrdGV-KLJ3adewb  AV1YmDL9vKc47QAVgr7_  \\\n",
       "reviews_username                                               \n",
       "00sab00                            0.0                   0.0   \n",
       "01impala                           0.0                   0.0   \n",
       "02dakota                           0.0                   0.0   \n",
       "02deuce                            0.0                   0.0   \n",
       "0325home                           0.0                   0.0   \n",
       "\n",
       "id                AV1Ymf_rglJLPUi8II2v  AV1Yn94nvKc47QAVgtst  ...  \\\n",
       "reviews_username                                              ...   \n",
       "00sab00                       2.581989              1.018079  ...   \n",
       "01impala                      0.000000              0.000000  ...   \n",
       "02dakota                      0.000000              0.000000  ...   \n",
       "02deuce                       0.000000              0.000000  ...   \n",
       "0325home                      0.000000              0.000000  ...   \n",
       "\n",
       "id                AVpfrFDZLJeJML43Bmv0  AVpfrTyiLJeJML43BrSI  \\\n",
       "reviews_username                                               \n",
       "00sab00                       1.666667              0.188982   \n",
       "01impala                      0.000000              0.000000   \n",
       "02dakota                      0.000000              0.000000   \n",
       "02deuce                       0.000000              0.000000   \n",
       "0325home                      0.000000              0.000000   \n",
       "\n",
       "id                AVpfrfHF1cnluZ0-pRai  AVpfrgjFLJeJML43BvCc  \\\n",
       "reviews_username                                               \n",
       "00sab00                            0.0                   0.0   \n",
       "01impala                           0.0                   0.0   \n",
       "02dakota                           0.0                   0.0   \n",
       "02deuce                            0.0                   0.0   \n",
       "0325home                           0.0                   0.0   \n",
       "\n",
       "id                AVpfsQoeilAPnD_xgfx5  AVpfshNsLJeJML43CB8q  \\\n",
       "reviews_username                                               \n",
       "00sab00                            0.0                   0.0   \n",
       "01impala                           0.0                   0.0   \n",
       "02dakota                           0.0                   0.0   \n",
       "02deuce                            0.0                   0.0   \n",
       "0325home                           0.0                   0.0   \n",
       "\n",
       "id                AVpfthSailAPnD_xg3ON  AVpftikC1cnluZ0-p31V  \\\n",
       "reviews_username                                               \n",
       "00sab00                            0.0              1.465257   \n",
       "01impala                           0.0              0.000000   \n",
       "02dakota                           0.0              0.000000   \n",
       "02deuce                            0.0              0.000000   \n",
       "0325home                           0.0              0.000000   \n",
       "\n",
       "id                AVpfv4TlilAPnD_xhjNS  AVpfvieo1cnluZ0-qdnu  \n",
       "reviews_username                                              \n",
       "00sab00                       1.889822              0.204124  \n",
       "01impala                      0.000000              0.000000  \n",
       "02dakota                      0.000000              0.000000  \n",
       "02deuce                       0.000000              0.000000  \n",
       "0325home                      0.000000              0.000000  \n",
       "\n",
       "[5 rows x 256 columns]"
      ]
     },
     "execution_count": 137,
     "metadata": {},
     "output_type": "execute_result"
    }
   ],
   "source": [
    "user_final_rating = np.multiply(user_predicted_ratings,dummy_train)\n",
    "user_final_rating.head()"
   ]
  },
  {
   "cell_type": "markdown",
   "metadata": {
    "id": "EWpcUqbrMLKx"
   },
   "source": [
    "##**Finding the Top 20 products that a user is most likely to purchase based on the ratings (user-user based recommendation)**"
   ]
  },
  {
   "cell_type": "code",
   "execution_count": 138,
   "metadata": {
    "id": "sc4wMg6SMVxr"
   },
   "outputs": [],
   "source": [
    "# Take a sample username as input.\n",
    "user_input = '00sab00'"
   ]
  },
  {
   "cell_type": "code",
   "execution_count": 139,
   "metadata": {
    "colab": {
     "base_uri": "https://localhost:8080/",
     "height": 677
    },
    "id": "hkrh7vpPMY_5",
    "outputId": "91070bc2-3b15-4c7b-ff7a-6af5a20e53e3"
   },
   "outputs": [
    {
     "data": {
      "text/html": [
       "<div>\n",
       "<style scoped>\n",
       "    .dataframe tbody tr th:only-of-type {\n",
       "        vertical-align: middle;\n",
       "    }\n",
       "\n",
       "    .dataframe tbody tr th {\n",
       "        vertical-align: top;\n",
       "    }\n",
       "\n",
       "    .dataframe thead th {\n",
       "        text-align: right;\n",
       "    }\n",
       "</style>\n",
       "<table border=\"1\" class=\"dataframe\">\n",
       "  <thead>\n",
       "    <tr style=\"text-align: right;\">\n",
       "      <th></th>\n",
       "      <th>Product Id</th>\n",
       "      <th>cosine_similarity_score</th>\n",
       "    </tr>\n",
       "  </thead>\n",
       "  <tbody>\n",
       "    <tr>\n",
       "      <th>0</th>\n",
       "      <td>AVpfPaoqLJeJML435Xk9</td>\n",
       "      <td>37.472929</td>\n",
       "    </tr>\n",
       "    <tr>\n",
       "      <th>1</th>\n",
       "      <td>AVpfRTh1ilAPnD_xYic2</td>\n",
       "      <td>29.191053</td>\n",
       "    </tr>\n",
       "    <tr>\n",
       "      <th>2</th>\n",
       "      <td>AVpf0eb2LJeJML43EVSt</td>\n",
       "      <td>14.259486</td>\n",
       "    </tr>\n",
       "    <tr>\n",
       "      <th>3</th>\n",
       "      <td>AVpf3VOfilAPnD_xjpun</td>\n",
       "      <td>12.313738</td>\n",
       "    </tr>\n",
       "    <tr>\n",
       "      <th>4</th>\n",
       "      <td>AVpf2tw1ilAPnD_xjflC</td>\n",
       "      <td>11.178377</td>\n",
       "    </tr>\n",
       "    <tr>\n",
       "      <th>5</th>\n",
       "      <td>AVpfBrUZilAPnD_xTUly</td>\n",
       "      <td>7.831663</td>\n",
       "    </tr>\n",
       "    <tr>\n",
       "      <th>6</th>\n",
       "      <td>AVpfov9TLJeJML43A7B0</td>\n",
       "      <td>6.623441</td>\n",
       "    </tr>\n",
       "    <tr>\n",
       "      <th>7</th>\n",
       "      <td>AVpf385g1cnluZ0-s0_t</td>\n",
       "      <td>6.253560</td>\n",
       "    </tr>\n",
       "    <tr>\n",
       "      <th>8</th>\n",
       "      <td>AVpfM_ytilAPnD_xXIJb</td>\n",
       "      <td>6.154565</td>\n",
       "    </tr>\n",
       "    <tr>\n",
       "      <th>9</th>\n",
       "      <td>AVpfR5m0LJeJML436K3W</td>\n",
       "      <td>5.650706</td>\n",
       "    </tr>\n",
       "    <tr>\n",
       "      <th>10</th>\n",
       "      <td>AVpfOIrkilAPnD_xXgDG</td>\n",
       "      <td>5.431250</td>\n",
       "    </tr>\n",
       "    <tr>\n",
       "      <th>11</th>\n",
       "      <td>AVpfPnrU1cnluZ0-g9rL</td>\n",
       "      <td>4.684745</td>\n",
       "    </tr>\n",
       "    <tr>\n",
       "      <th>12</th>\n",
       "      <td>AVpf0thK1cnluZ0-r8vR</td>\n",
       "      <td>3.653338</td>\n",
       "    </tr>\n",
       "    <tr>\n",
       "      <th>13</th>\n",
       "      <td>AV1YGDqsGV-KLJ3adc-O</td>\n",
       "      <td>3.596262</td>\n",
       "    </tr>\n",
       "    <tr>\n",
       "      <th>14</th>\n",
       "      <td>AVpfazX31cnluZ0-kbdl</td>\n",
       "      <td>3.347910</td>\n",
       "    </tr>\n",
       "    <tr>\n",
       "      <th>15</th>\n",
       "      <td>AVpfJP1C1cnluZ0-e3Xy</td>\n",
       "      <td>3.316497</td>\n",
       "    </tr>\n",
       "    <tr>\n",
       "      <th>16</th>\n",
       "      <td>AVpe8gsILJeJML43y6Ed</td>\n",
       "      <td>2.958040</td>\n",
       "    </tr>\n",
       "    <tr>\n",
       "      <th>17</th>\n",
       "      <td>AVpfN6Z71cnluZ0-gZmO</td>\n",
       "      <td>2.926401</td>\n",
       "    </tr>\n",
       "    <tr>\n",
       "      <th>18</th>\n",
       "      <td>AVpfMpZ51cnluZ0-f_L9</td>\n",
       "      <td>2.913289</td>\n",
       "    </tr>\n",
       "    <tr>\n",
       "      <th>19</th>\n",
       "      <td>AVpf5Z1zLJeJML43FpB-</td>\n",
       "      <td>2.886751</td>\n",
       "    </tr>\n",
       "  </tbody>\n",
       "</table>\n",
       "</div>"
      ],
      "text/plain": [
       "              Product Id  cosine_similarity_score\n",
       "0   AVpfPaoqLJeJML435Xk9                37.472929\n",
       "1   AVpfRTh1ilAPnD_xYic2                29.191053\n",
       "2   AVpf0eb2LJeJML43EVSt                14.259486\n",
       "3   AVpf3VOfilAPnD_xjpun                12.313738\n",
       "4   AVpf2tw1ilAPnD_xjflC                11.178377\n",
       "5   AVpfBrUZilAPnD_xTUly                 7.831663\n",
       "6   AVpfov9TLJeJML43A7B0                 6.623441\n",
       "7   AVpf385g1cnluZ0-s0_t                 6.253560\n",
       "8   AVpfM_ytilAPnD_xXIJb                 6.154565\n",
       "9   AVpfR5m0LJeJML436K3W                 5.650706\n",
       "10  AVpfOIrkilAPnD_xXgDG                 5.431250\n",
       "11  AVpfPnrU1cnluZ0-g9rL                 4.684745\n",
       "12  AVpf0thK1cnluZ0-r8vR                 3.653338\n",
       "13  AV1YGDqsGV-KLJ3adc-O                 3.596262\n",
       "14  AVpfazX31cnluZ0-kbdl                 3.347910\n",
       "15  AVpfJP1C1cnluZ0-e3Xy                 3.316497\n",
       "16  AVpe8gsILJeJML43y6Ed                 2.958040\n",
       "17  AVpfN6Z71cnluZ0-gZmO                 2.926401\n",
       "18  AVpfMpZ51cnluZ0-f_L9                 2.913289\n",
       "19  AVpf5Z1zLJeJML43FpB-                 2.886751"
      ]
     },
     "execution_count": 139,
     "metadata": {},
     "output_type": "execute_result"
    }
   ],
   "source": [
    "top20_recommendations = user_final_rating.loc[user_input].sort_values(ascending=False)[0:20]\n",
    "df_top20_recommendations = pd.DataFrame({'Product Id': top20_recommendations.index, 'cosine_similarity_score' : top20_recommendations})\n",
    "df_top20_recommendations.reset_index(drop=True, inplace=True)\n",
    "df_top20_recommendations"
   ]
  },
  {
   "cell_type": "code",
   "execution_count": 140,
   "metadata": {
    "colab": {
     "base_uri": "https://localhost:8080/",
     "height": 677
    },
    "id": "NZXGdIG8MczI",
    "outputId": "82588a2d-bc57-46a3-fbf2-5aa980adfa87"
   },
   "outputs": [
    {
     "data": {
      "text/html": [
       "<div>\n",
       "<style scoped>\n",
       "    .dataframe tbody tr th:only-of-type {\n",
       "        vertical-align: middle;\n",
       "    }\n",
       "\n",
       "    .dataframe tbody tr th {\n",
       "        vertical-align: top;\n",
       "    }\n",
       "\n",
       "    .dataframe thead th {\n",
       "        text-align: right;\n",
       "    }\n",
       "</style>\n",
       "<table border=\"1\" class=\"dataframe\">\n",
       "  <thead>\n",
       "    <tr style=\"text-align: right;\">\n",
       "      <th></th>\n",
       "      <th>Product Id</th>\n",
       "      <th>name</th>\n",
       "      <th>cosine_similarity_score</th>\n",
       "    </tr>\n",
       "  </thead>\n",
       "  <tbody>\n",
       "    <tr>\n",
       "      <th>16</th>\n",
       "      <td>AVpfPaoqLJeJML435Xk9</td>\n",
       "      <td>Godzilla 3d Includes Digital Copy Ultraviolet ...</td>\n",
       "      <td>37.472929</td>\n",
       "    </tr>\n",
       "    <tr>\n",
       "      <th>19</th>\n",
       "      <td>AVpfRTh1ilAPnD_xYic2</td>\n",
       "      <td>Planes: Fire Rescue (2 Discs) (includes Digita...</td>\n",
       "      <td>29.191053</td>\n",
       "    </tr>\n",
       "    <tr>\n",
       "      <th>2</th>\n",
       "      <td>AVpf0eb2LJeJML43EVSt</td>\n",
       "      <td>The Resident Evil Collection 5 Discs (blu-Ray)</td>\n",
       "      <td>14.259486</td>\n",
       "    </tr>\n",
       "    <tr>\n",
       "      <th>6</th>\n",
       "      <td>AVpf3VOfilAPnD_xjpun</td>\n",
       "      <td>Clorox Disinfecting Wipes Value Pack Scented 1...</td>\n",
       "      <td>12.313738</td>\n",
       "    </tr>\n",
       "    <tr>\n",
       "      <th>4</th>\n",
       "      <td>AVpf2tw1ilAPnD_xjflC</td>\n",
       "      <td>Red (special Edition) (dvdvideo)</td>\n",
       "      <td>11.178377</td>\n",
       "    </tr>\n",
       "    <tr>\n",
       "      <th>9</th>\n",
       "      <td>AVpfBrUZilAPnD_xTUly</td>\n",
       "      <td>Coty Airspun Face Powder, Translucent Extra Co...</td>\n",
       "      <td>7.831663</td>\n",
       "    </tr>\n",
       "    <tr>\n",
       "      <th>15</th>\n",
       "      <td>AVpfov9TLJeJML43A7B0</td>\n",
       "      <td>Bisquick Original Pancake And Baking Mix - 40oz</td>\n",
       "      <td>6.623441</td>\n",
       "    </tr>\n",
       "    <tr>\n",
       "      <th>5</th>\n",
       "      <td>AVpf385g1cnluZ0-s0_t</td>\n",
       "      <td>Hormel Chili, No Beans</td>\n",
       "      <td>6.253560</td>\n",
       "    </tr>\n",
       "    <tr>\n",
       "      <th>11</th>\n",
       "      <td>AVpfM_ytilAPnD_xXIJb</td>\n",
       "      <td>Tostitos Bite Size Tortilla Chips</td>\n",
       "      <td>6.154565</td>\n",
       "    </tr>\n",
       "    <tr>\n",
       "      <th>18</th>\n",
       "      <td>AVpfR5m0LJeJML436K3W</td>\n",
       "      <td>Jason Aldean - They Don't Know</td>\n",
       "      <td>5.650706</td>\n",
       "    </tr>\n",
       "    <tr>\n",
       "      <th>14</th>\n",
       "      <td>AVpfOIrkilAPnD_xXgDG</td>\n",
       "      <td>Alex Cross (dvdvideo)</td>\n",
       "      <td>5.431250</td>\n",
       "    </tr>\n",
       "    <tr>\n",
       "      <th>17</th>\n",
       "      <td>AVpfPnrU1cnluZ0-g9rL</td>\n",
       "      <td>Stargate (ws) (ultimate Edition) (director's C...</td>\n",
       "      <td>4.684745</td>\n",
       "    </tr>\n",
       "    <tr>\n",
       "      <th>3</th>\n",
       "      <td>AVpf0thK1cnluZ0-r8vR</td>\n",
       "      <td>100:Complete First Season (blu-Ray)</td>\n",
       "      <td>3.653338</td>\n",
       "    </tr>\n",
       "    <tr>\n",
       "      <th>0</th>\n",
       "      <td>AV1YGDqsGV-KLJ3adc-O</td>\n",
       "      <td>Windex Original Glass Cleaner Refill 67.6oz (2...</td>\n",
       "      <td>3.596262</td>\n",
       "    </tr>\n",
       "    <tr>\n",
       "      <th>8</th>\n",
       "      <td>AVpfazX31cnluZ0-kbdl</td>\n",
       "      <td>Just For Men Touch Of Gray Gray Hair Treatment...</td>\n",
       "      <td>3.347910</td>\n",
       "    </tr>\n",
       "    <tr>\n",
       "      <th>10</th>\n",
       "      <td>AVpfJP1C1cnluZ0-e3Xy</td>\n",
       "      <td>Clorox Disinfecting Bathroom Cleaner</td>\n",
       "      <td>3.316497</td>\n",
       "    </tr>\n",
       "    <tr>\n",
       "      <th>1</th>\n",
       "      <td>AVpe8gsILJeJML43y6Ed</td>\n",
       "      <td>Pendaflex174 Divide It Up File Folder, Multi S...</td>\n",
       "      <td>2.958040</td>\n",
       "    </tr>\n",
       "    <tr>\n",
       "      <th>13</th>\n",
       "      <td>AVpfN6Z71cnluZ0-gZmO</td>\n",
       "      <td>Caress Moisturizing Body Bar Natural Silk, 4.75oz</td>\n",
       "      <td>2.926401</td>\n",
       "    </tr>\n",
       "    <tr>\n",
       "      <th>12</th>\n",
       "      <td>AVpfMpZ51cnluZ0-f_L9</td>\n",
       "      <td>Chips Ahoy! Original Chocolate Chip - Cookies ...</td>\n",
       "      <td>2.913289</td>\n",
       "    </tr>\n",
       "    <tr>\n",
       "      <th>7</th>\n",
       "      <td>AVpf5Z1zLJeJML43FpB-</td>\n",
       "      <td>Lysol Concentrate Deodorizing Cleaner, Origina...</td>\n",
       "      <td>2.886751</td>\n",
       "    </tr>\n",
       "  </tbody>\n",
       "</table>\n",
       "</div>"
      ],
      "text/plain": [
       "              Product Id                                               name  \\\n",
       "16  AVpfPaoqLJeJML435Xk9  Godzilla 3d Includes Digital Copy Ultraviolet ...   \n",
       "19  AVpfRTh1ilAPnD_xYic2  Planes: Fire Rescue (2 Discs) (includes Digita...   \n",
       "2   AVpf0eb2LJeJML43EVSt     The Resident Evil Collection 5 Discs (blu-Ray)   \n",
       "6   AVpf3VOfilAPnD_xjpun  Clorox Disinfecting Wipes Value Pack Scented 1...   \n",
       "4   AVpf2tw1ilAPnD_xjflC                   Red (special Edition) (dvdvideo)   \n",
       "9   AVpfBrUZilAPnD_xTUly  Coty Airspun Face Powder, Translucent Extra Co...   \n",
       "15  AVpfov9TLJeJML43A7B0    Bisquick Original Pancake And Baking Mix - 40oz   \n",
       "5   AVpf385g1cnluZ0-s0_t                             Hormel Chili, No Beans   \n",
       "11  AVpfM_ytilAPnD_xXIJb                  Tostitos Bite Size Tortilla Chips   \n",
       "18  AVpfR5m0LJeJML436K3W                     Jason Aldean - They Don't Know   \n",
       "14  AVpfOIrkilAPnD_xXgDG                              Alex Cross (dvdvideo)   \n",
       "17  AVpfPnrU1cnluZ0-g9rL  Stargate (ws) (ultimate Edition) (director's C...   \n",
       "3   AVpf0thK1cnluZ0-r8vR                100:Complete First Season (blu-Ray)   \n",
       "0   AV1YGDqsGV-KLJ3adc-O  Windex Original Glass Cleaner Refill 67.6oz (2...   \n",
       "8   AVpfazX31cnluZ0-kbdl  Just For Men Touch Of Gray Gray Hair Treatment...   \n",
       "10  AVpfJP1C1cnluZ0-e3Xy               Clorox Disinfecting Bathroom Cleaner   \n",
       "1   AVpe8gsILJeJML43y6Ed  Pendaflex174 Divide It Up File Folder, Multi S...   \n",
       "13  AVpfN6Z71cnluZ0-gZmO  Caress Moisturizing Body Bar Natural Silk, 4.75oz   \n",
       "12  AVpfMpZ51cnluZ0-f_L9  Chips Ahoy! Original Chocolate Chip - Cookies ...   \n",
       "7   AVpf5Z1zLJeJML43FpB-  Lysol Concentrate Deodorizing Cleaner, Origina...   \n",
       "\n",
       "    cosine_similarity_score  \n",
       "16                37.472929  \n",
       "19                29.191053  \n",
       "2                 14.259486  \n",
       "6                 12.313738  \n",
       "4                 11.178377  \n",
       "9                  7.831663  \n",
       "15                 6.623441  \n",
       "5                  6.253560  \n",
       "11                 6.154565  \n",
       "18                 5.650706  \n",
       "14                 5.431250  \n",
       "17                 4.684745  \n",
       "3                  3.653338  \n",
       "0                  3.596262  \n",
       "8                  3.347910  \n",
       "10                 3.316497  \n",
       "1                  2.958040  \n",
       "13                 2.926401  \n",
       "12                 2.913289  \n",
       "7                  2.886751  "
      ]
     },
     "execution_count": 140,
     "metadata": {},
     "output_type": "execute_result"
    }
   ],
   "source": [
    "top20_rec = pd.merge(df_reco, df_top20_recommendations,left_on='id',right_on='Product Id', how = 'inner')[['Product Id', 'name', 'cosine_similarity_score']].drop_duplicates()\n",
    "top20_rec.reset_index(drop=True, inplace=True)\n",
    "top20_rec.sort_values(by='cosine_similarity_score', ascending=False)"
   ]
  },
  {
   "cell_type": "markdown",
   "metadata": {
    "id": "3T1ovjGCMjZO"
   },
   "source": [
    "**Evaluation - User User**\n",
    "\n",
    "Evaluation will we same as you have seen above for the prediction. The only difference being, you will evaluate for the product already rated by the user insead of predicting it for the product not rated by the user."
   ]
  },
  {
   "cell_type": "code",
   "execution_count": 141,
   "metadata": {
    "colab": {
     "base_uri": "https://localhost:8080/",
     "height": 112
    },
    "id": "PzaGNYddMmgr",
    "outputId": "53961b8b-b925-428e-84d3-91016412fbea"
   },
   "outputs": [
    {
     "data": {
      "text/html": [
       "<div>\n",
       "<style scoped>\n",
       "    .dataframe tbody tr th:only-of-type {\n",
       "        vertical-align: middle;\n",
       "    }\n",
       "\n",
       "    .dataframe tbody tr th {\n",
       "        vertical-align: top;\n",
       "    }\n",
       "\n",
       "    .dataframe thead th {\n",
       "        text-align: right;\n",
       "    }\n",
       "</style>\n",
       "<table border=\"1\" class=\"dataframe\">\n",
       "  <thead>\n",
       "    <tr style=\"text-align: right;\">\n",
       "      <th></th>\n",
       "      <th>id</th>\n",
       "      <th>name</th>\n",
       "      <th>reviews_rating</th>\n",
       "      <th>reviews_username</th>\n",
       "    </tr>\n",
       "  </thead>\n",
       "  <tbody>\n",
       "    <tr>\n",
       "      <th>962</th>\n",
       "      <td>AV1YGDqsGV-KLJ3adc-O</td>\n",
       "      <td>Windex Original Glass Cleaner Refill 67.6oz (2...</td>\n",
       "      <td>5</td>\n",
       "      <td>brittney w</td>\n",
       "    </tr>\n",
       "    <tr>\n",
       "      <th>10463</th>\n",
       "      <td>AVpf3VOfilAPnD_xjpun</td>\n",
       "      <td>Clorox Disinfecting Wipes Value Pack Scented 1...</td>\n",
       "      <td>5</td>\n",
       "      <td>cjshrad</td>\n",
       "    </tr>\n",
       "  </tbody>\n",
       "</table>\n",
       "</div>"
      ],
      "text/plain": [
       "                         id  \\\n",
       "962    AV1YGDqsGV-KLJ3adc-O   \n",
       "10463  AVpf3VOfilAPnD_xjpun   \n",
       "\n",
       "                                                    name  reviews_rating  \\\n",
       "962    Windex Original Glass Cleaner Refill 67.6oz (2...               5   \n",
       "10463  Clorox Disinfecting Wipes Value Pack Scented 1...               5   \n",
       "\n",
       "      reviews_username  \n",
       "962         brittney w  \n",
       "10463          cjshrad  "
      ]
     },
     "execution_count": 141,
     "metadata": {},
     "output_type": "execute_result"
    }
   ],
   "source": [
    "train.head(2)"
   ]
  },
  {
   "cell_type": "code",
   "execution_count": 142,
   "metadata": {
    "colab": {
     "base_uri": "https://localhost:8080/"
    },
    "id": "lVQ5aAdsMrw7",
    "outputId": "2e74d733-da2a-4eec-e2d9-1fae924d3a6c"
   },
   "outputs": [
    {
     "data": {
      "text/plain": [
       "(2051, 4)"
      ]
     },
     "execution_count": 142,
     "metadata": {},
     "output_type": "execute_result"
    }
   ],
   "source": [
    "# Find out the common users of test and train dataset.\n",
    "common = test[test.reviews_username.isin(train.reviews_username)]\n",
    "common.shape"
   ]
  },
  {
   "cell_type": "code",
   "execution_count": 143,
   "metadata": {
    "colab": {
     "base_uri": "https://localhost:8080/",
     "height": 112
    },
    "id": "YSYzPqKPMv3d",
    "outputId": "b22cc8e5-69a2-4158-c0fd-a9b305b41d28"
   },
   "outputs": [
    {
     "data": {
      "text/html": [
       "<div>\n",
       "<style scoped>\n",
       "    .dataframe tbody tr th:only-of-type {\n",
       "        vertical-align: middle;\n",
       "    }\n",
       "\n",
       "    .dataframe tbody tr th {\n",
       "        vertical-align: top;\n",
       "    }\n",
       "\n",
       "    .dataframe thead th {\n",
       "        text-align: right;\n",
       "    }\n",
       "</style>\n",
       "<table border=\"1\" class=\"dataframe\">\n",
       "  <thead>\n",
       "    <tr style=\"text-align: right;\">\n",
       "      <th></th>\n",
       "      <th>id</th>\n",
       "      <th>name</th>\n",
       "      <th>reviews_rating</th>\n",
       "      <th>reviews_username</th>\n",
       "    </tr>\n",
       "  </thead>\n",
       "  <tbody>\n",
       "    <tr>\n",
       "      <th>12875</th>\n",
       "      <td>AVpf3VOfilAPnD_xjpun</td>\n",
       "      <td>Clorox Disinfecting Wipes Value Pack Scented 1...</td>\n",
       "      <td>5</td>\n",
       "      <td>jessica</td>\n",
       "    </tr>\n",
       "    <tr>\n",
       "      <th>21657</th>\n",
       "      <td>AVpfm8yiLJeJML43AYyu</td>\n",
       "      <td>Nexxus Exxtra Gel Style Creation Sculptor</td>\n",
       "      <td>1</td>\n",
       "      <td>romance318</td>\n",
       "    </tr>\n",
       "  </tbody>\n",
       "</table>\n",
       "</div>"
      ],
      "text/plain": [
       "                         id  \\\n",
       "12875  AVpf3VOfilAPnD_xjpun   \n",
       "21657  AVpfm8yiLJeJML43AYyu   \n",
       "\n",
       "                                                    name  reviews_rating  \\\n",
       "12875  Clorox Disinfecting Wipes Value Pack Scented 1...               5   \n",
       "21657          Nexxus Exxtra Gel Style Creation Sculptor               1   \n",
       "\n",
       "      reviews_username  \n",
       "12875          jessica  \n",
       "21657       romance318  "
      ]
     },
     "execution_count": 143,
     "metadata": {},
     "output_type": "execute_result"
    }
   ],
   "source": [
    "common.head(2)"
   ]
  },
  {
   "cell_type": "code",
   "execution_count": 144,
   "metadata": {
    "id": "ejoMmk1QMyvX"
   },
   "outputs": [],
   "source": [
    "# convert into the user-product matrix.\n",
    "common_user_based_matrix = common.pivot_table(index='reviews_username', columns='id', values='reviews_rating')"
   ]
  },
  {
   "cell_type": "code",
   "execution_count": 145,
   "metadata": {
    "colab": {
     "base_uri": "https://localhost:8080/",
     "height": 272
    },
    "id": "ea3mQb0xM1FB",
    "outputId": "abb785dd-9da7-41b6-af39-1455f00fac36"
   },
   "outputs": [
    {
     "data": {
      "text/html": [
       "<div>\n",
       "<style scoped>\n",
       "    .dataframe tbody tr th:only-of-type {\n",
       "        vertical-align: middle;\n",
       "    }\n",
       "\n",
       "    .dataframe tbody tr th {\n",
       "        vertical-align: top;\n",
       "    }\n",
       "\n",
       "    .dataframe thead th {\n",
       "        text-align: right;\n",
       "    }\n",
       "</style>\n",
       "<table border=\"1\" class=\"dataframe\">\n",
       "  <thead>\n",
       "    <tr style=\"text-align: right;\">\n",
       "      <th>id</th>\n",
       "      <th>AV16khLE-jtxr-f38VFn</th>\n",
       "      <th>AV1YGDqsGV-KLJ3adc-O</th>\n",
       "      <th>AV1YlENIglJLPUi8IHsX</th>\n",
       "      <th>AV1YmDL9vKc47QAVgr7_</th>\n",
       "      <th>AV1Ymf_rglJLPUi8II2v</th>\n",
       "      <th>AV1Yn94nvKc47QAVgtst</th>\n",
       "      <th>AV1YneDPglJLPUi8IJyQ</th>\n",
       "      <th>AV1Ys0kTvKc47QAVgx1C</th>\n",
       "      <th>AV1YtGjdglJLPUi8IOfJ</th>\n",
       "      <th>AV1ZT7GLglJLPUi8IQLI</th>\n",
       "      <th>...</th>\n",
       "      <th>AVpfov9TLJeJML43A7B0</th>\n",
       "      <th>AVpfpM2yilAPnD_xfmDG</th>\n",
       "      <th>AVpfr5cb1cnluZ0-pZFp</th>\n",
       "      <th>AVpfrFDZLJeJML43Bmv0</th>\n",
       "      <th>AVpfrTyiLJeJML43BrSI</th>\n",
       "      <th>AVpfrgjFLJeJML43BvCc</th>\n",
       "      <th>AVpfs0tUilAPnD_xgqN2</th>\n",
       "      <th>AVpfthSailAPnD_xg3ON</th>\n",
       "      <th>AVpftikC1cnluZ0-p31V</th>\n",
       "      <th>AVpfv4TlilAPnD_xhjNS</th>\n",
       "    </tr>\n",
       "    <tr>\n",
       "      <th>reviews_username</th>\n",
       "      <th></th>\n",
       "      <th></th>\n",
       "      <th></th>\n",
       "      <th></th>\n",
       "      <th></th>\n",
       "      <th></th>\n",
       "      <th></th>\n",
       "      <th></th>\n",
       "      <th></th>\n",
       "      <th></th>\n",
       "      <th></th>\n",
       "      <th></th>\n",
       "      <th></th>\n",
       "      <th></th>\n",
       "      <th></th>\n",
       "      <th></th>\n",
       "      <th></th>\n",
       "      <th></th>\n",
       "      <th></th>\n",
       "      <th></th>\n",
       "      <th></th>\n",
       "    </tr>\n",
       "  </thead>\n",
       "  <tbody>\n",
       "    <tr>\n",
       "      <th>1234</th>\n",
       "      <td>NaN</td>\n",
       "      <td>NaN</td>\n",
       "      <td>NaN</td>\n",
       "      <td>NaN</td>\n",
       "      <td>NaN</td>\n",
       "      <td>NaN</td>\n",
       "      <td>NaN</td>\n",
       "      <td>NaN</td>\n",
       "      <td>NaN</td>\n",
       "      <td>NaN</td>\n",
       "      <td>...</td>\n",
       "      <td>NaN</td>\n",
       "      <td>NaN</td>\n",
       "      <td>NaN</td>\n",
       "      <td>NaN</td>\n",
       "      <td>NaN</td>\n",
       "      <td>NaN</td>\n",
       "      <td>NaN</td>\n",
       "      <td>NaN</td>\n",
       "      <td>NaN</td>\n",
       "      <td>NaN</td>\n",
       "    </tr>\n",
       "    <tr>\n",
       "      <th>1234567</th>\n",
       "      <td>NaN</td>\n",
       "      <td>NaN</td>\n",
       "      <td>NaN</td>\n",
       "      <td>NaN</td>\n",
       "      <td>NaN</td>\n",
       "      <td>NaN</td>\n",
       "      <td>NaN</td>\n",
       "      <td>NaN</td>\n",
       "      <td>NaN</td>\n",
       "      <td>NaN</td>\n",
       "      <td>...</td>\n",
       "      <td>NaN</td>\n",
       "      <td>NaN</td>\n",
       "      <td>NaN</td>\n",
       "      <td>NaN</td>\n",
       "      <td>NaN</td>\n",
       "      <td>NaN</td>\n",
       "      <td>NaN</td>\n",
       "      <td>NaN</td>\n",
       "      <td>NaN</td>\n",
       "      <td>NaN</td>\n",
       "    </tr>\n",
       "  </tbody>\n",
       "</table>\n",
       "<p>2 rows × 140 columns</p>\n",
       "</div>"
      ],
      "text/plain": [
       "id                AV16khLE-jtxr-f38VFn  AV1YGDqsGV-KLJ3adc-O  \\\n",
       "reviews_username                                               \n",
       "1234                               NaN                   NaN   \n",
       "1234567                            NaN                   NaN   \n",
       "\n",
       "id                AV1YlENIglJLPUi8IHsX  AV1YmDL9vKc47QAVgr7_  \\\n",
       "reviews_username                                               \n",
       "1234                               NaN                   NaN   \n",
       "1234567                            NaN                   NaN   \n",
       "\n",
       "id                AV1Ymf_rglJLPUi8II2v  AV1Yn94nvKc47QAVgtst  \\\n",
       "reviews_username                                               \n",
       "1234                               NaN                   NaN   \n",
       "1234567                            NaN                   NaN   \n",
       "\n",
       "id                AV1YneDPglJLPUi8IJyQ  AV1Ys0kTvKc47QAVgx1C  \\\n",
       "reviews_username                                               \n",
       "1234                               NaN                   NaN   \n",
       "1234567                            NaN                   NaN   \n",
       "\n",
       "id                AV1YtGjdglJLPUi8IOfJ  AV1ZT7GLglJLPUi8IQLI  ...  \\\n",
       "reviews_username                                              ...   \n",
       "1234                               NaN                   NaN  ...   \n",
       "1234567                            NaN                   NaN  ...   \n",
       "\n",
       "id                AVpfov9TLJeJML43A7B0  AVpfpM2yilAPnD_xfmDG  \\\n",
       "reviews_username                                               \n",
       "1234                               NaN                   NaN   \n",
       "1234567                            NaN                   NaN   \n",
       "\n",
       "id                AVpfr5cb1cnluZ0-pZFp  AVpfrFDZLJeJML43Bmv0  \\\n",
       "reviews_username                                               \n",
       "1234                               NaN                   NaN   \n",
       "1234567                            NaN                   NaN   \n",
       "\n",
       "id                AVpfrTyiLJeJML43BrSI  AVpfrgjFLJeJML43BvCc  \\\n",
       "reviews_username                                               \n",
       "1234                               NaN                   NaN   \n",
       "1234567                            NaN                   NaN   \n",
       "\n",
       "id                AVpfs0tUilAPnD_xgqN2  AVpfthSailAPnD_xg3ON  \\\n",
       "reviews_username                                               \n",
       "1234                               NaN                   NaN   \n",
       "1234567                            NaN                   NaN   \n",
       "\n",
       "id                AVpftikC1cnluZ0-p31V  AVpfv4TlilAPnD_xhjNS  \n",
       "reviews_username                                              \n",
       "1234                               NaN                   NaN  \n",
       "1234567                            NaN                   NaN  \n",
       "\n",
       "[2 rows x 140 columns]"
      ]
     },
     "execution_count": 145,
     "metadata": {},
     "output_type": "execute_result"
    }
   ],
   "source": [
    "common_user_based_matrix.head(2)"
   ]
  },
  {
   "cell_type": "code",
   "execution_count": 146,
   "metadata": {
    "id": "9Qt1fni-M4Os"
   },
   "outputs": [],
   "source": [
    "# Convert the user_correlation matrix into dataframe.\n",
    "user_correlation_df = pd.DataFrame(user_correlation)"
   ]
  },
  {
   "cell_type": "code",
   "execution_count": 147,
   "metadata": {
    "colab": {
     "base_uri": "https://localhost:8080/",
     "height": 205
    },
    "id": "8AqLhRwGM6X2",
    "outputId": "47558115-92b4-42aa-f4e3-1d2f8ebcb08b"
   },
   "outputs": [
    {
     "data": {
      "text/html": [
       "<div>\n",
       "<style scoped>\n",
       "    .dataframe tbody tr th:only-of-type {\n",
       "        vertical-align: middle;\n",
       "    }\n",
       "\n",
       "    .dataframe tbody tr th {\n",
       "        vertical-align: top;\n",
       "    }\n",
       "\n",
       "    .dataframe thead th {\n",
       "        text-align: right;\n",
       "    }\n",
       "</style>\n",
       "<table border=\"1\" class=\"dataframe\">\n",
       "  <thead>\n",
       "    <tr style=\"text-align: right;\">\n",
       "      <th></th>\n",
       "      <th>0</th>\n",
       "      <th>1</th>\n",
       "      <th>2</th>\n",
       "      <th>3</th>\n",
       "      <th>4</th>\n",
       "      <th>5</th>\n",
       "      <th>6</th>\n",
       "      <th>7</th>\n",
       "      <th>8</th>\n",
       "      <th>9</th>\n",
       "      <th>...</th>\n",
       "      <th>18265</th>\n",
       "      <th>18266</th>\n",
       "      <th>18267</th>\n",
       "      <th>18268</th>\n",
       "      <th>18269</th>\n",
       "      <th>18270</th>\n",
       "      <th>18271</th>\n",
       "      <th>18272</th>\n",
       "      <th>18273</th>\n",
       "      <th>18274</th>\n",
       "    </tr>\n",
       "  </thead>\n",
       "  <tbody>\n",
       "    <tr>\n",
       "      <th>0</th>\n",
       "      <td>1.0</td>\n",
       "      <td>0.0</td>\n",
       "      <td>0.0</td>\n",
       "      <td>0.0</td>\n",
       "      <td>0.0</td>\n",
       "      <td>0.0</td>\n",
       "      <td>0.0</td>\n",
       "      <td>0.0</td>\n",
       "      <td>0.0</td>\n",
       "      <td>0.0</td>\n",
       "      <td>...</td>\n",
       "      <td>0.0</td>\n",
       "      <td>0.0</td>\n",
       "      <td>0.0</td>\n",
       "      <td>0.0</td>\n",
       "      <td>0.0</td>\n",
       "      <td>0.0</td>\n",
       "      <td>0.0</td>\n",
       "      <td>0.0</td>\n",
       "      <td>0.0</td>\n",
       "      <td>0.0</td>\n",
       "    </tr>\n",
       "    <tr>\n",
       "      <th>1</th>\n",
       "      <td>0.0</td>\n",
       "      <td>0.0</td>\n",
       "      <td>0.0</td>\n",
       "      <td>0.0</td>\n",
       "      <td>0.0</td>\n",
       "      <td>0.0</td>\n",
       "      <td>0.0</td>\n",
       "      <td>0.0</td>\n",
       "      <td>0.0</td>\n",
       "      <td>0.0</td>\n",
       "      <td>...</td>\n",
       "      <td>0.0</td>\n",
       "      <td>0.0</td>\n",
       "      <td>0.0</td>\n",
       "      <td>0.0</td>\n",
       "      <td>0.0</td>\n",
       "      <td>0.0</td>\n",
       "      <td>0.0</td>\n",
       "      <td>0.0</td>\n",
       "      <td>0.0</td>\n",
       "      <td>0.0</td>\n",
       "    </tr>\n",
       "  </tbody>\n",
       "</table>\n",
       "<p>2 rows × 18275 columns</p>\n",
       "</div>"
      ],
      "text/plain": [
       "   0      1      2      3      4      5      6      7      8      9      ...  \\\n",
       "0    1.0    0.0    0.0    0.0    0.0    0.0    0.0    0.0    0.0    0.0  ...   \n",
       "1    0.0    0.0    0.0    0.0    0.0    0.0    0.0    0.0    0.0    0.0  ...   \n",
       "\n",
       "   18265  18266  18267  18268  18269  18270  18271  18272  18273  18274  \n",
       "0    0.0    0.0    0.0    0.0    0.0    0.0    0.0    0.0    0.0    0.0  \n",
       "1    0.0    0.0    0.0    0.0    0.0    0.0    0.0    0.0    0.0    0.0  \n",
       "\n",
       "[2 rows x 18275 columns]"
      ]
     },
     "execution_count": 147,
     "metadata": {},
     "output_type": "execute_result"
    }
   ],
   "source": [
    "user_correlation_df.head(2)"
   ]
  },
  {
   "cell_type": "code",
   "execution_count": 148,
   "metadata": {
    "colab": {
     "base_uri": "https://localhost:8080/",
     "height": 240
    },
    "id": "GkU26OCHM9pZ",
    "outputId": "3178806c-3b46-47e1-b9a0-63bf10f32229"
   },
   "outputs": [
    {
     "data": {
      "text/html": [
       "<div>\n",
       "<style scoped>\n",
       "    .dataframe tbody tr th:only-of-type {\n",
       "        vertical-align: middle;\n",
       "    }\n",
       "\n",
       "    .dataframe tbody tr th {\n",
       "        vertical-align: top;\n",
       "    }\n",
       "\n",
       "    .dataframe thead th {\n",
       "        text-align: right;\n",
       "    }\n",
       "</style>\n",
       "<table border=\"1\" class=\"dataframe\">\n",
       "  <thead>\n",
       "    <tr style=\"text-align: right;\">\n",
       "      <th>id</th>\n",
       "      <th>AV13O1A8GV-KLJ3akUyj</th>\n",
       "      <th>AV14LG0R-jtxr-f38QfS</th>\n",
       "      <th>AV16khLE-jtxr-f38VFn</th>\n",
       "      <th>AV1YGDqsGV-KLJ3adc-O</th>\n",
       "      <th>AV1YIch7GV-KLJ3addeG</th>\n",
       "      <th>AV1YlENIglJLPUi8IHsX</th>\n",
       "      <th>AV1YmBrdGV-KLJ3adewb</th>\n",
       "      <th>AV1YmDL9vKc47QAVgr7_</th>\n",
       "      <th>AV1Ymf_rglJLPUi8II2v</th>\n",
       "      <th>AV1Yn94nvKc47QAVgtst</th>\n",
       "      <th>...</th>\n",
       "      <th>AVpfrFDZLJeJML43Bmv0</th>\n",
       "      <th>AVpfrTyiLJeJML43BrSI</th>\n",
       "      <th>AVpfrfHF1cnluZ0-pRai</th>\n",
       "      <th>AVpfrgjFLJeJML43BvCc</th>\n",
       "      <th>AVpfsQoeilAPnD_xgfx5</th>\n",
       "      <th>AVpfshNsLJeJML43CB8q</th>\n",
       "      <th>AVpfthSailAPnD_xg3ON</th>\n",
       "      <th>AVpftikC1cnluZ0-p31V</th>\n",
       "      <th>AVpfv4TlilAPnD_xhjNS</th>\n",
       "      <th>AVpfvieo1cnluZ0-qdnu</th>\n",
       "    </tr>\n",
       "    <tr>\n",
       "      <th>reviews_username</th>\n",
       "      <th></th>\n",
       "      <th></th>\n",
       "      <th></th>\n",
       "      <th></th>\n",
       "      <th></th>\n",
       "      <th></th>\n",
       "      <th></th>\n",
       "      <th></th>\n",
       "      <th></th>\n",
       "      <th></th>\n",
       "      <th></th>\n",
       "      <th></th>\n",
       "      <th></th>\n",
       "      <th></th>\n",
       "      <th></th>\n",
       "      <th></th>\n",
       "      <th></th>\n",
       "      <th></th>\n",
       "      <th></th>\n",
       "      <th></th>\n",
       "      <th></th>\n",
       "    </tr>\n",
       "  </thead>\n",
       "  <tbody>\n",
       "    <tr>\n",
       "      <th>00sab00</th>\n",
       "      <td>NaN</td>\n",
       "      <td>NaN</td>\n",
       "      <td>NaN</td>\n",
       "      <td>NaN</td>\n",
       "      <td>NaN</td>\n",
       "      <td>NaN</td>\n",
       "      <td>NaN</td>\n",
       "      <td>NaN</td>\n",
       "      <td>NaN</td>\n",
       "      <td>NaN</td>\n",
       "      <td>...</td>\n",
       "      <td>NaN</td>\n",
       "      <td>NaN</td>\n",
       "      <td>NaN</td>\n",
       "      <td>NaN</td>\n",
       "      <td>NaN</td>\n",
       "      <td>NaN</td>\n",
       "      <td>NaN</td>\n",
       "      <td>NaN</td>\n",
       "      <td>NaN</td>\n",
       "      <td>NaN</td>\n",
       "    </tr>\n",
       "  </tbody>\n",
       "</table>\n",
       "<p>1 rows × 256 columns</p>\n",
       "</div>"
      ],
      "text/plain": [
       "id                AV13O1A8GV-KLJ3akUyj  AV14LG0R-jtxr-f38QfS  \\\n",
       "reviews_username                                               \n",
       "00sab00                            NaN                   NaN   \n",
       "\n",
       "id                AV16khLE-jtxr-f38VFn  AV1YGDqsGV-KLJ3adc-O  \\\n",
       "reviews_username                                               \n",
       "00sab00                            NaN                   NaN   \n",
       "\n",
       "id                AV1YIch7GV-KLJ3addeG  AV1YlENIglJLPUi8IHsX  \\\n",
       "reviews_username                                               \n",
       "00sab00                            NaN                   NaN   \n",
       "\n",
       "id                AV1YmBrdGV-KLJ3adewb  AV1YmDL9vKc47QAVgr7_  \\\n",
       "reviews_username                                               \n",
       "00sab00                            NaN                   NaN   \n",
       "\n",
       "id                AV1Ymf_rglJLPUi8II2v  AV1Yn94nvKc47QAVgtst  ...  \\\n",
       "reviews_username                                              ...   \n",
       "00sab00                            NaN                   NaN  ...   \n",
       "\n",
       "id                AVpfrFDZLJeJML43Bmv0  AVpfrTyiLJeJML43BrSI  \\\n",
       "reviews_username                                               \n",
       "00sab00                            NaN                   NaN   \n",
       "\n",
       "id                AVpfrfHF1cnluZ0-pRai  AVpfrgjFLJeJML43BvCc  \\\n",
       "reviews_username                                               \n",
       "00sab00                            NaN                   NaN   \n",
       "\n",
       "id                AVpfsQoeilAPnD_xgfx5  AVpfshNsLJeJML43CB8q  \\\n",
       "reviews_username                                               \n",
       "00sab00                            NaN                   NaN   \n",
       "\n",
       "id                AVpfthSailAPnD_xg3ON  AVpftikC1cnluZ0-p31V  \\\n",
       "reviews_username                                               \n",
       "00sab00                            NaN                   NaN   \n",
       "\n",
       "id                AVpfv4TlilAPnD_xhjNS  AVpfvieo1cnluZ0-qdnu  \n",
       "reviews_username                                              \n",
       "00sab00                            NaN                   NaN  \n",
       "\n",
       "[1 rows x 256 columns]"
      ]
     },
     "execution_count": 148,
     "metadata": {},
     "output_type": "execute_result"
    }
   ],
   "source": [
    "df_subtracted.head(1)"
   ]
  },
  {
   "cell_type": "code",
   "execution_count": 149,
   "metadata": {
    "colab": {
     "base_uri": "https://localhost:8080/",
     "height": 237
    },
    "id": "f8_jVgS7NA1C",
    "outputId": "ba8991ec-3b3b-4a8d-bf1e-71f59b4a0a76"
   },
   "outputs": [
    {
     "data": {
      "text/html": [
       "<div>\n",
       "<style scoped>\n",
       "    .dataframe tbody tr th:only-of-type {\n",
       "        vertical-align: middle;\n",
       "    }\n",
       "\n",
       "    .dataframe tbody tr th {\n",
       "        vertical-align: top;\n",
       "    }\n",
       "\n",
       "    .dataframe thead th {\n",
       "        text-align: right;\n",
       "    }\n",
       "</style>\n",
       "<table border=\"1\" class=\"dataframe\">\n",
       "  <thead>\n",
       "    <tr style=\"text-align: right;\">\n",
       "      <th></th>\n",
       "      <th>0</th>\n",
       "      <th>1</th>\n",
       "      <th>2</th>\n",
       "      <th>3</th>\n",
       "      <th>4</th>\n",
       "      <th>5</th>\n",
       "      <th>6</th>\n",
       "      <th>7</th>\n",
       "      <th>8</th>\n",
       "      <th>9</th>\n",
       "      <th>...</th>\n",
       "      <th>18265</th>\n",
       "      <th>18266</th>\n",
       "      <th>18267</th>\n",
       "      <th>18268</th>\n",
       "      <th>18269</th>\n",
       "      <th>18270</th>\n",
       "      <th>18271</th>\n",
       "      <th>18272</th>\n",
       "      <th>18273</th>\n",
       "      <th>18274</th>\n",
       "    </tr>\n",
       "    <tr>\n",
       "      <th>userId</th>\n",
       "      <th></th>\n",
       "      <th></th>\n",
       "      <th></th>\n",
       "      <th></th>\n",
       "      <th></th>\n",
       "      <th></th>\n",
       "      <th></th>\n",
       "      <th></th>\n",
       "      <th></th>\n",
       "      <th></th>\n",
       "      <th></th>\n",
       "      <th></th>\n",
       "      <th></th>\n",
       "      <th></th>\n",
       "      <th></th>\n",
       "      <th></th>\n",
       "      <th></th>\n",
       "      <th></th>\n",
       "      <th></th>\n",
       "      <th></th>\n",
       "      <th></th>\n",
       "    </tr>\n",
       "  </thead>\n",
       "  <tbody>\n",
       "    <tr>\n",
       "      <th>00sab00</th>\n",
       "      <td>1.0</td>\n",
       "      <td>0.0</td>\n",
       "      <td>0.0</td>\n",
       "      <td>0.0</td>\n",
       "      <td>0.0</td>\n",
       "      <td>0.0</td>\n",
       "      <td>0.0</td>\n",
       "      <td>0.0</td>\n",
       "      <td>0.0</td>\n",
       "      <td>0.0</td>\n",
       "      <td>...</td>\n",
       "      <td>0.0</td>\n",
       "      <td>0.0</td>\n",
       "      <td>0.0</td>\n",
       "      <td>0.0</td>\n",
       "      <td>0.0</td>\n",
       "      <td>0.0</td>\n",
       "      <td>0.0</td>\n",
       "      <td>0.0</td>\n",
       "      <td>0.0</td>\n",
       "      <td>0.0</td>\n",
       "    </tr>\n",
       "    <tr>\n",
       "      <th>01impala</th>\n",
       "      <td>0.0</td>\n",
       "      <td>0.0</td>\n",
       "      <td>0.0</td>\n",
       "      <td>0.0</td>\n",
       "      <td>0.0</td>\n",
       "      <td>0.0</td>\n",
       "      <td>0.0</td>\n",
       "      <td>0.0</td>\n",
       "      <td>0.0</td>\n",
       "      <td>0.0</td>\n",
       "      <td>...</td>\n",
       "      <td>0.0</td>\n",
       "      <td>0.0</td>\n",
       "      <td>0.0</td>\n",
       "      <td>0.0</td>\n",
       "      <td>0.0</td>\n",
       "      <td>0.0</td>\n",
       "      <td>0.0</td>\n",
       "      <td>0.0</td>\n",
       "      <td>0.0</td>\n",
       "      <td>0.0</td>\n",
       "    </tr>\n",
       "  </tbody>\n",
       "</table>\n",
       "<p>2 rows × 18275 columns</p>\n",
       "</div>"
      ],
      "text/plain": [
       "          0      1      2      3      4      5      6      7      8      \\\n",
       "userId                                                                    \n",
       "00sab00     1.0    0.0    0.0    0.0    0.0    0.0    0.0    0.0    0.0   \n",
       "01impala    0.0    0.0    0.0    0.0    0.0    0.0    0.0    0.0    0.0   \n",
       "\n",
       "          9      ...  18265  18266  18267  18268  18269  18270  18271  18272  \\\n",
       "userId           ...                                                           \n",
       "00sab00     0.0  ...    0.0    0.0    0.0    0.0    0.0    0.0    0.0    0.0   \n",
       "01impala    0.0  ...    0.0    0.0    0.0    0.0    0.0    0.0    0.0    0.0   \n",
       "\n",
       "          18273  18274  \n",
       "userId                  \n",
       "00sab00     0.0    0.0  \n",
       "01impala    0.0    0.0  \n",
       "\n",
       "[2 rows x 18275 columns]"
      ]
     },
     "execution_count": 149,
     "metadata": {},
     "output_type": "execute_result"
    }
   ],
   "source": [
    "user_correlation_df['userId'] = df_subtracted.index\n",
    "user_correlation_df.set_index('userId',inplace=True)\n",
    "user_correlation_df.head(2)"
   ]
  },
  {
   "cell_type": "code",
   "execution_count": 150,
   "metadata": {
    "colab": {
     "base_uri": "https://localhost:8080/",
     "height": 81
    },
    "id": "ANJvAk6nNEs8",
    "outputId": "b4aa51b9-cddf-4ccf-c359-a43500b20238"
   },
   "outputs": [
    {
     "data": {
      "text/html": [
       "<div>\n",
       "<style scoped>\n",
       "    .dataframe tbody tr th:only-of-type {\n",
       "        vertical-align: middle;\n",
       "    }\n",
       "\n",
       "    .dataframe tbody tr th {\n",
       "        vertical-align: top;\n",
       "    }\n",
       "\n",
       "    .dataframe thead th {\n",
       "        text-align: right;\n",
       "    }\n",
       "</style>\n",
       "<table border=\"1\" class=\"dataframe\">\n",
       "  <thead>\n",
       "    <tr style=\"text-align: right;\">\n",
       "      <th></th>\n",
       "      <th>id</th>\n",
       "      <th>name</th>\n",
       "      <th>reviews_rating</th>\n",
       "      <th>reviews_username</th>\n",
       "    </tr>\n",
       "  </thead>\n",
       "  <tbody>\n",
       "    <tr>\n",
       "      <th>12875</th>\n",
       "      <td>AVpf3VOfilAPnD_xjpun</td>\n",
       "      <td>Clorox Disinfecting Wipes Value Pack Scented 1...</td>\n",
       "      <td>5</td>\n",
       "      <td>jessica</td>\n",
       "    </tr>\n",
       "  </tbody>\n",
       "</table>\n",
       "</div>"
      ],
      "text/plain": [
       "                         id  \\\n",
       "12875  AVpf3VOfilAPnD_xjpun   \n",
       "\n",
       "                                                    name  reviews_rating  \\\n",
       "12875  Clorox Disinfecting Wipes Value Pack Scented 1...               5   \n",
       "\n",
       "      reviews_username  \n",
       "12875          jessica  "
      ]
     },
     "execution_count": 150,
     "metadata": {},
     "output_type": "execute_result"
    }
   ],
   "source": [
    "common.head(1)"
   ]
  },
  {
   "cell_type": "code",
   "execution_count": 151,
   "metadata": {
    "id": "saldebvwNH6u"
   },
   "outputs": [],
   "source": [
    "list_name = common.reviews_username.tolist()\n",
    "\n",
    "user_correlation_df.columns = df_pivot.index.tolist()\n",
    "user_correlation_df_1 =  user_correlation_df[user_correlation_df.index.isin(list_name)]"
   ]
  },
  {
   "cell_type": "code",
   "execution_count": 152,
   "metadata": {
    "colab": {
     "base_uri": "https://localhost:8080/"
    },
    "id": "TnbG_zLUNLC_",
    "outputId": "4e9be2bc-860b-4362-d417-08ddf28da066"
   },
   "outputs": [
    {
     "data": {
      "text/plain": [
       "(1693, 18275)"
      ]
     },
     "execution_count": 152,
     "metadata": {},
     "output_type": "execute_result"
    }
   ],
   "source": [
    "user_correlation_df_1.shape"
   ]
  },
  {
   "cell_type": "code",
   "execution_count": 153,
   "metadata": {
    "id": "307VedEFNOEA"
   },
   "outputs": [],
   "source": [
    "user_correlation_df_2 = user_correlation_df_1.T[user_correlation_df_1.T.index.isin(list_name)]"
   ]
  },
  {
   "cell_type": "code",
   "execution_count": 154,
   "metadata": {
    "id": "euxEsAgfNQLs"
   },
   "outputs": [],
   "source": [
    "user_correlation_df_3 = user_correlation_df_2.T"
   ]
  },
  {
   "cell_type": "code",
   "execution_count": 155,
   "metadata": {
    "colab": {
     "base_uri": "https://localhost:8080/",
     "height": 400
    },
    "id": "A0XrR5gpNSWm",
    "outputId": "b203c743-0b9b-4193-b63a-61995c23d823"
   },
   "outputs": [
    {
     "data": {
      "text/html": [
       "<div>\n",
       "<style scoped>\n",
       "    .dataframe tbody tr th:only-of-type {\n",
       "        vertical-align: middle;\n",
       "    }\n",
       "\n",
       "    .dataframe tbody tr th {\n",
       "        vertical-align: top;\n",
       "    }\n",
       "\n",
       "    .dataframe thead th {\n",
       "        text-align: right;\n",
       "    }\n",
       "</style>\n",
       "<table border=\"1\" class=\"dataframe\">\n",
       "  <thead>\n",
       "    <tr style=\"text-align: right;\">\n",
       "      <th></th>\n",
       "      <th>1234</th>\n",
       "      <th>1234567</th>\n",
       "      <th>123charlie</th>\n",
       "      <th>1943</th>\n",
       "      <th>1witch</th>\n",
       "      <th>4 rooms 1 dog lotsa fur</th>\n",
       "      <th>85lisa</th>\n",
       "      <th>a hutch</th>\n",
       "      <th>aac06002</th>\n",
       "      <th>aalyah</th>\n",
       "      <th>...</th>\n",
       "      <th>xavier</th>\n",
       "      <th>yamel97</th>\n",
       "      <th>yayawomack</th>\n",
       "      <th>yorkielvr</th>\n",
       "      <th>yummy</th>\n",
       "      <th>yvonne</th>\n",
       "      <th>zach</th>\n",
       "      <th>zebras</th>\n",
       "      <th>zippy</th>\n",
       "      <th>zxcsdfd</th>\n",
       "    </tr>\n",
       "    <tr>\n",
       "      <th>userId</th>\n",
       "      <th></th>\n",
       "      <th></th>\n",
       "      <th></th>\n",
       "      <th></th>\n",
       "      <th></th>\n",
       "      <th></th>\n",
       "      <th></th>\n",
       "      <th></th>\n",
       "      <th></th>\n",
       "      <th></th>\n",
       "      <th></th>\n",
       "      <th></th>\n",
       "      <th></th>\n",
       "      <th></th>\n",
       "      <th></th>\n",
       "      <th></th>\n",
       "      <th></th>\n",
       "      <th></th>\n",
       "      <th></th>\n",
       "      <th></th>\n",
       "      <th></th>\n",
       "    </tr>\n",
       "  </thead>\n",
       "  <tbody>\n",
       "    <tr>\n",
       "      <th>1234</th>\n",
       "      <td>0.0</td>\n",
       "      <td>0.0</td>\n",
       "      <td>0.0</td>\n",
       "      <td>0.0</td>\n",
       "      <td>0.0</td>\n",
       "      <td>0.0</td>\n",
       "      <td>0.0</td>\n",
       "      <td>0.0</td>\n",
       "      <td>0.0</td>\n",
       "      <td>0.0</td>\n",
       "      <td>...</td>\n",
       "      <td>0.0</td>\n",
       "      <td>0.0</td>\n",
       "      <td>0.0</td>\n",
       "      <td>0.0</td>\n",
       "      <td>0.0</td>\n",
       "      <td>0.0</td>\n",
       "      <td>0.0</td>\n",
       "      <td>0.0</td>\n",
       "      <td>0.0</td>\n",
       "      <td>0.0</td>\n",
       "    </tr>\n",
       "    <tr>\n",
       "      <th>1234567</th>\n",
       "      <td>0.0</td>\n",
       "      <td>0.0</td>\n",
       "      <td>0.0</td>\n",
       "      <td>0.0</td>\n",
       "      <td>0.0</td>\n",
       "      <td>0.0</td>\n",
       "      <td>0.0</td>\n",
       "      <td>0.0</td>\n",
       "      <td>0.0</td>\n",
       "      <td>0.0</td>\n",
       "      <td>...</td>\n",
       "      <td>0.0</td>\n",
       "      <td>0.0</td>\n",
       "      <td>0.0</td>\n",
       "      <td>0.0</td>\n",
       "      <td>0.0</td>\n",
       "      <td>0.0</td>\n",
       "      <td>0.0</td>\n",
       "      <td>0.0</td>\n",
       "      <td>0.0</td>\n",
       "      <td>0.0</td>\n",
       "    </tr>\n",
       "    <tr>\n",
       "      <th>123charlie</th>\n",
       "      <td>0.0</td>\n",
       "      <td>0.0</td>\n",
       "      <td>0.0</td>\n",
       "      <td>0.0</td>\n",
       "      <td>0.0</td>\n",
       "      <td>0.0</td>\n",
       "      <td>0.0</td>\n",
       "      <td>0.0</td>\n",
       "      <td>0.0</td>\n",
       "      <td>0.0</td>\n",
       "      <td>...</td>\n",
       "      <td>0.0</td>\n",
       "      <td>0.0</td>\n",
       "      <td>0.0</td>\n",
       "      <td>0.0</td>\n",
       "      <td>0.0</td>\n",
       "      <td>0.0</td>\n",
       "      <td>0.0</td>\n",
       "      <td>0.0</td>\n",
       "      <td>0.0</td>\n",
       "      <td>0.0</td>\n",
       "    </tr>\n",
       "    <tr>\n",
       "      <th>1943</th>\n",
       "      <td>0.0</td>\n",
       "      <td>0.0</td>\n",
       "      <td>0.0</td>\n",
       "      <td>0.0</td>\n",
       "      <td>0.0</td>\n",
       "      <td>0.0</td>\n",
       "      <td>0.0</td>\n",
       "      <td>0.0</td>\n",
       "      <td>0.0</td>\n",
       "      <td>0.0</td>\n",
       "      <td>...</td>\n",
       "      <td>0.0</td>\n",
       "      <td>0.0</td>\n",
       "      <td>0.0</td>\n",
       "      <td>0.0</td>\n",
       "      <td>0.0</td>\n",
       "      <td>0.0</td>\n",
       "      <td>0.0</td>\n",
       "      <td>0.0</td>\n",
       "      <td>0.0</td>\n",
       "      <td>0.0</td>\n",
       "    </tr>\n",
       "    <tr>\n",
       "      <th>1witch</th>\n",
       "      <td>0.0</td>\n",
       "      <td>0.0</td>\n",
       "      <td>0.0</td>\n",
       "      <td>0.0</td>\n",
       "      <td>0.0</td>\n",
       "      <td>0.0</td>\n",
       "      <td>0.0</td>\n",
       "      <td>0.0</td>\n",
       "      <td>0.0</td>\n",
       "      <td>0.0</td>\n",
       "      <td>...</td>\n",
       "      <td>0.0</td>\n",
       "      <td>0.0</td>\n",
       "      <td>0.0</td>\n",
       "      <td>0.0</td>\n",
       "      <td>0.0</td>\n",
       "      <td>0.0</td>\n",
       "      <td>0.0</td>\n",
       "      <td>0.0</td>\n",
       "      <td>0.0</td>\n",
       "      <td>0.0</td>\n",
       "    </tr>\n",
       "  </tbody>\n",
       "</table>\n",
       "<p>5 rows × 1693 columns</p>\n",
       "</div>"
      ],
      "text/plain": [
       "            1234  1234567  123charlie  1943  1witch  4 rooms 1 dog lotsa fur  \\\n",
       "userId                                                                         \n",
       "1234         0.0      0.0         0.0   0.0     0.0                      0.0   \n",
       "1234567      0.0      0.0         0.0   0.0     0.0                      0.0   \n",
       "123charlie   0.0      0.0         0.0   0.0     0.0                      0.0   \n",
       "1943         0.0      0.0         0.0   0.0     0.0                      0.0   \n",
       "1witch       0.0      0.0         0.0   0.0     0.0                      0.0   \n",
       "\n",
       "            85lisa  a hutch  aac06002  aalyah  ...  xavier  yamel97  \\\n",
       "userId                                         ...                    \n",
       "1234           0.0      0.0       0.0     0.0  ...     0.0      0.0   \n",
       "1234567        0.0      0.0       0.0     0.0  ...     0.0      0.0   \n",
       "123charlie     0.0      0.0       0.0     0.0  ...     0.0      0.0   \n",
       "1943           0.0      0.0       0.0     0.0  ...     0.0      0.0   \n",
       "1witch         0.0      0.0       0.0     0.0  ...     0.0      0.0   \n",
       "\n",
       "            yayawomack  yorkielvr  yummy  yvonne  zach  zebras  zippy  zxcsdfd  \n",
       "userId                                                                          \n",
       "1234               0.0        0.0    0.0     0.0   0.0     0.0    0.0      0.0  \n",
       "1234567            0.0        0.0    0.0     0.0   0.0     0.0    0.0      0.0  \n",
       "123charlie         0.0        0.0    0.0     0.0   0.0     0.0    0.0      0.0  \n",
       "1943               0.0        0.0    0.0     0.0   0.0     0.0    0.0      0.0  \n",
       "1witch             0.0        0.0    0.0     0.0   0.0     0.0    0.0      0.0  \n",
       "\n",
       "[5 rows x 1693 columns]"
      ]
     },
     "execution_count": 155,
     "metadata": {},
     "output_type": "execute_result"
    }
   ],
   "source": [
    "user_correlation_df_3.head()"
   ]
  },
  {
   "cell_type": "code",
   "execution_count": 156,
   "metadata": {
    "colab": {
     "base_uri": "https://localhost:8080/"
    },
    "id": "TjuwHJ2eNVZI",
    "outputId": "a9394511-002a-4d1f-a289-3e159ecc094f"
   },
   "outputs": [
    {
     "data": {
      "text/plain": [
       "(1693, 1693)"
      ]
     },
     "execution_count": 156,
     "metadata": {},
     "output_type": "execute_result"
    }
   ],
   "source": [
    "user_correlation_df_3.shape"
   ]
  },
  {
   "cell_type": "code",
   "execution_count": 157,
   "metadata": {
    "colab": {
     "base_uri": "https://localhost:8080/"
    },
    "id": "5VIbcwbqNYTV",
    "outputId": "09b44932-44ba-4289-9903-683828395d87"
   },
   "outputs": [
    {
     "data": {
      "text/plain": [
       "array([[0., 0., 0., ..., 0., 0., 0.],\n",
       "       [0., 0., 0., ..., 0., 0., 0.],\n",
       "       [0., 0., 0., ..., 0., 0., 0.],\n",
       "       ...,\n",
       "       [0., 0., 0., ..., 0., 0., 0.],\n",
       "       [0., 0., 0., ..., 0., 0., 0.],\n",
       "       [0., 0., 0., ..., 0., 0., 0.]])"
      ]
     },
     "execution_count": 157,
     "metadata": {},
     "output_type": "execute_result"
    }
   ],
   "source": [
    "user_correlation_df_3[user_correlation_df_3<0]=0\n",
    "\n",
    "common_user_predicted_ratings = np.dot(user_correlation_df_3, common_user_based_matrix.fillna(0))\n",
    "common_user_predicted_ratings"
   ]
  },
  {
   "cell_type": "code",
   "execution_count": 158,
   "metadata": {
    "colab": {
     "base_uri": "https://localhost:8080/",
     "height": 112
    },
    "id": "ejZ4BC14NbhT",
    "outputId": "70203eb4-45f7-4f6d-c94f-8cf0f903b4b8"
   },
   "outputs": [
    {
     "data": {
      "text/html": [
       "<div>\n",
       "<style scoped>\n",
       "    .dataframe tbody tr th:only-of-type {\n",
       "        vertical-align: middle;\n",
       "    }\n",
       "\n",
       "    .dataframe tbody tr th {\n",
       "        vertical-align: top;\n",
       "    }\n",
       "\n",
       "    .dataframe thead th {\n",
       "        text-align: right;\n",
       "    }\n",
       "</style>\n",
       "<table border=\"1\" class=\"dataframe\">\n",
       "  <thead>\n",
       "    <tr style=\"text-align: right;\">\n",
       "      <th></th>\n",
       "      <th>id</th>\n",
       "      <th>name</th>\n",
       "      <th>reviews_rating</th>\n",
       "      <th>reviews_username</th>\n",
       "    </tr>\n",
       "  </thead>\n",
       "  <tbody>\n",
       "    <tr>\n",
       "      <th>12875</th>\n",
       "      <td>AVpf3VOfilAPnD_xjpun</td>\n",
       "      <td>Clorox Disinfecting Wipes Value Pack Scented 1...</td>\n",
       "      <td>5</td>\n",
       "      <td>jessica</td>\n",
       "    </tr>\n",
       "    <tr>\n",
       "      <th>21657</th>\n",
       "      <td>AVpfm8yiLJeJML43AYyu</td>\n",
       "      <td>Nexxus Exxtra Gel Style Creation Sculptor</td>\n",
       "      <td>1</td>\n",
       "      <td>romance318</td>\n",
       "    </tr>\n",
       "  </tbody>\n",
       "</table>\n",
       "</div>"
      ],
      "text/plain": [
       "                         id  \\\n",
       "12875  AVpf3VOfilAPnD_xjpun   \n",
       "21657  AVpfm8yiLJeJML43AYyu   \n",
       "\n",
       "                                                    name  reviews_rating  \\\n",
       "12875  Clorox Disinfecting Wipes Value Pack Scented 1...               5   \n",
       "21657          Nexxus Exxtra Gel Style Creation Sculptor               1   \n",
       "\n",
       "      reviews_username  \n",
       "12875          jessica  \n",
       "21657       romance318  "
      ]
     },
     "execution_count": 158,
     "metadata": {},
     "output_type": "execute_result"
    }
   ],
   "source": [
    "common.head(2)"
   ]
  },
  {
   "cell_type": "code",
   "execution_count": 159,
   "metadata": {
    "id": "kX3HoRqhNe9n"
   },
   "outputs": [],
   "source": [
    "# Creating dummy test dataframe\n",
    "dummy_test = common.copy()\n",
    "\n",
    "dummy_test['reviews_rating'] = dummy_test['reviews_rating'].apply(lambda x: 1 if x>=1 else 0)\n",
    "\n",
    "dummy_test = dummy_test.pivot_table(index='reviews_username', columns='id', values='reviews_rating').fillna(0)"
   ]
  },
  {
   "cell_type": "code",
   "execution_count": 160,
   "metadata": {
    "colab": {
     "base_uri": "https://localhost:8080/"
    },
    "id": "KM1ze8haNg_O",
    "outputId": "94f0bda6-b031-45ab-daf8-2a6eba1823b3"
   },
   "outputs": [
    {
     "data": {
      "text/plain": [
       "(1693, 140)"
      ]
     },
     "execution_count": 160,
     "metadata": {},
     "output_type": "execute_result"
    }
   ],
   "source": [
    "dummy_test.shape"
   ]
  },
  {
   "cell_type": "code",
   "execution_count": 161,
   "metadata": {
    "id": "OamgUjG1Nm06"
   },
   "outputs": [],
   "source": [
    "common_user_predicted_ratings = np.multiply(common_user_predicted_ratings,dummy_test)"
   ]
  },
  {
   "cell_type": "code",
   "execution_count": 162,
   "metadata": {
    "colab": {
     "base_uri": "https://localhost:8080/",
     "height": 272
    },
    "id": "ntJgx4NaNrGp",
    "outputId": "e1c7fb65-9cf0-4abc-d345-6c55f37f46d5"
   },
   "outputs": [
    {
     "data": {
      "text/html": [
       "<div>\n",
       "<style scoped>\n",
       "    .dataframe tbody tr th:only-of-type {\n",
       "        vertical-align: middle;\n",
       "    }\n",
       "\n",
       "    .dataframe tbody tr th {\n",
       "        vertical-align: top;\n",
       "    }\n",
       "\n",
       "    .dataframe thead th {\n",
       "        text-align: right;\n",
       "    }\n",
       "</style>\n",
       "<table border=\"1\" class=\"dataframe\">\n",
       "  <thead>\n",
       "    <tr style=\"text-align: right;\">\n",
       "      <th>id</th>\n",
       "      <th>AV16khLE-jtxr-f38VFn</th>\n",
       "      <th>AV1YGDqsGV-KLJ3adc-O</th>\n",
       "      <th>AV1YlENIglJLPUi8IHsX</th>\n",
       "      <th>AV1YmDL9vKc47QAVgr7_</th>\n",
       "      <th>AV1Ymf_rglJLPUi8II2v</th>\n",
       "      <th>AV1Yn94nvKc47QAVgtst</th>\n",
       "      <th>AV1YneDPglJLPUi8IJyQ</th>\n",
       "      <th>AV1Ys0kTvKc47QAVgx1C</th>\n",
       "      <th>AV1YtGjdglJLPUi8IOfJ</th>\n",
       "      <th>AV1ZT7GLglJLPUi8IQLI</th>\n",
       "      <th>...</th>\n",
       "      <th>AVpfov9TLJeJML43A7B0</th>\n",
       "      <th>AVpfpM2yilAPnD_xfmDG</th>\n",
       "      <th>AVpfr5cb1cnluZ0-pZFp</th>\n",
       "      <th>AVpfrFDZLJeJML43Bmv0</th>\n",
       "      <th>AVpfrTyiLJeJML43BrSI</th>\n",
       "      <th>AVpfrgjFLJeJML43BvCc</th>\n",
       "      <th>AVpfs0tUilAPnD_xgqN2</th>\n",
       "      <th>AVpfthSailAPnD_xg3ON</th>\n",
       "      <th>AVpftikC1cnluZ0-p31V</th>\n",
       "      <th>AVpfv4TlilAPnD_xhjNS</th>\n",
       "    </tr>\n",
       "    <tr>\n",
       "      <th>reviews_username</th>\n",
       "      <th></th>\n",
       "      <th></th>\n",
       "      <th></th>\n",
       "      <th></th>\n",
       "      <th></th>\n",
       "      <th></th>\n",
       "      <th></th>\n",
       "      <th></th>\n",
       "      <th></th>\n",
       "      <th></th>\n",
       "      <th></th>\n",
       "      <th></th>\n",
       "      <th></th>\n",
       "      <th></th>\n",
       "      <th></th>\n",
       "      <th></th>\n",
       "      <th></th>\n",
       "      <th></th>\n",
       "      <th></th>\n",
       "      <th></th>\n",
       "      <th></th>\n",
       "    </tr>\n",
       "  </thead>\n",
       "  <tbody>\n",
       "    <tr>\n",
       "      <th>1234</th>\n",
       "      <td>0.0</td>\n",
       "      <td>0.0</td>\n",
       "      <td>0.0</td>\n",
       "      <td>0.0</td>\n",
       "      <td>0.0</td>\n",
       "      <td>0.0</td>\n",
       "      <td>0.0</td>\n",
       "      <td>0.0</td>\n",
       "      <td>0.0</td>\n",
       "      <td>0.0</td>\n",
       "      <td>...</td>\n",
       "      <td>0.0</td>\n",
       "      <td>0.0</td>\n",
       "      <td>0.0</td>\n",
       "      <td>0.0</td>\n",
       "      <td>0.0</td>\n",
       "      <td>0.0</td>\n",
       "      <td>0.0</td>\n",
       "      <td>0.0</td>\n",
       "      <td>0.0</td>\n",
       "      <td>0.0</td>\n",
       "    </tr>\n",
       "    <tr>\n",
       "      <th>1234567</th>\n",
       "      <td>0.0</td>\n",
       "      <td>0.0</td>\n",
       "      <td>0.0</td>\n",
       "      <td>0.0</td>\n",
       "      <td>0.0</td>\n",
       "      <td>0.0</td>\n",
       "      <td>0.0</td>\n",
       "      <td>0.0</td>\n",
       "      <td>0.0</td>\n",
       "      <td>0.0</td>\n",
       "      <td>...</td>\n",
       "      <td>0.0</td>\n",
       "      <td>0.0</td>\n",
       "      <td>0.0</td>\n",
       "      <td>0.0</td>\n",
       "      <td>0.0</td>\n",
       "      <td>0.0</td>\n",
       "      <td>0.0</td>\n",
       "      <td>0.0</td>\n",
       "      <td>0.0</td>\n",
       "      <td>0.0</td>\n",
       "    </tr>\n",
       "  </tbody>\n",
       "</table>\n",
       "<p>2 rows × 140 columns</p>\n",
       "</div>"
      ],
      "text/plain": [
       "id                AV16khLE-jtxr-f38VFn  AV1YGDqsGV-KLJ3adc-O  \\\n",
       "reviews_username                                               \n",
       "1234                               0.0                   0.0   \n",
       "1234567                            0.0                   0.0   \n",
       "\n",
       "id                AV1YlENIglJLPUi8IHsX  AV1YmDL9vKc47QAVgr7_  \\\n",
       "reviews_username                                               \n",
       "1234                               0.0                   0.0   \n",
       "1234567                            0.0                   0.0   \n",
       "\n",
       "id                AV1Ymf_rglJLPUi8II2v  AV1Yn94nvKc47QAVgtst  \\\n",
       "reviews_username                                               \n",
       "1234                               0.0                   0.0   \n",
       "1234567                            0.0                   0.0   \n",
       "\n",
       "id                AV1YneDPglJLPUi8IJyQ  AV1Ys0kTvKc47QAVgx1C  \\\n",
       "reviews_username                                               \n",
       "1234                               0.0                   0.0   \n",
       "1234567                            0.0                   0.0   \n",
       "\n",
       "id                AV1YtGjdglJLPUi8IOfJ  AV1ZT7GLglJLPUi8IQLI  ...  \\\n",
       "reviews_username                                              ...   \n",
       "1234                               0.0                   0.0  ...   \n",
       "1234567                            0.0                   0.0  ...   \n",
       "\n",
       "id                AVpfov9TLJeJML43A7B0  AVpfpM2yilAPnD_xfmDG  \\\n",
       "reviews_username                                               \n",
       "1234                               0.0                   0.0   \n",
       "1234567                            0.0                   0.0   \n",
       "\n",
       "id                AVpfr5cb1cnluZ0-pZFp  AVpfrFDZLJeJML43Bmv0  \\\n",
       "reviews_username                                               \n",
       "1234                               0.0                   0.0   \n",
       "1234567                            0.0                   0.0   \n",
       "\n",
       "id                AVpfrTyiLJeJML43BrSI  AVpfrgjFLJeJML43BvCc  \\\n",
       "reviews_username                                               \n",
       "1234                               0.0                   0.0   \n",
       "1234567                            0.0                   0.0   \n",
       "\n",
       "id                AVpfs0tUilAPnD_xgqN2  AVpfthSailAPnD_xg3ON  \\\n",
       "reviews_username                                               \n",
       "1234                               0.0                   0.0   \n",
       "1234567                            0.0                   0.0   \n",
       "\n",
       "id                AVpftikC1cnluZ0-p31V  AVpfv4TlilAPnD_xhjNS  \n",
       "reviews_username                                              \n",
       "1234                               0.0                   0.0  \n",
       "1234567                            0.0                   0.0  \n",
       "\n",
       "[2 rows x 140 columns]"
      ]
     },
     "execution_count": 162,
     "metadata": {},
     "output_type": "execute_result"
    }
   ],
   "source": [
    "common_user_predicted_ratings.head(2)"
   ]
  },
  {
   "cell_type": "markdown",
   "metadata": {
    "id": "sjI3t32qNuXm"
   },
   "source": [
    "* Calculating the RMSE for only the products rated by user.\n",
    "* For RMSE, normalising the rating to (1,5) range."
   ]
  },
  {
   "cell_type": "code",
   "execution_count": 163,
   "metadata": {
    "colab": {
     "base_uri": "https://localhost:8080/"
    },
    "id": "vafIySF6N0JX",
    "outputId": "df0a8ef4-f09d-4386-84bd-9728f735c30d"
   },
   "outputs": [
    {
     "name": "stdout",
     "output_type": "stream",
     "text": [
      "MinMaxScaler(feature_range=(1, 5))\n",
      "[[nan nan nan ... nan nan nan]\n",
      " [nan nan nan ... nan nan nan]\n",
      " [nan nan nan ... nan nan nan]\n",
      " ...\n",
      " [nan nan nan ... nan nan nan]\n",
      " [nan nan nan ... nan nan nan]\n",
      " [nan nan nan ... nan nan nan]]\n"
     ]
    }
   ],
   "source": [
    "from sklearn.preprocessing import MinMaxScaler\n",
    "from numpy import *\n",
    "\n",
    "X  = common_user_predicted_ratings.copy() \n",
    "X = X[X>0]\n",
    "\n",
    "scaler = MinMaxScaler(feature_range=(1, 5))\n",
    "print(scaler.fit(X))\n",
    "y = (scaler.transform(X))\n",
    "\n",
    "print(y)"
   ]
  },
  {
   "cell_type": "code",
   "execution_count": 164,
   "metadata": {
    "id": "9nrmgtuIN3DY"
   },
   "outputs": [],
   "source": [
    "common_ = common.pivot_table(index='reviews_username', columns='id', values='reviews_rating')"
   ]
  },
  {
   "cell_type": "code",
   "execution_count": 165,
   "metadata": {
    "id": "N14IVLBPN5Xv"
   },
   "outputs": [],
   "source": [
    "# Finding total non-NaN value\n",
    "total_non_nan = np.count_nonzero(~np.isnan(y))"
   ]
  },
  {
   "cell_type": "code",
   "execution_count": 166,
   "metadata": {
    "colab": {
     "base_uri": "https://localhost:8080/"
    },
    "id": "TW3I5d4IN9PQ",
    "outputId": "8e82d381-f823-4b1a-8ab8-cfa7e1942574"
   },
   "outputs": [
    {
     "name": "stdout",
     "output_type": "stream",
     "text": [
      "2.551419404666111\n"
     ]
    }
   ],
   "source": [
    "rmse_user_user = (sum(sum((common_ - y )**2))/total_non_nan)**0.5\n",
    "print(rmse_user_user)"
   ]
  },
  {
   "cell_type": "markdown",
   "metadata": {
    "id": "i7A7BHzyN_V-"
   },
   "source": [
    "## **Using Item Similarity**\n",
    "\n",
    "**Item Based Similarity**\n",
    "\n",
    "Taking the transpose of the rating matrix to normalize the rating around the mean for different Product ID. In the user based similarity, we had taken mean for each user instead of each product."
   ]
  },
  {
   "cell_type": "code",
   "execution_count": 167,
   "metadata": {
    "id": "bAaiyFqdOJWe"
   },
   "outputs": [],
   "source": [
    "df_pivot = train.pivot_table(\n",
    "    index='reviews_username',\n",
    "    columns='id',\n",
    "    values='reviews_rating'\n",
    ").T"
   ]
  },
  {
   "cell_type": "code",
   "execution_count": 168,
   "metadata": {
    "colab": {
     "base_uri": "https://localhost:8080/",
     "height": 418
    },
    "id": "7EfsDBEaOMY6",
    "outputId": "29ccc062-0b00-4aa8-e5c7-e4761262dfdb"
   },
   "outputs": [
    {
     "data": {
      "text/html": [
       "<div>\n",
       "<style scoped>\n",
       "    .dataframe tbody tr th:only-of-type {\n",
       "        vertical-align: middle;\n",
       "    }\n",
       "\n",
       "    .dataframe tbody tr th {\n",
       "        vertical-align: top;\n",
       "    }\n",
       "\n",
       "    .dataframe thead th {\n",
       "        text-align: right;\n",
       "    }\n",
       "</style>\n",
       "<table border=\"1\" class=\"dataframe\">\n",
       "  <thead>\n",
       "    <tr style=\"text-align: right;\">\n",
       "      <th>reviews_username</th>\n",
       "      <th>00sab00</th>\n",
       "      <th>01impala</th>\n",
       "      <th>02dakota</th>\n",
       "      <th>02deuce</th>\n",
       "      <th>0325home</th>\n",
       "      <th>06stidriver</th>\n",
       "      <th>08dallas</th>\n",
       "      <th>09mommy11</th>\n",
       "      <th>1.11E+24</th>\n",
       "      <th>1085</th>\n",
       "      <th>...</th>\n",
       "      <th>zsarah</th>\n",
       "      <th>zsazsa</th>\n",
       "      <th>zubb</th>\n",
       "      <th>zuttle</th>\n",
       "      <th>zwithanx</th>\n",
       "      <th>zxcsdfd</th>\n",
       "      <th>zxjki</th>\n",
       "      <th>zyiah4</th>\n",
       "      <th>zzdiane</th>\n",
       "      <th>zzz1127</th>\n",
       "    </tr>\n",
       "    <tr>\n",
       "      <th>id</th>\n",
       "      <th></th>\n",
       "      <th></th>\n",
       "      <th></th>\n",
       "      <th></th>\n",
       "      <th></th>\n",
       "      <th></th>\n",
       "      <th></th>\n",
       "      <th></th>\n",
       "      <th></th>\n",
       "      <th></th>\n",
       "      <th></th>\n",
       "      <th></th>\n",
       "      <th></th>\n",
       "      <th></th>\n",
       "      <th></th>\n",
       "      <th></th>\n",
       "      <th></th>\n",
       "      <th></th>\n",
       "      <th></th>\n",
       "      <th></th>\n",
       "      <th></th>\n",
       "    </tr>\n",
       "  </thead>\n",
       "  <tbody>\n",
       "    <tr>\n",
       "      <th>AV13O1A8GV-KLJ3akUyj</th>\n",
       "      <td>NaN</td>\n",
       "      <td>NaN</td>\n",
       "      <td>NaN</td>\n",
       "      <td>NaN</td>\n",
       "      <td>NaN</td>\n",
       "      <td>NaN</td>\n",
       "      <td>NaN</td>\n",
       "      <td>NaN</td>\n",
       "      <td>NaN</td>\n",
       "      <td>NaN</td>\n",
       "      <td>...</td>\n",
       "      <td>NaN</td>\n",
       "      <td>NaN</td>\n",
       "      <td>NaN</td>\n",
       "      <td>NaN</td>\n",
       "      <td>NaN</td>\n",
       "      <td>NaN</td>\n",
       "      <td>NaN</td>\n",
       "      <td>NaN</td>\n",
       "      <td>NaN</td>\n",
       "      <td>NaN</td>\n",
       "    </tr>\n",
       "    <tr>\n",
       "      <th>AV14LG0R-jtxr-f38QfS</th>\n",
       "      <td>NaN</td>\n",
       "      <td>NaN</td>\n",
       "      <td>NaN</td>\n",
       "      <td>NaN</td>\n",
       "      <td>NaN</td>\n",
       "      <td>NaN</td>\n",
       "      <td>NaN</td>\n",
       "      <td>NaN</td>\n",
       "      <td>NaN</td>\n",
       "      <td>NaN</td>\n",
       "      <td>...</td>\n",
       "      <td>NaN</td>\n",
       "      <td>NaN</td>\n",
       "      <td>NaN</td>\n",
       "      <td>NaN</td>\n",
       "      <td>NaN</td>\n",
       "      <td>NaN</td>\n",
       "      <td>NaN</td>\n",
       "      <td>NaN</td>\n",
       "      <td>NaN</td>\n",
       "      <td>NaN</td>\n",
       "    </tr>\n",
       "    <tr>\n",
       "      <th>AV16khLE-jtxr-f38VFn</th>\n",
       "      <td>NaN</td>\n",
       "      <td>NaN</td>\n",
       "      <td>NaN</td>\n",
       "      <td>NaN</td>\n",
       "      <td>NaN</td>\n",
       "      <td>NaN</td>\n",
       "      <td>NaN</td>\n",
       "      <td>NaN</td>\n",
       "      <td>NaN</td>\n",
       "      <td>NaN</td>\n",
       "      <td>...</td>\n",
       "      <td>NaN</td>\n",
       "      <td>NaN</td>\n",
       "      <td>NaN</td>\n",
       "      <td>NaN</td>\n",
       "      <td>NaN</td>\n",
       "      <td>NaN</td>\n",
       "      <td>NaN</td>\n",
       "      <td>NaN</td>\n",
       "      <td>NaN</td>\n",
       "      <td>NaN</td>\n",
       "    </tr>\n",
       "    <tr>\n",
       "      <th>AV1YGDqsGV-KLJ3adc-O</th>\n",
       "      <td>NaN</td>\n",
       "      <td>NaN</td>\n",
       "      <td>NaN</td>\n",
       "      <td>NaN</td>\n",
       "      <td>NaN</td>\n",
       "      <td>NaN</td>\n",
       "      <td>NaN</td>\n",
       "      <td>NaN</td>\n",
       "      <td>NaN</td>\n",
       "      <td>NaN</td>\n",
       "      <td>...</td>\n",
       "      <td>NaN</td>\n",
       "      <td>NaN</td>\n",
       "      <td>NaN</td>\n",
       "      <td>NaN</td>\n",
       "      <td>NaN</td>\n",
       "      <td>NaN</td>\n",
       "      <td>NaN</td>\n",
       "      <td>NaN</td>\n",
       "      <td>NaN</td>\n",
       "      <td>NaN</td>\n",
       "    </tr>\n",
       "    <tr>\n",
       "      <th>AV1YIch7GV-KLJ3addeG</th>\n",
       "      <td>NaN</td>\n",
       "      <td>NaN</td>\n",
       "      <td>NaN</td>\n",
       "      <td>NaN</td>\n",
       "      <td>NaN</td>\n",
       "      <td>NaN</td>\n",
       "      <td>NaN</td>\n",
       "      <td>NaN</td>\n",
       "      <td>NaN</td>\n",
       "      <td>NaN</td>\n",
       "      <td>...</td>\n",
       "      <td>NaN</td>\n",
       "      <td>NaN</td>\n",
       "      <td>NaN</td>\n",
       "      <td>NaN</td>\n",
       "      <td>NaN</td>\n",
       "      <td>NaN</td>\n",
       "      <td>NaN</td>\n",
       "      <td>NaN</td>\n",
       "      <td>NaN</td>\n",
       "      <td>NaN</td>\n",
       "    </tr>\n",
       "  </tbody>\n",
       "</table>\n",
       "<p>5 rows × 18275 columns</p>\n",
       "</div>"
      ],
      "text/plain": [
       "reviews_username      00sab00  01impala  02dakota  02deuce  0325home  \\\n",
       "id                                                                     \n",
       "AV13O1A8GV-KLJ3akUyj      NaN       NaN       NaN      NaN       NaN   \n",
       "AV14LG0R-jtxr-f38QfS      NaN       NaN       NaN      NaN       NaN   \n",
       "AV16khLE-jtxr-f38VFn      NaN       NaN       NaN      NaN       NaN   \n",
       "AV1YGDqsGV-KLJ3adc-O      NaN       NaN       NaN      NaN       NaN   \n",
       "AV1YIch7GV-KLJ3addeG      NaN       NaN       NaN      NaN       NaN   \n",
       "\n",
       "reviews_username      06stidriver  08dallas  09mommy11  1.11E+24  1085  ...  \\\n",
       "id                                                                      ...   \n",
       "AV13O1A8GV-KLJ3akUyj          NaN       NaN        NaN       NaN   NaN  ...   \n",
       "AV14LG0R-jtxr-f38QfS          NaN       NaN        NaN       NaN   NaN  ...   \n",
       "AV16khLE-jtxr-f38VFn          NaN       NaN        NaN       NaN   NaN  ...   \n",
       "AV1YGDqsGV-KLJ3adc-O          NaN       NaN        NaN       NaN   NaN  ...   \n",
       "AV1YIch7GV-KLJ3addeG          NaN       NaN        NaN       NaN   NaN  ...   \n",
       "\n",
       "reviews_username      zsarah  zsazsa  zubb  zuttle  zwithanx  zxcsdfd  zxjki  \\\n",
       "id                                                                             \n",
       "AV13O1A8GV-KLJ3akUyj     NaN     NaN   NaN     NaN       NaN      NaN    NaN   \n",
       "AV14LG0R-jtxr-f38QfS     NaN     NaN   NaN     NaN       NaN      NaN    NaN   \n",
       "AV16khLE-jtxr-f38VFn     NaN     NaN   NaN     NaN       NaN      NaN    NaN   \n",
       "AV1YGDqsGV-KLJ3adc-O     NaN     NaN   NaN     NaN       NaN      NaN    NaN   \n",
       "AV1YIch7GV-KLJ3addeG     NaN     NaN   NaN     NaN       NaN      NaN    NaN   \n",
       "\n",
       "reviews_username      zyiah4  zzdiane  zzz1127  \n",
       "id                                              \n",
       "AV13O1A8GV-KLJ3akUyj     NaN      NaN      NaN  \n",
       "AV14LG0R-jtxr-f38QfS     NaN      NaN      NaN  \n",
       "AV16khLE-jtxr-f38VFn     NaN      NaN      NaN  \n",
       "AV1YGDqsGV-KLJ3adc-O     NaN      NaN      NaN  \n",
       "AV1YIch7GV-KLJ3addeG     NaN      NaN      NaN  \n",
       "\n",
       "[5 rows x 18275 columns]"
      ]
     },
     "execution_count": 168,
     "metadata": {},
     "output_type": "execute_result"
    }
   ],
   "source": [
    "df_pivot.head()"
   ]
  },
  {
   "cell_type": "markdown",
   "metadata": {
    "id": "tt1aIcnvOP-Z"
   },
   "source": [
    "Normalizing the product rating for each product for using the Adujsted Cosine"
   ]
  },
  {
   "cell_type": "code",
   "execution_count": 169,
   "metadata": {
    "id": "hl5PM1AeORV-"
   },
   "outputs": [],
   "source": [
    "mean = np.nanmean(df_pivot, axis=1)\n",
    "df_subtracted = (df_pivot.T-mean).T"
   ]
  },
  {
   "cell_type": "code",
   "execution_count": 170,
   "metadata": {
    "colab": {
     "base_uri": "https://localhost:8080/",
     "height": 418
    },
    "id": "bWNN--8HOfbw",
    "outputId": "71d1493f-3129-41d9-8abd-d2e04702e61f"
   },
   "outputs": [
    {
     "data": {
      "text/html": [
       "<div>\n",
       "<style scoped>\n",
       "    .dataframe tbody tr th:only-of-type {\n",
       "        vertical-align: middle;\n",
       "    }\n",
       "\n",
       "    .dataframe tbody tr th {\n",
       "        vertical-align: top;\n",
       "    }\n",
       "\n",
       "    .dataframe thead th {\n",
       "        text-align: right;\n",
       "    }\n",
       "</style>\n",
       "<table border=\"1\" class=\"dataframe\">\n",
       "  <thead>\n",
       "    <tr style=\"text-align: right;\">\n",
       "      <th>reviews_username</th>\n",
       "      <th>00sab00</th>\n",
       "      <th>01impala</th>\n",
       "      <th>02dakota</th>\n",
       "      <th>02deuce</th>\n",
       "      <th>0325home</th>\n",
       "      <th>06stidriver</th>\n",
       "      <th>08dallas</th>\n",
       "      <th>09mommy11</th>\n",
       "      <th>1.11E+24</th>\n",
       "      <th>1085</th>\n",
       "      <th>...</th>\n",
       "      <th>zsarah</th>\n",
       "      <th>zsazsa</th>\n",
       "      <th>zubb</th>\n",
       "      <th>zuttle</th>\n",
       "      <th>zwithanx</th>\n",
       "      <th>zxcsdfd</th>\n",
       "      <th>zxjki</th>\n",
       "      <th>zyiah4</th>\n",
       "      <th>zzdiane</th>\n",
       "      <th>zzz1127</th>\n",
       "    </tr>\n",
       "    <tr>\n",
       "      <th>id</th>\n",
       "      <th></th>\n",
       "      <th></th>\n",
       "      <th></th>\n",
       "      <th></th>\n",
       "      <th></th>\n",
       "      <th></th>\n",
       "      <th></th>\n",
       "      <th></th>\n",
       "      <th></th>\n",
       "      <th></th>\n",
       "      <th></th>\n",
       "      <th></th>\n",
       "      <th></th>\n",
       "      <th></th>\n",
       "      <th></th>\n",
       "      <th></th>\n",
       "      <th></th>\n",
       "      <th></th>\n",
       "      <th></th>\n",
       "      <th></th>\n",
       "      <th></th>\n",
       "    </tr>\n",
       "  </thead>\n",
       "  <tbody>\n",
       "    <tr>\n",
       "      <th>AV13O1A8GV-KLJ3akUyj</th>\n",
       "      <td>NaN</td>\n",
       "      <td>NaN</td>\n",
       "      <td>NaN</td>\n",
       "      <td>NaN</td>\n",
       "      <td>NaN</td>\n",
       "      <td>NaN</td>\n",
       "      <td>NaN</td>\n",
       "      <td>NaN</td>\n",
       "      <td>NaN</td>\n",
       "      <td>NaN</td>\n",
       "      <td>...</td>\n",
       "      <td>NaN</td>\n",
       "      <td>NaN</td>\n",
       "      <td>NaN</td>\n",
       "      <td>NaN</td>\n",
       "      <td>NaN</td>\n",
       "      <td>NaN</td>\n",
       "      <td>NaN</td>\n",
       "      <td>NaN</td>\n",
       "      <td>NaN</td>\n",
       "      <td>NaN</td>\n",
       "    </tr>\n",
       "    <tr>\n",
       "      <th>AV14LG0R-jtxr-f38QfS</th>\n",
       "      <td>NaN</td>\n",
       "      <td>NaN</td>\n",
       "      <td>NaN</td>\n",
       "      <td>NaN</td>\n",
       "      <td>NaN</td>\n",
       "      <td>NaN</td>\n",
       "      <td>NaN</td>\n",
       "      <td>NaN</td>\n",
       "      <td>NaN</td>\n",
       "      <td>NaN</td>\n",
       "      <td>...</td>\n",
       "      <td>NaN</td>\n",
       "      <td>NaN</td>\n",
       "      <td>NaN</td>\n",
       "      <td>NaN</td>\n",
       "      <td>NaN</td>\n",
       "      <td>NaN</td>\n",
       "      <td>NaN</td>\n",
       "      <td>NaN</td>\n",
       "      <td>NaN</td>\n",
       "      <td>NaN</td>\n",
       "    </tr>\n",
       "    <tr>\n",
       "      <th>AV16khLE-jtxr-f38VFn</th>\n",
       "      <td>NaN</td>\n",
       "      <td>NaN</td>\n",
       "      <td>NaN</td>\n",
       "      <td>NaN</td>\n",
       "      <td>NaN</td>\n",
       "      <td>NaN</td>\n",
       "      <td>NaN</td>\n",
       "      <td>NaN</td>\n",
       "      <td>NaN</td>\n",
       "      <td>NaN</td>\n",
       "      <td>...</td>\n",
       "      <td>NaN</td>\n",
       "      <td>NaN</td>\n",
       "      <td>NaN</td>\n",
       "      <td>NaN</td>\n",
       "      <td>NaN</td>\n",
       "      <td>NaN</td>\n",
       "      <td>NaN</td>\n",
       "      <td>NaN</td>\n",
       "      <td>NaN</td>\n",
       "      <td>NaN</td>\n",
       "    </tr>\n",
       "    <tr>\n",
       "      <th>AV1YGDqsGV-KLJ3adc-O</th>\n",
       "      <td>NaN</td>\n",
       "      <td>NaN</td>\n",
       "      <td>NaN</td>\n",
       "      <td>NaN</td>\n",
       "      <td>NaN</td>\n",
       "      <td>NaN</td>\n",
       "      <td>NaN</td>\n",
       "      <td>NaN</td>\n",
       "      <td>NaN</td>\n",
       "      <td>NaN</td>\n",
       "      <td>...</td>\n",
       "      <td>NaN</td>\n",
       "      <td>NaN</td>\n",
       "      <td>NaN</td>\n",
       "      <td>NaN</td>\n",
       "      <td>NaN</td>\n",
       "      <td>NaN</td>\n",
       "      <td>NaN</td>\n",
       "      <td>NaN</td>\n",
       "      <td>NaN</td>\n",
       "      <td>NaN</td>\n",
       "    </tr>\n",
       "    <tr>\n",
       "      <th>AV1YIch7GV-KLJ3addeG</th>\n",
       "      <td>NaN</td>\n",
       "      <td>NaN</td>\n",
       "      <td>NaN</td>\n",
       "      <td>NaN</td>\n",
       "      <td>NaN</td>\n",
       "      <td>NaN</td>\n",
       "      <td>NaN</td>\n",
       "      <td>NaN</td>\n",
       "      <td>NaN</td>\n",
       "      <td>NaN</td>\n",
       "      <td>...</td>\n",
       "      <td>NaN</td>\n",
       "      <td>NaN</td>\n",
       "      <td>NaN</td>\n",
       "      <td>NaN</td>\n",
       "      <td>NaN</td>\n",
       "      <td>NaN</td>\n",
       "      <td>NaN</td>\n",
       "      <td>NaN</td>\n",
       "      <td>NaN</td>\n",
       "      <td>NaN</td>\n",
       "    </tr>\n",
       "  </tbody>\n",
       "</table>\n",
       "<p>5 rows × 18275 columns</p>\n",
       "</div>"
      ],
      "text/plain": [
       "reviews_username      00sab00  01impala  02dakota  02deuce  0325home  \\\n",
       "id                                                                     \n",
       "AV13O1A8GV-KLJ3akUyj      NaN       NaN       NaN      NaN       NaN   \n",
       "AV14LG0R-jtxr-f38QfS      NaN       NaN       NaN      NaN       NaN   \n",
       "AV16khLE-jtxr-f38VFn      NaN       NaN       NaN      NaN       NaN   \n",
       "AV1YGDqsGV-KLJ3adc-O      NaN       NaN       NaN      NaN       NaN   \n",
       "AV1YIch7GV-KLJ3addeG      NaN       NaN       NaN      NaN       NaN   \n",
       "\n",
       "reviews_username      06stidriver  08dallas  09mommy11  1.11E+24  1085  ...  \\\n",
       "id                                                                      ...   \n",
       "AV13O1A8GV-KLJ3akUyj          NaN       NaN        NaN       NaN   NaN  ...   \n",
       "AV14LG0R-jtxr-f38QfS          NaN       NaN        NaN       NaN   NaN  ...   \n",
       "AV16khLE-jtxr-f38VFn          NaN       NaN        NaN       NaN   NaN  ...   \n",
       "AV1YGDqsGV-KLJ3adc-O          NaN       NaN        NaN       NaN   NaN  ...   \n",
       "AV1YIch7GV-KLJ3addeG          NaN       NaN        NaN       NaN   NaN  ...   \n",
       "\n",
       "reviews_username      zsarah  zsazsa  zubb  zuttle  zwithanx  zxcsdfd  zxjki  \\\n",
       "id                                                                             \n",
       "AV13O1A8GV-KLJ3akUyj     NaN     NaN   NaN     NaN       NaN      NaN    NaN   \n",
       "AV14LG0R-jtxr-f38QfS     NaN     NaN   NaN     NaN       NaN      NaN    NaN   \n",
       "AV16khLE-jtxr-f38VFn     NaN     NaN   NaN     NaN       NaN      NaN    NaN   \n",
       "AV1YGDqsGV-KLJ3adc-O     NaN     NaN   NaN     NaN       NaN      NaN    NaN   \n",
       "AV1YIch7GV-KLJ3addeG     NaN     NaN   NaN     NaN       NaN      NaN    NaN   \n",
       "\n",
       "reviews_username      zyiah4  zzdiane  zzz1127  \n",
       "id                                              \n",
       "AV13O1A8GV-KLJ3akUyj     NaN      NaN      NaN  \n",
       "AV14LG0R-jtxr-f38QfS     NaN      NaN      NaN  \n",
       "AV16khLE-jtxr-f38VFn     NaN      NaN      NaN  \n",
       "AV1YGDqsGV-KLJ3adc-O     NaN      NaN      NaN  \n",
       "AV1YIch7GV-KLJ3addeG     NaN      NaN      NaN  \n",
       "\n",
       "[5 rows x 18275 columns]"
      ]
     },
     "execution_count": 170,
     "metadata": {},
     "output_type": "execute_result"
    }
   ],
   "source": [
    "df_subtracted.head()"
   ]
  },
  {
   "cell_type": "markdown",
   "metadata": {
    "id": "2xmmUVBsOi2u"
   },
   "source": [
    "Finding the cosine similarity using pairwise distances approach"
   ]
  },
  {
   "cell_type": "code",
   "execution_count": 171,
   "metadata": {
    "colab": {
     "base_uri": "https://localhost:8080/"
    },
    "id": "aD5Be_RLOlwp",
    "outputId": "45c878d7-9409-49d6-eab7-2c8ef94f85b1"
   },
   "outputs": [
    {
     "name": "stdout",
     "output_type": "stream",
     "text": [
      "[[0. 0. 0. ... 0. 0. 0.]\n",
      " [0. 0. 0. ... 0. 0. 0.]\n",
      " [0. 0. 1. ... 0. 0. 0.]\n",
      " ...\n",
      " [0. 0. 0. ... 1. 0. 0.]\n",
      " [0. 0. 0. ... 0. 1. 0.]\n",
      " [0. 0. 0. ... 0. 0. 1.]]\n"
     ]
    }
   ],
   "source": [
    "# Item Similarity Matrix\n",
    "item_correlation = 1 - pairwise_distances(df_subtracted.fillna(0), metric='cosine')\n",
    "item_correlation[np.isnan(item_correlation)] = 0\n",
    "print(item_correlation)"
   ]
  },
  {
   "cell_type": "markdown",
   "metadata": {
    "id": "Qyns-_kyOpth"
   },
   "source": [
    "Filtering the correlation only for which the value is greater than 0. (Positively correlated)"
   ]
  },
  {
   "cell_type": "code",
   "execution_count": 172,
   "metadata": {
    "colab": {
     "base_uri": "https://localhost:8080/"
    },
    "id": "rAu20EaCOr7y",
    "outputId": "4cab7dbb-50f2-411c-85b8-23443f265434"
   },
   "outputs": [
    {
     "data": {
      "text/plain": [
       "array([[0., 0., 0., ..., 0., 0., 0.],\n",
       "       [0., 0., 0., ..., 0., 0., 0.],\n",
       "       [0., 0., 1., ..., 0., 0., 0.],\n",
       "       ...,\n",
       "       [0., 0., 0., ..., 1., 0., 0.],\n",
       "       [0., 0., 0., ..., 0., 1., 0.],\n",
       "       [0., 0., 0., ..., 0., 0., 1.]])"
      ]
     },
     "execution_count": 172,
     "metadata": {},
     "output_type": "execute_result"
    }
   ],
   "source": [
    "item_correlation[item_correlation<0]=0\n",
    "item_correlation"
   ]
  },
  {
   "cell_type": "markdown",
   "metadata": {
    "id": "JdWMIpC0Ovb-"
   },
   "source": [
    "## **Prediction - Item Item**"
   ]
  },
  {
   "cell_type": "code",
   "execution_count": 173,
   "metadata": {
    "colab": {
     "base_uri": "https://localhost:8080/"
    },
    "id": "2RbQvKRLO0wk",
    "outputId": "a661c5a2-9f62-439a-d6da-b7f7834a53eb"
   },
   "outputs": [
    {
     "data": {
      "text/plain": [
       "array([[0.        , 0.        , 0.        , ..., 0.00603917, 0.06485571,\n",
       "        0.        ],\n",
       "       [0.        , 0.        , 0.        , ..., 0.        , 0.        ,\n",
       "        0.        ],\n",
       "       [0.        , 0.        , 0.        , ..., 0.        , 0.        ,\n",
       "        0.        ],\n",
       "       ...,\n",
       "       [0.        , 0.        , 0.        , ..., 0.        , 0.        ,\n",
       "        0.0094556 ],\n",
       "       [0.        , 0.        , 0.        , ..., 0.00781596, 0.10809285,\n",
       "        0.        ],\n",
       "       [0.        , 0.        , 0.        , ..., 0.        , 0.        ,\n",
       "        0.00756448]])"
      ]
     },
     "execution_count": 173,
     "metadata": {},
     "output_type": "execute_result"
    }
   ],
   "source": [
    "item_predicted_ratings = np.dot((df_pivot.fillna(0).T),item_correlation)\n",
    "item_predicted_ratings"
   ]
  },
  {
   "cell_type": "code",
   "execution_count": 174,
   "metadata": {
    "colab": {
     "base_uri": "https://localhost:8080/"
    },
    "id": "hhDNSdHlO4Gj",
    "outputId": "94296d3e-5db8-4d25-b5b9-21d6eef27c3b"
   },
   "outputs": [
    {
     "data": {
      "text/plain": [
       "(18275, 256)"
      ]
     },
     "execution_count": 174,
     "metadata": {},
     "output_type": "execute_result"
    }
   ],
   "source": [
    "item_predicted_ratings.shape"
   ]
  },
  {
   "cell_type": "code",
   "execution_count": 175,
   "metadata": {
    "colab": {
     "base_uri": "https://localhost:8080/"
    },
    "id": "OVGvdSHGO6QS",
    "outputId": "338786c9-8de7-4948-ea6f-56a51532ddaa"
   },
   "outputs": [
    {
     "data": {
      "text/plain": [
       "(18275, 256)"
      ]
     },
     "execution_count": 175,
     "metadata": {},
     "output_type": "execute_result"
    }
   ],
   "source": [
    "dummy_train.shape"
   ]
  },
  {
   "cell_type": "markdown",
   "metadata": {
    "id": "uDEBgtWqO9V_"
   },
   "source": [
    "**Filtering the rating only for the products not rated by the user for recommendation**"
   ]
  },
  {
   "cell_type": "code",
   "execution_count": 176,
   "metadata": {
    "colab": {
     "base_uri": "https://localhost:8080/",
     "height": 366
    },
    "id": "Y4WAPawGPCCw",
    "outputId": "759406e1-b01a-4806-f28c-86591fdae664"
   },
   "outputs": [
    {
     "data": {
      "text/html": [
       "<div>\n",
       "<style scoped>\n",
       "    .dataframe tbody tr th:only-of-type {\n",
       "        vertical-align: middle;\n",
       "    }\n",
       "\n",
       "    .dataframe tbody tr th {\n",
       "        vertical-align: top;\n",
       "    }\n",
       "\n",
       "    .dataframe thead th {\n",
       "        text-align: right;\n",
       "    }\n",
       "</style>\n",
       "<table border=\"1\" class=\"dataframe\">\n",
       "  <thead>\n",
       "    <tr style=\"text-align: right;\">\n",
       "      <th>id</th>\n",
       "      <th>AV13O1A8GV-KLJ3akUyj</th>\n",
       "      <th>AV14LG0R-jtxr-f38QfS</th>\n",
       "      <th>AV16khLE-jtxr-f38VFn</th>\n",
       "      <th>AV1YGDqsGV-KLJ3adc-O</th>\n",
       "      <th>AV1YIch7GV-KLJ3addeG</th>\n",
       "      <th>AV1YlENIglJLPUi8IHsX</th>\n",
       "      <th>AV1YmBrdGV-KLJ3adewb</th>\n",
       "      <th>AV1YmDL9vKc47QAVgr7_</th>\n",
       "      <th>AV1Ymf_rglJLPUi8II2v</th>\n",
       "      <th>AV1Yn94nvKc47QAVgtst</th>\n",
       "      <th>...</th>\n",
       "      <th>AVpfrFDZLJeJML43Bmv0</th>\n",
       "      <th>AVpfrTyiLJeJML43BrSI</th>\n",
       "      <th>AVpfrfHF1cnluZ0-pRai</th>\n",
       "      <th>AVpfrgjFLJeJML43BvCc</th>\n",
       "      <th>AVpfsQoeilAPnD_xgfx5</th>\n",
       "      <th>AVpfshNsLJeJML43CB8q</th>\n",
       "      <th>AVpfthSailAPnD_xg3ON</th>\n",
       "      <th>AVpftikC1cnluZ0-p31V</th>\n",
       "      <th>AVpfv4TlilAPnD_xhjNS</th>\n",
       "      <th>AVpfvieo1cnluZ0-qdnu</th>\n",
       "    </tr>\n",
       "    <tr>\n",
       "      <th>reviews_username</th>\n",
       "      <th></th>\n",
       "      <th></th>\n",
       "      <th></th>\n",
       "      <th></th>\n",
       "      <th></th>\n",
       "      <th></th>\n",
       "      <th></th>\n",
       "      <th></th>\n",
       "      <th></th>\n",
       "      <th></th>\n",
       "      <th></th>\n",
       "      <th></th>\n",
       "      <th></th>\n",
       "      <th></th>\n",
       "      <th></th>\n",
       "      <th></th>\n",
       "      <th></th>\n",
       "      <th></th>\n",
       "      <th></th>\n",
       "      <th></th>\n",
       "      <th></th>\n",
       "    </tr>\n",
       "  </thead>\n",
       "  <tbody>\n",
       "    <tr>\n",
       "      <th>00sab00</th>\n",
       "      <td>0.0</td>\n",
       "      <td>0.0</td>\n",
       "      <td>0.0</td>\n",
       "      <td>0.006042</td>\n",
       "      <td>0.0</td>\n",
       "      <td>0.0</td>\n",
       "      <td>0.0</td>\n",
       "      <td>0.000000</td>\n",
       "      <td>0.000000</td>\n",
       "      <td>0.000000</td>\n",
       "      <td>...</td>\n",
       "      <td>0.0</td>\n",
       "      <td>0.000000</td>\n",
       "      <td>0.0</td>\n",
       "      <td>0.0</td>\n",
       "      <td>0.0</td>\n",
       "      <td>0.0</td>\n",
       "      <td>0.020509</td>\n",
       "      <td>0.006039</td>\n",
       "      <td>0.064856</td>\n",
       "      <td>0.000000</td>\n",
       "    </tr>\n",
       "    <tr>\n",
       "      <th>01impala</th>\n",
       "      <td>0.0</td>\n",
       "      <td>0.0</td>\n",
       "      <td>0.0</td>\n",
       "      <td>0.000000</td>\n",
       "      <td>0.0</td>\n",
       "      <td>0.0</td>\n",
       "      <td>0.0</td>\n",
       "      <td>0.000000</td>\n",
       "      <td>0.000000</td>\n",
       "      <td>0.000000</td>\n",
       "      <td>...</td>\n",
       "      <td>0.0</td>\n",
       "      <td>0.097645</td>\n",
       "      <td>0.0</td>\n",
       "      <td>0.0</td>\n",
       "      <td>0.0</td>\n",
       "      <td>0.0</td>\n",
       "      <td>0.000000</td>\n",
       "      <td>0.000000</td>\n",
       "      <td>0.000000</td>\n",
       "      <td>0.000000</td>\n",
       "    </tr>\n",
       "    <tr>\n",
       "      <th>02dakota</th>\n",
       "      <td>0.0</td>\n",
       "      <td>0.0</td>\n",
       "      <td>0.0</td>\n",
       "      <td>0.000000</td>\n",
       "      <td>0.0</td>\n",
       "      <td>0.0</td>\n",
       "      <td>0.0</td>\n",
       "      <td>0.000000</td>\n",
       "      <td>0.000000</td>\n",
       "      <td>0.000000</td>\n",
       "      <td>...</td>\n",
       "      <td>0.0</td>\n",
       "      <td>0.162741</td>\n",
       "      <td>0.0</td>\n",
       "      <td>0.0</td>\n",
       "      <td>0.0</td>\n",
       "      <td>0.0</td>\n",
       "      <td>0.000000</td>\n",
       "      <td>0.000000</td>\n",
       "      <td>0.000000</td>\n",
       "      <td>0.000000</td>\n",
       "    </tr>\n",
       "    <tr>\n",
       "      <th>02deuce</th>\n",
       "      <td>0.0</td>\n",
       "      <td>0.0</td>\n",
       "      <td>0.0</td>\n",
       "      <td>0.000000</td>\n",
       "      <td>0.0</td>\n",
       "      <td>0.0</td>\n",
       "      <td>0.0</td>\n",
       "      <td>0.000000</td>\n",
       "      <td>0.000000</td>\n",
       "      <td>0.000000</td>\n",
       "      <td>...</td>\n",
       "      <td>0.0</td>\n",
       "      <td>0.130193</td>\n",
       "      <td>0.0</td>\n",
       "      <td>0.0</td>\n",
       "      <td>0.0</td>\n",
       "      <td>0.0</td>\n",
       "      <td>0.000000</td>\n",
       "      <td>0.000000</td>\n",
       "      <td>0.000000</td>\n",
       "      <td>0.000000</td>\n",
       "    </tr>\n",
       "    <tr>\n",
       "      <th>0325home</th>\n",
       "      <td>0.0</td>\n",
       "      <td>0.0</td>\n",
       "      <td>0.0</td>\n",
       "      <td>0.000082</td>\n",
       "      <td>0.0</td>\n",
       "      <td>0.0</td>\n",
       "      <td>0.0</td>\n",
       "      <td>0.001244</td>\n",
       "      <td>0.002197</td>\n",
       "      <td>0.001808</td>\n",
       "      <td>...</td>\n",
       "      <td>0.0</td>\n",
       "      <td>0.000000</td>\n",
       "      <td>0.0</td>\n",
       "      <td>0.0</td>\n",
       "      <td>0.0</td>\n",
       "      <td>0.0</td>\n",
       "      <td>0.006084</td>\n",
       "      <td>0.000000</td>\n",
       "      <td>0.000000</td>\n",
       "      <td>0.009456</td>\n",
       "    </tr>\n",
       "  </tbody>\n",
       "</table>\n",
       "<p>5 rows × 256 columns</p>\n",
       "</div>"
      ],
      "text/plain": [
       "id                AV13O1A8GV-KLJ3akUyj  AV14LG0R-jtxr-f38QfS  \\\n",
       "reviews_username                                               \n",
       "00sab00                            0.0                   0.0   \n",
       "01impala                           0.0                   0.0   \n",
       "02dakota                           0.0                   0.0   \n",
       "02deuce                            0.0                   0.0   \n",
       "0325home                           0.0                   0.0   \n",
       "\n",
       "id                AV16khLE-jtxr-f38VFn  AV1YGDqsGV-KLJ3adc-O  \\\n",
       "reviews_username                                               \n",
       "00sab00                            0.0              0.006042   \n",
       "01impala                           0.0              0.000000   \n",
       "02dakota                           0.0              0.000000   \n",
       "02deuce                            0.0              0.000000   \n",
       "0325home                           0.0              0.000082   \n",
       "\n",
       "id                AV1YIch7GV-KLJ3addeG  AV1YlENIglJLPUi8IHsX  \\\n",
       "reviews_username                                               \n",
       "00sab00                            0.0                   0.0   \n",
       "01impala                           0.0                   0.0   \n",
       "02dakota                           0.0                   0.0   \n",
       "02deuce                            0.0                   0.0   \n",
       "0325home                           0.0                   0.0   \n",
       "\n",
       "id                AV1YmBrdGV-KLJ3adewb  AV1YmDL9vKc47QAVgr7_  \\\n",
       "reviews_username                                               \n",
       "00sab00                            0.0              0.000000   \n",
       "01impala                           0.0              0.000000   \n",
       "02dakota                           0.0              0.000000   \n",
       "02deuce                            0.0              0.000000   \n",
       "0325home                           0.0              0.001244   \n",
       "\n",
       "id                AV1Ymf_rglJLPUi8II2v  AV1Yn94nvKc47QAVgtst  ...  \\\n",
       "reviews_username                                              ...   \n",
       "00sab00                       0.000000              0.000000  ...   \n",
       "01impala                      0.000000              0.000000  ...   \n",
       "02dakota                      0.000000              0.000000  ...   \n",
       "02deuce                       0.000000              0.000000  ...   \n",
       "0325home                      0.002197              0.001808  ...   \n",
       "\n",
       "id                AVpfrFDZLJeJML43Bmv0  AVpfrTyiLJeJML43BrSI  \\\n",
       "reviews_username                                               \n",
       "00sab00                            0.0              0.000000   \n",
       "01impala                           0.0              0.097645   \n",
       "02dakota                           0.0              0.162741   \n",
       "02deuce                            0.0              0.130193   \n",
       "0325home                           0.0              0.000000   \n",
       "\n",
       "id                AVpfrfHF1cnluZ0-pRai  AVpfrgjFLJeJML43BvCc  \\\n",
       "reviews_username                                               \n",
       "00sab00                            0.0                   0.0   \n",
       "01impala                           0.0                   0.0   \n",
       "02dakota                           0.0                   0.0   \n",
       "02deuce                            0.0                   0.0   \n",
       "0325home                           0.0                   0.0   \n",
       "\n",
       "id                AVpfsQoeilAPnD_xgfx5  AVpfshNsLJeJML43CB8q  \\\n",
       "reviews_username                                               \n",
       "00sab00                            0.0                   0.0   \n",
       "01impala                           0.0                   0.0   \n",
       "02dakota                           0.0                   0.0   \n",
       "02deuce                            0.0                   0.0   \n",
       "0325home                           0.0                   0.0   \n",
       "\n",
       "id                AVpfthSailAPnD_xg3ON  AVpftikC1cnluZ0-p31V  \\\n",
       "reviews_username                                               \n",
       "00sab00                       0.020509              0.006039   \n",
       "01impala                      0.000000              0.000000   \n",
       "02dakota                      0.000000              0.000000   \n",
       "02deuce                       0.000000              0.000000   \n",
       "0325home                      0.006084              0.000000   \n",
       "\n",
       "id                AVpfv4TlilAPnD_xhjNS  AVpfvieo1cnluZ0-qdnu  \n",
       "reviews_username                                              \n",
       "00sab00                       0.064856              0.000000  \n",
       "01impala                      0.000000              0.000000  \n",
       "02dakota                      0.000000              0.000000  \n",
       "02deuce                       0.000000              0.000000  \n",
       "0325home                      0.000000              0.009456  \n",
       "\n",
       "[5 rows x 256 columns]"
      ]
     },
     "execution_count": 176,
     "metadata": {},
     "output_type": "execute_result"
    }
   ],
   "source": [
    "item_final_rating = np.multiply(item_predicted_ratings,dummy_train)\n",
    "item_final_rating.head()"
   ]
  },
  {
   "cell_type": "code",
   "execution_count": 177,
   "metadata": {
    "id": "dC4Vc0xFPFHo"
   },
   "outputs": [],
   "source": [
    "# Take a sample username as input.\n",
    "user_input = '00sab00'"
   ]
  },
  {
   "cell_type": "code",
   "execution_count": 178,
   "metadata": {
    "colab": {
     "base_uri": "https://localhost:8080/",
     "height": 272
    },
    "id": "112YnT7nPHT-",
    "outputId": "200ea088-101a-430a-e1dd-205ea777fe5f"
   },
   "outputs": [
    {
     "data": {
      "text/html": [
       "<div>\n",
       "<style scoped>\n",
       "    .dataframe tbody tr th:only-of-type {\n",
       "        vertical-align: middle;\n",
       "    }\n",
       "\n",
       "    .dataframe tbody tr th {\n",
       "        vertical-align: top;\n",
       "    }\n",
       "\n",
       "    .dataframe thead th {\n",
       "        text-align: right;\n",
       "    }\n",
       "</style>\n",
       "<table border=\"1\" class=\"dataframe\">\n",
       "  <thead>\n",
       "    <tr style=\"text-align: right;\">\n",
       "      <th>id</th>\n",
       "      <th>AV13O1A8GV-KLJ3akUyj</th>\n",
       "      <th>AV14LG0R-jtxr-f38QfS</th>\n",
       "      <th>AV16khLE-jtxr-f38VFn</th>\n",
       "      <th>AV1YGDqsGV-KLJ3adc-O</th>\n",
       "      <th>AV1YIch7GV-KLJ3addeG</th>\n",
       "      <th>AV1YlENIglJLPUi8IHsX</th>\n",
       "      <th>AV1YmBrdGV-KLJ3adewb</th>\n",
       "      <th>AV1YmDL9vKc47QAVgr7_</th>\n",
       "      <th>AV1Ymf_rglJLPUi8II2v</th>\n",
       "      <th>AV1Yn94nvKc47QAVgtst</th>\n",
       "      <th>...</th>\n",
       "      <th>AVpfrFDZLJeJML43Bmv0</th>\n",
       "      <th>AVpfrTyiLJeJML43BrSI</th>\n",
       "      <th>AVpfrfHF1cnluZ0-pRai</th>\n",
       "      <th>AVpfrgjFLJeJML43BvCc</th>\n",
       "      <th>AVpfsQoeilAPnD_xgfx5</th>\n",
       "      <th>AVpfshNsLJeJML43CB8q</th>\n",
       "      <th>AVpfthSailAPnD_xg3ON</th>\n",
       "      <th>AVpftikC1cnluZ0-p31V</th>\n",
       "      <th>AVpfv4TlilAPnD_xhjNS</th>\n",
       "      <th>AVpfvieo1cnluZ0-qdnu</th>\n",
       "    </tr>\n",
       "    <tr>\n",
       "      <th>reviews_username</th>\n",
       "      <th></th>\n",
       "      <th></th>\n",
       "      <th></th>\n",
       "      <th></th>\n",
       "      <th></th>\n",
       "      <th></th>\n",
       "      <th></th>\n",
       "      <th></th>\n",
       "      <th></th>\n",
       "      <th></th>\n",
       "      <th></th>\n",
       "      <th></th>\n",
       "      <th></th>\n",
       "      <th></th>\n",
       "      <th></th>\n",
       "      <th></th>\n",
       "      <th></th>\n",
       "      <th></th>\n",
       "      <th></th>\n",
       "      <th></th>\n",
       "      <th></th>\n",
       "    </tr>\n",
       "  </thead>\n",
       "  <tbody>\n",
       "    <tr>\n",
       "      <th>00sab00</th>\n",
       "      <td>0.0</td>\n",
       "      <td>0.0</td>\n",
       "      <td>0.0</td>\n",
       "      <td>0.006042</td>\n",
       "      <td>0.0</td>\n",
       "      <td>0.0</td>\n",
       "      <td>0.0</td>\n",
       "      <td>0.0</td>\n",
       "      <td>0.0</td>\n",
       "      <td>0.0</td>\n",
       "      <td>...</td>\n",
       "      <td>0.0</td>\n",
       "      <td>0.000000</td>\n",
       "      <td>0.0</td>\n",
       "      <td>0.0</td>\n",
       "      <td>0.0</td>\n",
       "      <td>0.0</td>\n",
       "      <td>0.020509</td>\n",
       "      <td>0.006039</td>\n",
       "      <td>0.064856</td>\n",
       "      <td>0.0</td>\n",
       "    </tr>\n",
       "    <tr>\n",
       "      <th>01impala</th>\n",
       "      <td>0.0</td>\n",
       "      <td>0.0</td>\n",
       "      <td>0.0</td>\n",
       "      <td>0.000000</td>\n",
       "      <td>0.0</td>\n",
       "      <td>0.0</td>\n",
       "      <td>0.0</td>\n",
       "      <td>0.0</td>\n",
       "      <td>0.0</td>\n",
       "      <td>0.0</td>\n",
       "      <td>...</td>\n",
       "      <td>0.0</td>\n",
       "      <td>0.097645</td>\n",
       "      <td>0.0</td>\n",
       "      <td>0.0</td>\n",
       "      <td>0.0</td>\n",
       "      <td>0.0</td>\n",
       "      <td>0.000000</td>\n",
       "      <td>0.000000</td>\n",
       "      <td>0.000000</td>\n",
       "      <td>0.0</td>\n",
       "    </tr>\n",
       "  </tbody>\n",
       "</table>\n",
       "<p>2 rows × 256 columns</p>\n",
       "</div>"
      ],
      "text/plain": [
       "id                AV13O1A8GV-KLJ3akUyj  AV14LG0R-jtxr-f38QfS  \\\n",
       "reviews_username                                               \n",
       "00sab00                            0.0                   0.0   \n",
       "01impala                           0.0                   0.0   \n",
       "\n",
       "id                AV16khLE-jtxr-f38VFn  AV1YGDqsGV-KLJ3adc-O  \\\n",
       "reviews_username                                               \n",
       "00sab00                            0.0              0.006042   \n",
       "01impala                           0.0              0.000000   \n",
       "\n",
       "id                AV1YIch7GV-KLJ3addeG  AV1YlENIglJLPUi8IHsX  \\\n",
       "reviews_username                                               \n",
       "00sab00                            0.0                   0.0   \n",
       "01impala                           0.0                   0.0   \n",
       "\n",
       "id                AV1YmBrdGV-KLJ3adewb  AV1YmDL9vKc47QAVgr7_  \\\n",
       "reviews_username                                               \n",
       "00sab00                            0.0                   0.0   \n",
       "01impala                           0.0                   0.0   \n",
       "\n",
       "id                AV1Ymf_rglJLPUi8II2v  AV1Yn94nvKc47QAVgtst  ...  \\\n",
       "reviews_username                                              ...   \n",
       "00sab00                            0.0                   0.0  ...   \n",
       "01impala                           0.0                   0.0  ...   \n",
       "\n",
       "id                AVpfrFDZLJeJML43Bmv0  AVpfrTyiLJeJML43BrSI  \\\n",
       "reviews_username                                               \n",
       "00sab00                            0.0              0.000000   \n",
       "01impala                           0.0              0.097645   \n",
       "\n",
       "id                AVpfrfHF1cnluZ0-pRai  AVpfrgjFLJeJML43BvCc  \\\n",
       "reviews_username                                               \n",
       "00sab00                            0.0                   0.0   \n",
       "01impala                           0.0                   0.0   \n",
       "\n",
       "id                AVpfsQoeilAPnD_xgfx5  AVpfshNsLJeJML43CB8q  \\\n",
       "reviews_username                                               \n",
       "00sab00                            0.0                   0.0   \n",
       "01impala                           0.0                   0.0   \n",
       "\n",
       "id                AVpfthSailAPnD_xg3ON  AVpftikC1cnluZ0-p31V  \\\n",
       "reviews_username                                               \n",
       "00sab00                       0.020509              0.006039   \n",
       "01impala                      0.000000              0.000000   \n",
       "\n",
       "id                AVpfv4TlilAPnD_xhjNS  AVpfvieo1cnluZ0-qdnu  \n",
       "reviews_username                                              \n",
       "00sab00                       0.064856                   0.0  \n",
       "01impala                      0.000000                   0.0  \n",
       "\n",
       "[2 rows x 256 columns]"
      ]
     },
     "execution_count": 178,
     "metadata": {},
     "output_type": "execute_result"
    }
   ],
   "source": [
    "item_final_rating.head(2)"
   ]
  },
  {
   "cell_type": "code",
   "execution_count": 179,
   "metadata": {
    "colab": {
     "base_uri": "https://localhost:8080/",
     "height": 677
    },
    "id": "qg6izox_PLDe",
    "outputId": "158cee93-73a5-4d96-f9c4-bffbaf76a08d"
   },
   "outputs": [
    {
     "data": {
      "text/html": [
       "<div>\n",
       "<style scoped>\n",
       "    .dataframe tbody tr th:only-of-type {\n",
       "        vertical-align: middle;\n",
       "    }\n",
       "\n",
       "    .dataframe tbody tr th {\n",
       "        vertical-align: top;\n",
       "    }\n",
       "\n",
       "    .dataframe thead th {\n",
       "        text-align: right;\n",
       "    }\n",
       "</style>\n",
       "<table border=\"1\" class=\"dataframe\">\n",
       "  <thead>\n",
       "    <tr style=\"text-align: right;\">\n",
       "      <th></th>\n",
       "      <th>Product Id</th>\n",
       "      <th>cosine_similarity_score</th>\n",
       "    </tr>\n",
       "  </thead>\n",
       "  <tbody>\n",
       "    <tr>\n",
       "      <th>0</th>\n",
       "      <td>AVpfE7puilAPnD_xUcCW</td>\n",
       "      <td>0.147125</td>\n",
       "    </tr>\n",
       "    <tr>\n",
       "      <th>1</th>\n",
       "      <td>AVpfv4TlilAPnD_xhjNS</td>\n",
       "      <td>0.064856</td>\n",
       "    </tr>\n",
       "    <tr>\n",
       "      <th>2</th>\n",
       "      <td>AVpfJcHuLJeJML433ZrY</td>\n",
       "      <td>0.052161</td>\n",
       "    </tr>\n",
       "    <tr>\n",
       "      <th>3</th>\n",
       "      <td>AVpf0thK1cnluZ0-r8vR</td>\n",
       "      <td>0.036554</td>\n",
       "    </tr>\n",
       "    <tr>\n",
       "      <th>4</th>\n",
       "      <td>AVpe6PCDLJeJML43yFQH</td>\n",
       "      <td>0.032108</td>\n",
       "    </tr>\n",
       "    <tr>\n",
       "      <th>5</th>\n",
       "      <td>AVpe_dxlilAPnD_xSiHI</td>\n",
       "      <td>0.030764</td>\n",
       "    </tr>\n",
       "    <tr>\n",
       "      <th>6</th>\n",
       "      <td>AVpfQtEm1cnluZ0-hUpe</td>\n",
       "      <td>0.027387</td>\n",
       "    </tr>\n",
       "    <tr>\n",
       "      <th>7</th>\n",
       "      <td>AVpfHf4wLJeJML432vqK</td>\n",
       "      <td>0.022930</td>\n",
       "    </tr>\n",
       "    <tr>\n",
       "      <th>8</th>\n",
       "      <td>AVpfthSailAPnD_xg3ON</td>\n",
       "      <td>0.020509</td>\n",
       "    </tr>\n",
       "    <tr>\n",
       "      <th>9</th>\n",
       "      <td>AVpe6FfKilAPnD_xQmHi</td>\n",
       "      <td>0.020308</td>\n",
       "    </tr>\n",
       "    <tr>\n",
       "      <th>10</th>\n",
       "      <td>AVpe_pDG1cnluZ0-bjSf</td>\n",
       "      <td>0.017473</td>\n",
       "    </tr>\n",
       "    <tr>\n",
       "      <th>11</th>\n",
       "      <td>AVpf5CnILJeJML43FjaU</td>\n",
       "      <td>0.016342</td>\n",
       "    </tr>\n",
       "    <tr>\n",
       "      <th>12</th>\n",
       "      <td>AVpe4pnBilAPnD_xQDeb</td>\n",
       "      <td>0.016089</td>\n",
       "    </tr>\n",
       "    <tr>\n",
       "      <th>13</th>\n",
       "      <td>AVpe6n2_LJeJML43yOgE</td>\n",
       "      <td>0.016038</td>\n",
       "    </tr>\n",
       "    <tr>\n",
       "      <th>14</th>\n",
       "      <td>AVpfoSS51cnluZ0-oVH9</td>\n",
       "      <td>0.015625</td>\n",
       "    </tr>\n",
       "    <tr>\n",
       "      <th>15</th>\n",
       "      <td>AVpfOmKwLJeJML435GM7</td>\n",
       "      <td>0.015489</td>\n",
       "    </tr>\n",
       "    <tr>\n",
       "      <th>16</th>\n",
       "      <td>AVpfbraG1cnluZ0-kqnn</td>\n",
       "      <td>0.014867</td>\n",
       "    </tr>\n",
       "    <tr>\n",
       "      <th>17</th>\n",
       "      <td>AVpfOIrkilAPnD_xXgDG</td>\n",
       "      <td>0.014704</td>\n",
       "    </tr>\n",
       "    <tr>\n",
       "      <th>18</th>\n",
       "      <td>AVpe8gsILJeJML43y6Ed</td>\n",
       "      <td>0.014632</td>\n",
       "    </tr>\n",
       "    <tr>\n",
       "      <th>19</th>\n",
       "      <td>AVpe31o71cnluZ0-YrSD</td>\n",
       "      <td>0.014597</td>\n",
       "    </tr>\n",
       "  </tbody>\n",
       "</table>\n",
       "</div>"
      ],
      "text/plain": [
       "              Product Id  cosine_similarity_score\n",
       "0   AVpfE7puilAPnD_xUcCW                 0.147125\n",
       "1   AVpfv4TlilAPnD_xhjNS                 0.064856\n",
       "2   AVpfJcHuLJeJML433ZrY                 0.052161\n",
       "3   AVpf0thK1cnluZ0-r8vR                 0.036554\n",
       "4   AVpe6PCDLJeJML43yFQH                 0.032108\n",
       "5   AVpe_dxlilAPnD_xSiHI                 0.030764\n",
       "6   AVpfQtEm1cnluZ0-hUpe                 0.027387\n",
       "7   AVpfHf4wLJeJML432vqK                 0.022930\n",
       "8   AVpfthSailAPnD_xg3ON                 0.020509\n",
       "9   AVpe6FfKilAPnD_xQmHi                 0.020308\n",
       "10  AVpe_pDG1cnluZ0-bjSf                 0.017473\n",
       "11  AVpf5CnILJeJML43FjaU                 0.016342\n",
       "12  AVpe4pnBilAPnD_xQDeb                 0.016089\n",
       "13  AVpe6n2_LJeJML43yOgE                 0.016038\n",
       "14  AVpfoSS51cnluZ0-oVH9                 0.015625\n",
       "15  AVpfOmKwLJeJML435GM7                 0.015489\n",
       "16  AVpfbraG1cnluZ0-kqnn                 0.014867\n",
       "17  AVpfOIrkilAPnD_xXgDG                 0.014704\n",
       "18  AVpe8gsILJeJML43y6Ed                 0.014632\n",
       "19  AVpe31o71cnluZ0-YrSD                 0.014597"
      ]
     },
     "execution_count": 179,
     "metadata": {},
     "output_type": "execute_result"
    }
   ],
   "source": [
    "top20_item_recommendations = item_final_rating.loc[user_input].sort_values(ascending=False)[0:20]\n",
    "df_top20_item_recommendations = pd.DataFrame({'Product Id': top20_item_recommendations.index, 'cosine_similarity_score' : top20_item_recommendations})\n",
    "df_top20_item_recommendations.reset_index(drop=True, inplace=True)\n",
    "df_top20_item_recommendations"
   ]
  },
  {
   "cell_type": "markdown",
   "metadata": {
    "id": "4wBM5XYlPOuI"
   },
   "source": [
    "### **Finding the Top 20 products that a user is most likely to purchase based on the ratings (item-item based recommendation)**"
   ]
  },
  {
   "cell_type": "code",
   "execution_count": 180,
   "metadata": {
    "colab": {
     "base_uri": "https://localhost:8080/",
     "height": 721
    },
    "id": "xnOPpO63PUYt",
    "outputId": "43af4fad-4326-4cc3-afe4-8513c109366a"
   },
   "outputs": [
    {
     "data": {
      "text/html": [
       "<div>\n",
       "<style scoped>\n",
       "    .dataframe tbody tr th:only-of-type {\n",
       "        vertical-align: middle;\n",
       "    }\n",
       "\n",
       "    .dataframe tbody tr th {\n",
       "        vertical-align: top;\n",
       "    }\n",
       "\n",
       "    .dataframe thead th {\n",
       "        text-align: right;\n",
       "    }\n",
       "</style>\n",
       "<table border=\"1\" class=\"dataframe\">\n",
       "  <thead>\n",
       "    <tr style=\"text-align: right;\">\n",
       "      <th></th>\n",
       "      <th>Product Id</th>\n",
       "      <th>name</th>\n",
       "      <th>cosine_similarity_score</th>\n",
       "    </tr>\n",
       "  </thead>\n",
       "  <tbody>\n",
       "    <tr>\n",
       "      <th>11</th>\n",
       "      <td>AVpfE7puilAPnD_xUcCW</td>\n",
       "      <td>Bilbao Nightstand Gray Oak - South Shore</td>\n",
       "      <td>0.147125</td>\n",
       "    </tr>\n",
       "    <tr>\n",
       "      <th>19</th>\n",
       "      <td>AVpfv4TlilAPnD_xhjNS</td>\n",
       "      <td>Various - Red Hot Blue:Tribute To Cole Porter ...</td>\n",
       "      <td>0.064856</td>\n",
       "    </tr>\n",
       "    <tr>\n",
       "      <th>13</th>\n",
       "      <td>AVpfJcHuLJeJML433ZrY</td>\n",
       "      <td>Equals (blu-Ray)</td>\n",
       "      <td>0.052161</td>\n",
       "    </tr>\n",
       "    <tr>\n",
       "      <th>8</th>\n",
       "      <td>AVpf0thK1cnluZ0-r8vR</td>\n",
       "      <td>100:Complete First Season (blu-Ray)</td>\n",
       "      <td>0.036554</td>\n",
       "    </tr>\n",
       "    <tr>\n",
       "      <th>6</th>\n",
       "      <td>AVpe6PCDLJeJML43yFQH</td>\n",
       "      <td>Wagan Smartac 80watt Inverter With Usb</td>\n",
       "      <td>0.032108</td>\n",
       "    </tr>\n",
       "    <tr>\n",
       "      <th>0</th>\n",
       "      <td>AVpe_dxlilAPnD_xSiHI</td>\n",
       "      <td>The Seaweed Bath Co. Argan Conditioner, Smooth...</td>\n",
       "      <td>0.030764</td>\n",
       "    </tr>\n",
       "    <tr>\n",
       "      <th>17</th>\n",
       "      <td>AVpfQtEm1cnluZ0-hUpe</td>\n",
       "      <td>Jolly Time Select Premium Yellow Pop Corn</td>\n",
       "      <td>0.027387</td>\n",
       "    </tr>\n",
       "    <tr>\n",
       "      <th>12</th>\n",
       "      <td>AVpfHf4wLJeJML432vqK</td>\n",
       "      <td>Trend Lab Park Nursing Cover - Paisley</td>\n",
       "      <td>0.022930</td>\n",
       "    </tr>\n",
       "    <tr>\n",
       "      <th>18</th>\n",
       "      <td>AVpfthSailAPnD_xg3ON</td>\n",
       "      <td>Musselman Apple Sauce, Cinnamon, 48oz</td>\n",
       "      <td>0.020509</td>\n",
       "    </tr>\n",
       "    <tr>\n",
       "      <th>4</th>\n",
       "      <td>AVpe6FfKilAPnD_xQmHi</td>\n",
       "      <td>Chex Muddy Buddies Brownie Supreme Snack Mix</td>\n",
       "      <td>0.020308</td>\n",
       "    </tr>\n",
       "    <tr>\n",
       "      <th>1</th>\n",
       "      <td>AVpe_pDG1cnluZ0-bjSf</td>\n",
       "      <td>Bi-O-kleen Spray &amp; Wipe All Purpose Cleaner</td>\n",
       "      <td>0.017473</td>\n",
       "    </tr>\n",
       "    <tr>\n",
       "      <th>9</th>\n",
       "      <td>AVpf5CnILJeJML43FjaU</td>\n",
       "      <td>WeatherTech 40647 14-15 Outlander Cargo Liners...</td>\n",
       "      <td>0.016342</td>\n",
       "    </tr>\n",
       "    <tr>\n",
       "      <th>3</th>\n",
       "      <td>AVpe4pnBilAPnD_xQDeb</td>\n",
       "      <td>Moom Express Pre Waxed Strips For Face &amp; Bikini</td>\n",
       "      <td>0.016089</td>\n",
       "    </tr>\n",
       "    <tr>\n",
       "      <th>5</th>\n",
       "      <td>AVpe6n2_LJeJML43yOgE</td>\n",
       "      <td>Tresemme Kertatin Smooth Infusing Conditioning</td>\n",
       "      <td>0.016038</td>\n",
       "    </tr>\n",
       "    <tr>\n",
       "      <th>16</th>\n",
       "      <td>AVpfoSS51cnluZ0-oVH9</td>\n",
       "      <td>Cheetos Crunchy Flamin' Hot Cheese Flavored Sn...</td>\n",
       "      <td>0.015625</td>\n",
       "    </tr>\n",
       "    <tr>\n",
       "      <th>15</th>\n",
       "      <td>AVpfOmKwLJeJML435GM7</td>\n",
       "      <td>Clear Scalp &amp; Hair Therapy Total Care Nourishi...</td>\n",
       "      <td>0.015489</td>\n",
       "    </tr>\n",
       "    <tr>\n",
       "      <th>10</th>\n",
       "      <td>AVpfbraG1cnluZ0-kqnn</td>\n",
       "      <td>Kind Nut Delight Bar</td>\n",
       "      <td>0.014867</td>\n",
       "    </tr>\n",
       "    <tr>\n",
       "      <th>14</th>\n",
       "      <td>AVpfOIrkilAPnD_xXgDG</td>\n",
       "      <td>Alex Cross (dvdvideo)</td>\n",
       "      <td>0.014704</td>\n",
       "    </tr>\n",
       "    <tr>\n",
       "      <th>7</th>\n",
       "      <td>AVpe8gsILJeJML43y6Ed</td>\n",
       "      <td>Pendaflex174 Divide It Up File Folder, Multi S...</td>\n",
       "      <td>0.014632</td>\n",
       "    </tr>\n",
       "    <tr>\n",
       "      <th>2</th>\n",
       "      <td>AVpe31o71cnluZ0-YrSD</td>\n",
       "      <td>Dark Shadows (includes Digital Copy) (ultravio...</td>\n",
       "      <td>0.014597</td>\n",
       "    </tr>\n",
       "  </tbody>\n",
       "</table>\n",
       "</div>"
      ],
      "text/plain": [
       "              Product Id                                               name  \\\n",
       "11  AVpfE7puilAPnD_xUcCW           Bilbao Nightstand Gray Oak - South Shore   \n",
       "19  AVpfv4TlilAPnD_xhjNS  Various - Red Hot Blue:Tribute To Cole Porter ...   \n",
       "13  AVpfJcHuLJeJML433ZrY                                   Equals (blu-Ray)   \n",
       "8   AVpf0thK1cnluZ0-r8vR                100:Complete First Season (blu-Ray)   \n",
       "6   AVpe6PCDLJeJML43yFQH             Wagan Smartac 80watt Inverter With Usb   \n",
       "0   AVpe_dxlilAPnD_xSiHI  The Seaweed Bath Co. Argan Conditioner, Smooth...   \n",
       "17  AVpfQtEm1cnluZ0-hUpe          Jolly Time Select Premium Yellow Pop Corn   \n",
       "12  AVpfHf4wLJeJML432vqK             Trend Lab Park Nursing Cover - Paisley   \n",
       "18  AVpfthSailAPnD_xg3ON              Musselman Apple Sauce, Cinnamon, 48oz   \n",
       "4   AVpe6FfKilAPnD_xQmHi       Chex Muddy Buddies Brownie Supreme Snack Mix   \n",
       "1   AVpe_pDG1cnluZ0-bjSf        Bi-O-kleen Spray & Wipe All Purpose Cleaner   \n",
       "9   AVpf5CnILJeJML43FjaU  WeatherTech 40647 14-15 Outlander Cargo Liners...   \n",
       "3   AVpe4pnBilAPnD_xQDeb    Moom Express Pre Waxed Strips For Face & Bikini   \n",
       "5   AVpe6n2_LJeJML43yOgE     Tresemme Kertatin Smooth Infusing Conditioning   \n",
       "16  AVpfoSS51cnluZ0-oVH9  Cheetos Crunchy Flamin' Hot Cheese Flavored Sn...   \n",
       "15  AVpfOmKwLJeJML435GM7  Clear Scalp & Hair Therapy Total Care Nourishi...   \n",
       "10  AVpfbraG1cnluZ0-kqnn                               Kind Nut Delight Bar   \n",
       "14  AVpfOIrkilAPnD_xXgDG                              Alex Cross (dvdvideo)   \n",
       "7   AVpe8gsILJeJML43y6Ed  Pendaflex174 Divide It Up File Folder, Multi S...   \n",
       "2   AVpe31o71cnluZ0-YrSD  Dark Shadows (includes Digital Copy) (ultravio...   \n",
       "\n",
       "    cosine_similarity_score  \n",
       "11                 0.147125  \n",
       "19                 0.064856  \n",
       "13                 0.052161  \n",
       "8                  0.036554  \n",
       "6                  0.032108  \n",
       "0                  0.030764  \n",
       "17                 0.027387  \n",
       "12                 0.022930  \n",
       "18                 0.020509  \n",
       "4                  0.020308  \n",
       "1                  0.017473  \n",
       "9                  0.016342  \n",
       "3                  0.016089  \n",
       "5                  0.016038  \n",
       "16                 0.015625  \n",
       "15                 0.015489  \n",
       "10                 0.014867  \n",
       "14                 0.014704  \n",
       "7                  0.014632  \n",
       "2                  0.014597  "
      ]
     },
     "execution_count": 180,
     "metadata": {},
     "output_type": "execute_result"
    }
   ],
   "source": [
    "top20_item_rec = pd.merge(df_reco, df_top20_item_recommendations,left_on='id',right_on='Product Id', how = 'inner')[['Product Id', 'name', 'cosine_similarity_score']].drop_duplicates()\n",
    "top20_item_rec.reset_index(drop=True, inplace=True)\n",
    "top20_item_rec.sort_values(by='cosine_similarity_score', ascending=False)"
   ]
  },
  {
   "cell_type": "markdown",
   "metadata": {
    "id": "AkG6C8XNPYaM"
   },
   "source": [
    "## **Evaluation - Item Item**\n",
    "\n",
    "Evaluation will we same as we have seen above for the prediction. The only difference being, we will evaluate for the product already rated by the user insead of predicting it for the product not rated by the user."
   ]
  },
  {
   "cell_type": "code",
   "execution_count": 181,
   "metadata": {
    "colab": {
     "base_uri": "https://localhost:8080/"
    },
    "id": "UWwEKCC5PgTD",
    "outputId": "9b8a6623-219f-4be4-ebc1-704f07b50b52"
   },
   "outputs": [
    {
     "data": {
      "text/plain": [
       "Index(['id', 'name', 'reviews_rating', 'reviews_username'], dtype='object')"
      ]
     },
     "execution_count": 181,
     "metadata": {},
     "output_type": "execute_result"
    }
   ],
   "source": [
    "test.columns"
   ]
  },
  {
   "cell_type": "code",
   "execution_count": 182,
   "metadata": {
    "colab": {
     "base_uri": "https://localhost:8080/"
    },
    "id": "xr7RDmpTPihl",
    "outputId": "9eb78fa8-101a-4478-dad1-df8ae870987b"
   },
   "outputs": [
    {
     "data": {
      "text/plain": [
       "(8966, 4)"
      ]
     },
     "execution_count": 182,
     "metadata": {},
     "output_type": "execute_result"
    }
   ],
   "source": [
    "# Find out the common products of test and train dataset.\n",
    "common = test[test.id.isin(train.id)]\n",
    "common.shape"
   ]
  },
  {
   "cell_type": "code",
   "execution_count": 183,
   "metadata": {
    "colab": {
     "base_uri": "https://localhost:8080/",
     "height": 112
    },
    "id": "ec8FhxcePk19",
    "outputId": "802372c8-b60b-4ae4-da5e-f777e5c82178"
   },
   "outputs": [
    {
     "data": {
      "text/html": [
       "<div>\n",
       "<style scoped>\n",
       "    .dataframe tbody tr th:only-of-type {\n",
       "        vertical-align: middle;\n",
       "    }\n",
       "\n",
       "    .dataframe tbody tr th {\n",
       "        vertical-align: top;\n",
       "    }\n",
       "\n",
       "    .dataframe thead th {\n",
       "        text-align: right;\n",
       "    }\n",
       "</style>\n",
       "<table border=\"1\" class=\"dataframe\">\n",
       "  <thead>\n",
       "    <tr style=\"text-align: right;\">\n",
       "      <th></th>\n",
       "      <th>id</th>\n",
       "      <th>name</th>\n",
       "      <th>reviews_rating</th>\n",
       "      <th>reviews_username</th>\n",
       "    </tr>\n",
       "  </thead>\n",
       "  <tbody>\n",
       "    <tr>\n",
       "      <th>25787</th>\n",
       "      <td>AVpfPaoqLJeJML435Xk9</td>\n",
       "      <td>Godzilla 3d Includes Digital Copy Ultraviolet ...</td>\n",
       "      <td>5</td>\n",
       "      <td>youknowhowitgoes</td>\n",
       "    </tr>\n",
       "    <tr>\n",
       "      <th>12627</th>\n",
       "      <td>AVpf3VOfilAPnD_xjpun</td>\n",
       "      <td>Clorox Disinfecting Wipes Value Pack Scented 1...</td>\n",
       "      <td>5</td>\n",
       "      <td>ashleydale00</td>\n",
       "    </tr>\n",
       "  </tbody>\n",
       "</table>\n",
       "</div>"
      ],
      "text/plain": [
       "                         id  \\\n",
       "25787  AVpfPaoqLJeJML435Xk9   \n",
       "12627  AVpf3VOfilAPnD_xjpun   \n",
       "\n",
       "                                                    name  reviews_rating  \\\n",
       "25787  Godzilla 3d Includes Digital Copy Ultraviolet ...               5   \n",
       "12627  Clorox Disinfecting Wipes Value Pack Scented 1...               5   \n",
       "\n",
       "       reviews_username  \n",
       "25787  youknowhowitgoes  \n",
       "12627      ashleydale00  "
      ]
     },
     "execution_count": 183,
     "metadata": {},
     "output_type": "execute_result"
    }
   ],
   "source": [
    "common.head(2)"
   ]
  },
  {
   "cell_type": "code",
   "execution_count": 184,
   "metadata": {
    "id": "Lq64UrF1PlAQ"
   },
   "outputs": [],
   "source": [
    "common_item_based_matrix = common.pivot_table(index='reviews_username', columns='id', values='reviews_rating').T"
   ]
  },
  {
   "cell_type": "code",
   "execution_count": 185,
   "metadata": {
    "colab": {
     "base_uri": "https://localhost:8080/"
    },
    "id": "HErV1FPwPrkr",
    "outputId": "15fadfc9-d9dc-4659-80da-ab721257951d"
   },
   "outputs": [
    {
     "data": {
      "text/plain": [
       "(195, 8318)"
      ]
     },
     "execution_count": 185,
     "metadata": {},
     "output_type": "execute_result"
    }
   ],
   "source": [
    "common_item_based_matrix.shape"
   ]
  },
  {
   "cell_type": "code",
   "execution_count": 186,
   "metadata": {
    "id": "oFn9PvPfPuTd"
   },
   "outputs": [],
   "source": [
    "item_correlation_df = pd.DataFrame(item_correlation)"
   ]
  },
  {
   "cell_type": "code",
   "execution_count": 187,
   "metadata": {
    "colab": {
     "base_uri": "https://localhost:8080/",
     "height": 205
    },
    "id": "4s_YDvVlPwKp",
    "outputId": "f6f0e3f5-f94e-4196-cf22-2ee7ce58eecb"
   },
   "outputs": [
    {
     "data": {
      "text/html": [
       "<div>\n",
       "<style scoped>\n",
       "    .dataframe tbody tr th:only-of-type {\n",
       "        vertical-align: middle;\n",
       "    }\n",
       "\n",
       "    .dataframe tbody tr th {\n",
       "        vertical-align: top;\n",
       "    }\n",
       "\n",
       "    .dataframe thead th {\n",
       "        text-align: right;\n",
       "    }\n",
       "</style>\n",
       "<table border=\"1\" class=\"dataframe\">\n",
       "  <thead>\n",
       "    <tr style=\"text-align: right;\">\n",
       "      <th></th>\n",
       "      <th>0</th>\n",
       "      <th>1</th>\n",
       "      <th>2</th>\n",
       "      <th>3</th>\n",
       "      <th>4</th>\n",
       "      <th>5</th>\n",
       "      <th>6</th>\n",
       "      <th>7</th>\n",
       "      <th>8</th>\n",
       "      <th>9</th>\n",
       "      <th>...</th>\n",
       "      <th>246</th>\n",
       "      <th>247</th>\n",
       "      <th>248</th>\n",
       "      <th>249</th>\n",
       "      <th>250</th>\n",
       "      <th>251</th>\n",
       "      <th>252</th>\n",
       "      <th>253</th>\n",
       "      <th>254</th>\n",
       "      <th>255</th>\n",
       "    </tr>\n",
       "  </thead>\n",
       "  <tbody>\n",
       "    <tr>\n",
       "      <th>0</th>\n",
       "      <td>0.0</td>\n",
       "      <td>0.0</td>\n",
       "      <td>0.0</td>\n",
       "      <td>0.0</td>\n",
       "      <td>0.0</td>\n",
       "      <td>0.0</td>\n",
       "      <td>0.0</td>\n",
       "      <td>0.0</td>\n",
       "      <td>0.0</td>\n",
       "      <td>0.0</td>\n",
       "      <td>...</td>\n",
       "      <td>0.0</td>\n",
       "      <td>0.0</td>\n",
       "      <td>0.0</td>\n",
       "      <td>0.0</td>\n",
       "      <td>0.0</td>\n",
       "      <td>0.0</td>\n",
       "      <td>0.0</td>\n",
       "      <td>0.0</td>\n",
       "      <td>0.0</td>\n",
       "      <td>0.0</td>\n",
       "    </tr>\n",
       "    <tr>\n",
       "      <th>1</th>\n",
       "      <td>0.0</td>\n",
       "      <td>0.0</td>\n",
       "      <td>0.0</td>\n",
       "      <td>0.0</td>\n",
       "      <td>0.0</td>\n",
       "      <td>0.0</td>\n",
       "      <td>0.0</td>\n",
       "      <td>0.0</td>\n",
       "      <td>0.0</td>\n",
       "      <td>0.0</td>\n",
       "      <td>...</td>\n",
       "      <td>0.0</td>\n",
       "      <td>0.0</td>\n",
       "      <td>0.0</td>\n",
       "      <td>0.0</td>\n",
       "      <td>0.0</td>\n",
       "      <td>0.0</td>\n",
       "      <td>0.0</td>\n",
       "      <td>0.0</td>\n",
       "      <td>0.0</td>\n",
       "      <td>0.0</td>\n",
       "    </tr>\n",
       "  </tbody>\n",
       "</table>\n",
       "<p>2 rows × 256 columns</p>\n",
       "</div>"
      ],
      "text/plain": [
       "   0    1    2    3    4    5    6    7    8    9    ...  246  247  248  249  \\\n",
       "0  0.0  0.0  0.0  0.0  0.0  0.0  0.0  0.0  0.0  0.0  ...  0.0  0.0  0.0  0.0   \n",
       "1  0.0  0.0  0.0  0.0  0.0  0.0  0.0  0.0  0.0  0.0  ...  0.0  0.0  0.0  0.0   \n",
       "\n",
       "   250  251  252  253  254  255  \n",
       "0  0.0  0.0  0.0  0.0  0.0  0.0  \n",
       "1  0.0  0.0  0.0  0.0  0.0  0.0  \n",
       "\n",
       "[2 rows x 256 columns]"
      ]
     },
     "execution_count": 187,
     "metadata": {},
     "output_type": "execute_result"
    }
   ],
   "source": [
    "item_correlation_df.head(2)"
   ]
  },
  {
   "cell_type": "code",
   "execution_count": 188,
   "metadata": {
    "colab": {
     "base_uri": "https://localhost:8080/",
     "height": 418
    },
    "id": "CxN1ReAcP0Z_",
    "outputId": "93133795-6831-4383-f235-e301aa7ad5bb"
   },
   "outputs": [
    {
     "data": {
      "text/html": [
       "<div>\n",
       "<style scoped>\n",
       "    .dataframe tbody tr th:only-of-type {\n",
       "        vertical-align: middle;\n",
       "    }\n",
       "\n",
       "    .dataframe tbody tr th {\n",
       "        vertical-align: top;\n",
       "    }\n",
       "\n",
       "    .dataframe thead th {\n",
       "        text-align: right;\n",
       "    }\n",
       "</style>\n",
       "<table border=\"1\" class=\"dataframe\">\n",
       "  <thead>\n",
       "    <tr style=\"text-align: right;\">\n",
       "      <th></th>\n",
       "      <th>0</th>\n",
       "      <th>1</th>\n",
       "      <th>2</th>\n",
       "      <th>3</th>\n",
       "      <th>4</th>\n",
       "      <th>5</th>\n",
       "      <th>6</th>\n",
       "      <th>7</th>\n",
       "      <th>8</th>\n",
       "      <th>9</th>\n",
       "      <th>...</th>\n",
       "      <th>246</th>\n",
       "      <th>247</th>\n",
       "      <th>248</th>\n",
       "      <th>249</th>\n",
       "      <th>250</th>\n",
       "      <th>251</th>\n",
       "      <th>252</th>\n",
       "      <th>253</th>\n",
       "      <th>254</th>\n",
       "      <th>255</th>\n",
       "    </tr>\n",
       "    <tr>\n",
       "      <th>movieId</th>\n",
       "      <th></th>\n",
       "      <th></th>\n",
       "      <th></th>\n",
       "      <th></th>\n",
       "      <th></th>\n",
       "      <th></th>\n",
       "      <th></th>\n",
       "      <th></th>\n",
       "      <th></th>\n",
       "      <th></th>\n",
       "      <th></th>\n",
       "      <th></th>\n",
       "      <th></th>\n",
       "      <th></th>\n",
       "      <th></th>\n",
       "      <th></th>\n",
       "      <th></th>\n",
       "      <th></th>\n",
       "      <th></th>\n",
       "      <th></th>\n",
       "      <th></th>\n",
       "    </tr>\n",
       "  </thead>\n",
       "  <tbody>\n",
       "    <tr>\n",
       "      <th>AV13O1A8GV-KLJ3akUyj</th>\n",
       "      <td>0.0</td>\n",
       "      <td>0.0</td>\n",
       "      <td>0.0</td>\n",
       "      <td>0.0</td>\n",
       "      <td>0.0</td>\n",
       "      <td>0.0</td>\n",
       "      <td>0.0</td>\n",
       "      <td>0.0</td>\n",
       "      <td>0.0</td>\n",
       "      <td>0.0</td>\n",
       "      <td>...</td>\n",
       "      <td>0.0</td>\n",
       "      <td>0.0</td>\n",
       "      <td>0.0</td>\n",
       "      <td>0.0</td>\n",
       "      <td>0.0</td>\n",
       "      <td>0.0</td>\n",
       "      <td>0.0</td>\n",
       "      <td>0.0</td>\n",
       "      <td>0.0</td>\n",
       "      <td>0.0</td>\n",
       "    </tr>\n",
       "    <tr>\n",
       "      <th>AV14LG0R-jtxr-f38QfS</th>\n",
       "      <td>0.0</td>\n",
       "      <td>0.0</td>\n",
       "      <td>0.0</td>\n",
       "      <td>0.0</td>\n",
       "      <td>0.0</td>\n",
       "      <td>0.0</td>\n",
       "      <td>0.0</td>\n",
       "      <td>0.0</td>\n",
       "      <td>0.0</td>\n",
       "      <td>0.0</td>\n",
       "      <td>...</td>\n",
       "      <td>0.0</td>\n",
       "      <td>0.0</td>\n",
       "      <td>0.0</td>\n",
       "      <td>0.0</td>\n",
       "      <td>0.0</td>\n",
       "      <td>0.0</td>\n",
       "      <td>0.0</td>\n",
       "      <td>0.0</td>\n",
       "      <td>0.0</td>\n",
       "      <td>0.0</td>\n",
       "    </tr>\n",
       "    <tr>\n",
       "      <th>AV16khLE-jtxr-f38VFn</th>\n",
       "      <td>0.0</td>\n",
       "      <td>0.0</td>\n",
       "      <td>1.0</td>\n",
       "      <td>0.0</td>\n",
       "      <td>0.0</td>\n",
       "      <td>0.0</td>\n",
       "      <td>0.0</td>\n",
       "      <td>0.0</td>\n",
       "      <td>0.0</td>\n",
       "      <td>0.0</td>\n",
       "      <td>...</td>\n",
       "      <td>0.0</td>\n",
       "      <td>0.0</td>\n",
       "      <td>0.0</td>\n",
       "      <td>0.0</td>\n",
       "      <td>0.0</td>\n",
       "      <td>0.0</td>\n",
       "      <td>0.0</td>\n",
       "      <td>0.0</td>\n",
       "      <td>0.0</td>\n",
       "      <td>0.0</td>\n",
       "    </tr>\n",
       "    <tr>\n",
       "      <th>AV1YGDqsGV-KLJ3adc-O</th>\n",
       "      <td>0.0</td>\n",
       "      <td>0.0</td>\n",
       "      <td>0.0</td>\n",
       "      <td>1.0</td>\n",
       "      <td>0.0</td>\n",
       "      <td>0.0</td>\n",
       "      <td>0.0</td>\n",
       "      <td>0.0</td>\n",
       "      <td>0.0</td>\n",
       "      <td>0.0</td>\n",
       "      <td>...</td>\n",
       "      <td>0.0</td>\n",
       "      <td>0.0</td>\n",
       "      <td>0.0</td>\n",
       "      <td>0.0</td>\n",
       "      <td>0.0</td>\n",
       "      <td>0.0</td>\n",
       "      <td>0.0</td>\n",
       "      <td>0.0</td>\n",
       "      <td>0.0</td>\n",
       "      <td>0.0</td>\n",
       "    </tr>\n",
       "    <tr>\n",
       "      <th>AV1YIch7GV-KLJ3addeG</th>\n",
       "      <td>0.0</td>\n",
       "      <td>0.0</td>\n",
       "      <td>0.0</td>\n",
       "      <td>0.0</td>\n",
       "      <td>0.0</td>\n",
       "      <td>0.0</td>\n",
       "      <td>0.0</td>\n",
       "      <td>0.0</td>\n",
       "      <td>0.0</td>\n",
       "      <td>0.0</td>\n",
       "      <td>...</td>\n",
       "      <td>0.0</td>\n",
       "      <td>0.0</td>\n",
       "      <td>0.0</td>\n",
       "      <td>0.0</td>\n",
       "      <td>0.0</td>\n",
       "      <td>0.0</td>\n",
       "      <td>0.0</td>\n",
       "      <td>0.0</td>\n",
       "      <td>0.0</td>\n",
       "      <td>0.0</td>\n",
       "    </tr>\n",
       "  </tbody>\n",
       "</table>\n",
       "<p>5 rows × 256 columns</p>\n",
       "</div>"
      ],
      "text/plain": [
       "                      0    1    2    3    4    5    6    7    8    9    ...  \\\n",
       "movieId                                                                 ...   \n",
       "AV13O1A8GV-KLJ3akUyj  0.0  0.0  0.0  0.0  0.0  0.0  0.0  0.0  0.0  0.0  ...   \n",
       "AV14LG0R-jtxr-f38QfS  0.0  0.0  0.0  0.0  0.0  0.0  0.0  0.0  0.0  0.0  ...   \n",
       "AV16khLE-jtxr-f38VFn  0.0  0.0  1.0  0.0  0.0  0.0  0.0  0.0  0.0  0.0  ...   \n",
       "AV1YGDqsGV-KLJ3adc-O  0.0  0.0  0.0  1.0  0.0  0.0  0.0  0.0  0.0  0.0  ...   \n",
       "AV1YIch7GV-KLJ3addeG  0.0  0.0  0.0  0.0  0.0  0.0  0.0  0.0  0.0  0.0  ...   \n",
       "\n",
       "                      246  247  248  249  250  251  252  253  254  255  \n",
       "movieId                                                                 \n",
       "AV13O1A8GV-KLJ3akUyj  0.0  0.0  0.0  0.0  0.0  0.0  0.0  0.0  0.0  0.0  \n",
       "AV14LG0R-jtxr-f38QfS  0.0  0.0  0.0  0.0  0.0  0.0  0.0  0.0  0.0  0.0  \n",
       "AV16khLE-jtxr-f38VFn  0.0  0.0  0.0  0.0  0.0  0.0  0.0  0.0  0.0  0.0  \n",
       "AV1YGDqsGV-KLJ3adc-O  0.0  0.0  0.0  0.0  0.0  0.0  0.0  0.0  0.0  0.0  \n",
       "AV1YIch7GV-KLJ3addeG  0.0  0.0  0.0  0.0  0.0  0.0  0.0  0.0  0.0  0.0  \n",
       "\n",
       "[5 rows x 256 columns]"
      ]
     },
     "execution_count": 188,
     "metadata": {},
     "output_type": "execute_result"
    }
   ],
   "source": [
    "item_correlation_df['movieId'] = df_subtracted.index\n",
    "item_correlation_df.set_index('movieId',inplace=True)\n",
    "item_correlation_df.head()"
   ]
  },
  {
   "cell_type": "code",
   "execution_count": 189,
   "metadata": {
    "id": "VuP7zsn2P3tw"
   },
   "outputs": [],
   "source": [
    "list_name = common.id.tolist()"
   ]
  },
  {
   "cell_type": "code",
   "execution_count": 190,
   "metadata": {
    "id": "5dYo3XMDP5-1"
   },
   "outputs": [],
   "source": [
    "item_correlation_df.columns = df_subtracted.index.tolist()\n",
    "\n",
    "item_correlation_df_1 =  item_correlation_df[item_correlation_df.index.isin(list_name)]"
   ]
  },
  {
   "cell_type": "code",
   "execution_count": 191,
   "metadata": {
    "id": "XoW53etsP9Jk"
   },
   "outputs": [],
   "source": [
    "item_correlation_df_2 = item_correlation_df_1.T[item_correlation_df_1.T.index.isin(list_name)]\n",
    "\n",
    "item_correlation_df_3 = item_correlation_df_2.T"
   ]
  },
  {
   "cell_type": "code",
   "execution_count": 192,
   "metadata": {
    "colab": {
     "base_uri": "https://localhost:8080/",
     "height": 306
    },
    "id": "kPMfCHQFP_gZ",
    "outputId": "103075b6-cdbb-417a-d8f0-0ffee1dbfbf8"
   },
   "outputs": [
    {
     "data": {
      "text/html": [
       "<div>\n",
       "<style scoped>\n",
       "    .dataframe tbody tr th:only-of-type {\n",
       "        vertical-align: middle;\n",
       "    }\n",
       "\n",
       "    .dataframe tbody tr th {\n",
       "        vertical-align: top;\n",
       "    }\n",
       "\n",
       "    .dataframe thead th {\n",
       "        text-align: right;\n",
       "    }\n",
       "</style>\n",
       "<table border=\"1\" class=\"dataframe\">\n",
       "  <thead>\n",
       "    <tr style=\"text-align: right;\">\n",
       "      <th></th>\n",
       "      <th>AV16khLE-jtxr-f38VFn</th>\n",
       "      <th>AV1YGDqsGV-KLJ3adc-O</th>\n",
       "      <th>AV1YlENIglJLPUi8IHsX</th>\n",
       "      <th>AV1YmBrdGV-KLJ3adewb</th>\n",
       "      <th>AV1YmDL9vKc47QAVgr7_</th>\n",
       "      <th>AV1Ymf_rglJLPUi8II2v</th>\n",
       "      <th>AV1Yn94nvKc47QAVgtst</th>\n",
       "      <th>AV1Ynb3bglJLPUi8IJxJ</th>\n",
       "      <th>AV1YneDPglJLPUi8IJyQ</th>\n",
       "      <th>AV1YqAaMGV-KLJ3adiDj</th>\n",
       "      <th>...</th>\n",
       "      <th>AVpfqW4WilAPnD_xf7a_</th>\n",
       "      <th>AVpfr5cb1cnluZ0-pZFp</th>\n",
       "      <th>AVpfrFDZLJeJML43Bmv0</th>\n",
       "      <th>AVpfrTyiLJeJML43BrSI</th>\n",
       "      <th>AVpfrfHF1cnluZ0-pRai</th>\n",
       "      <th>AVpfrgjFLJeJML43BvCc</th>\n",
       "      <th>AVpfthSailAPnD_xg3ON</th>\n",
       "      <th>AVpftikC1cnluZ0-p31V</th>\n",
       "      <th>AVpfv4TlilAPnD_xhjNS</th>\n",
       "      <th>AVpfvieo1cnluZ0-qdnu</th>\n",
       "    </tr>\n",
       "    <tr>\n",
       "      <th>movieId</th>\n",
       "      <th></th>\n",
       "      <th></th>\n",
       "      <th></th>\n",
       "      <th></th>\n",
       "      <th></th>\n",
       "      <th></th>\n",
       "      <th></th>\n",
       "      <th></th>\n",
       "      <th></th>\n",
       "      <th></th>\n",
       "      <th></th>\n",
       "      <th></th>\n",
       "      <th></th>\n",
       "      <th></th>\n",
       "      <th></th>\n",
       "      <th></th>\n",
       "      <th></th>\n",
       "      <th></th>\n",
       "      <th></th>\n",
       "      <th></th>\n",
       "      <th></th>\n",
       "    </tr>\n",
       "  </thead>\n",
       "  <tbody>\n",
       "    <tr>\n",
       "      <th>AV16khLE-jtxr-f38VFn</th>\n",
       "      <td>1.0</td>\n",
       "      <td>0.0</td>\n",
       "      <td>0.0</td>\n",
       "      <td>0.0</td>\n",
       "      <td>0.0</td>\n",
       "      <td>0.0</td>\n",
       "      <td>0.0</td>\n",
       "      <td>0.0</td>\n",
       "      <td>0.0</td>\n",
       "      <td>0.0</td>\n",
       "      <td>...</td>\n",
       "      <td>0.0</td>\n",
       "      <td>0.000000</td>\n",
       "      <td>0.0</td>\n",
       "      <td>0.0</td>\n",
       "      <td>0.0</td>\n",
       "      <td>0.0</td>\n",
       "      <td>0.0</td>\n",
       "      <td>0.0</td>\n",
       "      <td>0.0</td>\n",
       "      <td>0.0</td>\n",
       "    </tr>\n",
       "    <tr>\n",
       "      <th>AV1YGDqsGV-KLJ3adc-O</th>\n",
       "      <td>0.0</td>\n",
       "      <td>1.0</td>\n",
       "      <td>0.0</td>\n",
       "      <td>0.0</td>\n",
       "      <td>0.0</td>\n",
       "      <td>0.0</td>\n",
       "      <td>0.0</td>\n",
       "      <td>0.0</td>\n",
       "      <td>0.0</td>\n",
       "      <td>0.0</td>\n",
       "      <td>...</td>\n",
       "      <td>0.0</td>\n",
       "      <td>0.108098</td>\n",
       "      <td>0.0</td>\n",
       "      <td>0.0</td>\n",
       "      <td>0.0</td>\n",
       "      <td>0.0</td>\n",
       "      <td>0.0</td>\n",
       "      <td>0.0</td>\n",
       "      <td>0.0</td>\n",
       "      <td>0.0</td>\n",
       "    </tr>\n",
       "  </tbody>\n",
       "</table>\n",
       "<p>2 rows × 195 columns</p>\n",
       "</div>"
      ],
      "text/plain": [
       "                      AV16khLE-jtxr-f38VFn  AV1YGDqsGV-KLJ3adc-O  \\\n",
       "movieId                                                            \n",
       "AV16khLE-jtxr-f38VFn                   1.0                   0.0   \n",
       "AV1YGDqsGV-KLJ3adc-O                   0.0                   1.0   \n",
       "\n",
       "                      AV1YlENIglJLPUi8IHsX  AV1YmBrdGV-KLJ3adewb  \\\n",
       "movieId                                                            \n",
       "AV16khLE-jtxr-f38VFn                   0.0                   0.0   \n",
       "AV1YGDqsGV-KLJ3adc-O                   0.0                   0.0   \n",
       "\n",
       "                      AV1YmDL9vKc47QAVgr7_  AV1Ymf_rglJLPUi8II2v  \\\n",
       "movieId                                                            \n",
       "AV16khLE-jtxr-f38VFn                   0.0                   0.0   \n",
       "AV1YGDqsGV-KLJ3adc-O                   0.0                   0.0   \n",
       "\n",
       "                      AV1Yn94nvKc47QAVgtst  AV1Ynb3bglJLPUi8IJxJ  \\\n",
       "movieId                                                            \n",
       "AV16khLE-jtxr-f38VFn                   0.0                   0.0   \n",
       "AV1YGDqsGV-KLJ3adc-O                   0.0                   0.0   \n",
       "\n",
       "                      AV1YneDPglJLPUi8IJyQ  AV1YqAaMGV-KLJ3adiDj  ...  \\\n",
       "movieId                                                           ...   \n",
       "AV16khLE-jtxr-f38VFn                   0.0                   0.0  ...   \n",
       "AV1YGDqsGV-KLJ3adc-O                   0.0                   0.0  ...   \n",
       "\n",
       "                      AVpfqW4WilAPnD_xf7a_  AVpfr5cb1cnluZ0-pZFp  \\\n",
       "movieId                                                            \n",
       "AV16khLE-jtxr-f38VFn                   0.0              0.000000   \n",
       "AV1YGDqsGV-KLJ3adc-O                   0.0              0.108098   \n",
       "\n",
       "                      AVpfrFDZLJeJML43Bmv0  AVpfrTyiLJeJML43BrSI  \\\n",
       "movieId                                                            \n",
       "AV16khLE-jtxr-f38VFn                   0.0                   0.0   \n",
       "AV1YGDqsGV-KLJ3adc-O                   0.0                   0.0   \n",
       "\n",
       "                      AVpfrfHF1cnluZ0-pRai  AVpfrgjFLJeJML43BvCc  \\\n",
       "movieId                                                            \n",
       "AV16khLE-jtxr-f38VFn                   0.0                   0.0   \n",
       "AV1YGDqsGV-KLJ3adc-O                   0.0                   0.0   \n",
       "\n",
       "                      AVpfthSailAPnD_xg3ON  AVpftikC1cnluZ0-p31V  \\\n",
       "movieId                                                            \n",
       "AV16khLE-jtxr-f38VFn                   0.0                   0.0   \n",
       "AV1YGDqsGV-KLJ3adc-O                   0.0                   0.0   \n",
       "\n",
       "                      AVpfv4TlilAPnD_xhjNS  AVpfvieo1cnluZ0-qdnu  \n",
       "movieId                                                           \n",
       "AV16khLE-jtxr-f38VFn                   0.0                   0.0  \n",
       "AV1YGDqsGV-KLJ3adc-O                   0.0                   0.0  \n",
       "\n",
       "[2 rows x 195 columns]"
      ]
     },
     "execution_count": 192,
     "metadata": {},
     "output_type": "execute_result"
    }
   ],
   "source": [
    "item_correlation_df_3.head(2)"
   ]
  },
  {
   "cell_type": "code",
   "execution_count": 193,
   "metadata": {
    "colab": {
     "base_uri": "https://localhost:8080/"
    },
    "id": "EoriTsVrQDoP",
    "outputId": "c3d88f98-d5f5-4068-c08b-caac9ff05361"
   },
   "outputs": [
    {
     "data": {
      "text/plain": [
       "array([[0.00000000e+00, 0.00000000e+00, 0.00000000e+00, ...,\n",
       "        0.00000000e+00, 0.00000000e+00, 0.00000000e+00],\n",
       "       [2.34691174e-02, 3.00000000e+00, 6.62104097e-03, ...,\n",
       "        0.00000000e+00, 5.16904870e-03, 8.22214474e-05],\n",
       "       [0.00000000e+00, 0.00000000e+00, 0.00000000e+00, ...,\n",
       "        0.00000000e+00, 0.00000000e+00, 0.00000000e+00],\n",
       "       ...,\n",
       "       [0.00000000e+00, 0.00000000e+00, 0.00000000e+00, ...,\n",
       "        0.00000000e+00, 0.00000000e+00, 0.00000000e+00],\n",
       "       [0.00000000e+00, 0.00000000e+00, 0.00000000e+00, ...,\n",
       "        0.00000000e+00, 0.00000000e+00, 0.00000000e+00],\n",
       "       [0.00000000e+00, 0.00000000e+00, 0.00000000e+00, ...,\n",
       "        0.00000000e+00, 0.00000000e+00, 9.45559849e-03]])"
      ]
     },
     "execution_count": 193,
     "metadata": {},
     "output_type": "execute_result"
    }
   ],
   "source": [
    "item_correlation_df_3[item_correlation_df_3<0]=0\n",
    "\n",
    "common_item_predicted_ratings = np.dot(item_correlation_df_3, common_item_based_matrix.fillna(0))\n",
    "common_item_predicted_ratings"
   ]
  },
  {
   "cell_type": "code",
   "execution_count": 194,
   "metadata": {
    "colab": {
     "base_uri": "https://localhost:8080/"
    },
    "id": "EBCcrnjJQHCj",
    "outputId": "f677d421-3a8b-4b58-c392-9bc7295c0e89"
   },
   "outputs": [
    {
     "data": {
      "text/plain": [
       "(195, 8318)"
      ]
     },
     "execution_count": 194,
     "metadata": {},
     "output_type": "execute_result"
    }
   ],
   "source": [
    "common_item_predicted_ratings.shape"
   ]
  },
  {
   "cell_type": "code",
   "execution_count": 195,
   "metadata": {
    "colab": {
     "base_uri": "https://localhost:8080/",
     "height": 112
    },
    "id": "qAFT-x9_QJuu",
    "outputId": "b51a5345-61ef-4335-c0b3-582ba8be5cf6"
   },
   "outputs": [
    {
     "data": {
      "text/html": [
       "<div>\n",
       "<style scoped>\n",
       "    .dataframe tbody tr th:only-of-type {\n",
       "        vertical-align: middle;\n",
       "    }\n",
       "\n",
       "    .dataframe tbody tr th {\n",
       "        vertical-align: top;\n",
       "    }\n",
       "\n",
       "    .dataframe thead th {\n",
       "        text-align: right;\n",
       "    }\n",
       "</style>\n",
       "<table border=\"1\" class=\"dataframe\">\n",
       "  <thead>\n",
       "    <tr style=\"text-align: right;\">\n",
       "      <th></th>\n",
       "      <th>id</th>\n",
       "      <th>name</th>\n",
       "      <th>reviews_rating</th>\n",
       "      <th>reviews_username</th>\n",
       "    </tr>\n",
       "  </thead>\n",
       "  <tbody>\n",
       "    <tr>\n",
       "      <th>25787</th>\n",
       "      <td>AVpfPaoqLJeJML435Xk9</td>\n",
       "      <td>Godzilla 3d Includes Digital Copy Ultraviolet ...</td>\n",
       "      <td>5</td>\n",
       "      <td>youknowhowitgoes</td>\n",
       "    </tr>\n",
       "    <tr>\n",
       "      <th>12627</th>\n",
       "      <td>AVpf3VOfilAPnD_xjpun</td>\n",
       "      <td>Clorox Disinfecting Wipes Value Pack Scented 1...</td>\n",
       "      <td>5</td>\n",
       "      <td>ashleydale00</td>\n",
       "    </tr>\n",
       "  </tbody>\n",
       "</table>\n",
       "</div>"
      ],
      "text/plain": [
       "                         id  \\\n",
       "25787  AVpfPaoqLJeJML435Xk9   \n",
       "12627  AVpf3VOfilAPnD_xjpun   \n",
       "\n",
       "                                                    name  reviews_rating  \\\n",
       "25787  Godzilla 3d Includes Digital Copy Ultraviolet ...               5   \n",
       "12627  Clorox Disinfecting Wipes Value Pack Scented 1...               5   \n",
       "\n",
       "       reviews_username  \n",
       "25787  youknowhowitgoes  \n",
       "12627      ashleydale00  "
      ]
     },
     "execution_count": 195,
     "metadata": {},
     "output_type": "execute_result"
    }
   ],
   "source": [
    "common.head(2)"
   ]
  },
  {
   "cell_type": "code",
   "execution_count": 196,
   "metadata": {
    "id": "3IyHNOM1QNOV"
   },
   "outputs": [],
   "source": [
    "# Dummy test will be used for evaluation\n",
    "dummy_test = common.copy()\n",
    "\n",
    "dummy_test['reviews_rating'] = dummy_test['reviews_rating'].apply(lambda x: 1 if x>=1 else 0)\n",
    "\n",
    "dummy_test = dummy_test.pivot_table(index='reviews_username', columns='id', values='reviews_rating').T.fillna(0)\n",
    "\n",
    "common_item_predicted_ratings = np.multiply(common_item_predicted_ratings,dummy_test)"
   ]
  },
  {
   "cell_type": "markdown",
   "metadata": {
    "id": "QNu5y2izQQvT"
   },
   "source": [
    "The products not rated are marked as 0 for evaluation"
   ]
  },
  {
   "cell_type": "code",
   "execution_count": 197,
   "metadata": {
    "id": "PK0YTOgzQRxU"
   },
   "outputs": [],
   "source": [
    "common_ = common.pivot_table(index='reviews_username', columns='id', values='reviews_rating').T"
   ]
  },
  {
   "cell_type": "code",
   "execution_count": 198,
   "metadata": {
    "colab": {
     "base_uri": "https://localhost:8080/"
    },
    "id": "KCoMfn2JQWc4",
    "outputId": "e642168c-0b05-4647-96a8-29c11d09f428"
   },
   "outputs": [
    {
     "name": "stdout",
     "output_type": "stream",
     "text": [
      "MinMaxScaler(feature_range=(1, 5))\n",
      "[[nan nan nan ... nan nan nan]\n",
      " [nan  1. nan ... nan nan nan]\n",
      " [nan nan nan ... nan nan nan]\n",
      " ...\n",
      " [nan nan nan ... nan nan nan]\n",
      " [nan nan nan ... nan nan nan]\n",
      " [nan nan nan ... nan nan nan]]\n"
     ]
    }
   ],
   "source": [
    "from sklearn.preprocessing import MinMaxScaler\n",
    "from numpy import *\n",
    "\n",
    "X  = common_item_predicted_ratings.copy() \n",
    "X = X[X>0]\n",
    "\n",
    "scaler = MinMaxScaler(feature_range=(1, 5))\n",
    "print(scaler.fit(X))\n",
    "y = (scaler.transform(X))\n",
    "\n",
    "print(y)"
   ]
  },
  {
   "cell_type": "code",
   "execution_count": 199,
   "metadata": {
    "id": "Xpx_RGMNQZqe"
   },
   "outputs": [],
   "source": [
    "# Finding total non-NaN value\n",
    "total_non_nan = np.count_nonzero(~np.isnan(y))"
   ]
  },
  {
   "cell_type": "markdown",
   "metadata": {
    "id": "i0SONJufQc3A"
   },
   "source": [
    "RMSE (Root Mean Square Error) for Item-Item recommendation system"
   ]
  },
  {
   "cell_type": "code",
   "execution_count": 200,
   "metadata": {
    "colab": {
     "base_uri": "https://localhost:8080/"
    },
    "id": "8k7naZpRQdzq",
    "outputId": "1698fd15-7a4c-47f9-f971-336d0e586785"
   },
   "outputs": [
    {
     "name": "stdout",
     "output_type": "stream",
     "text": [
      "3.5439338224849353\n"
     ]
    }
   ],
   "source": [
    "rmse_item_item = (sum(sum((common_ - y )**2))/total_non_nan)**0.5\n",
    "print(rmse_item_item)"
   ]
  },
  {
   "cell_type": "markdown",
   "metadata": {
    "id": "v5AHTA1_Qi7y"
   },
   "source": [
    "### **Best-suited Recommendation model**\n",
    "\n",
    "* To get the best recommendation model, we will use RMSE (Root Mean Square Error) scores for both user-user and item-item based recommendation systems and do a comparison of the values.\n",
    "* The recommendation model with the least RMSE will be selected as the best recommendation model."
   ]
  },
  {
   "cell_type": "code",
   "execution_count": 201,
   "metadata": {
    "colab": {
     "base_uri": "https://localhost:8080/"
    },
    "id": "KKnD7sPfQfle",
    "outputId": "3bb3e918-9e7e-4e3d-f001-2f1bc58f941e"
   },
   "outputs": [
    {
     "name": "stdout",
     "output_type": "stream",
     "text": [
      "Best-fit model is user-user recommendation system\n"
     ]
    }
   ],
   "source": [
    "# Recommended model evaluation\n",
    "if rmse_user_user < rmse_item_item:\n",
    "  print(\"Best-fit model is user-user recommendation system\")\n",
    "else:\n",
    "  print(\"Best-fit model is item-item recommendation system\")"
   ]
  },
  {
   "cell_type": "markdown",
   "metadata": {
    "id": "ZWerE2bUQwZa"
   },
   "source": [
    "## **Top 20 Product recommendations to the user by the best recommendation model (user-user based recommendation system)**"
   ]
  },
  {
   "cell_type": "code",
   "execution_count": 202,
   "metadata": {
    "id": "DGBkZnbcQ2yW"
   },
   "outputs": [],
   "source": [
    "# Take a sample username as input\n",
    "user_input = 'evrydayhustla420'"
   ]
  },
  {
   "cell_type": "code",
   "execution_count": 203,
   "metadata": {
    "colab": {
     "base_uri": "https://localhost:8080/",
     "height": 677
    },
    "id": "mg7cHhgIQ5K0",
    "outputId": "53bda37e-2ea1-419e-9939-544ad4036b3c"
   },
   "outputs": [
    {
     "data": {
      "text/html": [
       "<div>\n",
       "<style scoped>\n",
       "    .dataframe tbody tr th:only-of-type {\n",
       "        vertical-align: middle;\n",
       "    }\n",
       "\n",
       "    .dataframe tbody tr th {\n",
       "        vertical-align: top;\n",
       "    }\n",
       "\n",
       "    .dataframe thead th {\n",
       "        text-align: right;\n",
       "    }\n",
       "</style>\n",
       "<table border=\"1\" class=\"dataframe\">\n",
       "  <thead>\n",
       "    <tr style=\"text-align: right;\">\n",
       "      <th></th>\n",
       "      <th>Product Id</th>\n",
       "      <th>cosine_similarity_score</th>\n",
       "    </tr>\n",
       "  </thead>\n",
       "  <tbody>\n",
       "    <tr>\n",
       "      <th>0</th>\n",
       "      <td>AVpfRTh1ilAPnD_xYic2</td>\n",
       "      <td>16.870920</td>\n",
       "    </tr>\n",
       "    <tr>\n",
       "      <th>1</th>\n",
       "      <td>AVpe41TqilAPnD_xQH3d</td>\n",
       "      <td>13.017496</td>\n",
       "    </tr>\n",
       "    <tr>\n",
       "      <th>2</th>\n",
       "      <td>AVpf0eb2LJeJML43EVSt</td>\n",
       "      <td>11.843501</td>\n",
       "    </tr>\n",
       "    <tr>\n",
       "      <th>3</th>\n",
       "      <td>AVpf3VOfilAPnD_xjpun</td>\n",
       "      <td>9.609059</td>\n",
       "    </tr>\n",
       "    <tr>\n",
       "      <th>4</th>\n",
       "      <td>AVpe59io1cnluZ0-ZgDU</td>\n",
       "      <td>7.706569</td>\n",
       "    </tr>\n",
       "    <tr>\n",
       "      <th>5</th>\n",
       "      <td>AVpfJP1C1cnluZ0-e3Xy</td>\n",
       "      <td>5.474655</td>\n",
       "    </tr>\n",
       "    <tr>\n",
       "      <th>6</th>\n",
       "      <td>AVpfOIrkilAPnD_xXgDG</td>\n",
       "      <td>4.809401</td>\n",
       "    </tr>\n",
       "    <tr>\n",
       "      <th>7</th>\n",
       "      <td>AVpfPnrU1cnluZ0-g9rL</td>\n",
       "      <td>4.539020</td>\n",
       "    </tr>\n",
       "    <tr>\n",
       "      <th>8</th>\n",
       "      <td>AVpe31o71cnluZ0-YrSD</td>\n",
       "      <td>4.336229</td>\n",
       "    </tr>\n",
       "    <tr>\n",
       "      <th>9</th>\n",
       "      <td>AVpe8gsILJeJML43y6Ed</td>\n",
       "      <td>4.309060</td>\n",
       "    </tr>\n",
       "    <tr>\n",
       "      <th>10</th>\n",
       "      <td>AVpf5olc1cnluZ0-tPrO</td>\n",
       "      <td>3.909127</td>\n",
       "    </tr>\n",
       "    <tr>\n",
       "      <th>11</th>\n",
       "      <td>AVpe9W4D1cnluZ0-avf0</td>\n",
       "      <td>3.147079</td>\n",
       "    </tr>\n",
       "    <tr>\n",
       "      <th>12</th>\n",
       "      <td>AVpfM_ytilAPnD_xXIJb</td>\n",
       "      <td>3.051318</td>\n",
       "    </tr>\n",
       "    <tr>\n",
       "      <th>13</th>\n",
       "      <td>AVpfN6Z71cnluZ0-gZmO</td>\n",
       "      <td>2.500000</td>\n",
       "    </tr>\n",
       "    <tr>\n",
       "      <th>14</th>\n",
       "      <td>AVpfIOoV1cnluZ0-ehGp</td>\n",
       "      <td>2.500000</td>\n",
       "    </tr>\n",
       "    <tr>\n",
       "      <th>15</th>\n",
       "      <td>AVpfazX31cnluZ0-kbdl</td>\n",
       "      <td>2.269582</td>\n",
       "    </tr>\n",
       "    <tr>\n",
       "      <th>16</th>\n",
       "      <td>AVpfOmKwLJeJML435GM7</td>\n",
       "      <td>2.237478</td>\n",
       "    </tr>\n",
       "    <tr>\n",
       "      <th>17</th>\n",
       "      <td>AVpf385g1cnluZ0-s0_t</td>\n",
       "      <td>2.120199</td>\n",
       "    </tr>\n",
       "    <tr>\n",
       "      <th>18</th>\n",
       "      <td>AVpf0thK1cnluZ0-r8vR</td>\n",
       "      <td>2.120089</td>\n",
       "    </tr>\n",
       "    <tr>\n",
       "      <th>19</th>\n",
       "      <td>AVpfUJu_ilAPnD_xZdDr</td>\n",
       "      <td>2.000000</td>\n",
       "    </tr>\n",
       "  </tbody>\n",
       "</table>\n",
       "</div>"
      ],
      "text/plain": [
       "              Product Id  cosine_similarity_score\n",
       "0   AVpfRTh1ilAPnD_xYic2                16.870920\n",
       "1   AVpe41TqilAPnD_xQH3d                13.017496\n",
       "2   AVpf0eb2LJeJML43EVSt                11.843501\n",
       "3   AVpf3VOfilAPnD_xjpun                 9.609059\n",
       "4   AVpe59io1cnluZ0-ZgDU                 7.706569\n",
       "5   AVpfJP1C1cnluZ0-e3Xy                 5.474655\n",
       "6   AVpfOIrkilAPnD_xXgDG                 4.809401\n",
       "7   AVpfPnrU1cnluZ0-g9rL                 4.539020\n",
       "8   AVpe31o71cnluZ0-YrSD                 4.336229\n",
       "9   AVpe8gsILJeJML43y6Ed                 4.309060\n",
       "10  AVpf5olc1cnluZ0-tPrO                 3.909127\n",
       "11  AVpe9W4D1cnluZ0-avf0                 3.147079\n",
       "12  AVpfM_ytilAPnD_xXIJb                 3.051318\n",
       "13  AVpfN6Z71cnluZ0-gZmO                 2.500000\n",
       "14  AVpfIOoV1cnluZ0-ehGp                 2.500000\n",
       "15  AVpfazX31cnluZ0-kbdl                 2.269582\n",
       "16  AVpfOmKwLJeJML435GM7                 2.237478\n",
       "17  AVpf385g1cnluZ0-s0_t                 2.120199\n",
       "18  AVpf0thK1cnluZ0-r8vR                 2.120089\n",
       "19  AVpfUJu_ilAPnD_xZdDr                 2.000000"
      ]
     },
     "execution_count": 203,
     "metadata": {},
     "output_type": "execute_result"
    }
   ],
   "source": [
    "top20_recommendations = user_final_rating.loc[user_input].sort_values(ascending=False)[0:20]\n",
    "df_top20_recommendations = pd.DataFrame({'Product Id': top20_recommendations.index, 'cosine_similarity_score' : top20_recommendations})\n",
    "df_top20_recommendations.reset_index(drop=True, inplace=True)\n",
    "df_top20_recommendations"
   ]
  },
  {
   "cell_type": "code",
   "execution_count": 204,
   "metadata": {
    "colab": {
     "base_uri": "https://localhost:8080/",
     "height": 738
    },
    "id": "dOSFqKitQ8ap",
    "outputId": "5e4638f2-c7ed-4d39-c876-acd3b8a1def1"
   },
   "outputs": [
    {
     "data": {
      "text/html": [
       "<div>\n",
       "<style scoped>\n",
       "    .dataframe tbody tr th:only-of-type {\n",
       "        vertical-align: middle;\n",
       "    }\n",
       "\n",
       "    .dataframe tbody tr th {\n",
       "        vertical-align: top;\n",
       "    }\n",
       "\n",
       "    .dataframe thead th {\n",
       "        text-align: right;\n",
       "    }\n",
       "</style>\n",
       "<table border=\"1\" class=\"dataframe\">\n",
       "  <thead>\n",
       "    <tr style=\"text-align: right;\">\n",
       "      <th></th>\n",
       "      <th>Product Id</th>\n",
       "      <th>name</th>\n",
       "      <th>cosine_similarity_score</th>\n",
       "    </tr>\n",
       "  </thead>\n",
       "  <tbody>\n",
       "    <tr>\n",
       "      <th>18</th>\n",
       "      <td>AVpfRTh1ilAPnD_xYic2</td>\n",
       "      <td>Planes: Fire Rescue (2 Discs) (includes Digita...</td>\n",
       "      <td>16.870920</td>\n",
       "    </tr>\n",
       "    <tr>\n",
       "      <th>1</th>\n",
       "      <td>AVpe41TqilAPnD_xQH3d</td>\n",
       "      <td>Mike Dave Need Wedding Dates (dvd + Digital)</td>\n",
       "      <td>13.017496</td>\n",
       "    </tr>\n",
       "    <tr>\n",
       "      <th>5</th>\n",
       "      <td>AVpf0eb2LJeJML43EVSt</td>\n",
       "      <td>The Resident Evil Collection 5 Discs (blu-Ray)</td>\n",
       "      <td>11.843501</td>\n",
       "    </tr>\n",
       "    <tr>\n",
       "      <th>8</th>\n",
       "      <td>AVpf3VOfilAPnD_xjpun</td>\n",
       "      <td>Clorox Disinfecting Wipes Value Pack Scented 1...</td>\n",
       "      <td>9.609059</td>\n",
       "    </tr>\n",
       "    <tr>\n",
       "      <th>2</th>\n",
       "      <td>AVpe59io1cnluZ0-ZgDU</td>\n",
       "      <td>My Big Fat Greek Wedding 2 (blu-Ray + Dvd + Di...</td>\n",
       "      <td>7.706569</td>\n",
       "    </tr>\n",
       "    <tr>\n",
       "      <th>12</th>\n",
       "      <td>AVpfJP1C1cnluZ0-e3Xy</td>\n",
       "      <td>Clorox Disinfecting Bathroom Cleaner</td>\n",
       "      <td>5.474655</td>\n",
       "    </tr>\n",
       "    <tr>\n",
       "      <th>15</th>\n",
       "      <td>AVpfOIrkilAPnD_xXgDG</td>\n",
       "      <td>Alex Cross (dvdvideo)</td>\n",
       "      <td>4.809401</td>\n",
       "    </tr>\n",
       "    <tr>\n",
       "      <th>17</th>\n",
       "      <td>AVpfPnrU1cnluZ0-g9rL</td>\n",
       "      <td>Stargate (ws) (ultimate Edition) (director's C...</td>\n",
       "      <td>4.539020</td>\n",
       "    </tr>\n",
       "    <tr>\n",
       "      <th>0</th>\n",
       "      <td>AVpe31o71cnluZ0-YrSD</td>\n",
       "      <td>Dark Shadows (includes Digital Copy) (ultravio...</td>\n",
       "      <td>4.336229</td>\n",
       "    </tr>\n",
       "    <tr>\n",
       "      <th>3</th>\n",
       "      <td>AVpe8gsILJeJML43y6Ed</td>\n",
       "      <td>Pendaflex174 Divide It Up File Folder, Multi S...</td>\n",
       "      <td>4.309060</td>\n",
       "    </tr>\n",
       "    <tr>\n",
       "      <th>9</th>\n",
       "      <td>AVpf5olc1cnluZ0-tPrO</td>\n",
       "      <td>Chester's Cheese Flavored Puffcorn Snacks</td>\n",
       "      <td>3.909127</td>\n",
       "    </tr>\n",
       "    <tr>\n",
       "      <th>4</th>\n",
       "      <td>AVpe9W4D1cnluZ0-avf0</td>\n",
       "      <td>Hoover174 Platinum Collection153 Lightweight B...</td>\n",
       "      <td>3.147079</td>\n",
       "    </tr>\n",
       "    <tr>\n",
       "      <th>13</th>\n",
       "      <td>AVpfM_ytilAPnD_xXIJb</td>\n",
       "      <td>Tostitos Bite Size Tortilla Chips</td>\n",
       "      <td>3.051318</td>\n",
       "    </tr>\n",
       "    <tr>\n",
       "      <th>11</th>\n",
       "      <td>AVpfIOoV1cnluZ0-ehGp</td>\n",
       "      <td>Reebok Classic Leather Running Shoes - White (...</td>\n",
       "      <td>2.500000</td>\n",
       "    </tr>\n",
       "    <tr>\n",
       "      <th>14</th>\n",
       "      <td>AVpfN6Z71cnluZ0-gZmO</td>\n",
       "      <td>Caress Moisturizing Body Bar Natural Silk, 4.75oz</td>\n",
       "      <td>2.500000</td>\n",
       "    </tr>\n",
       "    <tr>\n",
       "      <th>10</th>\n",
       "      <td>AVpfazX31cnluZ0-kbdl</td>\n",
       "      <td>Just For Men Touch Of Gray Gray Hair Treatment...</td>\n",
       "      <td>2.269582</td>\n",
       "    </tr>\n",
       "    <tr>\n",
       "      <th>16</th>\n",
       "      <td>AVpfOmKwLJeJML435GM7</td>\n",
       "      <td>Clear Scalp &amp; Hair Therapy Total Care Nourishi...</td>\n",
       "      <td>2.237478</td>\n",
       "    </tr>\n",
       "    <tr>\n",
       "      <th>7</th>\n",
       "      <td>AVpf385g1cnluZ0-s0_t</td>\n",
       "      <td>Hormel Chili, No Beans</td>\n",
       "      <td>2.120199</td>\n",
       "    </tr>\n",
       "    <tr>\n",
       "      <th>6</th>\n",
       "      <td>AVpf0thK1cnluZ0-r8vR</td>\n",
       "      <td>100:Complete First Season (blu-Ray)</td>\n",
       "      <td>2.120089</td>\n",
       "    </tr>\n",
       "    <tr>\n",
       "      <th>19</th>\n",
       "      <td>AVpfUJu_ilAPnD_xZdDr</td>\n",
       "      <td>Chobani174 Strawberry On The Bottom Non-Fat Gr...</td>\n",
       "      <td>2.000000</td>\n",
       "    </tr>\n",
       "  </tbody>\n",
       "</table>\n",
       "</div>"
      ],
      "text/plain": [
       "              Product Id                                               name  \\\n",
       "18  AVpfRTh1ilAPnD_xYic2  Planes: Fire Rescue (2 Discs) (includes Digita...   \n",
       "1   AVpe41TqilAPnD_xQH3d       Mike Dave Need Wedding Dates (dvd + Digital)   \n",
       "5   AVpf0eb2LJeJML43EVSt     The Resident Evil Collection 5 Discs (blu-Ray)   \n",
       "8   AVpf3VOfilAPnD_xjpun  Clorox Disinfecting Wipes Value Pack Scented 1...   \n",
       "2   AVpe59io1cnluZ0-ZgDU  My Big Fat Greek Wedding 2 (blu-Ray + Dvd + Di...   \n",
       "12  AVpfJP1C1cnluZ0-e3Xy               Clorox Disinfecting Bathroom Cleaner   \n",
       "15  AVpfOIrkilAPnD_xXgDG                              Alex Cross (dvdvideo)   \n",
       "17  AVpfPnrU1cnluZ0-g9rL  Stargate (ws) (ultimate Edition) (director's C...   \n",
       "0   AVpe31o71cnluZ0-YrSD  Dark Shadows (includes Digital Copy) (ultravio...   \n",
       "3   AVpe8gsILJeJML43y6Ed  Pendaflex174 Divide It Up File Folder, Multi S...   \n",
       "9   AVpf5olc1cnluZ0-tPrO          Chester's Cheese Flavored Puffcorn Snacks   \n",
       "4   AVpe9W4D1cnluZ0-avf0  Hoover174 Platinum Collection153 Lightweight B...   \n",
       "13  AVpfM_ytilAPnD_xXIJb                  Tostitos Bite Size Tortilla Chips   \n",
       "11  AVpfIOoV1cnluZ0-ehGp  Reebok Classic Leather Running Shoes - White (...   \n",
       "14  AVpfN6Z71cnluZ0-gZmO  Caress Moisturizing Body Bar Natural Silk, 4.75oz   \n",
       "10  AVpfazX31cnluZ0-kbdl  Just For Men Touch Of Gray Gray Hair Treatment...   \n",
       "16  AVpfOmKwLJeJML435GM7  Clear Scalp & Hair Therapy Total Care Nourishi...   \n",
       "7   AVpf385g1cnluZ0-s0_t                             Hormel Chili, No Beans   \n",
       "6   AVpf0thK1cnluZ0-r8vR                100:Complete First Season (blu-Ray)   \n",
       "19  AVpfUJu_ilAPnD_xZdDr  Chobani174 Strawberry On The Bottom Non-Fat Gr...   \n",
       "\n",
       "    cosine_similarity_score  \n",
       "18                16.870920  \n",
       "1                 13.017496  \n",
       "5                 11.843501  \n",
       "8                  9.609059  \n",
       "2                  7.706569  \n",
       "12                 5.474655  \n",
       "15                 4.809401  \n",
       "17                 4.539020  \n",
       "0                  4.336229  \n",
       "3                  4.309060  \n",
       "9                  3.909127  \n",
       "4                  3.147079  \n",
       "13                 3.051318  \n",
       "11                 2.500000  \n",
       "14                 2.500000  \n",
       "10                 2.269582  \n",
       "16                 2.237478  \n",
       "7                  2.120199  \n",
       "6                  2.120089  \n",
       "19                 2.000000  "
      ]
     },
     "execution_count": 204,
     "metadata": {},
     "output_type": "execute_result"
    }
   ],
   "source": [
    "top20_rec = pd.merge(df_reco, df_top20_recommendations,left_on='id',right_on='Product Id', how = 'inner')[['Product Id', 'name', 'cosine_similarity_score']].drop_duplicates()\n",
    "top20_rec.reset_index(drop=True, inplace=True)\n",
    "top20_rec.sort_values(by='cosine_similarity_score', ascending=False)"
   ]
  },
  {
   "cell_type": "code",
   "execution_count": 205,
   "metadata": {
    "colab": {
     "base_uri": "https://localhost:8080/"
    },
    "id": "vWBIhYT9RAVY",
    "outputId": "4b329bba-d53b-4609-b269-de13a7ed7a12"
   },
   "outputs": [
    {
     "data": {
      "text/plain": [
       "(18275, 256)"
      ]
     },
     "execution_count": 205,
     "metadata": {},
     "output_type": "execute_result"
    }
   ],
   "source": [
    "user_final_rating.shape"
   ]
  },
  {
   "cell_type": "code",
   "execution_count": 206,
   "metadata": {
    "colab": {
     "base_uri": "https://localhost:8080/",
     "height": 272
    },
    "id": "0Ix6OK7jRDp7",
    "outputId": "623ba775-2430-414f-8bd5-b3d74c4be1ef"
   },
   "outputs": [
    {
     "data": {
      "text/html": [
       "<div>\n",
       "<style scoped>\n",
       "    .dataframe tbody tr th:only-of-type {\n",
       "        vertical-align: middle;\n",
       "    }\n",
       "\n",
       "    .dataframe tbody tr th {\n",
       "        vertical-align: top;\n",
       "    }\n",
       "\n",
       "    .dataframe thead th {\n",
       "        text-align: right;\n",
       "    }\n",
       "</style>\n",
       "<table border=\"1\" class=\"dataframe\">\n",
       "  <thead>\n",
       "    <tr style=\"text-align: right;\">\n",
       "      <th>id</th>\n",
       "      <th>AV13O1A8GV-KLJ3akUyj</th>\n",
       "      <th>AV14LG0R-jtxr-f38QfS</th>\n",
       "      <th>AV16khLE-jtxr-f38VFn</th>\n",
       "      <th>AV1YGDqsGV-KLJ3adc-O</th>\n",
       "      <th>AV1YIch7GV-KLJ3addeG</th>\n",
       "      <th>AV1YlENIglJLPUi8IHsX</th>\n",
       "      <th>AV1YmBrdGV-KLJ3adewb</th>\n",
       "      <th>AV1YmDL9vKc47QAVgr7_</th>\n",
       "      <th>AV1Ymf_rglJLPUi8II2v</th>\n",
       "      <th>AV1Yn94nvKc47QAVgtst</th>\n",
       "      <th>...</th>\n",
       "      <th>AVpfrFDZLJeJML43Bmv0</th>\n",
       "      <th>AVpfrTyiLJeJML43BrSI</th>\n",
       "      <th>AVpfrfHF1cnluZ0-pRai</th>\n",
       "      <th>AVpfrgjFLJeJML43BvCc</th>\n",
       "      <th>AVpfsQoeilAPnD_xgfx5</th>\n",
       "      <th>AVpfshNsLJeJML43CB8q</th>\n",
       "      <th>AVpfthSailAPnD_xg3ON</th>\n",
       "      <th>AVpftikC1cnluZ0-p31V</th>\n",
       "      <th>AVpfv4TlilAPnD_xhjNS</th>\n",
       "      <th>AVpfvieo1cnluZ0-qdnu</th>\n",
       "    </tr>\n",
       "    <tr>\n",
       "      <th>reviews_username</th>\n",
       "      <th></th>\n",
       "      <th></th>\n",
       "      <th></th>\n",
       "      <th></th>\n",
       "      <th></th>\n",
       "      <th></th>\n",
       "      <th></th>\n",
       "      <th></th>\n",
       "      <th></th>\n",
       "      <th></th>\n",
       "      <th></th>\n",
       "      <th></th>\n",
       "      <th></th>\n",
       "      <th></th>\n",
       "      <th></th>\n",
       "      <th></th>\n",
       "      <th></th>\n",
       "      <th></th>\n",
       "      <th></th>\n",
       "      <th></th>\n",
       "      <th></th>\n",
       "    </tr>\n",
       "  </thead>\n",
       "  <tbody>\n",
       "    <tr>\n",
       "      <th>00sab00</th>\n",
       "      <td>0.0</td>\n",
       "      <td>0.0</td>\n",
       "      <td>2.5</td>\n",
       "      <td>3.596262</td>\n",
       "      <td>0.0</td>\n",
       "      <td>0.0</td>\n",
       "      <td>0.0</td>\n",
       "      <td>0.0</td>\n",
       "      <td>2.581989</td>\n",
       "      <td>1.018079</td>\n",
       "      <td>...</td>\n",
       "      <td>1.666667</td>\n",
       "      <td>0.188982</td>\n",
       "      <td>0.0</td>\n",
       "      <td>0.0</td>\n",
       "      <td>0.0</td>\n",
       "      <td>0.0</td>\n",
       "      <td>0.0</td>\n",
       "      <td>1.465257</td>\n",
       "      <td>1.889822</td>\n",
       "      <td>0.204124</td>\n",
       "    </tr>\n",
       "    <tr>\n",
       "      <th>01impala</th>\n",
       "      <td>0.0</td>\n",
       "      <td>0.0</td>\n",
       "      <td>0.0</td>\n",
       "      <td>0.000000</td>\n",
       "      <td>0.0</td>\n",
       "      <td>0.0</td>\n",
       "      <td>0.0</td>\n",
       "      <td>0.0</td>\n",
       "      <td>0.000000</td>\n",
       "      <td>0.000000</td>\n",
       "      <td>...</td>\n",
       "      <td>0.000000</td>\n",
       "      <td>0.000000</td>\n",
       "      <td>0.0</td>\n",
       "      <td>0.0</td>\n",
       "      <td>0.0</td>\n",
       "      <td>0.0</td>\n",
       "      <td>0.0</td>\n",
       "      <td>0.000000</td>\n",
       "      <td>0.000000</td>\n",
       "      <td>0.000000</td>\n",
       "    </tr>\n",
       "  </tbody>\n",
       "</table>\n",
       "<p>2 rows × 256 columns</p>\n",
       "</div>"
      ],
      "text/plain": [
       "id                AV13O1A8GV-KLJ3akUyj  AV14LG0R-jtxr-f38QfS  \\\n",
       "reviews_username                                               \n",
       "00sab00                            0.0                   0.0   \n",
       "01impala                           0.0                   0.0   \n",
       "\n",
       "id                AV16khLE-jtxr-f38VFn  AV1YGDqsGV-KLJ3adc-O  \\\n",
       "reviews_username                                               \n",
       "00sab00                            2.5              3.596262   \n",
       "01impala                           0.0              0.000000   \n",
       "\n",
       "id                AV1YIch7GV-KLJ3addeG  AV1YlENIglJLPUi8IHsX  \\\n",
       "reviews_username                                               \n",
       "00sab00                            0.0                   0.0   \n",
       "01impala                           0.0                   0.0   \n",
       "\n",
       "id                AV1YmBrdGV-KLJ3adewb  AV1YmDL9vKc47QAVgr7_  \\\n",
       "reviews_username                                               \n",
       "00sab00                            0.0                   0.0   \n",
       "01impala                           0.0                   0.0   \n",
       "\n",
       "id                AV1Ymf_rglJLPUi8II2v  AV1Yn94nvKc47QAVgtst  ...  \\\n",
       "reviews_username                                              ...   \n",
       "00sab00                       2.581989              1.018079  ...   \n",
       "01impala                      0.000000              0.000000  ...   \n",
       "\n",
       "id                AVpfrFDZLJeJML43Bmv0  AVpfrTyiLJeJML43BrSI  \\\n",
       "reviews_username                                               \n",
       "00sab00                       1.666667              0.188982   \n",
       "01impala                      0.000000              0.000000   \n",
       "\n",
       "id                AVpfrfHF1cnluZ0-pRai  AVpfrgjFLJeJML43BvCc  \\\n",
       "reviews_username                                               \n",
       "00sab00                            0.0                   0.0   \n",
       "01impala                           0.0                   0.0   \n",
       "\n",
       "id                AVpfsQoeilAPnD_xgfx5  AVpfshNsLJeJML43CB8q  \\\n",
       "reviews_username                                               \n",
       "00sab00                            0.0                   0.0   \n",
       "01impala                           0.0                   0.0   \n",
       "\n",
       "id                AVpfthSailAPnD_xg3ON  AVpftikC1cnluZ0-p31V  \\\n",
       "reviews_username                                               \n",
       "00sab00                            0.0              1.465257   \n",
       "01impala                           0.0              0.000000   \n",
       "\n",
       "id                AVpfv4TlilAPnD_xhjNS  AVpfvieo1cnluZ0-qdnu  \n",
       "reviews_username                                              \n",
       "00sab00                       1.889822              0.204124  \n",
       "01impala                      0.000000              0.000000  \n",
       "\n",
       "[2 rows x 256 columns]"
      ]
     },
     "execution_count": 206,
     "metadata": {},
     "output_type": "execute_result"
    }
   ],
   "source": [
    "user_final_rating.head(2)"
   ]
  },
  {
   "cell_type": "markdown",
   "metadata": {
    "id": "ZyKJAkEHRGiO"
   },
   "source": [
    "## **Fine-Tuning the Recommendation System and Recommendation of Top 5 Products**"
   ]
  },
  {
   "cell_type": "code",
   "execution_count": 207,
   "metadata": {
    "id": "5MwtPzGYRNjS"
   },
   "outputs": [],
   "source": [
    "# Create function to recommend top 5 products to any user\n",
    "def product_recommendations_user(user_name):\n",
    "  if user_name not in user_final_rating.index:\n",
    "    print(f\"The User {user_name} does not exist. Please provide a valid user name\")\n",
    "  else:\n",
    "    # Get top 20 recommended products from the best recommendation model\n",
    "    top20_recommended_products = list(user_final_rating.loc[user_name].sort_values(ascending=False)[0:20].index)\n",
    "    # Get only the recommended products from the prepared dataframe \"df_sent\"\n",
    "    df_top20_products = df_sent[df_sent.id.isin(top20_recommended_products)]\n",
    "    # For these 20 products, get their user reviews and pass them through TF-IDF vectorizer to convert the data into suitable format for modeling\n",
    "    X = tfidf.transform(df_top20_products[\"reviews_lemmatized\"].values.astype(str))\n",
    "    # Use the best sentiment model to predict the sentiment for these user reviews\n",
    "    df_top20_products['predicted_sentiment'] = logreg.predict(X)\n",
    "    # Create a new column to map Positive sentiment to 1 and Negative sentiment to 0. This will allow us to easily summarize the data\n",
    "    df_top20_products['positive_sentiment'] = df_top20_products['predicted_sentiment'].apply(lambda x: 1 if x==\"Positive\" else 0)\n",
    "    # Create a new dataframe \"pred_df\" to store the count of positive user sentiments\n",
    "    pred_df = df_top20_products.groupby(by='name').sum()\n",
    "    pred_df.columns=['pos_sent_count']\n",
    "    # Create a column to measure the total sentiment count\n",
    "    pred_df['total_sent_count'] = df_top20_products.groupby(by='name')['predicted_sentiment'].count()\n",
    "    # Create a column that measures the % of positive user sentiment for each product review\n",
    "    pred_df['post_sent_percentage'] = np.round(pred_df['pos_sent_count']/pred_df['total_sent_count']*100,2)\n",
    "    # Return top 5 recommended products to the user\n",
    "    result = pred_df.sort_values(by='post_sent_percentage', ascending=False)[:5]\n",
    "    return result"
   ]
  },
  {
   "cell_type": "markdown",
   "metadata": {
    "id": "hLE2-oRfRcsr"
   },
   "source": [
    "# **Top 5 Products Recommendation**"
   ]
  },
  {
   "cell_type": "code",
   "execution_count": 208,
   "metadata": {
    "colab": {
     "base_uri": "https://localhost:8080/",
     "height": 310
    },
    "id": "Njc3l3qzRiqB",
    "outputId": "83285a12-8195-49cb-f9c1-dff09f42850a"
   },
   "outputs": [
    {
     "name": "stdout",
     "output_type": "stream",
     "text": [
      "Printing the top 5 recommended products for the user: charlie along with each product's positive sentiment count, overall review count and positive sentiment %\n",
      "\n",
      "\n"
     ]
    },
    {
     "data": {
      "text/html": [
       "<div>\n",
       "<style scoped>\n",
       "    .dataframe tbody tr th:only-of-type {\n",
       "        vertical-align: middle;\n",
       "    }\n",
       "\n",
       "    .dataframe tbody tr th {\n",
       "        vertical-align: top;\n",
       "    }\n",
       "\n",
       "    .dataframe thead th {\n",
       "        text-align: right;\n",
       "    }\n",
       "</style>\n",
       "<table border=\"1\" class=\"dataframe\">\n",
       "  <thead>\n",
       "    <tr style=\"text-align: right;\">\n",
       "      <th></th>\n",
       "      <th>pos_sent_count</th>\n",
       "      <th>total_sent_count</th>\n",
       "      <th>post_sent_percentage</th>\n",
       "    </tr>\n",
       "    <tr>\n",
       "      <th>name</th>\n",
       "      <th></th>\n",
       "      <th></th>\n",
       "      <th></th>\n",
       "    </tr>\n",
       "  </thead>\n",
       "  <tbody>\n",
       "    <tr>\n",
       "      <th>Reebok Classic Leather Running Shoes - White (Men)</th>\n",
       "      <td>5</td>\n",
       "      <td>5</td>\n",
       "      <td>100.00</td>\n",
       "    </tr>\n",
       "    <tr>\n",
       "      <th>Eagle Fat Free Sweetened Condensed Milk</th>\n",
       "      <td>14</td>\n",
       "      <td>15</td>\n",
       "      <td>93.33</td>\n",
       "    </tr>\n",
       "    <tr>\n",
       "      <th>Stargate (ws) (ultimate Edition) (director's Cut) (dvdvideo)</th>\n",
       "      <td>170</td>\n",
       "      <td>186</td>\n",
       "      <td>91.40</td>\n",
       "    </tr>\n",
       "    <tr>\n",
       "      <th>Cars Toon: Mater's Tall Tales</th>\n",
       "      <td>31</td>\n",
       "      <td>34</td>\n",
       "      <td>91.18</td>\n",
       "    </tr>\n",
       "    <tr>\n",
       "      <th>Clorox Disinfecting Bathroom Cleaner</th>\n",
       "      <td>1822</td>\n",
       "      <td>2039</td>\n",
       "      <td>89.36</td>\n",
       "    </tr>\n",
       "  </tbody>\n",
       "</table>\n",
       "</div>"
      ],
      "text/plain": [
       "                                                    pos_sent_count  \\\n",
       "name                                                                 \n",
       "Reebok Classic Leather Running Shoes - White (Men)               5   \n",
       "Eagle Fat Free Sweetened Condensed Milk                         14   \n",
       "Stargate (ws) (ultimate Edition) (director's Cu...             170   \n",
       "Cars Toon: Mater's Tall Tales                                   31   \n",
       "Clorox Disinfecting Bathroom Cleaner                          1822   \n",
       "\n",
       "                                                    total_sent_count  \\\n",
       "name                                                                   \n",
       "Reebok Classic Leather Running Shoes - White (Men)                 5   \n",
       "Eagle Fat Free Sweetened Condensed Milk                           15   \n",
       "Stargate (ws) (ultimate Edition) (director's Cu...               186   \n",
       "Cars Toon: Mater's Tall Tales                                     34   \n",
       "Clorox Disinfecting Bathroom Cleaner                            2039   \n",
       "\n",
       "                                                    post_sent_percentage  \n",
       "name                                                                      \n",
       "Reebok Classic Leather Running Shoes - White (Men)                100.00  \n",
       "Eagle Fat Free Sweetened Condensed Milk                            93.33  \n",
       "Stargate (ws) (ultimate Edition) (director's Cu...                 91.40  \n",
       "Cars Toon: Mater's Tall Tales                                      91.18  \n",
       "Clorox Disinfecting Bathroom Cleaner                               89.36  "
      ]
     },
     "execution_count": 208,
     "metadata": {},
     "output_type": "execute_result"
    }
   ],
   "source": [
    "# Take a sample username as input\n",
    "user_input = 'charlie'\n",
    "# 'Venkat'\n",
    "# 'debb'\n",
    "# 'evrydayhustla420'\n",
    "print(f\"Printing the top 5 recommended products for the user: {user_input} along with each product's positive sentiment count, overall review count and positive sentiment %\")\n",
    "print(\"\\n\")\n",
    "top5_reco_sent_reco_user = product_recommendations_user(user_input)\n",
    "top5_reco_sent_reco_user"
   ]
  },
  {
   "cell_type": "code",
   "execution_count": 209,
   "metadata": {
    "colab": {
     "base_uri": "https://localhost:8080/"
    },
    "id": "8B6WSo16RyUU",
    "outputId": "859f4d1f-adf0-4f87-8c6a-5ed3ad25bacf"
   },
   "outputs": [
    {
     "name": "stdout",
     "output_type": "stream",
     "text": [
      "Printing the top 5 recommended products list for the user: charlie\n",
      "['Reebok Classic Leather Running Shoes - White (Men)', 'Eagle Fat Free Sweetened Condensed Milk', \"Stargate (ws) (ultimate Edition) (director's Cut) (dvdvideo)\", \"Cars Toon: Mater's Tall Tales\", 'Clorox Disinfecting Bathroom Cleaner']\n"
     ]
    }
   ],
   "source": [
    "# Showing only the top 5 Product Names for the user\n",
    "print(f\"Printing the top 5 recommended products list for the user: {user_input}\")\n",
    "print(list(top5_reco_sent_reco_user.index))"
   ]
  },
  {
   "cell_type": "code",
   "execution_count": 227,
   "metadata": {},
   "outputs": [],
   "source": [
    "ratings = df_prep[['id','reviews_rating','reviews_username']]\n",
    "ratings = ratings[~ratings.reviews_username.isnull()]\n",
    "ratings.columns=['productId', 'rating', 'user']\n",
    "df_pivot = ratings.pivot_table(\n",
    "    index='user',\n",
    "    columns='productId',\n",
    "    values='rating'\n",
    ").fillna(0)\n",
    "\n",
    "df_pivot.head(3)\n",
    "\n",
    "# Copy the train dataset into dummy_train\n",
    "dummy_train = ratings.copy()\n",
    "\n",
    "# The products not rated by user is marked as 1 for prediction. \n",
    "dummy_train['rating'] = dummy_train['rating'].apply(lambda x: 0 if x>=1 else 1)\n",
    "\n",
    "# Convert the dummy train dataset into matrix format.\n",
    "dummy_train = dummy_train.pivot_table(index='user',\n",
    "    columns='productId',\n",
    "    values='rating'\n",
    ").fillna(1)\n",
    "\n",
    "# Creating the User Similarity Matrix using pairwise_distance function.\n",
    "user_correlation = 1 - pairwise_distances(df_pivot, metric='cosine')\n",
    "user_correlation[np.isnan(user_correlation)] = 0\n",
    "\n",
    "# Create a user-product matrix.\n",
    "df_pivot = ratings.pivot_table(\n",
    "    index='user',\n",
    "    columns='productId',\n",
    "    values='rating'\n",
    ")\n",
    "\n",
    "mean = np.nanmean(df_pivot, axis=1)\n",
    "df_subtracted = (df_pivot.T-mean).T\n",
    "\n",
    "# Creating the User Similarity Matrix using pairwise_distance function.\n",
    "user_correlation = 1 - pairwise_distances(df_subtracted.fillna(0), metric='cosine')\n",
    "user_correlation[np.isnan(user_correlation)] = 0\n",
    "\n",
    "user_correlation[user_correlation<0]=0\n",
    "\n",
    "user_predicted_ratings = np.dot(user_correlation, df_pivot.fillna(0))\n",
    "\n",
    "user_final_rating = np.multiply(user_predicted_ratings,dummy_train)\n",
    "\n",
    "# Saving the data\n",
    "pickle.dump(user_final_rating.astype('float32'), open('pickle/user_final_rating.pkl', 'wb'))"
   ]
  }
 ],
 "metadata": {
  "colab": {
   "provenance": []
  },
  "kernelspec": {
   "display_name": "Python 3 (ipykernel)",
   "language": "python",
   "name": "python3"
  },
  "language_info": {
   "codemirror_mode": {
    "name": "ipython",
    "version": 3
   },
   "file_extension": ".py",
   "mimetype": "text/x-python",
   "name": "python",
   "nbconvert_exporter": "python",
   "pygments_lexer": "ipython3",
   "version": "3.9.12"
  }
 },
 "nbformat": 4,
 "nbformat_minor": 1
}
